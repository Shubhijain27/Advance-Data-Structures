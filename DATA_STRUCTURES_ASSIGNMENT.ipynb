{
  "nbformat": 4,
  "nbformat_minor": 0,
  "metadata": {
    "colab": {
      "provenance": [],
      "authorship_tag": "ABX9TyO7DSE+C2D3icJgJRPwgoq2",
      "include_colab_link": true
    },
    "kernelspec": {
      "name": "python3",
      "display_name": "Python 3"
    },
    "language_info": {
      "name": "python"
    }
  },
  "cells": [
    {
      "cell_type": "markdown",
      "metadata": {
        "id": "view-in-github",
        "colab_type": "text"
      },
      "source": [
        "<a href=\"https://colab.research.google.com/github/Shubhijain27/Advance-Data-Structures/blob/main/DATA_STRUCTURES_ASSIGNMENT.ipynb\" target=\"_parent\"><img src=\"https://colab.research.google.com/assets/colab-badge.svg\" alt=\"Open In Colab\"/></a>"
      ]
    },
    {
      "cell_type": "code",
      "execution_count": null,
      "metadata": {
        "id": "XKqq08ANCYjd"
      },
      "outputs": [],
      "source": []
    },
    {
      "cell_type": "markdown",
      "source": [
        "DATA STRUCTURES"
      ],
      "metadata": {
        "id": "c4b_sNmLoYpb"
      }
    },
    {
      "cell_type": "markdown",
      "source": [
        "Ques 1 - Discuss String Slicing And Provide Examples .\n",
        "\n",
        "---\n",
        "\n",
        "\n",
        "\n",
        "\n",
        "Python slicing is about obtaining a sub-string from the given string by slicing it respectively from start to end.\n",
        "\n",
        "string[start:stop:step]\n",
        "\n",
        "start: The starting index of the slice (inclusive).\n",
        "\n",
        "stop: The ending index of the slice (exclusive).\n",
        "\n",
        "step: The step size or stride between indices."
      ],
      "metadata": {
        "id": "cW99uon8CaIe"
      }
    },
    {
      "cell_type": "code",
      "source": [
        "text = \"Hello, World!\"\n",
        "#substring\n",
        "\n",
        "print(text[0:6])\n",
        "\n",
        "print(text[7:13])\n",
        "\n",
        "print(text[:])\n",
        "\n",
        "print(text[7:])\n",
        "\n",
        "print(text[:9])\n",
        "\n",
        "print(text[::2])\n",
        "\n",
        "text[-6:-1]\n",
        "text[-5:]\n",
        "text[::2]"
      ],
      "metadata": {
        "colab": {
          "base_uri": "https://localhost:8080/",
          "height": 146
        },
        "id": "TCaD6bpZDJ0c",
        "outputId": "bc3fb56e-8642-4a70-a665-56dc075d6ef9"
      },
      "execution_count": null,
      "outputs": [
        {
          "output_type": "stream",
          "name": "stdout",
          "text": [
            "Hello,\n",
            "World!\n",
            "Hello, World!\n",
            "World!\n",
            "Hello, Wo\n",
            "Hlo ol!\n"
          ]
        },
        {
          "output_type": "execute_result",
          "data": {
            "text/plain": [
              "'Hlo ol!'"
            ],
            "application/vnd.google.colaboratory.intrinsic+json": {
              "type": "string"
            }
          },
          "metadata": {},
          "execution_count": 25
        }
      ]
    },
    {
      "cell_type": "code",
      "source": [
        "s = \"physicswallah\""
      ],
      "metadata": {
        "id": "5cWbSPWiEHQU"
      },
      "execution_count": null,
      "outputs": []
    },
    {
      "cell_type": "code",
      "source": [
        "s[0:7]"
      ],
      "metadata": {
        "colab": {
          "base_uri": "https://localhost:8080/",
          "height": 42
        },
        "id": "hksEqNTLE3VO",
        "outputId": "546076ea-bc2e-43ad-97fd-0582d24f58e0"
      },
      "execution_count": null,
      "outputs": [
        {
          "output_type": "execute_result",
          "data": {
            "text/plain": [
              "'physics'"
            ],
            "application/vnd.google.colaboratory.intrinsic+json": {
              "type": "string"
            }
          },
          "metadata": {},
          "execution_count": 16
        }
      ]
    },
    {
      "cell_type": "code",
      "source": [
        "s[::2]"
      ],
      "metadata": {
        "colab": {
          "base_uri": "https://localhost:8080/",
          "height": 42
        },
        "id": "2uT_dy8LE9GH",
        "outputId": "115e2aba-e4cc-4244-f65f-845b05e9ee1d"
      },
      "execution_count": null,
      "outputs": [
        {
          "output_type": "execute_result",
          "data": {
            "text/plain": [
              "'pyisalh'"
            ],
            "application/vnd.google.colaboratory.intrinsic+json": {
              "type": "string"
            }
          },
          "metadata": {},
          "execution_count": 17
        }
      ]
    },
    {
      "cell_type": "code",
      "source": [
        "s[::-1] #reverse the string"
      ],
      "metadata": {
        "colab": {
          "base_uri": "https://localhost:8080/",
          "height": 42
        },
        "id": "RS41hkO9FlZM",
        "outputId": "981330eb-94b2-4278-8cb7-38f2bee3a630"
      },
      "execution_count": null,
      "outputs": [
        {
          "output_type": "execute_result",
          "data": {
            "text/plain": [
              "'hallawscisyhp'"
            ],
            "application/vnd.google.colaboratory.intrinsic+json": {
              "type": "string"
            }
          },
          "metadata": {},
          "execution_count": 19
        }
      ]
    },
    {
      "cell_type": "code",
      "source": [
        "s[::1]"
      ],
      "metadata": {
        "colab": {
          "base_uri": "https://localhost:8080/",
          "height": 42
        },
        "id": "CowgaKjIFo5z",
        "outputId": "17da046d-8645-4ce9-f940-97e27e618914"
      },
      "execution_count": null,
      "outputs": [
        {
          "output_type": "execute_result",
          "data": {
            "text/plain": [
              "'physicswallah'"
            ],
            "application/vnd.google.colaboratory.intrinsic+json": {
              "type": "string"
            }
          },
          "metadata": {},
          "execution_count": 20
        }
      ]
    },
    {
      "cell_type": "code",
      "source": [
        "s[:-6:-1]"
      ],
      "metadata": {
        "colab": {
          "base_uri": "https://localhost:8080/",
          "height": 42
        },
        "id": "ABZfWZm9Fx10",
        "outputId": "7c01fed8-4b29-47f0-94e4-1d4d8f89a71a"
      },
      "execution_count": null,
      "outputs": [
        {
          "output_type": "execute_result",
          "data": {
            "text/plain": [
              "'halla'"
            ],
            "application/vnd.google.colaboratory.intrinsic+json": {
              "type": "string"
            }
          },
          "metadata": {},
          "execution_count": 27
        }
      ]
    },
    {
      "cell_type": "code",
      "source": [
        "s[0:6:2]"
      ],
      "metadata": {
        "colab": {
          "base_uri": "https://localhost:8080/",
          "height": 42
        },
        "id": "H1NVfsD-HZv7",
        "outputId": "4056f345-1294-43fa-8c29-440db6f67239"
      },
      "execution_count": null,
      "outputs": [
        {
          "output_type": "execute_result",
          "data": {
            "text/plain": [
              "'pyi'"
            ],
            "application/vnd.google.colaboratory.intrinsic+json": {
              "type": "string"
            }
          },
          "metadata": {},
          "execution_count": 28
        }
      ]
    },
    {
      "cell_type": "code",
      "source": [
        "String = \"hello\" #YOU CAN WRITE IN THIS WAY TOO\n",
        "s1=  slice(2)\n",
        "s2= slice(0,6)\n",
        "s3= slice(0,6,2)\n",
        "print(\"String slicing\")\n",
        "print(String[s1])\n",
        "print(String[s2])\n",
        "print(String[s3])"
      ],
      "metadata": {
        "colab": {
          "base_uri": "https://localhost:8080/"
        },
        "id": "5pxrsApTH-U4",
        "outputId": "da5fd656-bfa5-48f3-ac8a-aa30093f6723"
      },
      "execution_count": null,
      "outputs": [
        {
          "output_type": "stream",
          "name": "stdout",
          "text": [
            "String slicing\n",
            "he\n",
            "hello\n",
            "hlo\n"
          ]
        }
      ]
    },
    {
      "cell_type": "markdown",
      "source": [
        " Explain The key Features OF Lists In Python .\n",
        "\n",
        "---\n",
        "\n"
      ],
      "metadata": {
        "id": "g_9TDHCLJNeE"
      }
    },
    {
      "cell_type": "markdown",
      "source": [
        "Lists are used to store multiple items in a single variable.\n",
        "\n",
        "Lists are one of 4 built-in data types in Python used to store collections of data, the other 3 are Tuple, Set, and Dictionary, all with different qualities and usage.Python lists offer several key features that make them a versatile and widely used data structure :\n",
        "\n",
        "Ordered: Lists maintain the order in which elements were inserted, allowing you to access elements by their index.\n",
        "\n",
        "\n",
        "Mutable: Lists can be modified after creation by adding, removing, or changing elements. This makes them suitable for dynamic data handling.\n",
        "\n",
        "Heterogeneous: Lists can store items of different data types, such as strings, integers, floats, and other lists.\n",
        "\n",
        "Indexed: Lists are indexed, meaning you can access elements using their position in the list (e.g., my_list[0]).\n",
        "\n",
        "Slicing: Lists support slicing, allowing you to extract a subset of elements from the list (e.g., my_list[1:3]).\n",
        "\n",
        "Methods: Lists have several built-in methods for common operations, such as:\n",
        "\n",
        "append() to add an element to the end of the list\n",
        "\n",
        "insert() to insert an element at a specific position\n",
        "\n",
        "remove() to remove the first occurrence of an element\n",
        "\n",
        "sort() to sort the list in ascending or descending order\n",
        "\n",
        "reverse() to reverse the order of the list\n",
        "\n",
        "index() to find the index of a specific element\n",
        "\n",
        "extend() to add multiple elements to the end of the list\n",
        "\n",
        "Nesting: Lists can be nested within other lists, creating a hierarchical data structure."
      ],
      "metadata": {
        "id": "Pja74X2gifUc"
      }
    },
    {
      "cell_type": "code",
      "source": [
        "list = [\"apple\", \"banana\", \"cherry\"]\n",
        "list"
      ],
      "metadata": {
        "id": "wx7XkpSQJMEp",
        "colab": {
          "base_uri": "https://localhost:8080/"
        },
        "outputId": "e72440aa-75ed-4fe0-c838-d9b4467e8f4d"
      },
      "execution_count": null,
      "outputs": [
        {
          "output_type": "execute_result",
          "data": {
            "text/plain": [
              "['apple', 'banana', 'cherry']"
            ]
          },
          "metadata": {},
          "execution_count": 1
        }
      ]
    },
    {
      "cell_type": "markdown",
      "source": [],
      "metadata": {
        "id": "8HEMYL7MJzD9"
      }
    },
    {
      "cell_type": "code",
      "source": [
        " list = [\"apple\", \"banana\", \"cherry\", \"apple\", \"cherry\"] #it allows duplicate>> Since lists are indexed, lists can have items with the same value:\n",
        " list\n"
      ],
      "metadata": {
        "id": "bakMEGtRJMBS",
        "colab": {
          "base_uri": "https://localhost:8080/"
        },
        "outputId": "6b8c4900-8394-4194-a1cf-7c4d7c8dda29"
      },
      "execution_count": null,
      "outputs": [
        {
          "output_type": "execute_result",
          "data": {
            "text/plain": [
              "['apple', 'banana', 'cherry', 'apple', 'cherry']"
            ]
          },
          "metadata": {},
          "execution_count": 8
        }
      ]
    },
    {
      "cell_type": "code",
      "source": [
        "list[0]"
      ],
      "metadata": {
        "colab": {
          "base_uri": "https://localhost:8080/",
          "height": 42
        },
        "id": "8YQZCk2xlSV1",
        "outputId": "7d4d1c49-c542-4df9-ae55-260668d63ffa"
      },
      "execution_count": null,
      "outputs": [
        {
          "output_type": "execute_result",
          "data": {
            "text/plain": [
              "'apple'"
            ],
            "application/vnd.google.colaboratory.intrinsic+json": {
              "type": "string"
            }
          },
          "metadata": {},
          "execution_count": 9
        }
      ]
    },
    {
      "cell_type": "code",
      "source": [
        " #indexing #The list is changeable, meaning that we can change, add, and remove items in a list after it has been created.\n",
        "\n",
        "\n",
        "list[0] = \"mango\"\n",
        "list"
      ],
      "metadata": {
        "id": "PB8J0ApVJL1F",
        "colab": {
          "base_uri": "https://localhost:8080/"
        },
        "outputId": "760bb3b0-284a-4e0a-cca6-f3ff2b924efa"
      },
      "execution_count": null,
      "outputs": [
        {
          "output_type": "execute_result",
          "data": {
            "text/plain": [
              "['mango', 'banana', 'cherry', 'apple', 'cherry']"
            ]
          },
          "metadata": {},
          "execution_count": 6
        }
      ]
    },
    {
      "cell_type": "code",
      "source": [
        "len(list) #To determine how many items a list has, use the len() function:"
      ],
      "metadata": {
        "colab": {
          "base_uri": "https://localhost:8080/"
        },
        "id": "T-vVkrA7kqpR",
        "outputId": "a631e1f3-cf59-4c8a-f91e-0aee36a54afc"
      },
      "execution_count": null,
      "outputs": [
        {
          "output_type": "execute_result",
          "data": {
            "text/plain": [
              "5"
            ]
          },
          "metadata": {},
          "execution_count": 10
        }
      ]
    },
    {
      "cell_type": "code",
      "source": [
        "list1 = [\"apple\", \"banana\", \"cherry\"] #data types\n",
        "list2 = [1, 5, 7, 9, 3]\n",
        "list3 = [True, False, False]\n",
        "\n",
        "print(list1)\n",
        "print(list2)\n",
        "print(list3)"
      ],
      "metadata": {
        "colab": {
          "base_uri": "https://localhost:8080/"
        },
        "id": "nAQWg4UzlkSJ",
        "outputId": "28d1f239-7058-4927-82c5-0e581db67cb7"
      },
      "execution_count": null,
      "outputs": [
        {
          "output_type": "stream",
          "name": "stdout",
          "text": [
            "['apple', 'banana', 'cherry']\n",
            "[1, 5, 7, 9, 3]\n",
            "[True, False, False]\n"
          ]
        }
      ]
    },
    {
      "cell_type": "code",
      "source": [
        "list1"
      ],
      "metadata": {
        "colab": {
          "base_uri": "https://localhost:8080/"
        },
        "id": "SyyaYSaQlvFx",
        "outputId": "a6435550-6adc-4b69-9c8f-6be404b3bf97"
      },
      "execution_count": null,
      "outputs": [
        {
          "output_type": "execute_result",
          "data": {
            "text/plain": [
              "['apple', 'banana', 'cherry']"
            ]
          },
          "metadata": {},
          "execution_count": 14
        }
      ]
    },
    {
      "cell_type": "code",
      "source": [
        "list2"
      ],
      "metadata": {
        "colab": {
          "base_uri": "https://localhost:8080/"
        },
        "id": "xBAmkwBvl4_k",
        "outputId": "34e4446b-7c98-42b2-89a3-25f4e540dcb0"
      },
      "execution_count": null,
      "outputs": [
        {
          "output_type": "execute_result",
          "data": {
            "text/plain": [
              "[1, 5, 7, 9, 3]"
            ]
          },
          "metadata": {},
          "execution_count": 15
        }
      ]
    },
    {
      "cell_type": "code",
      "source": [
        "list3"
      ],
      "metadata": {
        "colab": {
          "base_uri": "https://localhost:8080/"
        },
        "id": "Yf5fTOppmB10",
        "outputId": "506d61c3-1594-4269-aa91-6a1e9942203f"
      },
      "execution_count": null,
      "outputs": [
        {
          "output_type": "execute_result",
          "data": {
            "text/plain": [
              "[True, False, False]"
            ]
          },
          "metadata": {},
          "execution_count": 16
        }
      ]
    },
    {
      "cell_type": "code",
      "source": [
        "list4 = [\"abc\", 34, True, 40, \"male\"] #hetrogeneous\n",
        "list4"
      ],
      "metadata": {
        "colab": {
          "base_uri": "https://localhost:8080/"
        },
        "id": "SSR3qPDUmDGx",
        "outputId": "0c5a498f-7288-4f50-d3f9-d39468108c6e"
      },
      "execution_count": null,
      "outputs": [
        {
          "output_type": "execute_result",
          "data": {
            "text/plain": [
              "['abc', 34, True, 40, 'male']"
            ]
          },
          "metadata": {},
          "execution_count": 19
        }
      ]
    },
    {
      "cell_type": "code",
      "source": [
        "type(list4)"
      ],
      "metadata": {
        "colab": {
          "base_uri": "https://localhost:8080/"
        },
        "id": "WMeirdTemlnY",
        "outputId": "9090df72-f4f9-4621-aac5-eb4d76e42d36"
      },
      "execution_count": null,
      "outputs": [
        {
          "output_type": "execute_result",
          "data": {
            "text/plain": [
              "list"
            ]
          },
          "metadata": {},
          "execution_count": 20
        }
      ]
    },
    {
      "cell_type": "code",
      "source": [
        "list = [[\"apple\", \"banana\", \"cherry\"] , [\"mango\", \"pineapple\", \"papaya\"]]\n",
        "list"
      ],
      "metadata": {
        "colab": {
          "base_uri": "https://localhost:8080/"
        },
        "id": "CrT9ipkzmph-",
        "outputId": "d7906e65-f1e2-43c8-9d06-fe6bfefdc5d9"
      },
      "execution_count": null,
      "outputs": [
        {
          "output_type": "execute_result",
          "data": {
            "text/plain": [
              "[['apple', 'banana', 'cherry'], ['mango', 'pineapple', 'papaya']]"
            ]
          },
          "metadata": {},
          "execution_count": 26
        }
      ]
    },
    {
      "cell_type": "code",
      "source": [
        "#A nested list is a list of lists, or any list that has another list as an element (a sublist).\n"
      ],
      "metadata": {
        "id": "9QJIUSuGm8Gv"
      },
      "execution_count": null,
      "outputs": []
    },
    {
      "cell_type": "markdown",
      "source": [
        " Describe how to access ,  modify and delete elements in a list with examples."
      ],
      "metadata": {
        "id": "ZnaXfdfmorQX"
      }
    },
    {
      "cell_type": "code",
      "source": [
        "# Accessing elements:\n",
        "fruits = [\"apple\", \"banana\", \"cherry\", \"mango\"]\n",
        "print(fruits[0])\n",
        "print(fruits[-1])"
      ],
      "metadata": {
        "colab": {
          "base_uri": "https://localhost:8080/"
        },
        "id": "duFufjW9op1y",
        "outputId": "19192817-c6e3-428d-876d-41b57e03283c"
      },
      "execution_count": null,
      "outputs": [
        {
          "output_type": "stream",
          "name": "stdout",
          "text": [
            "apple\n",
            "mango\n"
          ]
        }
      ]
    },
    {
      "cell_type": "code",
      "source": [
        "print(fruits[-5:-1])"
      ],
      "metadata": {
        "colab": {
          "base_uri": "https://localhost:8080/"
        },
        "id": "2T_HF_rEpePO",
        "outputId": "05aecd4f-8c22-4220-d084-6ea264a02c30"
      },
      "execution_count": null,
      "outputs": [
        {
          "output_type": "stream",
          "name": "stdout",
          "text": [
            "['apple', 'banana', 'cherry']\n"
          ]
        }
      ]
    },
    {
      "cell_type": "code",
      "source": [
        "print(fruits[::-1]) #reversing the elements"
      ],
      "metadata": {
        "colab": {
          "base_uri": "https://localhost:8080/"
        },
        "id": "RwgXESjWqBJt",
        "outputId": "1577ae91-7611-40fa-a2f9-9bc004b0c410"
      },
      "execution_count": null,
      "outputs": [
        {
          "output_type": "stream",
          "name": "stdout",
          "text": [
            "['mango', 'cherry', 'banana', 'apple']\n"
          ]
        }
      ]
    },
    {
      "cell_type": "code",
      "source": [
        "#Remove Specified Item\n",
        "fruits = [\"apple\", \"banana\", \"cherry\"]\n",
        "fruits.remove(\"banana\")\n",
        "print(fruits)"
      ],
      "metadata": {
        "colab": {
          "base_uri": "https://localhost:8080/"
        },
        "id": "80z5mGO3rdAx",
        "outputId": "3e74bb12-be2b-4ca1-9263-547b2d378119"
      },
      "execution_count": null,
      "outputs": [
        {
          "output_type": "stream",
          "name": "stdout",
          "text": [
            "['apple', 'cherry']\n"
          ]
        }
      ]
    },
    {
      "cell_type": "code",
      "source": [
        "#If there are more than one item with the specified value, the remove() method removes the first occurrence:\n",
        "fruits = [\"apple\", \"banana\", \"cherry\", \"banana\"]\n",
        "fruits.remove(\"banana\")\n",
        "print(fruits)"
      ],
      "metadata": {
        "colab": {
          "base_uri": "https://localhost:8080/"
        },
        "id": "R7U9qQOXsELH",
        "outputId": "cd59d228-5279-4356-8b23-2ec7edfa0f8a"
      },
      "execution_count": null,
      "outputs": [
        {
          "output_type": "stream",
          "name": "stdout",
          "text": [
            "['apple', 'cherry', 'banana']\n"
          ]
        }
      ]
    },
    {
      "cell_type": "code",
      "source": [
        "#Remove Specified Index\n",
        "#The pop() method removes the specified index.\n",
        "fruits = [\"apple\", \"banana\", \"cherry\"]\n",
        "fruits.pop(1)"
      ],
      "metadata": {
        "colab": {
          "base_uri": "https://localhost:8080/",
          "height": 42
        },
        "id": "hhmU5kptsZKZ",
        "outputId": "0fec97f1-39d0-44e4-885c-0b46b3d9405e"
      },
      "execution_count": null,
      "outputs": [
        {
          "output_type": "execute_result",
          "data": {
            "text/plain": [
              "'banana'"
            ],
            "application/vnd.google.colaboratory.intrinsic+json": {
              "type": "string"
            }
          },
          "metadata": {},
          "execution_count": 58
        }
      ]
    },
    {
      "cell_type": "code",
      "source": [
        "print(fruits)"
      ],
      "metadata": {
        "colab": {
          "base_uri": "https://localhost:8080/"
        },
        "id": "glTzjGM_si0Q",
        "outputId": "d60966b4-4746-49ed-c0d5-cd1da5d456fa"
      },
      "execution_count": null,
      "outputs": [
        {
          "output_type": "stream",
          "name": "stdout",
          "text": [
            "['apple', 'cherry']\n"
          ]
        }
      ]
    },
    {
      "cell_type": "code",
      "source": [
        "fruits.pop() #If you do not specify the index, the pop() method removes the last item.\n"
      ],
      "metadata": {
        "colab": {
          "base_uri": "https://localhost:8080/",
          "height": 42
        },
        "id": "geJxZFIasvLK",
        "outputId": "bf6561c8-358d-4198-82c4-7923fd8814d6"
      },
      "execution_count": null,
      "outputs": [
        {
          "output_type": "execute_result",
          "data": {
            "text/plain": [
              "'cherry'"
            ],
            "application/vnd.google.colaboratory.intrinsic+json": {
              "type": "string"
            }
          },
          "metadata": {},
          "execution_count": 60
        }
      ]
    },
    {
      "cell_type": "code",
      "source": [
        "print(fruits)"
      ],
      "metadata": {
        "colab": {
          "base_uri": "https://localhost:8080/"
        },
        "id": "4ZOTlLTEsy0Y",
        "outputId": "a5f7809a-8e84-4606-b846-0049116d1cd0"
      },
      "execution_count": null,
      "outputs": [
        {
          "output_type": "stream",
          "name": "stdout",
          "text": [
            "['apple']\n"
          ]
        }
      ]
    },
    {
      "cell_type": "code",
      "source": [
        "#The del keyword also removes the specified index:\n",
        "fruits = [\"apple\", \"banana\", \"cherry\"]\n",
        "del fruits[0]\n",
        "print(fruits)"
      ],
      "metadata": {
        "colab": {
          "base_uri": "https://localhost:8080/"
        },
        "id": "wc7RfWl5tB0y",
        "outputId": "af1564ac-73d2-4cae-a321-67e4e3f629f9"
      },
      "execution_count": null,
      "outputs": [
        {
          "output_type": "stream",
          "name": "stdout",
          "text": [
            "['banana', 'cherry']\n"
          ]
        }
      ]
    },
    {
      "cell_type": "code",
      "source": [
        "del fruits #The del keyword can also delete the list completely."
      ],
      "metadata": {
        "id": "5ouuca_AtlA_"
      },
      "execution_count": null,
      "outputs": []
    },
    {
      "cell_type": "code",
      "source": [
        "print(fruits) #bcz fruits are deleted"
      ],
      "metadata": {
        "colab": {
          "base_uri": "https://localhost:8080/",
          "height": 141
        },
        "id": "nUXJA7WmttAG",
        "outputId": "9fc5b0a5-53ab-4684-dab4-01a3bacf7c24"
      },
      "execution_count": null,
      "outputs": [
        {
          "output_type": "error",
          "ename": "NameError",
          "evalue": "name 'fruits' is not defined",
          "traceback": [
            "\u001b[0;31m---------------------------------------------------------------------------\u001b[0m",
            "\u001b[0;31mNameError\u001b[0m                                 Traceback (most recent call last)",
            "\u001b[0;32m<ipython-input-64-c5ba58fe0871>\u001b[0m in \u001b[0;36m<cell line: 1>\u001b[0;34m()\u001b[0m\n\u001b[0;32m----> 1\u001b[0;31m \u001b[0mprint\u001b[0m\u001b[0;34m(\u001b[0m\u001b[0mfruits\u001b[0m\u001b[0;34m)\u001b[0m\u001b[0;34m\u001b[0m\u001b[0;34m\u001b[0m\u001b[0m\n\u001b[0m",
            "\u001b[0;31mNameError\u001b[0m: name 'fruits' is not defined"
          ]
        }
      ]
    },
    {
      "cell_type": "code",
      "source": [
        "#Clear the List\n",
        "#The clear() method empties the list.\n",
        "\n",
        "#The list still remains, but it has no content.\n",
        "\n",
        "fruits = [\"apple\", \"banana\", \"cherry\"]\n",
        "fruits.clear()\n",
        "print(fruits)"
      ],
      "metadata": {
        "colab": {
          "base_uri": "https://localhost:8080/"
        },
        "id": "I5744GihtxGB",
        "outputId": "566105d4-06ba-4744-d7ab-432f651380d8"
      },
      "execution_count": null,
      "outputs": [
        {
          "output_type": "stream",
          "name": "stdout",
          "text": [
            "[]\n"
          ]
        }
      ]
    },
    {
      "cell_type": "markdown",
      "source": [
        "COMPARE AND CONTRAST TUPLES AND LISTS WITH EXAMPLES ."
      ],
      "metadata": {
        "id": "XcJElw3yug0T"
      }
    },
    {
      "cell_type": "markdown",
      "source": [
        "\n",
        "**Similarities:**\n",
        "\n",
        "Both tuples and lists are data structures used to store collections of items in Python.\n",
        "\n",
        "They can hold heterogeneous elements, such as strings, integers, and other data types.\n",
        "Both support indexing and slicing operations.\n",
        "\n",
        "**Differences:**\n",
        "\n",
        "Immutability: Tuples are immutable, meaning their contents cannot be changed after creation. Lists, on the other hand, are mutable, allowing elements to be added, removed, or modified.\n",
        "\n",
        "\n",
        "Syntax: Tuples are defined using parentheses () and elements are separated by commas, while lists are defined using square brackets [] and elements are separated by commas.\n",
        "\n",
        "Use cases: Tuples are suitable for situations where data is known at compile time and won’t change, such as storing constants or configuration data. Lists are better suited for dynamic data that needs to be modified or extended.\n",
        "\n",
        "Tuple: my_tuple = (1, 2, 3, 4, 5)\n",
        "- an immutable collection of integers.\n",
        "\n",
        "List: my_list = [1, 2, 3, 4, 5]\n",
        "- a mutable collection of integers."
      ],
      "metadata": {
        "id": "eIBgJ82zumYx"
      }
    },
    {
      "cell_type": "code",
      "source": [
        "numbers = [1,2,3,4,5]\n",
        "numbers[0] = 10\n",
        "numbers #Example to show mutability"
      ],
      "metadata": {
        "colab": {
          "base_uri": "https://localhost:8080/"
        },
        "id": "8q8QOEA3vxtv",
        "outputId": "5cf667dc-675e-4212-d3ca-357e5e63726d"
      },
      "execution_count": null,
      "outputs": [
        {
          "output_type": "execute_result",
          "data": {
            "text/plain": [
              "[10, 2, 3, 4, 5]"
            ]
          },
          "metadata": {},
          "execution_count": 66
        }
      ]
    },
    {
      "cell_type": "code",
      "source": [
        "tuple = (1,2,3,4,5)\n",
        "tuple[0] = 10\n",
        "tuple #Example to show immutability >> We can see here tuple can not be modified."
      ],
      "metadata": {
        "colab": {
          "base_uri": "https://localhost:8080/",
          "height": 176
        },
        "id": "llSUShDdv6Mt",
        "outputId": "274b25aa-3da5-4fb4-e52b-0719bf306f73"
      },
      "execution_count": null,
      "outputs": [
        {
          "output_type": "error",
          "ename": "TypeError",
          "evalue": "'tuple' object does not support item assignment",
          "traceback": [
            "\u001b[0;31m---------------------------------------------------------------------------\u001b[0m",
            "\u001b[0;31mTypeError\u001b[0m                                 Traceback (most recent call last)",
            "\u001b[0;32m<ipython-input-67-c158f5186e68>\u001b[0m in \u001b[0;36m<cell line: 2>\u001b[0;34m()\u001b[0m\n\u001b[1;32m      1\u001b[0m \u001b[0mtuple\u001b[0m \u001b[0;34m=\u001b[0m \u001b[0;34m(\u001b[0m\u001b[0;36m1\u001b[0m\u001b[0;34m,\u001b[0m\u001b[0;36m2\u001b[0m\u001b[0;34m,\u001b[0m\u001b[0;36m3\u001b[0m\u001b[0;34m,\u001b[0m\u001b[0;36m4\u001b[0m\u001b[0;34m,\u001b[0m\u001b[0;36m5\u001b[0m\u001b[0;34m)\u001b[0m\u001b[0;34m\u001b[0m\u001b[0;34m\u001b[0m\u001b[0m\n\u001b[0;32m----> 2\u001b[0;31m \u001b[0mtuple\u001b[0m\u001b[0;34m[\u001b[0m\u001b[0;36m0\u001b[0m\u001b[0;34m]\u001b[0m \u001b[0;34m=\u001b[0m \u001b[0;36m10\u001b[0m\u001b[0;34m\u001b[0m\u001b[0;34m\u001b[0m\u001b[0m\n\u001b[0m\u001b[1;32m      3\u001b[0m \u001b[0mtuple\u001b[0m \u001b[0;31m#Example to show immutability\u001b[0m\u001b[0;34m\u001b[0m\u001b[0;34m\u001b[0m\u001b[0m\n",
            "\u001b[0;31mTypeError\u001b[0m: 'tuple' object does not support item assignment"
          ]
        }
      ]
    },
    {
      "cell_type": "code",
      "source": [
        "numbers_list = [1,2,3,4,5] #Python Indexing\n",
        "my_tuple = (6,7,8,9)\n",
        "\n",
        "print(numbers_list[0])\n",
        "print(my_tuple[0])\n"
      ],
      "metadata": {
        "colab": {
          "base_uri": "https://localhost:8080/"
        },
        "id": "8fahK9JywIfP",
        "outputId": "1fafb938-c661-422c-a904-1be49dd97e25"
      },
      "execution_count": null,
      "outputs": [
        {
          "output_type": "stream",
          "name": "stdout",
          "text": [
            "1\n",
            "6\n"
          ]
        }
      ]
    },
    {
      "cell_type": "code",
      "source": [
        "my_list = [1, 2, 3, 4, 5]\n",
        "my_tuple = (6, 7, 8, 9, 10)\n",
        "\n",
        "print(my_list[1:3]) #python slicing\n",
        "print(my_tuple[:3])\n"
      ],
      "metadata": {
        "colab": {
          "base_uri": "https://localhost:8080/"
        },
        "id": "k2tjOPA6w4Tn",
        "outputId": "2d0e1466-e5e9-4cc4-afec-70bf2663bb45"
      },
      "execution_count": null,
      "outputs": [
        {
          "output_type": "stream",
          "name": "stdout",
          "text": [
            "[2, 3]\n",
            "(6, 7, 8)\n"
          ]
        }
      ]
    },
    {
      "cell_type": "code",
      "source": [
        "list1 = [1, 2, 3]\n",
        "list2 = [4, 5, 6]\n",
        "tuple1 = (7, 8, 9)\n",
        "tuple2 = (10, 11, 12)\n",
        "\n",
        "print(list1 + list2) #concatenation\n",
        "print(tuple1 + tuple2)\n"
      ],
      "metadata": {
        "colab": {
          "base_uri": "https://localhost:8080/"
        },
        "id": "i9sI7SiRxMDz",
        "outputId": "a1aeb08c-7258-4883-f012-3fbd9e764e03"
      },
      "execution_count": null,
      "outputs": [
        {
          "output_type": "stream",
          "name": "stdout",
          "text": [
            "[1, 2, 3, 4, 5, 6]\n",
            "(7, 8, 9, 10, 11, 12)\n"
          ]
        }
      ]
    },
    {
      "cell_type": "code",
      "source": [
        "#list can be appended >> mutable in nature\n",
        "my_list = [1, 2, 3]\n",
        "my_list.append(4)\n",
        "print(my_list)\n"
      ],
      "metadata": {
        "colab": {
          "base_uri": "https://localhost:8080/"
        },
        "id": "pUpGVSumxX0f",
        "outputId": "e3d707ec-b6c9-4765-97b0-b6f9f9932386"
      },
      "execution_count": null,
      "outputs": [
        {
          "output_type": "stream",
          "name": "stdout",
          "text": [
            "[1, 2, 3, 4]\n"
          ]
        }
      ]
    },
    {
      "cell_type": "code",
      "source": [
        "#list can be extended with another list\n",
        "list1 = [1, 2, 3]\n",
        "list2 = [4, 5, 6]\n",
        "list1.extend(list2)\n",
        "print(list1)\n"
      ],
      "metadata": {
        "colab": {
          "base_uri": "https://localhost:8080/"
        },
        "id": "Nr5XKKuNxkUj",
        "outputId": "d997d33e-5159-4f15-9ed1-4bfcbec9ea36"
      },
      "execution_count": null,
      "outputs": [
        {
          "output_type": "stream",
          "name": "stdout",
          "text": [
            "[1, 2, 3, 4, 5, 6]\n"
          ]
        }
      ]
    },
    {
      "cell_type": "code",
      "source": [
        "my_list = [1, 2, 3, 4]\n",
        "my_list.remove(2)\n",
        "print(my_list)\n"
      ],
      "metadata": {
        "colab": {
          "base_uri": "https://localhost:8080/"
        },
        "id": "H_eLOb9bxusH",
        "outputId": "f8fb20a4-0beb-4a29-fb63-cca93ba6e758"
      },
      "execution_count": null,
      "outputs": [
        {
          "output_type": "stream",
          "name": "stdout",
          "text": [
            "[1, 3, 4]\n"
          ]
        }
      ]
    },
    {
      "cell_type": "code",
      "source": [
        "#these are the operations that are available for lists only >> append , remove ,del, extend , clear\n",
        "tuple1 = (7, 8, 9)\n",
        "tuple1.clear()\n",
        "print(tuple1)"
      ],
      "metadata": {
        "colab": {
          "base_uri": "https://localhost:8080/",
          "height": 211
        },
        "id": "X4K09aZIx-Z9",
        "outputId": "757459fc-5643-42a0-a3b3-583f4926fdb4"
      },
      "execution_count": null,
      "outputs": [
        {
          "output_type": "error",
          "ename": "AttributeError",
          "evalue": "'tuple' object has no attribute 'clear'",
          "traceback": [
            "\u001b[0;31m---------------------------------------------------------------------------\u001b[0m",
            "\u001b[0;31mAttributeError\u001b[0m                            Traceback (most recent call last)",
            "\u001b[0;32m<ipython-input-80-db365a9c1e52>\u001b[0m in \u001b[0;36m<cell line: 3>\u001b[0;34m()\u001b[0m\n\u001b[1;32m      1\u001b[0m \u001b[0;31m#these are the operations that are available for lists only >> append , remove , extend\u001b[0m\u001b[0;34m\u001b[0m\u001b[0;34m\u001b[0m\u001b[0m\n\u001b[1;32m      2\u001b[0m \u001b[0mtuple1\u001b[0m \u001b[0;34m=\u001b[0m \u001b[0;34m(\u001b[0m\u001b[0;36m7\u001b[0m\u001b[0;34m,\u001b[0m \u001b[0;36m8\u001b[0m\u001b[0;34m,\u001b[0m \u001b[0;36m9\u001b[0m\u001b[0;34m)\u001b[0m\u001b[0;34m\u001b[0m\u001b[0;34m\u001b[0m\u001b[0m\n\u001b[0;32m----> 3\u001b[0;31m \u001b[0mtuple1\u001b[0m\u001b[0;34m.\u001b[0m\u001b[0mclear\u001b[0m\u001b[0;34m(\u001b[0m\u001b[0;34m)\u001b[0m\u001b[0;34m\u001b[0m\u001b[0;34m\u001b[0m\u001b[0m\n\u001b[0m\u001b[1;32m      4\u001b[0m \u001b[0mprint\u001b[0m\u001b[0;34m(\u001b[0m\u001b[0mtuple1\u001b[0m\u001b[0;34m)\u001b[0m\u001b[0;34m\u001b[0m\u001b[0;34m\u001b[0m\u001b[0m\n",
            "\u001b[0;31mAttributeError\u001b[0m: 'tuple' object has no attribute 'clear'"
          ]
        }
      ]
    },
    {
      "cell_type": "code",
      "source": [
        "tuple1 = (7, 8, 9)\n",
        "del tuple1[0]\n",
        "print(tuple1)"
      ],
      "metadata": {
        "colab": {
          "base_uri": "https://localhost:8080/",
          "height": 176
        },
        "id": "QqZW1VMgyfNA",
        "outputId": "6c591c30-3506-445d-ec01-f33f652d78f2"
      },
      "execution_count": null,
      "outputs": [
        {
          "output_type": "error",
          "ename": "TypeError",
          "evalue": "'tuple' object doesn't support item deletion",
          "traceback": [
            "\u001b[0;31m---------------------------------------------------------------------------\u001b[0m",
            "\u001b[0;31mTypeError\u001b[0m                                 Traceback (most recent call last)",
            "\u001b[0;32m<ipython-input-81-35978acab134>\u001b[0m in \u001b[0;36m<cell line: 2>\u001b[0;34m()\u001b[0m\n\u001b[1;32m      1\u001b[0m \u001b[0mtuple1\u001b[0m \u001b[0;34m=\u001b[0m \u001b[0;34m(\u001b[0m\u001b[0;36m7\u001b[0m\u001b[0;34m,\u001b[0m \u001b[0;36m8\u001b[0m\u001b[0;34m,\u001b[0m \u001b[0;36m9\u001b[0m\u001b[0;34m)\u001b[0m\u001b[0;34m\u001b[0m\u001b[0;34m\u001b[0m\u001b[0m\n\u001b[0;32m----> 2\u001b[0;31m \u001b[0;32mdel\u001b[0m \u001b[0mtuple1\u001b[0m\u001b[0;34m[\u001b[0m\u001b[0;36m0\u001b[0m\u001b[0;34m]\u001b[0m\u001b[0;34m\u001b[0m\u001b[0;34m\u001b[0m\u001b[0m\n\u001b[0m\u001b[1;32m      3\u001b[0m \u001b[0mprint\u001b[0m\u001b[0;34m(\u001b[0m\u001b[0mtuple1\u001b[0m\u001b[0;34m)\u001b[0m\u001b[0;34m\u001b[0m\u001b[0;34m\u001b[0m\u001b[0m\n",
            "\u001b[0;31mTypeError\u001b[0m: 'tuple' object doesn't support item deletion"
          ]
        }
      ]
    },
    {
      "cell_type": "markdown",
      "source": [
        "\n",
        "DESCRIBE THE KEY FEATURES OF SETS AND PROVIDE THE EXAMPLES OF THEIR USE.\n",
        "\n",
        "\n"
      ],
      "metadata": {
        "id": "UAgU75cxzofN"
      }
    },
    {
      "cell_type": "markdown",
      "source": [
        "Sets are used to store multiple items in a single variable.\n",
        "\n",
        "Set is one of 4 built-in data types in Python used to store collections of data, the other 3 are List, Tuple, and Dictionary, all with different qualities and usage.\n",
        "\n",
        "A set is a collection which is unordered, unchangeable*, and unindexed.\n",
        "\n",
        "Unordered Collection: Sets are an unordered collection of unique elements. The order in which elements are added or removed does not matter.\n",
        "\n",
        "Mutability: Sets are mutable, meaning you can add or remove elements after creating them.\n",
        "\n",
        "Unique Elements: Sets only allow unique elements. If you try to add a duplicate element, it will be ignored.\n",
        "\n",
        "Fast Membership Testing: Sets provide fast membership testing using the in operator, making it efficient to check if an element is present in the set.\n",
        "\n",
        "Iterability: Sets can be used in for loops to iterate over their elements."
      ],
      "metadata": {
        "id": "fpnbKCPIz296"
      }
    },
    {
      "cell_type": "code",
      "source": [
        "set1 = {\"shubhi\" , \"ashu\", 21.2, 20, True,False } #hetero."
      ],
      "metadata": {
        "id": "9SGlWRIW0nAH"
      },
      "execution_count": null,
      "outputs": []
    },
    {
      "cell_type": "code",
      "source": [
        "set1"
      ],
      "metadata": {
        "colab": {
          "base_uri": "https://localhost:8080/"
        },
        "id": "dOzUUb-q1H7F",
        "outputId": "c35a215a-e2d8-4783-cb56-8de7eaa07c46"
      },
      "execution_count": null,
      "outputs": [
        {
          "output_type": "execute_result",
          "data": {
            "text/plain": [
              "{20, 21.2, False, True, 'ashu', 'shubhi'}"
            ]
          },
          "metadata": {},
          "execution_count": 102
        }
      ]
    },
    {
      "cell_type": "code",
      "source": [
        "set1 = {\"shubhi\" , \"ashu\", 21.2, 20, True,False , 0 ,1 ,2 ,3}\n",
        "#The values True and 1 are considered the same value in sets, and are treated as duplicates\n",
        "#The values False and 0 are considered the same value in sets, and are treated as duplicates\n",
        "set1"
      ],
      "metadata": {
        "colab": {
          "base_uri": "https://localhost:8080/"
        },
        "id": "3eEDJcpp1JND",
        "outputId": "10da1ac4-bd6b-46b4-9dce-675963cc9505"
      },
      "execution_count": null,
      "outputs": [
        {
          "output_type": "execute_result",
          "data": {
            "text/plain": [
              "{2, 20, 21.2, 3, False, True, 'ashu', 'shubhi'}"
            ]
          },
          "metadata": {},
          "execution_count": 105
        }
      ]
    },
    {
      "cell_type": "code",
      "source": [
        "set2 = {\"apple\", \"banana\", \"cherry\",\"apple\"}\n",
        "set2 #Sets cannot have two items with the same value.\n"
      ],
      "metadata": {
        "colab": {
          "base_uri": "https://localhost:8080/"
        },
        "id": "3s0jk5he1ax_",
        "outputId": "47c0c0b9-6b4b-4761-9a86-63e5db171cfc"
      },
      "execution_count": null,
      "outputs": [
        {
          "output_type": "execute_result",
          "data": {
            "text/plain": [
              "{'apple', 'banana', 'cherry'}"
            ]
          },
          "metadata": {},
          "execution_count": 106
        }
      ]
    },
    {
      "cell_type": "code",
      "source": [
        "type(set1)"
      ],
      "metadata": {
        "colab": {
          "base_uri": "https://localhost:8080/"
        },
        "id": "uJQGcnk-2IvH",
        "outputId": "fbaed791-cded-46b4-9a7b-f25b4d00ccb5"
      },
      "execution_count": null,
      "outputs": [
        {
          "output_type": "execute_result",
          "data": {
            "text/plain": [
              "set"
            ]
          },
          "metadata": {},
          "execution_count": 107
        }
      ]
    },
    {
      "cell_type": "code",
      "source": [
        "len(set1)"
      ],
      "metadata": {
        "colab": {
          "base_uri": "https://localhost:8080/"
        },
        "id": "A_O6v8LX2YkZ",
        "outputId": "ce81bb09-b7d9-4b09-c805-5497588b0979"
      },
      "execution_count": null,
      "outputs": [
        {
          "output_type": "execute_result",
          "data": {
            "text/plain": [
              "8"
            ]
          },
          "metadata": {},
          "execution_count": 108
        }
      ]
    },
    {
      "cell_type": "code",
      "source": [
        "len(set2)"
      ],
      "metadata": {
        "colab": {
          "base_uri": "https://localhost:8080/"
        },
        "id": "WCWvIPxX2aLk",
        "outputId": "bdf81c97-3ebf-4364-8000-24c74ba467a3"
      },
      "execution_count": null,
      "outputs": [
        {
          "output_type": "execute_result",
          "data": {
            "text/plain": [
              "3"
            ]
          },
          "metadata": {},
          "execution_count": 109
        }
      ]
    },
    {
      "cell_type": "code",
      "source": [
        "set = {1, 2, 3} #checking membership\n",
        "print(3 in set)\n",
        "print(4 in set)"
      ],
      "metadata": {
        "colab": {
          "base_uri": "https://localhost:8080/"
        },
        "id": "ae8v25Cd3HIS",
        "outputId": "e625f195-4ad3-426f-fb2c-145ee7edbed4"
      },
      "execution_count": null,
      "outputs": [
        {
          "output_type": "stream",
          "name": "stdout",
          "text": [
            "True\n",
            "False\n"
          ]
        }
      ]
    },
    {
      "cell_type": "code",
      "source": [
        "set.add(4) #adding an element\n",
        "print(set)"
      ],
      "metadata": {
        "colab": {
          "base_uri": "https://localhost:8080/"
        },
        "id": "CdAv7EvH4I_y",
        "outputId": "7a838763-5455-4063-8d8c-b4e330146800"
      },
      "execution_count": null,
      "outputs": [
        {
          "output_type": "stream",
          "name": "stdout",
          "text": [
            "{1, 2, 3, 4}\n"
          ]
        }
      ]
    },
    {
      "cell_type": "code",
      "source": [
        "set"
      ],
      "metadata": {
        "colab": {
          "base_uri": "https://localhost:8080/"
        },
        "id": "cH2NW7rP4iaQ",
        "outputId": "a23e53d5-ca38-4752-dc8a-1ea4e0ce09e2"
      },
      "execution_count": null,
      "outputs": [
        {
          "output_type": "execute_result",
          "data": {
            "text/plain": [
              "{1, 2, 3, 4}"
            ]
          },
          "metadata": {},
          "execution_count": 121
        }
      ]
    },
    {
      "cell_type": "code",
      "source": [
        "set[1]=8\n",
        "set"
      ],
      "metadata": {
        "colab": {
          "base_uri": "https://localhost:8080/",
          "height": 158
        },
        "id": "DIa6zmxE4y90",
        "outputId": "8cfc6840-2957-4745-dc88-9e99d71994f2"
      },
      "execution_count": null,
      "outputs": [
        {
          "output_type": "error",
          "ename": "TypeError",
          "evalue": "'set' object does not support item assignment",
          "traceback": [
            "\u001b[0;31m---------------------------------------------------------------------------\u001b[0m",
            "\u001b[0;31mTypeError\u001b[0m                                 Traceback (most recent call last)",
            "\u001b[0;32m<ipython-input-122-bb37a27c3968>\u001b[0m in \u001b[0;36m<cell line: 1>\u001b[0;34m()\u001b[0m\n\u001b[0;32m----> 1\u001b[0;31m \u001b[0mset\u001b[0m\u001b[0;34m[\u001b[0m\u001b[0;36m1\u001b[0m\u001b[0;34m]\u001b[0m\u001b[0;34m=\u001b[0m\u001b[0;36m8\u001b[0m\u001b[0;34m\u001b[0m\u001b[0;34m\u001b[0m\u001b[0m\n\u001b[0m\u001b[1;32m      2\u001b[0m \u001b[0mset\u001b[0m\u001b[0;34m\u001b[0m\u001b[0;34m\u001b[0m\u001b[0m\n",
            "\u001b[0;31mTypeError\u001b[0m: 'set' object does not support item assignment"
          ]
        }
      ]
    },
    {
      "cell_type": "code",
      "source": [
        "my_fs = frozenset([1,2,3,4,5,5,5])\n",
        "my_fs"
      ],
      "metadata": {
        "colab": {
          "base_uri": "https://localhost:8080/"
        },
        "id": "-BSpkkG4443E",
        "outputId": "09545ec5-7c1e-4a2f-a467-011cd490304f"
      },
      "execution_count": null,
      "outputs": [
        {
          "output_type": "execute_result",
          "data": {
            "text/plain": [
              "frozenset({1, 2, 3, 4, 5})"
            ]
          },
          "metadata": {},
          "execution_count": 123
        }
      ]
    },
    {
      "cell_type": "code",
      "source": [
        "type(my_fs)"
      ],
      "metadata": {
        "colab": {
          "base_uri": "https://localhost:8080/"
        },
        "id": "CpziZNWQ5H1z",
        "outputId": "e6d27de9-216d-4396-a9bb-6384ce2f6848"
      },
      "execution_count": null,
      "outputs": [
        {
          "output_type": "execute_result",
          "data": {
            "text/plain": [
              "frozenset"
            ]
          },
          "metadata": {},
          "execution_count": 124
        }
      ]
    },
    {
      "cell_type": "code",
      "source": [
        "type(my_fs)"
      ],
      "metadata": {
        "colab": {
          "base_uri": "https://localhost:8080/"
        },
        "id": "fFLIu09J5J9a",
        "outputId": "b3c7309f-e70d-42fb-ab20-34ff1f71272d"
      },
      "execution_count": null,
      "outputs": [
        {
          "output_type": "execute_result",
          "data": {
            "text/plain": [
              "frozenset"
            ]
          },
          "metadata": {},
          "execution_count": 125
        }
      ]
    },
    {
      "cell_type": "code",
      "source": [
        "#set operations\n",
        "s1 = {\"hiking\",\"reading\",\"coding\"}\n",
        "s2= {\"coding\",\"photography\",\"travelling\"}\n",
        "s1"
      ],
      "metadata": {
        "colab": {
          "base_uri": "https://localhost:8080/"
        },
        "id": "ISBrRFD65MPf",
        "outputId": "4aa1c626-ee34-4144-bbef-c8ca1c5abf83"
      },
      "execution_count": null,
      "outputs": [
        {
          "output_type": "execute_result",
          "data": {
            "text/plain": [
              "{'coding', 'hiking', 'reading'}"
            ]
          },
          "metadata": {},
          "execution_count": 126
        }
      ]
    },
    {
      "cell_type": "code",
      "source": [
        "s2"
      ],
      "metadata": {
        "colab": {
          "base_uri": "https://localhost:8080/"
        },
        "id": "vLQZSAAW5bI4",
        "outputId": "b9ca08af-e0a8-4601-c9ec-0ddeea406e39"
      },
      "execution_count": null,
      "outputs": [
        {
          "output_type": "execute_result",
          "data": {
            "text/plain": [
              "{'coding', 'photography', 'travelling'}"
            ]
          },
          "metadata": {},
          "execution_count": 127
        }
      ]
    },
    {
      "cell_type": "code",
      "source": [
        "s1 | s2 #or >> union"
      ],
      "metadata": {
        "colab": {
          "base_uri": "https://localhost:8080/"
        },
        "id": "DH7h9tmC5b7W",
        "outputId": "8f423ecf-2a65-4d3f-92e8-338620cc8cb6"
      },
      "execution_count": null,
      "outputs": [
        {
          "output_type": "execute_result",
          "data": {
            "text/plain": [
              "{'coding', 'hiking', 'photography', 'reading', 'travelling'}"
            ]
          },
          "metadata": {},
          "execution_count": 128
        }
      ]
    },
    {
      "cell_type": "code",
      "source": [
        "s1 | s2 #or >> union"
      ],
      "metadata": {
        "colab": {
          "base_uri": "https://localhost:8080/"
        },
        "id": "FzOGEdjT5d8N",
        "outputId": "f7d9145d-b7dd-4ab4-967e-689f797fbc04"
      },
      "execution_count": null,
      "outputs": [
        {
          "output_type": "execute_result",
          "data": {
            "text/plain": [
              "{'coding', 'hiking', 'photography', 'reading', 'travelling'}"
            ]
          },
          "metadata": {},
          "execution_count": 129
        }
      ]
    },
    {
      "cell_type": "code",
      "source": [
        "s1 & s2 #and >> intersection"
      ],
      "metadata": {
        "colab": {
          "base_uri": "https://localhost:8080/"
        },
        "id": "9Dd7DAYI5hJ5",
        "outputId": "567b8ea2-b0a1-4a6a-c98b-df0c9aef03fd"
      },
      "execution_count": null,
      "outputs": [
        {
          "output_type": "execute_result",
          "data": {
            "text/plain": [
              "{'coding'}"
            ]
          },
          "metadata": {},
          "execution_count": 130
        }
      ]
    },
    {
      "cell_type": "code",
      "source": [
        "s1^s2 #symmetric diff"
      ],
      "metadata": {
        "colab": {
          "base_uri": "https://localhost:8080/"
        },
        "id": "-2NVMQbr5jNM",
        "outputId": "88b58482-d2ac-4c1e-f1ca-3d2a9ac9494a"
      },
      "execution_count": null,
      "outputs": [
        {
          "output_type": "execute_result",
          "data": {
            "text/plain": [
              "{'hiking', 'photography', 'reading', 'travelling'}"
            ]
          },
          "metadata": {},
          "execution_count": 131
        }
      ]
    },
    {
      "cell_type": "code",
      "source": [
        "s = {(92, 3, 4), 1, 100, 2, 3, 4, 5}\n",
        "s.discard(100)"
      ],
      "metadata": {
        "id": "0VvXS6iY5mtr"
      },
      "execution_count": null,
      "outputs": []
    },
    {
      "cell_type": "code",
      "source": [
        "s"
      ],
      "metadata": {
        "colab": {
          "base_uri": "https://localhost:8080/"
        },
        "id": "pBn6fez45pkF",
        "outputId": "cbe62979-e668-4b36-8d87-7b86be264cd1"
      },
      "execution_count": null,
      "outputs": [
        {
          "output_type": "execute_result",
          "data": {
            "text/plain": [
              "{(92, 3, 4), 1, 2, 3, 4, 5}"
            ]
          },
          "metadata": {},
          "execution_count": 133
        }
      ]
    },
    {
      "cell_type": "code",
      "source": [
        "s = {92, 3, 4, 100, 3, 4, 5}\n",
        "s"
      ],
      "metadata": {
        "colab": {
          "base_uri": "https://localhost:8080/"
        },
        "id": "JwMmde2H5rV_",
        "outputId": "633667d7-de30-48f7-9119-27e30c872488"
      },
      "execution_count": null,
      "outputs": [
        {
          "output_type": "execute_result",
          "data": {
            "text/plain": [
              "{3, 4, 5, 92, 100}"
            ]
          },
          "metadata": {},
          "execution_count": 134
        }
      ]
    },
    {
      "cell_type": "code",
      "source": [
        "s.remove(3) #it removes a specific element"
      ],
      "metadata": {
        "id": "qsHvSG4S5vMl"
      },
      "execution_count": null,
      "outputs": []
    },
    {
      "cell_type": "code",
      "source": [
        "s"
      ],
      "metadata": {
        "colab": {
          "base_uri": "https://localhost:8080/"
        },
        "id": "4eEusiL65xZg",
        "outputId": "9f172c24-f983-4d30-8a51-cbbcaead0deb"
      },
      "execution_count": null,
      "outputs": [
        {
          "output_type": "execute_result",
          "data": {
            "text/plain": [
              "{4, 5, 92, 100}"
            ]
          },
          "metadata": {},
          "execution_count": 136
        }
      ]
    },
    {
      "cell_type": "code",
      "source": [
        "s.update(\"ajay\")\n",
        "s"
      ],
      "metadata": {
        "colab": {
          "base_uri": "https://localhost:8080/"
        },
        "id": "dxjPgT8y5yvZ",
        "outputId": "412b3b9c-cb5d-4855-85d8-754985df5c37"
      },
      "execution_count": null,
      "outputs": [
        {
          "output_type": "execute_result",
          "data": {
            "text/plain": [
              "{100, 4, 5, 92, 'a', 'j', 'y'}"
            ]
          },
          "metadata": {},
          "execution_count": 137
        }
      ]
    },
    {
      "cell_type": "code",
      "source": [
        "s.update([\"ajay\"])"
      ],
      "metadata": {
        "id": "YrUdYB1-50kN"
      },
      "execution_count": null,
      "outputs": []
    },
    {
      "cell_type": "code",
      "source": [
        "s"
      ],
      "metadata": {
        "colab": {
          "base_uri": "https://localhost:8080/"
        },
        "id": "Q4mm1MnD54PX",
        "outputId": "6b170ae1-e79f-46f1-ec0e-6a80b34bf180"
      },
      "execution_count": null,
      "outputs": [
        {
          "output_type": "execute_result",
          "data": {
            "text/plain": [
              "{100, 4, 5, 92, 'a', 'ajay', 'j', 'y'}"
            ]
          },
          "metadata": {},
          "execution_count": 139
        }
      ]
    },
    {
      "cell_type": "code",
      "source": [
        "s.clear()"
      ],
      "metadata": {
        "id": "Q7iv0WNu54xA"
      },
      "execution_count": null,
      "outputs": []
    },
    {
      "cell_type": "code",
      "source": [
        "s"
      ],
      "metadata": {
        "colab": {
          "base_uri": "https://localhost:8080/"
        },
        "id": "iXd1fGng57jg",
        "outputId": "a2ba747a-e7c0-4f09-cfa4-6bd2327296af"
      },
      "execution_count": null,
      "outputs": [
        {
          "output_type": "execute_result",
          "data": {
            "text/plain": [
              "set()"
            ]
          },
          "metadata": {},
          "execution_count": 141
        }
      ]
    },
    {
      "cell_type": "code",
      "source": [
        "del s"
      ],
      "metadata": {
        "id": "E8TgSglk573F"
      },
      "execution_count": null,
      "outputs": []
    },
    {
      "cell_type": "code",
      "source": [
        "s"
      ],
      "metadata": {
        "colab": {
          "base_uri": "https://localhost:8080/",
          "height": 141
        },
        "id": "jyHjeg3j59bf",
        "outputId": "9fa2c9f7-ab0f-4cf5-e8f0-26df0e7cd5a5"
      },
      "execution_count": null,
      "outputs": [
        {
          "output_type": "error",
          "ename": "NameError",
          "evalue": "name 's' is not defined",
          "traceback": [
            "\u001b[0;31m---------------------------------------------------------------------------\u001b[0m",
            "\u001b[0;31mNameError\u001b[0m                                 Traceback (most recent call last)",
            "\u001b[0;32m<ipython-input-143-ded5ba42480f>\u001b[0m in \u001b[0;36m<cell line: 1>\u001b[0;34m()\u001b[0m\n\u001b[0;32m----> 1\u001b[0;31m \u001b[0ms\u001b[0m\u001b[0;34m\u001b[0m\u001b[0;34m\u001b[0m\u001b[0m\n\u001b[0m",
            "\u001b[0;31mNameError\u001b[0m: name 's' is not defined"
          ]
        }
      ]
    },
    {
      "cell_type": "code",
      "source": [
        "s= {1,2,3,3,4,5}\n",
        "s"
      ],
      "metadata": {
        "colab": {
          "base_uri": "https://localhost:8080/"
        },
        "id": "JyMOSO-H59sG",
        "outputId": "e1914f53-bf7c-4735-df1d-7f7eb7330d74"
      },
      "execution_count": null,
      "outputs": [
        {
          "output_type": "execute_result",
          "data": {
            "text/plain": [
              "{1, 2, 3, 4, 5}"
            ]
          },
          "metadata": {},
          "execution_count": 144
        }
      ]
    },
    {
      "cell_type": "code",
      "source": [
        "s.pop() #not compulsory to remove last element"
      ],
      "metadata": {
        "colab": {
          "base_uri": "https://localhost:8080/"
        },
        "id": "q6lno9Li6FxS",
        "outputId": "5e66a7a5-7e8e-4bb6-fa83-b3618fea5615"
      },
      "execution_count": null,
      "outputs": [
        {
          "output_type": "execute_result",
          "data": {
            "text/plain": [
              "1"
            ]
          },
          "metadata": {},
          "execution_count": 145
        }
      ]
    },
    {
      "cell_type": "code",
      "source": [
        "s.add(6)"
      ],
      "metadata": {
        "id": "vze2Xt2F6HcB"
      },
      "execution_count": null,
      "outputs": []
    },
    {
      "cell_type": "code",
      "source": [
        "s"
      ],
      "metadata": {
        "colab": {
          "base_uri": "https://localhost:8080/"
        },
        "id": "Qd334z566N89",
        "outputId": "2933e501-cbd0-452b-9e34-3317b8dd0eea"
      },
      "execution_count": null,
      "outputs": [
        {
          "output_type": "execute_result",
          "data": {
            "text/plain": [
              "{2, 3, 4, 5, 6}"
            ]
          },
          "metadata": {},
          "execution_count": 147
        }
      ]
    },
    {
      "cell_type": "code",
      "source": [],
      "metadata": {
        "id": "8H2tRpFG6OJX"
      },
      "execution_count": null,
      "outputs": []
    },
    {
      "cell_type": "markdown",
      "source": [
        "DISCUSS THE USE CASES OF TUPLES AND SETS IN PYTHON PROGRAMMMING ."
      ],
      "metadata": {
        "id": "YkTli42V6uQA"
      }
    },
    {
      "cell_type": "code",
      "source": [],
      "metadata": {
        "id": "JjUty8RE63zn"
      },
      "execution_count": null,
      "outputs": []
    },
    {
      "cell_type": "markdown",
      "source": [
        "Tuples and sets are fundamental data structures in Python, offering distinct properties and use cases. Here’s a comprehensive overview of their applications:\n",
        "\n",
        "Tuples\n",
        "\n",
        "Ordered collections of immutable elements\n",
        "Create tuples using parentheses () and separating elements with commas, e.g., (1, 2, 3)\n",
        "Access tuple elements using indexing, e.g., my_tuple[0]\n",
        "Use cases:\n",
        "Store and pass around immutable data, such as ordered pairs or triples\n",
        "Represent structured data, like a customer order, as demonstrated in the POS system example\n",
        "As a drop-in replacement for lists when immutability is requiredTuples and sets are fundamental data structures in Python, offering distinct properties and use cases. Here’s a comprehensive overview of their applications:\n",
        "\n",
        "Sets\n",
        "\n",
        "Unordered collections of unique elements\n",
        "Create sets using curly braces {} and separating elements with commas, e.g., {1, 2, 3}\n",
        "Access set elements using iteration or built-in methods:\n",
        "Loop through a set using a for loop\n",
        "Check if an element is in a set using the in keyword\n",
        "Use cases:\n",
        "Store and manipulate collections of unique elements, such as a set of unique customer IDs\n",
        "Perform set operations:\n",
        "Union: set1 | set2\n",
        "Intersection: set1 & set2\n",
        "Difference: set1 - set2\n",
        "As a data structure for efficient membership testing and eliminating duplicates"
      ],
      "metadata": {
        "id": "DGCYe1pgCBwu"
      }
    },
    {
      "cell_type": "markdown",
      "source": [
        "tuple\n",
        "\n",
        "---\n",
        "\n"
      ],
      "metadata": {
        "id": "byskoEyFEO8U"
      }
    },
    {
      "cell_type": "code",
      "source": [
        "people = {\"Noddy\", \"Shin\", \"Dora\"}\n",
        "students = {\"sam\", \"sama\"}tup1 = ('sam', 'sam2', 'sam3', 113, 116);\n",
        "tup2 = (1, 2, 3, 4, 5, 6, 7 );\n",
        "print(tup1[2])\n",
        "print(tup2[2:5])"
      ],
      "metadata": {
        "colab": {
          "base_uri": "https://localhost:8080/"
        },
        "id": "_Z23LYK-Ct-v",
        "outputId": "c193c156-e7ee-4fd5-f4aa-ce5018c5c415"
      },
      "execution_count": null,
      "outputs": [
        {
          "output_type": "stream",
          "name": "stdout",
          "text": [
            "sam3\n",
            "(3, 4, 5)\n"
          ]
        }
      ]
    },
    {
      "cell_type": "code",
      "source": [
        "tup1 = (12, 25.378);\n",
        "tup2 = ('abc', 'xyz');\n",
        "\n",
        "# create a new tuple as follows\n",
        "tup3 = tup1 + tup2\n",
        "print (tup3)"
      ],
      "metadata": {
        "id": "aGeM-I_GDCuT",
        "outputId": "1b91d8e7-8779-4930-c265-147ab05d0b42",
        "colab": {
          "base_uri": "https://localhost:8080/"
        }
      },
      "execution_count": null,
      "outputs": [
        {
          "output_type": "stream",
          "name": "stdout",
          "text": [
            "(12, 25.378, 'abc', 'xyz')\n"
          ]
        }
      ]
    },
    {
      "cell_type": "code",
      "source": [
        "tup = ('noddy', 'doraemon', 12, 24);\n",
        "print(tup)\n",
        "del tup\n",
        "print(\"After deleting tup : \")\n",
        "print(tup)"
      ],
      "metadata": {
        "id": "cN6RiaHBDTMq",
        "colab": {
          "base_uri": "https://localhost:8080/",
          "height": 211
        },
        "outputId": "d5b1b75b-94aa-447f-ecb7-436798c23f72"
      },
      "execution_count": null,
      "outputs": [
        {
          "output_type": "stream",
          "name": "stdout",
          "text": [
            "('noddy', 'doraemon', 12, 24)\n",
            "After deleting tup : \n"
          ]
        },
        {
          "output_type": "error",
          "ename": "NameError",
          "evalue": "name 'tup' is not defined",
          "traceback": [
            "\u001b[0;31m---------------------------------------------------------------------------\u001b[0m",
            "\u001b[0;31mNameError\u001b[0m                                 Traceback (most recent call last)",
            "\u001b[0;32m<ipython-input-3-9a3afd9628dc>\u001b[0m in \u001b[0;36m<cell line: 5>\u001b[0;34m()\u001b[0m\n\u001b[1;32m      3\u001b[0m \u001b[0;32mdel\u001b[0m \u001b[0mtup\u001b[0m\u001b[0;34m\u001b[0m\u001b[0;34m\u001b[0m\u001b[0m\n\u001b[1;32m      4\u001b[0m \u001b[0mprint\u001b[0m\u001b[0;34m(\u001b[0m\u001b[0;34m\"After deleting tup : \"\u001b[0m\u001b[0;34m)\u001b[0m\u001b[0;34m\u001b[0m\u001b[0;34m\u001b[0m\u001b[0m\n\u001b[0;32m----> 5\u001b[0;31m \u001b[0mprint\u001b[0m\u001b[0;34m(\u001b[0m\u001b[0mtup\u001b[0m\u001b[0;34m)\u001b[0m\u001b[0;34m\u001b[0m\u001b[0;34m\u001b[0m\u001b[0m\n\u001b[0m",
            "\u001b[0;31mNameError\u001b[0m: name 'tup' is not defined"
          ]
        }
      ]
    },
    {
      "cell_type": "markdown",
      "source": [
        "#sets\n",
        "\n",
        "---\n",
        "\n"
      ],
      "metadata": {
        "id": "oUfh8ECEEKH7"
      }
    },
    {
      "cell_type": "code",
      "source": [
        "people = {\"Oswald\", \"Doraemon\", \"Noddy\"}\n",
        "\n",
        "print(\"People:\", end = \" \")\n",
        "print(people)\n"
      ],
      "metadata": {
        "colab": {
          "base_uri": "https://localhost:8080/"
        },
        "id": "awtGEFkLDi0S",
        "outputId": "a14a006b-4f10-4f66-e1c4-19910e626832"
      },
      "execution_count": null,
      "outputs": [
        {
          "output_type": "stream",
          "name": "stdout",
          "text": [
            "People: {'Noddy', 'Doraemon', 'Oswald'}\n"
          ]
        }
      ]
    },
    {
      "cell_type": "code",
      "source": [
        "people.add(\"Shinchan\")\n",
        "print(\"\\nSet after adding element:\", end = \" \")\n",
        "print(people)"
      ],
      "metadata": {
        "colab": {
          "base_uri": "https://localhost:8080/"
        },
        "id": "Ys2AvvB8Dw4t",
        "outputId": "387d9d6d-a0a7-4b6b-845c-cdc4c326a1b7"
      },
      "execution_count": null,
      "outputs": [
        {
          "output_type": "stream",
          "name": "stdout",
          "text": [
            "\n",
            "Set after adding element: {'Noddy', 'Doraemon', 'Shinchan', 'Oswald'}\n"
          ]
        }
      ]
    },
    {
      "cell_type": "code",
      "source": [
        "people = {\"Noddy\", \"Shin\", \"Dora\"}\n",
        "students = {\"sam\", \"sama\"}\n",
        "population = people.union(students) #union\n",
        "\n",
        "print(population)"
      ],
      "metadata": {
        "colab": {
          "base_uri": "https://localhost:8080/"
        },
        "id": "HppdUo2VEArD",
        "outputId": "d81ee32d-0834-4678-8148-7e8339f08f6f"
      },
      "execution_count": null,
      "outputs": [
        {
          "output_type": "stream",
          "name": "stdout",
          "text": [
            "{'Shin', 'Dora', 'sam', 'Noddy', 'sama'}\n"
          ]
        }
      ]
    },
    {
      "cell_type": "code",
      "source": [
        "set1 = {\"shin\", \"dora\", \"cat\"}\n",
        "set2 = {\"shin\", \"cat\", \"dog\", \"lion\"}\n",
        "\n",
        "new_set = set1.intersection(set2)\n",
        "print(new_set)"
      ],
      "metadata": {
        "colab": {
          "base_uri": "https://localhost:8080/"
        },
        "id": "kTzpqMUeEZ56",
        "outputId": "960afe2b-73df-448d-d941-f42373727830"
      },
      "execution_count": null,
      "outputs": [
        {
          "output_type": "stream",
          "name": "stdout",
          "text": [
            "{'cat', 'shin'}\n"
          ]
        }
      ]
    },
    {
      "cell_type": "code",
      "source": [
        "set1 = {2,4,6,8,10}\n",
        "set2 = {4,6,8,12,14}\n",
        "\n",
        "# Difference of two sets >> using difference function\n",
        "new_set = set1.difference(set2)\n",
        "\n",
        "print(new_set)"
      ],
      "metadata": {
        "colab": {
          "base_uri": "https://localhost:8080/"
        },
        "id": "7UoxlnUkEjH-",
        "outputId": "6d294ca0-8de5-4d43-ee33-cafae07ba522"
      },
      "execution_count": null,
      "outputs": [
        {
          "output_type": "stream",
          "name": "stdout",
          "text": [
            "{2, 10}\n"
          ]
        }
      ]
    },
    {
      "cell_type": "code",
      "source": [],
      "metadata": {
        "id": "7iQ5cUsyEnez"
      },
      "execution_count": null,
      "outputs": []
    },
    {
      "cell_type": "markdown",
      "source": [
        "**there are two main issues with Python sets**:\n",
        "\n",
        "The set doesn’t maintain elements in any particular order.\n",
        "\n",
        "Only immutable types can be added to a Python set.\n",
        "\n",
        "---\n",
        "\n",
        "\n",
        "\n",
        "**Advantages of Tuples**\n",
        "\n",
        "A) Tuples have a better overall performance boost.\n",
        "\n",
        "B) Tuples have elements that can be used as a key in a dictionary.\n",
        "\n",
        "C) Tuples are used to store Values of different data types.\n",
        "\n",
        "D) Tuples are used to format strings."
      ],
      "metadata": {
        "id": "qH0QOndkE5GI"
      }
    },
    {
      "cell_type": "markdown",
      "source": [
        "Basically, tuples are a sequence of objects, whereas sets are a collection of objects in any order. This means that tuples are, more or less, ordered sets."
      ],
      "metadata": {
        "id": "L9lz56zUFThG"
      }
    },
    {
      "cell_type": "markdown",
      "source": [
        " **Describe how to add , modify and delete items in a dictionary with examples**"
      ],
      "metadata": {
        "id": "KSBdcqJGFgZ8"
      }
    },
    {
      "cell_type": "markdown",
      "source": [
        "Dictionaries are used to store data values in key:value pairs.\n",
        "\n",
        "A dictionary is a collection which is ordered*, changeable and do not allow duplicates.Dictionaries are used to store data values in key:value pairs.\n",
        "\n",
        "A dictionary is a collection which is ordered*, changeable and do not allow duplicates.\n",
        "\n",
        "\n",
        "Dictionary items are ordered, changeable, and do not allow duplicates.\n",
        "\n",
        "Dictionary items are presented in key:value pairs, and can be referred to by using the key name."
      ],
      "metadata": {
        "id": "viDSjbjyGSNw"
      }
    },
    {
      "cell_type": "code",
      "source": [
        "thisdict = {\n",
        "  \"brand\": \"Ford\",\n",
        "  \"model\": \"Mustang\",\n",
        "  \"year\": 1964\n",
        "}\n",
        "print(thisdict[\"brand\"])"
      ],
      "metadata": {
        "colab": {
          "base_uri": "https://localhost:8080/"
        },
        "id": "7QiXJ_XaGekk",
        "outputId": "1272fb78-3887-418f-968f-2eb3e21dcd54"
      },
      "execution_count": null,
      "outputs": [
        {
          "output_type": "stream",
          "name": "stdout",
          "text": [
            "Ford\n"
          ]
        }
      ]
    },
    {
      "cell_type": "code",
      "source": [
        "thisdict = {            #Adding Items : Adding an item to the dictionary is done by using a new index key and assigning a value to it:\n",
        "  \"brand\": \"Ford\",\n",
        "  \"model\": \"Mustang\",\n",
        "  \"year\": 1964\n",
        "}\n",
        "thisdict[\"color\"] = \"red\"\n",
        "print(thisdict)"
      ],
      "metadata": {
        "colab": {
          "base_uri": "https://localhost:8080/"
        },
        "id": "pavgw2WyGfG5",
        "outputId": "bb6379b8-bf17-4b78-c5a7-58ca6ee9a64a"
      },
      "execution_count": null,
      "outputs": [
        {
          "output_type": "stream",
          "name": "stdout",
          "text": [
            "{'brand': 'Ford', 'model': 'Mustang', 'year': 1964, 'color': 'red'}\n"
          ]
        }
      ]
    },
    {
      "cell_type": "code",
      "source": [
        "#Update Dictionary\n",
        "#The update() method will update the dictionary with the items from a given argument. If the item does not exist, the item will be added.\n",
        "\n",
        "#The argument must be a dictionary, or an iterable object with key:value pairs.\n",
        "\n"
      ],
      "metadata": {
        "id": "LmF670CZG2At"
      },
      "execution_count": null,
      "outputs": []
    },
    {
      "cell_type": "code",
      "source": [
        "thisdict = {\n",
        "  \"brand\": \"Ford\",\n",
        "  \"model\": \"Mustang\",\n",
        "  \"year\": 1964\n",
        "}\n",
        "thisdict.update({\"color\": \"red\"})\n",
        "\n",
        "print(thisdict)"
      ],
      "metadata": {
        "colab": {
          "base_uri": "https://localhost:8080/"
        },
        "id": "uAcbQPlPH4ga",
        "outputId": "694c6b03-0185-4d86-b9a2-6f1bd543e71b"
      },
      "execution_count": null,
      "outputs": [
        {
          "output_type": "stream",
          "name": "stdout",
          "text": [
            "{'brand': 'Ford', 'model': 'Mustang', 'year': 1964, 'color': 'red'}\n"
          ]
        }
      ]
    },
    {
      "cell_type": "code",
      "source": [
        "thisdict = {   #removes\n",
        "  \"brand\": \"Ford\",\n",
        "  \"model\": \"Mustang\",\n",
        "  \"year\": 1964\n",
        "}\n",
        "thisdict.pop(\"model\")\n",
        "print(thisdict)\n",
        "\n"
      ],
      "metadata": {
        "colab": {
          "base_uri": "https://localhost:8080/"
        },
        "id": "SDOEYlyXHJXg",
        "outputId": "24e709ed-d7eb-4c6c-9f62-6f6ac032388b"
      },
      "execution_count": null,
      "outputs": [
        {
          "output_type": "stream",
          "name": "stdout",
          "text": [
            "{'brand': 'Ford', 'year': 1964}\n"
          ]
        }
      ]
    },
    {
      "cell_type": "code",
      "source": [
        "thisdict = {\n",
        "  \"brand\": \"Ford\",   #removes\n",
        "  \"model\": \"Mustang\",\n",
        "  \"year\": 1964\n",
        "}\n",
        "thisdict.popitem()\n",
        "print(thisdict)\n"
      ],
      "metadata": {
        "colab": {
          "base_uri": "https://localhost:8080/"
        },
        "id": "FViht6VuHP3r",
        "outputId": "c82b8050-c7a9-47a3-e8a3-211f07a2ed3f"
      },
      "execution_count": null,
      "outputs": [
        {
          "output_type": "stream",
          "name": "stdout",
          "text": [
            "{'brand': 'Ford', 'model': 'Mustang'}\n"
          ]
        }
      ]
    },
    {
      "cell_type": "code",
      "source": [
        "thisdict = {\n",
        "  \"brand\": \"Ford\",   #removes\n",
        "  \"model\": \"Mustang\",\n",
        "  \"year\": 1964\n",
        "}\n",
        "del thisdict[\"model\"]\n",
        "print(thisdict)"
      ],
      "metadata": {
        "colab": {
          "base_uri": "https://localhost:8080/"
        },
        "id": "AErttd2HHlJO",
        "outputId": "e83f86c4-519a-4510-f878-6f895c8ab01c"
      },
      "execution_count": null,
      "outputs": [
        {
          "output_type": "stream",
          "name": "stdout",
          "text": [
            "{'brand': 'Ford', 'year': 1964}\n"
          ]
        }
      ]
    },
    {
      "cell_type": "code",
      "source": [
        "thisdict = {\n",
        "  \"brand\": \"Ford\",\n",
        "  \"model\": \"Mustang\",   #removes\n",
        "  \"year\": 1964\n",
        "}\n",
        "thisdict.clear()\n",
        "print(thisdict)"
      ],
      "metadata": {
        "colab": {
          "base_uri": "https://localhost:8080/"
        },
        "id": "fkLkkQHLI14P",
        "outputId": "c48a8222-bcf0-497b-ec94-ccdbbdf4972a"
      },
      "execution_count": null,
      "outputs": [
        {
          "output_type": "stream",
          "name": "stdout",
          "text": [
            "{}\n"
          ]
        }
      ]
    },
    {
      "cell_type": "code",
      "source": [
        "thisdict =\t{\n",
        "  \"brand\": \"Ford\",   #modify\n",
        "  \"model\": \"Mustang\",\n",
        "  \"year\": 1964\n",
        "}\n",
        "\n",
        "thisdict[\"year\"] = 2018\n",
        "\n",
        "print(thisdict)"
      ],
      "metadata": {
        "id": "whc5NkJ1I6rv",
        "colab": {
          "base_uri": "https://localhost:8080/"
        },
        "outputId": "47f99231-e880-4ac2-af38-db131f69265d"
      },
      "execution_count": null,
      "outputs": [
        {
          "output_type": "stream",
          "name": "stdout",
          "text": [
            "{'brand': 'Ford', 'model': 'Mustang', 'year': 2018}\n"
          ]
        }
      ]
    },
    {
      "cell_type": "markdown",
      "source": [
        " Discuss the importance of dictionary keys being immutable and provide examples."
      ],
      "metadata": {
        "id": "AfD54WPQJ3li"
      }
    },
    {
      "cell_type": "markdown",
      "source": [
        "Immutable dictionary keys are crucial in Python due to two primary reasons: implementation and stability.\n",
        "\n",
        "From an implementation perspective, dictionaries are stored as hash tables. Each key is hashed to an index in the table, and its corresponding value is stored at that index. The hash function depends on the object’s value, which means that if two objects are equal but not identical (i.e., they have different memory addresses), they would produce different hash values. If dictionary keys were mutable, this could lead to unpredictable behavior, as the hash values would change over time.\n",
        "\n",
        "Stability is the second reason for immutable dictionary keys. In a large and complex program, it’s crucial to ensure that dictionary keys remain consistent throughout the execution. If keys were mutable, it would be challenging to maintain this consistency, as keys could change unexpectedly. This could lead to bugs and errors, making the code harder to debug and maintain.\n",
        "\n",
        "\n"
      ],
      "metadata": {
        "id": "iKs5oKj9Ki2a"
      }
    },
    {
      "cell_type": "code",
      "source": [
        "Dict = {1: 'age', 2: 'gender', 3: 'name'}\n",
        "print(Dict)\n"
      ],
      "metadata": {
        "colab": {
          "base_uri": "https://localhost:8080/"
        },
        "id": "-GJp98G1pYnk",
        "outputId": "e111546b-3f27-4fd0-e84a-40fcd1dd5a3c"
      },
      "execution_count": 2,
      "outputs": [
        {
          "output_type": "stream",
          "name": "stdout",
          "text": [
            "{1: 'age', 2: 'gender', 3: 'name'}\n"
          ]
        }
      ]
    },
    {
      "cell_type": "code",
      "source": [
        "dict1 ={'Name':'Steve', 'Age':30, 'Designation':'Programmer'}\n",
        "\n",
        "print(\"Dictionary:\", dict1)\n",
        "print(\"Length of dictionary:\", len(dict1))"
      ],
      "metadata": {
        "colab": {
          "base_uri": "https://localhost:8080/"
        },
        "id": "StwQvdXPpe6r",
        "outputId": "33ed26fb-99d5-44c4-811f-5b087a136b17"
      },
      "execution_count": 3,
      "outputs": [
        {
          "output_type": "stream",
          "name": "stdout",
          "text": [
            "Dictionary: {'Name': 'Steve', 'Age': 30, 'Designation': 'Programmer'}\n",
            "Length of dictionary: 3\n"
          ]
        }
      ]
    },
    {
      "cell_type": "code",
      "source": [
        "\n",
        "ini_dict = {'nikhil': 1, 'vashu': 5,\n",
        "            'manjeet': 10, 'akshat': 15}\n",
        "\n",
        "print(\"initial 1st dictionary\", ini_dict)\n",
        "\n",
        "# changing keys of dictionary >> mutable\n",
        "ini_dict['akash'] = ini_dict['akshat']\n",
        "del ini_dict['akshat']\n",
        "\n",
        "\n",
        "print(\"final dictionary\", str(ini_dict))"
      ],
      "metadata": {
        "colab": {
          "base_uri": "https://localhost:8080/"
        },
        "id": "UoPiATG8qAbb",
        "outputId": "6c54ea5c-7528-405e-e623-90c7bb78f22c"
      },
      "execution_count": 4,
      "outputs": [
        {
          "output_type": "stream",
          "name": "stdout",
          "text": [
            "initial 1st dictionary {'nikhil': 1, 'vashu': 5, 'manjeet': 10, 'akshat': 15}\n",
            "final dictionary {'nikhil': 1, 'vashu': 5, 'manjeet': 10, 'akash': 15}\n"
          ]
        }
      ]
    },
    {
      "cell_type": "code",
      "source": [
        "\n",
        "ini_dict = {'nikhil': 1, 'vashu': 5,\n",
        "            'manjeet': 10, 'akshat': 15}\n",
        "\n",
        "print(\"initial 1st dictionary\", ini_dict)\n",
        "\n",
        "ini_dict['akash'] = ini_dict['akshat']\n",
        " #if we do  not delete then the result will be this :\n",
        "\n",
        "print(\"final dictionary\", (ini_dict))"
      ],
      "metadata": {
        "colab": {
          "base_uri": "https://localhost:8080/"
        },
        "id": "bLD5AT_GqhJr",
        "outputId": "0c8b1c74-a66b-492a-e344-1cfaf12e4435"
      },
      "execution_count": 6,
      "outputs": [
        {
          "output_type": "stream",
          "name": "stdout",
          "text": [
            "initial 1st dictionary {'nikhil': 1, 'vashu': 5, 'manjeet': 10, 'akshat': 15}\n",
            "final dictionary {'nikhil': 1, 'vashu': 5, 'manjeet': 10, 'akshat': 15, 'akash': 15}\n"
          ]
        }
      ]
    },
    {
      "cell_type": "code",
      "source": [
        "# WHERE DICTIONARY IS IMMUTABLE"
      ],
      "metadata": {
        "id": "3E61s_Htt8-V"
      },
      "execution_count": 37,
      "outputs": []
    },
    {
      "cell_type": "code",
      "source": [
        "#Frozen sets or frozensets: These are immutable sets, which can be used as dictionary keys. You can create a frozenset from a dictionary’s keys using frozenset(d.keys()).\n",
        "#Data classes with frozen instances: You can define a data class and create frozen instances using the dataclasses.frozen decorator. These frozen instances can be used as dictionary keys.\n",
        "#Tuples: Tuples are immutable, and you can use them as dictionary keys. However, tuples are not suitable for storing dynamic key-value pairs.\n",
        "\n",
        "\n",
        "\n",
        "d = {'a': 1, 'b': 2}\n",
        "frozen_keys = frozenset(d.keys())\n",
        "print(frozen_keys)  # frozenset({'a', 'b'})"
      ],
      "metadata": {
        "colab": {
          "base_uri": "https://localhost:8080/"
        },
        "id": "v06zgbmwuwvB",
        "outputId": "b679b270-2dcf-4347-805a-605990ac6ed2"
      },
      "execution_count": 38,
      "outputs": [
        {
          "output_type": "stream",
          "name": "stdout",
          "text": [
            "frozenset({'b', 'a'})\n"
          ]
        }
      ]
    },
    {
      "cell_type": "code",
      "source": [
        "tuples_as_keys = {(1, 2): 'value1', (3, 4): 'value2'}\n",
        "print(tuples_as_keys)  # {(1, 2): 'value1', ...}"
      ],
      "metadata": {
        "colab": {
          "base_uri": "https://localhost:8080/"
        },
        "id": "PhBJTL3DvAzr",
        "outputId": "1b0857ca-469b-420c-e2f6-37479d31a950"
      },
      "execution_count": 40,
      "outputs": [
        {
          "output_type": "stream",
          "name": "stdout",
          "text": [
            "{(1, 2): 'value1', (3, 4): 'value2'}\n"
          ]
        }
      ]
    },
    {
      "cell_type": "markdown",
      "source": [
        "example 1: Hash Table Lookup\n",
        "\n",
        "\n",
        "Consider a dictionary d = {'name': 'Alice', 'age': 30}. The keys 'name' and 'age' are immutable (strings), and their hash values are used to index the dictionary’s underlying hash table. If the key 'name' were mutable, its hash value could change, causing the dictionary to fail when looking up the associated value 'Alice'."
      ],
      "metadata": {
        "id": "0u31Bpg7xA-p"
      }
    },
    {
      "cell_type": "code",
      "source": [
        "d = {\"name\" : \"shubhi\" , \"age\":21}\n",
        "d"
      ],
      "metadata": {
        "colab": {
          "base_uri": "https://localhost:8080/"
        },
        "id": "FvTQj9GixICE",
        "outputId": "b2c103dd-0ddb-4108-f3f8-e88e17547e24"
      },
      "execution_count": 46,
      "outputs": [
        {
          "output_type": "execute_result",
          "data": {
            "text/plain": [
              "{'name': 'shubhi', 'age': 21}"
            ]
          },
          "metadata": {},
          "execution_count": 46
        }
      ]
    },
    {
      "cell_type": "code",
      "source": [
        "d[\"name\"] = \"ashu\"\n",
        "d"
      ],
      "metadata": {
        "colab": {
          "base_uri": "https://localhost:8080/"
        },
        "id": "DIKubgMuy8uQ",
        "outputId": "ad6fc7cf-bec9-4533-ed90-dbb460463593"
      },
      "execution_count": 47,
      "outputs": [
        {
          "output_type": "execute_result",
          "data": {
            "text/plain": [
              "{'name': 'ashu', 'age': 21}"
            ]
          },
          "metadata": {},
          "execution_count": 47
        }
      ]
    },
    {
      "cell_type": "code",
      "source": [
        "d[\"Name\"] = d[\"name\"]\n",
        "d"
      ],
      "metadata": {
        "colab": {
          "base_uri": "https://localhost:8080/"
        },
        "id": "66kLWrsVzFj5",
        "outputId": "554dac9a-9015-417c-b077-f42c0382a21f"
      },
      "execution_count": 52,
      "outputs": [
        {
          "output_type": "execute_result",
          "data": {
            "text/plain": [
              "{'name': 'ashu', 'age': 21, 0: 'NAME', 'Name': 'ashu'}"
            ]
          },
          "metadata": {},
          "execution_count": 52
        }
      ]
    },
    {
      "cell_type": "code",
      "source": [
        "#it is not changing the key >> either adding extra pair or can changing the values >> keys are immutable"
      ],
      "metadata": {
        "id": "mzbvl7kTzNAv"
      },
      "execution_count": 53,
      "outputs": []
    },
    {
      "cell_type": "code",
      "source": [],
      "metadata": {
        "id": "VxPnKp3Zz3X3"
      },
      "execution_count": null,
      "outputs": []
    }
  ]
}
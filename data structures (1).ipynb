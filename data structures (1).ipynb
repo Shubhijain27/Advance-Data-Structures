{
 "cells": [
  {
   "cell_type": "code",
   "execution_count": 60,
   "id": "10b600bb-e489-44bb-9be5-ce5f07eb4d33",
   "metadata": {},
   "outputs": [],
   "source": [
    "#data structures >> way of organising and storing data so that it can be accessed and manipluate data efficiently\n",
    "#list is an orderes cpllection of elements that can be of any data type \n",
    "#list are mutable \n",
    "# data structures >> syring , list , set , tuples , dictionary , array\n",
    "# lists >> you can store anything in list >> can store heterogeneous data  "
   ]
  },
  {
   "cell_type": "raw",
   "id": "b300f899-7236-4339-b694-e52cdf7f04f6",
   "metadata": {},
   "source": [
    "LIST "
   ]
  },
  {
   "cell_type": "code",
   "execution_count": 61,
   "id": "e6420c74-d070-4d5a-a2ed-9731d9d55f6e",
   "metadata": {},
   "outputs": [
    {
     "data": {
      "text/plain": [
       "[1, 2, 3, 4, 5]"
      ]
     },
     "execution_count": 61,
     "metadata": {},
     "output_type": "execute_result"
    }
   ],
   "source": [
    "num = [ 1 , 2 , 3 , 4 , 5 ]\n",
    "num"
   ]
  },
  {
   "cell_type": "code",
   "execution_count": 62,
   "id": "d2f2ae6d-a97d-41f2-a5e0-42c015ce42f1",
   "metadata": {},
   "outputs": [
    {
     "data": {
      "text/plain": [
       "list"
      ]
     },
     "execution_count": 62,
     "metadata": {},
     "output_type": "execute_result"
    }
   ],
   "source": [
    "type(num)"
   ]
  },
  {
   "cell_type": "code",
   "execution_count": 63,
   "id": "d94fbde2-c8c5-4459-a33c-c443b7debe74",
   "metadata": {},
   "outputs": [
    {
     "data": {
      "text/plain": [
       "1"
      ]
     },
     "execution_count": 63,
     "metadata": {},
     "output_type": "execute_result"
    }
   ],
   "source": [
    "num[0]"
   ]
  },
  {
   "cell_type": "code",
   "execution_count": 64,
   "id": "f4967c7d-6bf0-4a6d-9794-6062ba145869",
   "metadata": {},
   "outputs": [
    {
     "data": {
      "text/plain": [
       "5"
      ]
     },
     "execution_count": 64,
     "metadata": {},
     "output_type": "execute_result"
    }
   ],
   "source": [
    "num[-1]"
   ]
  },
  {
   "cell_type": "code",
   "execution_count": 65,
   "id": "26cc60d5-db12-4cb2-956b-1f704e0e4f25",
   "metadata": {},
   "outputs": [
    {
     "data": {
      "text/plain": [
       "5"
      ]
     },
     "execution_count": 65,
     "metadata": {},
     "output_type": "execute_result"
    }
   ],
   "source": [
    "num[4]"
   ]
  },
  {
   "cell_type": "code",
   "execution_count": 66,
   "id": "b4194e43-e8e8-4faf-bdf0-4dd7e3369c7e",
   "metadata": {},
   "outputs": [
    {
     "data": {
      "text/plain": [
       "[1, 2, 3, 'ajay', 'bijay', True, False, 5.6, (3+7j)]"
      ]
     },
     "execution_count": 66,
     "metadata": {},
     "output_type": "execute_result"
    }
   ],
   "source": [
    "a = [ 1, 2, 3, \"ajay\", \"bijay\",True, False , 5.6, 3+7j]\n",
    "a"
   ]
  },
  {
   "cell_type": "code",
   "execution_count": 67,
   "id": "2a34e55a-e6ae-4093-bc41-6717320083ca",
   "metadata": {},
   "outputs": [
    {
     "data": {
      "text/plain": [
       "list"
      ]
     },
     "execution_count": 67,
     "metadata": {},
     "output_type": "execute_result"
    }
   ],
   "source": [
    "type(a) # list can store any data type > hetreo. data structure "
   ]
  },
  {
   "cell_type": "code",
   "execution_count": 68,
   "id": "258e7f28-9dd7-4c78-abf8-1d02f8e9d572",
   "metadata": {},
   "outputs": [],
   "source": [
    "#adding elemenet to the list \n",
    "a.append(\"orange\")"
   ]
  },
  {
   "cell_type": "code",
   "execution_count": 69,
   "id": "df70d955-88be-438c-8aef-184e0b2b2e15",
   "metadata": {},
   "outputs": [
    {
     "data": {
      "text/plain": [
       "[1, 2, 3, 'ajay', 'bijay', True, False, 5.6, (3+7j), 'orange']"
      ]
     },
     "execution_count": 69,
     "metadata": {},
     "output_type": "execute_result"
    }
   ],
   "source": [
    "a"
   ]
  },
  {
   "cell_type": "code",
   "execution_count": 70,
   "id": "cb3a1b38-6590-40f0-bfa3-257494a4da28",
   "metadata": {},
   "outputs": [],
   "source": [
    "a.append(\"pwskills\") # to know about keyword u can click shift +tab >> u will get know about append use."
   ]
  },
  {
   "cell_type": "code",
   "execution_count": 71,
   "id": "2ebc9f07-2639-412f-9620-b58807a39d3d",
   "metadata": {},
   "outputs": [
    {
     "data": {
      "text/plain": [
       "[1, 2, 3, 'ajay', 'bijay', True, False, 5.6, (3+7j), 'orange', 'pwskills']"
      ]
     },
     "execution_count": 71,
     "metadata": {},
     "output_type": "execute_result"
    }
   ],
   "source": [
    "a"
   ]
  },
  {
   "cell_type": "code",
   "execution_count": 72,
   "id": "34681072-bbb3-4c28-93c5-35071856a73e",
   "metadata": {},
   "outputs": [
    {
     "data": {
      "text/plain": [
       "[1, 2, 3, 'ajay', 'bijay', True, 5.6, (3+7j), 'orange', 'pwskills']"
      ]
     },
     "execution_count": 72,
     "metadata": {},
     "output_type": "execute_result"
    }
   ],
   "source": [
    "#to remove any thing in list \n",
    "a.remove(False)\n",
    "a"
   ]
  },
  {
   "cell_type": "code",
   "execution_count": 73,
   "id": "53c3bf9b-8a06-4ec4-9157-8acb24c25492",
   "metadata": {},
   "outputs": [
    {
     "data": {
      "text/plain": [
       "[1, 2, 'shubh', 'ajay', 3]"
      ]
     },
     "execution_count": 73,
     "metadata": {},
     "output_type": "execute_result"
    }
   ],
   "source": [
    "a =[ 1, 2 , \"shubh\", \"ajay\",3]\n",
    "a\n"
   ]
  },
  {
   "cell_type": "code",
   "execution_count": 74,
   "id": "46c6cbbe-dcec-4883-9647-b4190c5a6247",
   "metadata": {},
   "outputs": [
    {
     "data": {
      "text/plain": [
       "[1, 2, 'shubh', 'ajay', 3, 'shubhi']"
      ]
     },
     "execution_count": 74,
     "metadata": {},
     "output_type": "execute_result"
    }
   ],
   "source": [
    "a.append(\"shubhi\")\n",
    "a"
   ]
  },
  {
   "cell_type": "code",
   "execution_count": 75,
   "id": "c28519c9-748e-4ef2-ad48-9d8473689a15",
   "metadata": {},
   "outputs": [
    {
     "data": {
      "text/plain": [
       "[1, 2, 'ajay', 3, 'shubhi']"
      ]
     },
     "execution_count": 75,
     "metadata": {},
     "output_type": "execute_result"
    }
   ],
   "source": [
    "a.remove(\"shubh\")\n",
    "a"
   ]
  },
  {
   "cell_type": "code",
   "execution_count": 76,
   "id": "210251c6-d885-4496-8ad2-3ec7dce00243",
   "metadata": {},
   "outputs": [],
   "source": [
    "a.append(\"shubhi\")"
   ]
  },
  {
   "cell_type": "code",
   "execution_count": 77,
   "id": "ced895e7-436e-4a90-9138-cd8ee8f090fe",
   "metadata": {},
   "outputs": [
    {
     "data": {
      "text/plain": [
       "[1, 2, 'ajay', 3, 'shubhi', 'shubhi']"
      ]
     },
     "execution_count": 77,
     "metadata": {},
     "output_type": "execute_result"
    }
   ],
   "source": [
    "a"
   ]
  },
  {
   "cell_type": "code",
   "execution_count": 78,
   "id": "19f01da3-a6ab-4082-984e-1a02b185972f",
   "metadata": {},
   "outputs": [
    {
     "data": {
      "text/plain": [
       "[1, 2, 'ajay', 3, 'shubhi']"
      ]
     },
     "execution_count": 78,
     "metadata": {},
     "output_type": "execute_result"
    }
   ],
   "source": [
    "a.remove(\"shubhi\")\n",
    "a"
   ]
  },
  {
   "cell_type": "code",
   "execution_count": 79,
   "id": "6dbf3b5d-f91f-48b2-913f-a8d0cf6594bf",
   "metadata": {},
   "outputs": [
    {
     "data": {
      "text/plain": [
       "[[1, 2, 3], [4, 5, 6], ['shubh', 'ashu']]"
      ]
     },
     "execution_count": 79,
     "metadata": {},
     "output_type": "execute_result"
    }
   ],
   "source": [
    "#list of list \n",
    "a = [ [1, 2, 3 ],[ 4, 5, 6 ],[\"shubh\",\"ashu\"]]\n",
    "a"
   ]
  },
  {
   "cell_type": "code",
   "execution_count": 80,
   "id": "b498daf0-9711-4978-a5e9-c7e140d81664",
   "metadata": {},
   "outputs": [
    {
     "data": {
      "text/plain": [
       "list"
      ]
     },
     "execution_count": 80,
     "metadata": {},
     "output_type": "execute_result"
    }
   ],
   "source": [
    "type(a)"
   ]
  },
  {
   "cell_type": "code",
   "execution_count": 81,
   "id": "86823c57-b61f-400d-98c8-439f018d0f8c",
   "metadata": {},
   "outputs": [
    {
     "data": {
      "text/plain": [
       "[1, 2, 3]"
      ]
     },
     "execution_count": 81,
     "metadata": {},
     "output_type": "execute_result"
    }
   ],
   "source": [
    "a[0]"
   ]
  },
  {
   "cell_type": "code",
   "execution_count": 82,
   "id": "5d723399-0d41-4bd0-93a6-b762a7a5c9d0",
   "metadata": {},
   "outputs": [
    {
     "data": {
      "text/plain": [
       "[4, 5, 6]"
      ]
     },
     "execution_count": 82,
     "metadata": {},
     "output_type": "execute_result"
    }
   ],
   "source": [
    "a[1]"
   ]
  },
  {
   "cell_type": "code",
   "execution_count": 83,
   "id": "1fbf5162-0de3-4d06-8d86-57e182b3c99f",
   "metadata": {},
   "outputs": [
    {
     "data": {
      "text/plain": [
       "3"
      ]
     },
     "execution_count": 83,
     "metadata": {},
     "output_type": "execute_result"
    }
   ],
   "source": [
    "a[0][2]"
   ]
  },
  {
   "cell_type": "code",
   "execution_count": 87,
   "id": "5334a17f-ccfb-4574-bd17-d366faa8d48e",
   "metadata": {},
   "outputs": [],
   "source": [
    "  #indexing in list of list # list is mutable >> changes in list can happen"
   ]
  },
  {
   "cell_type": "code",
   "execution_count": 94,
   "id": "e1d61abf-7875-457c-aa3a-9d09999d3753",
   "metadata": {},
   "outputs": [
    {
     "data": {
      "text/plain": [
       "[[1, 2, 3], [4, 5, 6], ['shubhi', 'ashu']]"
      ]
     },
     "execution_count": 94,
     "metadata": {},
     "output_type": "execute_result"
    }
   ],
   "source": [
    "a = [ [1, 2, 3 ],[ 4, 5, 6 ],[\"shubh\",\"ashu\"]]\n",
    "a[2][0]=\"shubhi\"\n",
    "a"
   ]
  },
  {
   "cell_type": "code",
   "execution_count": 89,
   "id": "6e6fcdfb-b5e3-4ed0-8316-2c095604d3e8",
   "metadata": {},
   "outputs": [],
   "source": [
    "a[1][0]= 7 "
   ]
  },
  {
   "cell_type": "code",
   "execution_count": 90,
   "id": "302b3aac-a84d-4482-91e2-0dba7fe4db0f",
   "metadata": {},
   "outputs": [
    {
     "data": {
      "text/plain": [
       "[[1, 2, 3], [7, 5, 6], ['shubh', 'ashu']]"
      ]
     },
     "execution_count": 90,
     "metadata": {},
     "output_type": "execute_result"
    }
   ],
   "source": [
    "a"
   ]
  },
  {
   "cell_type": "code",
   "execution_count": 99,
   "id": "a633e7f7-626a-400a-bf55-65d1e98642be",
   "metadata": {},
   "outputs": [
    {
     "name": "stdout",
     "output_type": "stream",
     "text": [
      "[1, 2, 3][4, 5, 6]['shubhi', 'ashu']"
     ]
    }
   ],
   "source": [
    "for i in a :\n",
    "    print(i , end =\"\")"
   ]
  },
  {
   "cell_type": "code",
   "execution_count": 100,
   "id": "26a894a7-b263-4202-a57c-c87c9f2d1567",
   "metadata": {},
   "outputs": [
    {
     "name": "stdout",
     "output_type": "stream",
     "text": [
      "[1, 2, 3]\n",
      "[4, 5, 6]\n",
      "['shubhi', 'ashu']\n"
     ]
    }
   ],
   "source": [
    "for i in a :\n",
    "    print(i)"
   ]
  },
  {
   "cell_type": "code",
   "execution_count": 102,
   "id": "bc992ba2-c1ad-4db7-8603-a69535ba6902",
   "metadata": {},
   "outputs": [
    {
     "data": {
      "text/plain": [
       "['apple', 'mango', 'pea']"
      ]
     },
     "execution_count": 102,
     "metadata": {},
     "output_type": "execute_result"
    }
   ],
   "source": [
    "shoppin_list= [ \"apple\" , \"mango\" , \"pea\"]\n",
    "shoppin_list"
   ]
  },
  {
   "cell_type": "code",
   "execution_count": 103,
   "id": "a17eddcd-ca4c-4546-a975-bc314a5592bb",
   "metadata": {},
   "outputs": [
    {
     "name": "stdout",
     "output_type": "stream",
     "text": [
      "apple mango pea "
     ]
    }
   ],
   "source": [
    "for item in shoppin_list:\n",
    "    print(item , end=\" \")"
   ]
  },
  {
   "cell_type": "code",
   "execution_count": 106,
   "id": "50a5701b-9e88-45b5-9650-80181ae0d3a8",
   "metadata": {},
   "outputs": [
    {
     "data": {
      "text/plain": [
       "(9, 10)"
      ]
     },
     "execution_count": 106,
     "metadata": {},
     "output_type": "execute_result"
    }
   ],
   "source": [
    "#tuple >> immutable \n",
    "point = (9,10)\n",
    "point"
   ]
  },
  {
   "cell_type": "code",
   "execution_count": 107,
   "id": "10316df3-9f61-484e-8905-bb2d9556f257",
   "metadata": {},
   "outputs": [
    {
     "data": {
      "text/plain": [
       "tuple"
      ]
     },
     "execution_count": 107,
     "metadata": {},
     "output_type": "execute_result"
    }
   ],
   "source": [
    "type(point)"
   ]
  },
  {
   "cell_type": "code",
   "execution_count": 108,
   "id": "c08df051-4df9-43f7-8cd7-cbf12c4b9c47",
   "metadata": {},
   "outputs": [],
   "source": [
    "#aadhar card , atm , emp id >> you dont want to change < you willl use tuple to store the data "
   ]
  },
  {
   "cell_type": "code",
   "execution_count": 109,
   "id": "10697692-f72f-4b04-9f1d-86a60029461b",
   "metadata": {},
   "outputs": [
    {
     "data": {
      "text/plain": [
       "(1, 2, 3.4, True, (3+8j), 'ajay')"
      ]
     },
     "execution_count": 109,
     "metadata": {},
     "output_type": "execute_result"
    }
   ],
   "source": [
    "t = (1, 2, 3.4, True, 3+8j, \"ajay\")#tuple can store hetreo data\n",
    "t"
   ]
  },
  {
   "cell_type": "code",
   "execution_count": 110,
   "id": "704ff9f4-df7e-4c7e-a5d0-a0704b52f945",
   "metadata": {},
   "outputs": [
    {
     "data": {
      "text/plain": [
       "tuple"
      ]
     },
     "execution_count": 110,
     "metadata": {},
     "output_type": "execute_result"
    }
   ],
   "source": [
    "type(t)"
   ]
  },
  {
   "cell_type": "code",
   "execution_count": 111,
   "id": "f6e35662-bcd4-4fad-bbe9-216ac8f0d1d4",
   "metadata": {},
   "outputs": [
    {
     "data": {
      "text/plain": [
       "tuple"
      ]
     },
     "execution_count": 111,
     "metadata": {},
     "output_type": "execute_result"
    }
   ],
   "source": [
    "emp_name = (\"ajay\", \"shubi\" , \"ashu\", \"sejal\")\n",
    "type(emp_name)"
   ]
  },
  {
   "cell_type": "code",
   "execution_count": 112,
   "id": "097a3a75-a91f-45bf-bd9e-af3bce195f0f",
   "metadata": {},
   "outputs": [
    {
     "data": {
      "text/plain": [
       "'ajay'"
      ]
     },
     "execution_count": 112,
     "metadata": {},
     "output_type": "execute_result"
    }
   ],
   "source": [
    "emp_name[0]"
   ]
  },
  {
   "cell_type": "code",
   "execution_count": 113,
   "id": "c7f10484-521b-425e-b063-833da400d43e",
   "metadata": {},
   "outputs": [
    {
     "data": {
      "text/plain": [
       "'sejal'"
      ]
     },
     "execution_count": 113,
     "metadata": {},
     "output_type": "execute_result"
    }
   ],
   "source": [
    "emp_name[-1]"
   ]
  },
  {
   "cell_type": "code",
   "execution_count": 114,
   "id": "8b1bcfaa-7e64-4fec-a053-dee452c28559",
   "metadata": {},
   "outputs": [
    {
     "ename": "TypeError",
     "evalue": "'tuple' object does not support item assignment",
     "output_type": "error",
     "traceback": [
      "\u001b[0;31m---------------------------------------------------------------------------\u001b[0m",
      "\u001b[0;31mTypeError\u001b[0m                                 Traceback (most recent call last)",
      "Cell \u001b[0;32mIn[114], line 1\u001b[0m\n\u001b[0;32m----> 1\u001b[0m \u001b[43memp_name\u001b[49m\u001b[43m[\u001b[49m\u001b[38;5;241;43m1\u001b[39;49m\u001b[43m]\u001b[49m\u001b[38;5;241m=\u001b[39m\u001b[38;5;124m\"\u001b[39m\u001b[38;5;124mnimit\u001b[39m\u001b[38;5;124m\"\u001b[39m\n",
      "\u001b[0;31mTypeError\u001b[0m: 'tuple' object does not support item assignment"
     ]
    }
   ],
   "source": [
    "emp_name[1]=\"nimit\""
   ]
  },
  {
   "cell_type": "code",
   "execution_count": 115,
   "id": "78dddcde-fb8f-4e73-a7b3-71214ecbeb6c",
   "metadata": {},
   "outputs": [],
   "source": [
    "#tuples are immutable >> cant change "
   ]
  },
  {
   "cell_type": "code",
   "execution_count": 116,
   "id": "4cd76b65-7a0d-4865-984b-dbce992503b7",
   "metadata": {},
   "outputs": [],
   "source": [
    "box1 = (\"a\",\"b\")\n",
    "box2 = (\"c\",\"D\")\n",
    "choc_bag= (box1,box2)"
   ]
  },
  {
   "cell_type": "code",
   "execution_count": 117,
   "id": "fbc156e3-ef3f-4187-9b41-0b61ecf1b38c",
   "metadata": {},
   "outputs": [
    {
     "data": {
      "text/plain": [
       "(('a', 'b'), ('c', 'D'))"
      ]
     },
     "execution_count": 117,
     "metadata": {},
     "output_type": "execute_result"
    }
   ],
   "source": [
    "choc_bag"
   ]
  },
  {
   "cell_type": "code",
   "execution_count": 118,
   "id": "55ab228e-4db4-4304-ae61-1279771116e2",
   "metadata": {},
   "outputs": [
    {
     "data": {
      "text/plain": [
       "tuple"
      ]
     },
     "execution_count": 118,
     "metadata": {},
     "output_type": "execute_result"
    }
   ],
   "source": [
    "type(choc_bag)"
   ]
  },
  {
   "cell_type": "code",
   "execution_count": 122,
   "id": "2a09a39d-a21e-4629-9885-3a83073d3e25",
   "metadata": {},
   "outputs": [
    {
     "name": "stdout",
     "output_type": "stream",
     "text": [
      "a\n",
      "b\n",
      "c\n",
      "D\n"
     ]
    }
   ],
   "source": [
    "for box in choc_bag:\n",
    "    for choc in box:\n",
    "        print(choc)"
   ]
  },
  {
   "cell_type": "code",
   "execution_count": 123,
   "id": "814ae8c2-f713-4e8e-b867-f14941b163c8",
   "metadata": {},
   "outputs": [
    {
     "name": "stdout",
     "output_type": "stream",
     "text": [
      "('a', 'b')\n",
      "('c', 'D')\n"
     ]
    }
   ],
   "source": [
    " for box in choc_bag :\n",
    "        print(box)\n",
    "        "
   ]
  },
  {
   "cell_type": "code",
   "execution_count": 124,
   "id": "cb286d3f-acb5-4911-9490-a55dd33eaea4",
   "metadata": {},
   "outputs": [],
   "source": [
    "#set >> unordered collection of unique elements"
   ]
  },
  {
   "cell_type": "code",
   "execution_count": 125,
   "id": "c9d876ef-1c49-4d14-8201-7efaa5537269",
   "metadata": {},
   "outputs": [
    {
     "data": {
      "text/plain": [
       "{'blue', 'orange', 'pink', 'red'}"
      ]
     },
     "execution_count": 125,
     "metadata": {},
     "output_type": "execute_result"
    }
   ],
   "source": [
    "s = {\"red\", \"orange\", \"pink\", \"blue\"}\n",
    "s"
   ]
  },
  {
   "cell_type": "code",
   "execution_count": 126,
   "id": "89e5f574-9873-40e5-b430-68009a8c3e8b",
   "metadata": {},
   "outputs": [
    {
     "data": {
      "text/plain": [
       "set"
      ]
     },
     "execution_count": 126,
     "metadata": {},
     "output_type": "execute_result"
    }
   ],
   "source": [
    "type(s)"
   ]
  },
  {
   "cell_type": "code",
   "execution_count": 127,
   "id": "aa4d6808-ccae-41e3-84dd-3eb2c3c92fa5",
   "metadata": {},
   "outputs": [
    {
     "data": {
      "text/plain": [
       "{'blue', 'orange', 'pink', 'red'}"
      ]
     },
     "execution_count": 127,
     "metadata": {},
     "output_type": "execute_result"
    }
   ],
   "source": [
    "s = {\"red\", \"orange\", \"pink\", \"blue\", \"orange\"} # are unoredered coolection of unique elemets\n",
    "s"
   ]
  },
  {
   "cell_type": "code",
   "execution_count": 132,
   "id": "a9a6da21-fde6-4b10-808c-f0f27f52265a",
   "metadata": {},
   "outputs": [
    {
     "data": {
      "text/plain": [
       "{1, 2, 'a', 'b'}"
      ]
     },
     "execution_count": 132,
     "metadata": {},
     "output_type": "execute_result"
    }
   ],
   "source": [
    "s = { \"a\" , \"b\", 1, 2, \"a\" , \"a\" }\n",
    "s"
   ]
  },
  {
   "cell_type": "code",
   "execution_count": 133,
   "id": "173ae8dd-9858-4b8b-b99a-387bf91dda94",
   "metadata": {},
   "outputs": [
    {
     "ename": "TypeError",
     "evalue": "'set' object is not subscriptable",
     "output_type": "error",
     "traceback": [
      "\u001b[0;31m---------------------------------------------------------------------------\u001b[0m",
      "\u001b[0;31mTypeError\u001b[0m                                 Traceback (most recent call last)",
      "Cell \u001b[0;32mIn[133], line 1\u001b[0m\n\u001b[0;32m----> 1\u001b[0m \u001b[43ms\u001b[49m\u001b[43m[\u001b[49m\u001b[38;5;241;43m0\u001b[39;49m\u001b[43m]\u001b[49m\n",
      "\u001b[0;31mTypeError\u001b[0m: 'set' object is not subscriptable"
     ]
    }
   ],
   "source": [
    "s[0]#error >> no concept of indexing as sets are unordered and unique "
   ]
  },
  {
   "cell_type": "code",
   "execution_count": 134,
   "id": "54041e24-d61b-4d37-abb3-26985e2c088d",
   "metadata": {},
   "outputs": [
    {
     "data": {
      "text/plain": [
       "{1, 2, 'a', 'b'}"
      ]
     },
     "execution_count": 134,
     "metadata": {},
     "output_type": "execute_result"
    }
   ],
   "source": [
    "s"
   ]
  },
  {
   "cell_type": "code",
   "execution_count": 135,
   "id": "28580e5c-3d60-4467-887e-6c865131ad6f",
   "metadata": {},
   "outputs": [],
   "source": [
    "s.add(\"kite\")"
   ]
  },
  {
   "cell_type": "code",
   "execution_count": 136,
   "id": "d48887a9-473d-46da-b9d1-898072cf61ae",
   "metadata": {},
   "outputs": [
    {
     "data": {
      "text/plain": [
       "{1, 2, 'a', 'b', 'kite'}"
      ]
     },
     "execution_count": 136,
     "metadata": {},
     "output_type": "execute_result"
    }
   ],
   "source": [
    "s # mutable sets >> changes "
   ]
  },
  {
   "cell_type": "code",
   "execution_count": 137,
   "id": "ff020ab2-f37d-4d93-9cdb-515051e1d77b",
   "metadata": {},
   "outputs": [],
   "source": [
    "s.remove(\"kite\")"
   ]
  },
  {
   "cell_type": "code",
   "execution_count": 138,
   "id": "a612c563-1b68-497c-8823-997fcaa94531",
   "metadata": {},
   "outputs": [
    {
     "data": {
      "text/plain": [
       "{1, 2, 'a', 'b'}"
      ]
     },
     "execution_count": 138,
     "metadata": {},
     "output_type": "execute_result"
    }
   ],
   "source": [
    "s"
   ]
  },
  {
   "cell_type": "code",
   "execution_count": 139,
   "id": "3b1ac344-71f5-4393-9407-cb436848ff9c",
   "metadata": {},
   "outputs": [
    {
     "data": {
      "text/plain": [
       "{'apple', 'banana', 'egg'}"
      ]
     },
     "execution_count": 139,
     "metadata": {},
     "output_type": "execute_result"
    }
   ],
   "source": [
    "#use case of sets >> to get unique elements\n",
    "grocer_list = {\"apple\" , \"banana\", \"banana\", \"egg\" , \"egg\"}\n",
    "grocer_list"
   ]
  },
  {
   "cell_type": "code",
   "execution_count": 140,
   "id": "273ccba6-6957-4100-85c2-61132bfb1027",
   "metadata": {},
   "outputs": [
    {
     "data": {
      "text/plain": [
       "dict"
      ]
     },
     "execution_count": 140,
     "metadata": {},
     "output_type": "execute_result"
    }
   ],
   "source": [
    "#dictionaries >> which stored data in the form of key value pair\n",
    "my_dict = {}\n",
    "type(my_dict)"
   ]
  },
  {
   "cell_type": "code",
   "execution_count": 142,
   "id": "d9f641a7-b965-4322-a80a-428861c571b2",
   "metadata": {},
   "outputs": [
    {
     "data": {
      "text/plain": [
       "{'dad': 780, 'mom': 450}"
      ]
     },
     "execution_count": 142,
     "metadata": {},
     "output_type": "execute_result"
    }
   ],
   "source": [
    "phonebook = {\"dad\" : 780 , \"mom\" : 450}\n",
    "phonebook "
   ]
  },
  {
   "cell_type": "code",
   "execution_count": 143,
   "id": "928e1222-af35-4b70-8403-400d42082193",
   "metadata": {},
   "outputs": [
    {
     "data": {
      "text/plain": [
       "dict"
      ]
     },
     "execution_count": 143,
     "metadata": {},
     "output_type": "execute_result"
    }
   ],
   "source": [
    "type(phonebook)"
   ]
  },
  {
   "cell_type": "code",
   "execution_count": 144,
   "id": "79eac789-b584-46a6-a57f-c4b2b91323cf",
   "metadata": {},
   "outputs": [
    {
     "data": {
      "text/plain": [
       "780"
      ]
     },
     "execution_count": 144,
     "metadata": {},
     "output_type": "execute_result"
    }
   ],
   "source": [
    "phonebook[\"dad\"]"
   ]
  },
  {
   "cell_type": "code",
   "execution_count": 145,
   "id": "217c0da7-08b7-43d4-add9-bb5cfe7d499e",
   "metadata": {},
   "outputs": [],
   "source": [
    "phonebook[\"dad\"] = 987"
   ]
  },
  {
   "cell_type": "code",
   "execution_count": 146,
   "id": "9f28ea1c-016c-429e-a545-ab7e984fbcef",
   "metadata": {},
   "outputs": [
    {
     "data": {
      "text/plain": [
       "{'dad': 987, 'mom': 450}"
      ]
     },
     "execution_count": 146,
     "metadata": {},
     "output_type": "execute_result"
    }
   ],
   "source": [
    "phonebook"
   ]
  },
  {
   "cell_type": "code",
   "execution_count": 147,
   "id": "7e13ea48-db0b-40e3-ae4c-9f0ccc3b4c43",
   "metadata": {},
   "outputs": [],
   "source": [
    "# dad and mom are keys >> they work as indexing >> same format "
   ]
  },
  {
   "cell_type": "code",
   "execution_count": 149,
   "id": "3616e086-fd98-452b-9556-83390e4e2247",
   "metadata": {},
   "outputs": [
    {
     "data": {
      "text/plain": [
       "dict_keys(['dad', 'mom'])"
      ]
     },
     "execution_count": 149,
     "metadata": {},
     "output_type": "execute_result"
    }
   ],
   "source": [
    "phonebook.keys()"
   ]
  },
  {
   "cell_type": "code",
   "execution_count": 150,
   "id": "44415e92-2c83-4aa6-8055-2438ed3b8037",
   "metadata": {},
   "outputs": [
    {
     "data": {
      "text/plain": [
       "dict_values([987, 450])"
      ]
     },
     "execution_count": 150,
     "metadata": {},
     "output_type": "execute_result"
    }
   ],
   "source": [
    "phonebook.values()"
   ]
  },
  {
   "cell_type": "code",
   "execution_count": 156,
   "id": "693b8065-3cb7-40a7-9c21-0eabef29e748",
   "metadata": {},
   "outputs": [
    {
     "data": {
      "text/plain": [
       "array('i', [1, 2, 3, 4])"
      ]
     },
     "execution_count": 156,
     "metadata": {},
     "output_type": "execute_result"
    }
   ],
   "source": [
    "#ARRAY >> FROM ARRAY IMPORT ARRAY\n",
    "#ARRAY IS SIMILAR TO LIST>> HOMOGENEOUS DATA \n",
    "from array import array\n",
    "array('i',[1,2,3,4])"
   ]
  },
  {
   "cell_type": "code",
   "execution_count": 161,
   "id": "92023f86-ea5d-4d98-96e5-48213127f3af",
   "metadata": {},
   "outputs": [
    {
     "data": {
      "text/plain": [
       "str"
      ]
     },
     "execution_count": 161,
     "metadata": {},
     "output_type": "execute_result"
    }
   ],
   "source": [
    "#string is immutable   \n",
    "s = \"shubhi\"\n",
    "type(s)"
   ]
  },
  {
   "cell_type": "code",
   "execution_count": 162,
   "id": "71e6451a-7b4f-4226-949d-b5f425b5331f",
   "metadata": {},
   "outputs": [
    {
     "name": "stdout",
     "output_type": "stream",
     "text": [
      "s\n",
      "h\n",
      "u\n",
      "b\n",
      "h\n",
      "i\n"
     ]
    }
   ],
   "source": [
    "for i in s :\n",
    "    print (i)"
   ]
  },
  {
   "cell_type": "code",
   "execution_count": 163,
   "id": "a61736dc-f4ed-4a91-8cc0-bee15fe3bd97",
   "metadata": {},
   "outputs": [
    {
     "data": {
      "text/plain": [
       "'s'"
      ]
     },
     "execution_count": 163,
     "metadata": {},
     "output_type": "execute_result"
    }
   ],
   "source": [
    "s[0]"
   ]
  },
  {
   "cell_type": "code",
   "execution_count": 164,
   "id": "17c41147-7f43-45ae-abeb-83d89f645769",
   "metadata": {},
   "outputs": [
    {
     "data": {
      "text/plain": [
       "'i'"
      ]
     },
     "execution_count": 164,
     "metadata": {},
     "output_type": "execute_result"
    }
   ],
   "source": [
    "s[-1]"
   ]
  },
  {
   "cell_type": "code",
   "execution_count": 166,
   "id": "90b85dce-f684-4bf2-a68d-cd56d8076541",
   "metadata": {},
   "outputs": [
    {
     "ename": "TypeError",
     "evalue": "'str' object does not support item assignment",
     "output_type": "error",
     "traceback": [
      "\u001b[0;31m---------------------------------------------------------------------------\u001b[0m",
      "\u001b[0;31mTypeError\u001b[0m                                 Traceback (most recent call last)",
      "Cell \u001b[0;32mIn[166], line 1\u001b[0m\n\u001b[0;32m----> 1\u001b[0m \u001b[43ms\u001b[49m\u001b[43m[\u001b[49m\u001b[38;5;241;43m-\u001b[39;49m\u001b[38;5;241;43m1\u001b[39;49m\u001b[43m]\u001b[49m\u001b[38;5;241m=\u001b[39m \u001b[38;5;124m\"\u001b[39m\u001b[38;5;124mh\u001b[39m\u001b[38;5;124m\"\u001b[39m\n",
      "\u001b[0;31mTypeError\u001b[0m: 'str' object does not support item assignment"
     ]
    }
   ],
   "source": [
    "s[-1]= \"h\" #immutable "
   ]
  },
  {
   "cell_type": "code",
   "execution_count": null,
   "id": "8239e1e2-9fd8-4e94-8dce-f537d97c5b0a",
   "metadata": {},
   "outputs": [],
   "source": []
  }
 ],
 "metadata": {
  "kernelspec": {
   "display_name": "Python 3 (ipykernel)",
   "language": "python",
   "name": "python3"
  },
  "language_info": {
   "codemirror_mode": {
    "name": "ipython",
    "version": 3
   },
   "file_extension": ".py",
   "mimetype": "text/x-python",
   "name": "python",
   "nbconvert_exporter": "python",
   "pygments_lexer": "ipython3",
   "version": "3.10.8"
  }
 },
 "nbformat": 4,
 "nbformat_minor": 5
}

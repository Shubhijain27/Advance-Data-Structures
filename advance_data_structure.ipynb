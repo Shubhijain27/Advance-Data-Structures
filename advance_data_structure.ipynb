{
  "nbformat": 4,
  "nbformat_minor": 0,
  "metadata": {
    "colab": {
      "provenance": [],
      "authorship_tag": "ABX9TyPxvNwFUs+6uqHnUQ4XpJUQ",
      "include_colab_link": true
    },
    "kernelspec": {
      "name": "python3",
      "display_name": "Python 3"
    },
    "language_info": {
      "name": "python"
    }
  },
  "cells": [
    {
      "cell_type": "markdown",
      "metadata": {
        "id": "view-in-github",
        "colab_type": "text"
      },
      "source": [
        "<a href=\"https://colab.research.google.com/github/Shubhijain27/Advance-Data-Structures/blob/main/advance_data_structure.ipynb\" target=\"_parent\"><img src=\"https://colab.research.google.com/assets/colab-badge.svg\" alt=\"Open In Colab\"/></a>"
      ]
    },
    {
      "cell_type": "markdown",
      "source": [
        "\u0012 Write a code to reverse a string\u0012\n",
        "\n",
        "\u001c\u0012 Write a code to count the number of vowels in a string\u0012\n",
        "\n",
        "\n",
        "\u000b\u0012 Write a code to check if a given string is a palindrome or not\u0012\n",
        "\n",
        "\u0011\u0012 Write a code to check if two given strings are anagrams of each other\u0012\n",
        "\n",
        "\u0012 Write a code to find all occurrences of a given substring within another string\u0012\n",
        "\n",
        "\n",
        "\u0012 Write a code to perform basic string compression using the counts of repeated characters\u0012\n",
        "\n",
        "&\u0012 Write a code to determine if a string has all unique characters\u0012\n",
        "\n",
        "\b\u0012 Write a code to convert a given string to uppercase or lowercase\u0012\n",
        "\n",
        "\u0007\u0012 Write a code to count the number of words in a string\u0012\n",
        "\n",
        "\u0006\u0012 Write a code to concatenate two strings without using the + operator\n",
        "\n",
        "\n",
        "\n",
        "---\n",
        "\n",
        "\n",
        "\n",
        "---\n",
        "\n"
      ],
      "metadata": {
        "id": "nceNdkWcV7sQ"
      }
    },
    {
      "cell_type": "code",
      "source": [
        "#1\n",
        "s = \"HELLO\"\n",
        "reversed_s = s[::-1]\n",
        "print(reversed_s)\n",
        "print(s[::-1])"
      ],
      "metadata": {
        "colab": {
          "base_uri": "https://localhost:8080/"
        },
        "id": "v3_v2mOIWOat",
        "outputId": "142a55fc-626a-4b56-a9bc-59f6898637d0"
      },
      "execution_count": 3,
      "outputs": [
        {
          "output_type": "stream",
          "name": "stdout",
          "text": [
            "OLLEH\n",
            "OLLEH\n"
          ]
        }
      ]
    },
    {
      "cell_type": "code",
      "source": [
        "x = \"good morning\"\n",
        "vowels = \"aeiouAEIOU\"\n",
        "count = sum(x.count(vowel) for vowel in vowels)\n",
        "print(count)\n",
        "\n"
      ],
      "metadata": {
        "colab": {
          "base_uri": "https://localhost:8080/"
        },
        "id": "quwjNA7bXzYJ",
        "outputId": "bd02a22c-64d4-4509-8aba-ed59b2225774"
      },
      "execution_count": 5,
      "outputs": [
        {
          "output_type": "stream",
          "name": "stdout",
          "text": [
            "4\n"
          ]
        }
      ]
    },
    {
      "cell_type": "code",
      "source": [
        "s = \"hello world\"\n",
        "vowels = \"aeiouAEIOU\"\n",
        "count = 0\n",
        "for char in s:\n",
        "    if char in vowels:\n",
        "        count += 1\n",
        "print(count)\n"
      ],
      "metadata": {
        "colab": {
          "base_uri": "https://localhost:8080/"
        },
        "id": "h2-l3A1vY2Dz",
        "outputId": "5c2c1a2a-960d-44f6-a64c-f49d2ac65786"
      },
      "execution_count": 6,
      "outputs": [
        {
          "output_type": "stream",
          "name": "stdout",
          "text": [
            "3\n"
          ]
        }
      ]
    },
    {
      "cell_type": "code",
      "source": [
        "s = \"madam\"\n",
        "is_palindrome = s == s[::-1]\n",
        "print(is_palindrome)"
      ],
      "metadata": {
        "colab": {
          "base_uri": "https://localhost:8080/"
        },
        "id": "M_WFDTEDY_Kk",
        "outputId": "29bd1013-989c-4a69-d700-ea3bdf43965a"
      },
      "execution_count": 9,
      "outputs": [
        {
          "output_type": "stream",
          "name": "stdout",
          "text": [
            "True\n"
          ]
        }
      ]
    },
    {
      "cell_type": "code",
      "source": [
        "s = \"silent\"\n",
        "a = \"listen\"\n",
        "is_anagram = sorted(s) == sorted(a)\n",
        "print(is_anagram)\n"
      ],
      "metadata": {
        "colab": {
          "base_uri": "https://localhost:8080/"
        },
        "id": "N8YN7FUUaL0w",
        "outputId": "2ff852b6-541b-4174-c345-a1050b0363b5"
      },
      "execution_count": 14,
      "outputs": [
        {
          "output_type": "stream",
          "name": "stdout",
          "text": [
            "True\n"
          ]
        }
      ]
    },
    {
      "cell_type": "code",
      "source": [
        "s  = \"test test test test\"\n",
        "sub = \"test\"\n",
        "\n",
        "positions = []\n",
        "start = 0\n",
        "while True:\n",
        "    pos = s.find(sub, start)\n",
        "    if pos == -1:\n",
        "        break\n",
        "    positions.append(pos)\n",
        "    start = pos + len(sub)\n",
        "\n",
        "print(positions)"
      ],
      "metadata": {
        "colab": {
          "base_uri": "https://localhost:8080/"
        },
        "id": "fIDJKQpUavap",
        "outputId": "f099f306-9360-4ba9-89d7-1124dab4fb2c"
      },
      "execution_count": 20,
      "outputs": [
        {
          "output_type": "stream",
          "name": "stdout",
          "text": [
            "[0, 5, 10, 15]\n"
          ]
        }
      ]
    },
    {
      "cell_type": "code",
      "source": [
        "text = \"test test test\"\n",
        "sub = \"test\"\n",
        "start = 0\n",
        "while True:\n",
        "    index = text.find(sub, start)\n",
        "    if index == -1:\n",
        "        break\n",
        "    print(index)\n",
        "    start = index + 1\n"
      ],
      "metadata": {
        "colab": {
          "base_uri": "https://localhost:8080/"
        },
        "id": "rtykb6eqav1o",
        "outputId": "2631268e-6773-4f53-8894-c5d602160e6a"
      },
      "execution_count": 21,
      "outputs": [
        {
          "output_type": "stream",
          "name": "stdout",
          "text": [
            "0\n",
            "5\n",
            "10\n"
          ]
        }
      ]
    },
    {
      "cell_type": "code",
      "source": [
        "s = \"aabcccccaaa\"\n",
        "compressed = \"\"\n",
        "count = 1\n",
        "for i in range(1, len(s)):\n",
        "    if s[i] == s[i - 1]:\n",
        "        count += 1\n",
        "    else:\n",
        "        compressed += s[i - 1] + str(count)\n",
        "        count = 1\n",
        "compressed += s[-1] + str(count)\n",
        "print(compressed)\n"
      ],
      "metadata": {
        "colab": {
          "base_uri": "https://localhost:8080/"
        },
        "id": "x_ETwicbav4A",
        "outputId": "a03bafe2-d6ac-40eb-99e4-ba7caf6f71fb"
      },
      "execution_count": 23,
      "outputs": [
        {
          "output_type": "stream",
          "name": "stdout",
          "text": [
            "a2b1c5a3\n"
          ]
        }
      ]
    },
    {
      "cell_type": "code",
      "source": [
        "s = \"abcdef\"\n",
        "a = set(s)\n",
        "_isunique = len(a) == len(s)\n",
        "print(_isunique)"
      ],
      "metadata": {
        "colab": {
          "base_uri": "https://localhost:8080/"
        },
        "id": "5EU2ji26eMHc",
        "outputId": "3ff2f39b-60cd-4b2a-9ce1-316a35e48651"
      },
      "execution_count": 29,
      "outputs": [
        {
          "output_type": "stream",
          "name": "stdout",
          "text": [
            "True\n"
          ]
        }
      ]
    },
    {
      "cell_type": "code",
      "source": [
        "s = \"shubhi\"\n",
        "a = \"ashu\"\n",
        "upper_s = s.upper()\n",
        "lower_a = a.lower()\n",
        "print(upper_s)\n",
        "print(lower_a)"
      ],
      "metadata": {
        "colab": {
          "base_uri": "https://localhost:8080/"
        },
        "id": "QTdKv_ree3v6",
        "outputId": "9846aff8-2763-4a71-fdbe-b97fb901736b"
      },
      "execution_count": 33,
      "outputs": [
        {
          "output_type": "stream",
          "name": "stdout",
          "text": [
            "SHUBHI\n",
            "ashu\n"
          ]
        }
      ]
    },
    {
      "cell_type": "code",
      "source": [
        "s = \"welcome to the jungle\"\n",
        "word_count = len(s.split())\n",
        "print(word_count)"
      ],
      "metadata": {
        "colab": {
          "base_uri": "https://localhost:8080/"
        },
        "id": "XYoimiSngD3R",
        "outputId": "f6b914d4-736e-4f15-be3f-33ce348d76f6"
      },
      "execution_count": 39,
      "outputs": [
        {
          "output_type": "stream",
          "name": "stdout",
          "text": [
            "4\n"
          ]
        }
      ]
    },
    {
      "cell_type": "code",
      "source": [
        "s1 = \"Hello\"\n",
        "s2 = \"World\"\n",
        "concatenated = \"{} {}\".format(s1, s2)\n",
        "print(concatenated)\n",
        "\n",
        "#2nd method\n",
        "concat = f\"{s1} {s2}\"\n",
        "print(concat)\n",
        "\n",
        "#3rd\n",
        "words = [\"Hello\", \"World\"]\n",
        "result = \" \".join(words)\n",
        "print(result)  # Output: Hello World\n"
      ],
      "metadata": {
        "colab": {
          "base_uri": "https://localhost:8080/"
        },
        "id": "IrZ4fsb0gjes",
        "outputId": "a5fb8d63-b19c-408a-ab0d-708b7f4f3eb0"
      },
      "execution_count": 44,
      "outputs": [
        {
          "output_type": "stream",
          "name": "stdout",
          "text": [
            "Hello World\n",
            "Hello World\n",
            "Hello World\n"
          ]
        }
      ]
    },
    {
      "cell_type": "markdown",
      "source": [
        "\"\"\u0012 Write a code to remove all occurrences of a specific element from a list\u0012\n",
        "\n",
        "\"\u001c\u0012 Implement a code to find the second largest number in a given list of integers\u0012\n",
        "\n",
        "\"\u000b\u0012 Create a code to count the occurrences of each element in a list and return a dictionary with elements as\n",
        "keys and their counts as values\u0012\n",
        "\n",
        "\"\u0011\u0012 Write a code to reverse a list in-place without using any built-in reverse functions\u0012\n",
        "\n",
        "\"\t\u0012 Implement a code to find and remove duplicates from a list while preserving the original order of\n",
        "elements\u0012\n",
        "\n",
        "\"$\u0012 Create a code to check if a given list is sorted (either in ascending or descending order) or not\u0012\n",
        "\n",
        "\"&\u0012 Write a code to merge two sorted lists into a single sorted list\u0012\n",
        "\n",
        "\"\b\u0012 Implement a code to find the intersection of two given lists\u0012\n",
        "\n",
        "\"\u0007\u0012 Create a code to find the union of two lists without duplicates\u0012\n",
        "\n",
        "\u001c\u0006\u0012 Write a code to shuffle a given list randomly without using any built-in\n",
        "shuffle functions\u0012"
      ],
      "metadata": {
        "id": "ZHOc723Tjd9U"
      }
    },
    {
      "cell_type": "code",
      "source": [
        "lst = [1, 2, 3, 2, 4, 2, 5]\n",
        "val = 2\n",
        "lst = [x for x in lst if x != val]\n",
        "print(lst)\n",
        "\n"
      ],
      "metadata": {
        "colab": {
          "base_uri": "https://localhost:8080/"
        },
        "id": "FUE91quPjkgt",
        "outputId": "479147d5-8bc7-4763-b671-39e7b942bcda"
      },
      "execution_count": 49,
      "outputs": [
        {
          "output_type": "stream",
          "name": "stdout",
          "text": [
            "[1, 3, 4, 5]\n"
          ]
        }
      ]
    },
    {
      "cell_type": "code",
      "source": [
        "lst = [10, 20, 4, 45, 99]\n",
        "first = second = float('-inf')\n",
        "for num in lst:\n",
        "    if num > first:\n",
        "        second = first\n",
        "        first = num\n",
        "    elif first > num > second:\n",
        "        second = num\n",
        "print(second)\n",
        "\n",
        "#or\n",
        "my_list = [10, 20, 4, 45, 99]\n",
        "my_list.sort()\n",
        "print(\"Second largest number is:\", my_list[-2])\n",
        "\n",
        "#or\n",
        "my_list = [10, 20, 4, 45, 99]\n",
        "max_val = max(my_list)\n",
        "my_list.remove(max_val)\n",
        "second_largest = max(my_list)\n",
        "print(\"Second largest number is:\", second_largest)\n",
        "\n"
      ],
      "metadata": {
        "colab": {
          "base_uri": "https://localhost:8080/"
        },
        "id": "UyZGmdhtlslS",
        "outputId": "df69201e-2869-4b5b-f11b-3b7b9cf28999"
      },
      "execution_count": 51,
      "outputs": [
        {
          "output_type": "stream",
          "name": "stdout",
          "text": [
            "45\n",
            "Second largest number is: 45\n",
            "Second largest number is: 45\n"
          ]
        }
      ]
    },
    {
      "cell_type": "code",
      "source": [
        "lst = ['apple', 'banana', 'apple', 'orange', 'banana', 'banana']\n",
        "counts = {}\n",
        "for item in lst:\n",
        "    counts[item] = counts.get(item, 0) + 1\n",
        "print(counts)\n",
        "\n",
        "#or\n",
        "from collections import Counter\n",
        "\n",
        "my_list = ['apple', 'banana', 'apple', 'orange', 'banana', 'apple']\n",
        "counts = Counter(my_list)\n",
        "print(counts)\n",
        "\n",
        "#or\n",
        "\n",
        "my_list = ['apple', 'banana', 'apple', 'orange', 'banana', 'apple']\n",
        "counts = {}\n",
        "\n",
        "for item in my_list:\n",
        "    if item in counts:\n",
        "        counts[item] += 1\n",
        "    else:\n",
        "        counts[item] = 1\n",
        "\n",
        "print(counts)\n"
      ],
      "metadata": {
        "colab": {
          "base_uri": "https://localhost:8080/"
        },
        "id": "89WXDc5tmmAQ",
        "outputId": "56085b8e-2c5a-4581-e4d4-bdac353d3d3a"
      },
      "execution_count": 54,
      "outputs": [
        {
          "output_type": "stream",
          "name": "stdout",
          "text": [
            "{'apple': 2, 'banana': 3, 'orange': 1}\n",
            "Counter({'apple': 3, 'banana': 2, 'orange': 1})\n",
            "{'apple': 3, 'banana': 2, 'orange': 1}\n"
          ]
        }
      ]
    },
    {
      "cell_type": "code",
      "source": [
        "\n",
        "my_list = [1, 2, 3, 4, 5]\n",
        "# create a reversed copy with slicing, then overwrite entire list\n",
        "my_list[:] = my_list[::-1]\n",
        "print(my_list)  # [5, 4, 3, 2, 1]\n"
      ],
      "metadata": {
        "colab": {
          "base_uri": "https://localhost:8080/"
        },
        "id": "g05ubgMgoBrG",
        "outputId": "dbbdc7bb-f877-4afc-8b46-bc25357cd43c"
      },
      "execution_count": 56,
      "outputs": [
        {
          "output_type": "stream",
          "name": "stdout",
          "text": [
            "[5, 4, 3, 2, 1]\n",
            "[5, 4, 3, 2, 1]\n"
          ]
        }
      ]
    },
    {
      "cell_type": "code",
      "source": [
        "lst = [1, 2, 2, 3, 4, 3, 5]\n",
        "seen = set()\n",
        "result = []\n",
        "for item in lst:\n",
        "    if item not in seen:\n",
        "        seen.add(item)\n",
        "        result.append(item)\n",
        "print(result)\n",
        "\n",
        "my_list = [3, 5, 2, 3, 2, 4, 5, 1]\n",
        "# dict preserves insertion order as of Python 3.7\n",
        "my_list = list(dict.fromkeys(my_list))\n",
        "print(my_list)  # [3, 5, 2, 4, 1]\n"
      ],
      "metadata": {
        "colab": {
          "base_uri": "https://localhost:8080/"
        },
        "id": "bxH9nyhlo1jo",
        "outputId": "fa362f09-a325-48f9-c701-1c3b0bd01d06"
      },
      "execution_count": 57,
      "outputs": [
        {
          "output_type": "stream",
          "name": "stdout",
          "text": [
            "[1, 2, 3, 4, 5]\n",
            "[3, 5, 2, 4, 1]\n"
          ]
        }
      ]
    },
    {
      "cell_type": "code",
      "source": [
        "my_list = [1, 2, 3, 3, 5]\n",
        "\n",
        "if my_list == sorted(my_list):\n",
        "    print(\"Ascending\")\n",
        "elif my_list == sorted(my_list, reverse=True):\n",
        "    print(\"Descending\")\n",
        "else:\n",
        "    print(\"Not sorted\")\n"
      ],
      "metadata": {
        "colab": {
          "base_uri": "https://localhost:8080/"
        },
        "id": "Jcy31FoMqK4Z",
        "outputId": "218bb2fc-607a-4577-8e32-3817d74cf7e0"
      },
      "execution_count": 60,
      "outputs": [
        {
          "output_type": "stream",
          "name": "stdout",
          "text": [
            "Ascending\n"
          ]
        }
      ]
    },
    {
      "cell_type": "code",
      "source": [
        "a = [1, 3, 5, 7]\n",
        "b = [2, 4, 6, 8]\n",
        "\n",
        "merged = sorted(a + b)\n",
        "print(merged)  # [1, 2, 3, 4, 5, 6, 7, 8]\n"
      ],
      "metadata": {
        "colab": {
          "base_uri": "https://localhost:8080/"
        },
        "id": "hDE7MOHXqcR_",
        "outputId": "9f5ddcad-d87c-4e0e-ab94-5e89ec1ac262"
      },
      "execution_count": 64,
      "outputs": [
        {
          "output_type": "stream",
          "name": "stdout",
          "text": [
            "[1, 2, 3, 4, 5, 6, 7, 8]\n"
          ]
        }
      ]
    },
    {
      "cell_type": "code",
      "source": [
        "a = [1, 2, 3, 4]\n",
        "b = [3, 4, 5, 6]\n",
        "intersection = list(set(a) & set(b))\n",
        "print(intersection)\n"
      ],
      "metadata": {
        "colab": {
          "base_uri": "https://localhost:8080/"
        },
        "id": "p1hp5tzoq2ok",
        "outputId": "0fd2a552-c9c4-4807-b92e-150d0f0b5d22"
      },
      "execution_count": 65,
      "outputs": [
        {
          "output_type": "stream",
          "name": "stdout",
          "text": [
            "[3, 4]\n"
          ]
        }
      ]
    },
    {
      "cell_type": "code",
      "source": [
        "a = [1, 2, 3]\n",
        "b = [3, 4, 5]\n",
        "union = list(set(a + b))\n",
        "print(union)\n"
      ],
      "metadata": {
        "colab": {
          "base_uri": "https://localhost:8080/"
        },
        "id": "6bbOKmunrEJx",
        "outputId": "a83c93a6-6357-47d5-a34f-1b6d9cc43206"
      },
      "execution_count": 66,
      "outputs": [
        {
          "output_type": "stream",
          "name": "stdout",
          "text": [
            "[1, 2, 3, 4, 5]\n"
          ]
        }
      ]
    },
    {
      "cell_type": "code",
      "source": [
        "import random\n",
        "\n",
        "my_list = [1, 2, 3, 4, 5, 6, 7, 8]\n",
        "# sample the entire list without replacement, effectively shuffling\n",
        "shuffled = random.sample(my_list, k=len(my_list))\n",
        "\n",
        "print(shuffled)\n",
        "# original my_list remains unchanged\n",
        "\n",
        "\n",
        "import random\n",
        "\n",
        "my_list = [1, 2, 3, 4, 5, 6, 7, 8]\n",
        "shuffled = sorted(my_list, key=lambda _: random.random())\n",
        "\n",
        "print(shuffled)\n",
        "\n"
      ],
      "metadata": {
        "colab": {
          "base_uri": "https://localhost:8080/"
        },
        "id": "qJsaxsf0rfJ1",
        "outputId": "bcbef880-28e0-44ce-d5b3-70c0c6ece6e8"
      },
      "execution_count": 70,
      "outputs": [
        {
          "output_type": "stream",
          "name": "stdout",
          "text": [
            "[8, 2, 6, 1, 4, 3, 5, 7]\n",
            "[3, 8, 7, 1, 6, 2, 4, 5]\n"
          ]
        }
      ]
    },
    {
      "cell_type": "markdown",
      "source": [
        "\u001c\"\u0012 Write a code that takes two tuples as input and returns a new tuple containing elements that are\n",
        "common to both input tuples\u0012\n",
        "\n",
        "\u001c\u001c\u0012 Create a code that prompts the user to enter two sets of integers separated by commas. Then, print the\n",
        "intersection of these two sets\u0012\n",
        "\n",
        "\u001c\u000b\u0012 Write a code to concatenate two tuples. The function should take two tuples as input and return a new\n",
        "tuple containing elements from both input tuples.\n",
        "PWSkills\n",
        "\n",
        "'%& Develop a code that prompts the user to input two sets of strings. Then, print the elements that are\n",
        "present in the first set but not in the second set&\n",
        "\n",
        "'\u000b& Create a code that takes a tuple and two integers as input. The function should return a new tuple\n",
        "containing elements from the original tuple within the specified range of indices&\n",
        "\n",
        "'\u001f& Write a code that prompts the user to input two sets of characters. Then, print the union of these two sets&\n",
        "\n",
        "'*& Develop a code that takes a tuple of integers as input. The function should return the maximum and\n",
        "minimum values from the tuple using tuple unpacking&\n",
        "\n",
        "'\u0007& Create a code that defines two sets of integers. Then, print the union, intersection, and difference of these\n",
        "two sets&\n",
        "\n",
        "'\u0006& Write a code that takes a tuple and an element as input. The function should return the count of\n",
        "occurrences of the given element in the tuple&\n",
        "\n",
        "\n",
        "\u0005& Develop a code that prompts the user to input two"
      ],
      "metadata": {
        "id": "kg7jZgx_sRVF"
      }
    },
    {
      "cell_type": "code",
      "source": [
        "tuple1 = (1, 2, 3, 4, 5)\n",
        "tuple2 = (3, 4, 5, 6, 7)\n",
        "common_elements = tuple(set(tuple1) & set(tuple2))\n",
        "print(common_elements)\n"
      ],
      "metadata": {
        "colab": {
          "base_uri": "https://localhost:8080/"
        },
        "id": "8BnK1PsksRs-",
        "outputId": "a7ac9e3f-4475-4e64-c16a-6e994dc6fff3"
      },
      "execution_count": 71,
      "outputs": [
        {
          "output_type": "stream",
          "name": "stdout",
          "text": [
            "(3, 4, 5)\n"
          ]
        }
      ]
    },
    {
      "cell_type": "code",
      "source": [
        "set1 = set(map(int, input(\"Enter first set of integers separated by commas: \").split(',')))\n",
        "set2 = set(map(int, input(\"Enter second set of integers separated by commas: \").split(',')))\n",
        "intersection = set1 & set2\n",
        "print(\"Intersection:\", intersection)\n"
      ],
      "metadata": {
        "colab": {
          "base_uri": "https://localhost:8080/"
        },
        "id": "am8pkUeMsTxx",
        "outputId": "a2b49f89-7476-4fe5-a51e-300c59344540"
      },
      "execution_count": 73,
      "outputs": [
        {
          "output_type": "stream",
          "name": "stdout",
          "text": [
            "Enter first set of integers separated by commas: 1,2,3,4\n",
            "Enter second set of integers separated by commas: 3,4,5,6\n",
            "Intersection: {3, 4}\n"
          ]
        }
      ]
    },
    {
      "cell_type": "code",
      "source": [
        "tuple1 = (1, 2, 3)\n",
        "tuple2 = (4, 5, 6)\n",
        "concatenated = tuple1 + tuple2\n",
        "print(concatenated)\n"
      ],
      "metadata": {
        "colab": {
          "base_uri": "https://localhost:8080/"
        },
        "id": "W0Vf1ChPsTvM",
        "outputId": "f74a5708-f573-462b-bd7f-f29a6eca3d1d"
      },
      "execution_count": 74,
      "outputs": [
        {
          "output_type": "stream",
          "name": "stdout",
          "text": [
            "(1, 2, 3, 4, 5, 6)\n"
          ]
        }
      ]
    },
    {
      "cell_type": "code",
      "source": [
        "set1 = set(input(\"Enter first set of strings separated by commas: \").split(','))\n",
        "set2 = set(input(\"Enter second set of strings separated by commas: \").split(','))\n",
        "difference = set1 - set2\n",
        "print(\"Elements in the first set but not in the second:\", difference)\n"
      ],
      "metadata": {
        "colab": {
          "base_uri": "https://localhost:8080/"
        },
        "id": "T_c2MnibsuYy",
        "outputId": "2a9304c6-e66b-4041-af2d-a07feecec192"
      },
      "execution_count": 76,
      "outputs": [
        {
          "output_type": "stream",
          "name": "stdout",
          "text": [
            "Enter first set of strings separated by commas: apple,kiwi,cherry\n",
            "Enter second set of strings separated by commas: apple,banana\n",
            "Elements in the first set but not in the second: {'cherry', 'kiwi'}\n"
          ]
        }
      ]
    },
    {
      "cell_type": "code",
      "source": [
        "tuple1 = (10, 20, 30, 40, 50, 60)\n",
        "start_index = 2\n",
        "end_index = 5\n",
        "sliced_tuple = tuple1[start_index:end_index]\n",
        "print(sliced_tuple)\n"
      ],
      "metadata": {
        "colab": {
          "base_uri": "https://localhost:8080/"
        },
        "id": "gUuLlqfvs1dD",
        "outputId": "3862f06f-9407-4184-d83d-f2678a8ce878"
      },
      "execution_count": 77,
      "outputs": [
        {
          "output_type": "stream",
          "name": "stdout",
          "text": [
            "(30, 40, 50)\n"
          ]
        }
      ]
    },
    {
      "cell_type": "code",
      "source": [
        "set1 = set(input(\"Enter first set of characters (no separators): \"))\n",
        "set2 = set(input(\"Enter second set of characters (no separators): \"))\n",
        "union = set1 | set2\n",
        "print(\"Union of the two sets:\", union)\n"
      ],
      "metadata": {
        "colab": {
          "base_uri": "https://localhost:8080/"
        },
        "id": "0We-yJ3NtAjJ",
        "outputId": "9e1aa86e-90a3-4c8f-d6e0-b6e1538a1ace"
      },
      "execution_count": 78,
      "outputs": [
        {
          "output_type": "stream",
          "name": "stdout",
          "text": [
            "Enter first set of characters (no separators): abc\n",
            "Enter second set of characters (no separators): cde\n",
            "Union of the two sets: {'a', 'd', 'c', 'b', 'e'}\n"
          ]
        }
      ]
    },
    {
      "cell_type": "code",
      "source": [
        "tuple1 = (5, 10, 3, 8, 2)\n",
        "max_value = max(tuple1)\n",
        "min_value = min(tuple1)\n",
        "print(\"Maximum:\", max_value)\n",
        "print(\"Minimum:\", min_value)\n"
      ],
      "metadata": {
        "colab": {
          "base_uri": "https://localhost:8080/"
        },
        "id": "kJXog7katKMv",
        "outputId": "465e31e9-d92d-4df9-e7b2-aaadb8df93c6"
      },
      "execution_count": 79,
      "outputs": [
        {
          "output_type": "stream",
          "name": "stdout",
          "text": [
            "Maximum: 10\n",
            "Minimum: 2\n"
          ]
        }
      ]
    },
    {
      "cell_type": "code",
      "source": [
        "set1 = {1, 2, 3, 4}\n",
        "set2 = {3, 4, 5, 6}\n",
        "print(\"Union:\", set1 | set2)\n",
        "print(\"Intersection:\", set1 & set2)\n",
        "print(\"Difference (set1 - set2):\", set1 - set2)\n"
      ],
      "metadata": {
        "colab": {
          "base_uri": "https://localhost:8080/"
        },
        "id": "dI6waTMJtMq4",
        "outputId": "bdee9751-3291-4290-ea6f-4c68557b185f"
      },
      "execution_count": 80,
      "outputs": [
        {
          "output_type": "stream",
          "name": "stdout",
          "text": [
            "Union: {1, 2, 3, 4, 5, 6}\n",
            "Intersection: {3, 4}\n",
            "Difference (set1 - set2): {1, 2}\n"
          ]
        }
      ]
    },
    {
      "cell_type": "code",
      "source": [
        "tuple1 = (1, 2, 3, 2, 4, 2, 5)\n",
        "element = 2\n",
        "count = tuple1.count(element)\n",
        "print(f\"The element {element} occurs {count} times.\")\n"
      ],
      "metadata": {
        "colab": {
          "base_uri": "https://localhost:8080/"
        },
        "id": "6KafTYZZtMoc",
        "outputId": "0bb6264a-cf46-42d7-e17e-3459fd05214c"
      },
      "execution_count": 81,
      "outputs": [
        {
          "output_type": "stream",
          "name": "stdout",
          "text": [
            "The element 2 occurs 3 times.\n"
          ]
        }
      ]
    },
    {
      "cell_type": "code",
      "source": [],
      "metadata": {
        "id": "c3UPZgBitMmA"
      },
      "execution_count": null,
      "outputs": []
    }
  ]
}
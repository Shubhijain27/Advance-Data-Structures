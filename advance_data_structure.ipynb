{
  "nbformat": 4,
  "nbformat_minor": 0,
  "metadata": {
    "colab": {
      "provenance": [],
      "authorship_tag": "ABX9TyP63zRQjRTI2P8WVvEBCR4/",
      "include_colab_link": true
    },
    "kernelspec": {
      "name": "python3",
      "display_name": "Python 3"
    },
    "language_info": {
      "name": "python"
    }
  },
  "cells": [
    {
      "cell_type": "markdown",
      "metadata": {
        "id": "view-in-github",
        "colab_type": "text"
      },
      "source": [
        "<a href=\"https://colab.research.google.com/github/Shubhijain27/Advance-Data-Structures/blob/main/advance_data_structure.ipynb\" target=\"_parent\"><img src=\"https://colab.research.google.com/assets/colab-badge.svg\" alt=\"Open In Colab\"/></a>"
      ]
    },
    {
      "cell_type": "markdown",
      "source": [
        "1- Write a code to reverse a string"
      ],
      "metadata": {
        "id": "PJJcpd2FMld1"
      }
    },
    {
      "cell_type": "code",
      "source": [
        "#1\n",
        "s = \"HELLO\"\n",
        "reversed_s = s[::-1]\n",
        "print(reversed_s)\n",
        "print(s[::-1])"
      ],
      "metadata": {
        "colab": {
          "base_uri": "https://localhost:8080/"
        },
        "id": "v3_v2mOIWOat",
        "outputId": "142a55fc-626a-4b56-a9bc-59f6898637d0"
      },
      "execution_count": null,
      "outputs": [
        {
          "output_type": "stream",
          "name": "stdout",
          "text": [
            "OLLEH\n",
            "OLLEH\n"
          ]
        }
      ]
    },
    {
      "cell_type": "markdown",
      "source": [
        "2 - Write a code to count the number of vowels in a string"
      ],
      "metadata": {
        "id": "18SfkdwWMro8"
      }
    },
    {
      "cell_type": "code",
      "source": [
        "x = \"good morning\"\n",
        "vowels = \"aeiouAEIOU\"\n",
        "count = sum(x.count(vowel) for vowel in vowels)\n",
        "print(count)\n",
        "\n"
      ],
      "metadata": {
        "colab": {
          "base_uri": "https://localhost:8080/"
        },
        "id": "quwjNA7bXzYJ",
        "outputId": "bd02a22c-64d4-4509-8aba-ed59b2225774"
      },
      "execution_count": null,
      "outputs": [
        {
          "output_type": "stream",
          "name": "stdout",
          "text": [
            "4\n"
          ]
        }
      ]
    },
    {
      "cell_type": "code",
      "source": [
        "s = \"hello world\"\n",
        "vowels = \"aeiouAEIOU\"\n",
        "count = 0\n",
        "for char in s:\n",
        "    if char in vowels:\n",
        "        count += 1\n",
        "print(count)\n"
      ],
      "metadata": {
        "colab": {
          "base_uri": "https://localhost:8080/"
        },
        "id": "h2-l3A1vY2Dz",
        "outputId": "5c2c1a2a-960d-44f6-a64c-f49d2ac65786"
      },
      "execution_count": null,
      "outputs": [
        {
          "output_type": "stream",
          "name": "stdout",
          "text": [
            "3\n"
          ]
        }
      ]
    },
    {
      "cell_type": "markdown",
      "source": [],
      "metadata": {
        "id": "CCDIqgy6M8Qf"
      }
    },
    {
      "cell_type": "markdown",
      "source": [
        "3 - Write a code to check if a given string is a palindrome or not"
      ],
      "metadata": {
        "id": "MbKh74tkM3zS"
      }
    },
    {
      "cell_type": "code",
      "source": [
        "s = \"madam\"\n",
        "is_palindrome = s == s[::-1]\n",
        "print(is_palindrome)"
      ],
      "metadata": {
        "colab": {
          "base_uri": "https://localhost:8080/"
        },
        "id": "M_WFDTEDY_Kk",
        "outputId": "29bd1013-989c-4a69-d700-ea3bdf43965a"
      },
      "execution_count": null,
      "outputs": [
        {
          "output_type": "stream",
          "name": "stdout",
          "text": [
            "True\n"
          ]
        }
      ]
    },
    {
      "cell_type": "markdown",
      "source": [],
      "metadata": {
        "id": "1S1QuDXmNC1G"
      }
    },
    {
      "cell_type": "markdown",
      "source": [
        "4 - Write a code to check if two given strings are anagrams of each other"
      ],
      "metadata": {
        "id": "PJDcfcaSNJH-"
      }
    },
    {
      "cell_type": "code",
      "source": [
        "s = \"silent\"\n",
        "a = \"listen\"\n",
        "is_anagram = sorted(s) == sorted(a)\n",
        "print(is_anagram)\n"
      ],
      "metadata": {
        "colab": {
          "base_uri": "https://localhost:8080/"
        },
        "id": "N8YN7FUUaL0w",
        "outputId": "2ff852b6-541b-4174-c345-a1050b0363b5"
      },
      "execution_count": null,
      "outputs": [
        {
          "output_type": "stream",
          "name": "stdout",
          "text": [
            "True\n"
          ]
        }
      ]
    },
    {
      "cell_type": "markdown",
      "source": [
        "5 - Write a code to find all occurrences of a given substring within another string"
      ],
      "metadata": {
        "id": "BkYp2JymNTmz"
      }
    },
    {
      "cell_type": "code",
      "source": [
        "s  = \"test test test test\"\n",
        "sub = \"test\"\n",
        "\n",
        "positions = []\n",
        "start = 0\n",
        "while True:\n",
        "    pos = s.find(sub, start)\n",
        "    if pos == -1:\n",
        "        break\n",
        "    positions.append(pos)\n",
        "    start = pos + len(sub)\n",
        "\n",
        "print(positions)"
      ],
      "metadata": {
        "colab": {
          "base_uri": "https://localhost:8080/"
        },
        "id": "fIDJKQpUavap",
        "outputId": "f099f306-9360-4ba9-89d7-1124dab4fb2c"
      },
      "execution_count": null,
      "outputs": [
        {
          "output_type": "stream",
          "name": "stdout",
          "text": [
            "[0, 5, 10, 15]\n"
          ]
        }
      ]
    },
    {
      "cell_type": "code",
      "source": [
        "text = \"test test test\"\n",
        "sub = \"test\"\n",
        "start = 0\n",
        "while True:\n",
        "    index = text.find(sub, start)\n",
        "    if index == -1:\n",
        "        break\n",
        "    print(index)\n",
        "    start = index + 1\n"
      ],
      "metadata": {
        "colab": {
          "base_uri": "https://localhost:8080/"
        },
        "id": "rtykb6eqav1o",
        "outputId": "2631268e-6773-4f53-8894-c5d602160e6a"
      },
      "execution_count": null,
      "outputs": [
        {
          "output_type": "stream",
          "name": "stdout",
          "text": [
            "0\n",
            "5\n",
            "10\n"
          ]
        }
      ]
    },
    {
      "cell_type": "markdown",
      "source": [
        "6 - \u0012 Write a code to perform basic string compression using the counts of repeated characters\u0012"
      ],
      "metadata": {
        "id": "AzEKKoHbNcJs"
      }
    },
    {
      "cell_type": "code",
      "source": [
        "s = \"aabcccccaaa\"\n",
        "compressed = \"\"\n",
        "count = 1\n",
        "for i in range(1, len(s)):\n",
        "    if s[i] == s[i - 1]:\n",
        "        count += 1\n",
        "    else:\n",
        "        compressed += s[i - 1] + str(count)\n",
        "        count = 1\n",
        "compressed += s[-1] + str(count)\n",
        "print(compressed)\n"
      ],
      "metadata": {
        "colab": {
          "base_uri": "https://localhost:8080/"
        },
        "id": "x_ETwicbav4A",
        "outputId": "a03bafe2-d6ac-40eb-99e4-ba7caf6f71fb"
      },
      "execution_count": null,
      "outputs": [
        {
          "output_type": "stream",
          "name": "stdout",
          "text": [
            "a2b1c5a3\n"
          ]
        }
      ]
    },
    {
      "cell_type": "markdown",
      "source": [
        "7 - Write a code to determine if a string has all unique characters"
      ],
      "metadata": {
        "id": "CIj1nf_aNgsc"
      }
    },
    {
      "cell_type": "code",
      "source": [
        "s = \"abcdef\"\n",
        "a = set(s)\n",
        "_isunique = len(a) == len(s)\n",
        "print(_isunique)"
      ],
      "metadata": {
        "colab": {
          "base_uri": "https://localhost:8080/"
        },
        "id": "5EU2ji26eMHc",
        "outputId": "3ff2f39b-60cd-4b2a-9ce1-316a35e48651"
      },
      "execution_count": null,
      "outputs": [
        {
          "output_type": "stream",
          "name": "stdout",
          "text": [
            "True\n"
          ]
        }
      ]
    },
    {
      "cell_type": "markdown",
      "source": [
        "8 - Write a code to convert a given string to uppercase or lowercase\u0012"
      ],
      "metadata": {
        "id": "VclWu-afNoAU"
      }
    },
    {
      "cell_type": "code",
      "source": [
        "s = \"shubhi\"\n",
        "a = \"ashu\"\n",
        "upper_s = s.upper()\n",
        "lower_a = a.lower()\n",
        "print(upper_s)\n",
        "print(lower_a)"
      ],
      "metadata": {
        "colab": {
          "base_uri": "https://localhost:8080/"
        },
        "id": "QTdKv_ree3v6",
        "outputId": "9846aff8-2763-4a71-fdbe-b97fb901736b"
      },
      "execution_count": null,
      "outputs": [
        {
          "output_type": "stream",
          "name": "stdout",
          "text": [
            "SHUBHI\n",
            "ashu\n"
          ]
        }
      ]
    },
    {
      "cell_type": "markdown",
      "source": [
        "9 -  Write a code to count the number of words in a string"
      ],
      "metadata": {
        "id": "eLGXlAtBNywX"
      }
    },
    {
      "cell_type": "code",
      "source": [
        "s = \"welcome to the jungle\"\n",
        "word_count = len(s.split())\n",
        "print(word_count)"
      ],
      "metadata": {
        "colab": {
          "base_uri": "https://localhost:8080/"
        },
        "id": "XYoimiSngD3R",
        "outputId": "f6b914d4-736e-4f15-be3f-33ce348d76f6"
      },
      "execution_count": null,
      "outputs": [
        {
          "output_type": "stream",
          "name": "stdout",
          "text": [
            "4\n"
          ]
        }
      ]
    },
    {
      "cell_type": "markdown",
      "source": [
        "10 - Write a code to concatenate two strings without using the + operator\u0012"
      ],
      "metadata": {
        "id": "5P_ks__HN4UO"
      }
    },
    {
      "cell_type": "code",
      "source": [
        "s1 = \"Hello\"\n",
        "s2 = \"World\"\n",
        "concatenated = \"{} {}\".format(s1, s2)\n",
        "print(concatenated)\n",
        "\n",
        "#2nd method\n",
        "concat = f\"{s1} {s2}\"\n",
        "print(concat)\n",
        "\n",
        "#3rd\n",
        "words = [\"Hello\", \"World\"]\n",
        "result = \" \".join(words)\n",
        "print(result)\n"
      ],
      "metadata": {
        "colab": {
          "base_uri": "https://localhost:8080/"
        },
        "id": "IrZ4fsb0gjes",
        "outputId": "a5fb8d63-b19c-408a-ab0d-708b7f4f3eb0"
      },
      "execution_count": null,
      "outputs": [
        {
          "output_type": "stream",
          "name": "stdout",
          "text": [
            "Hello World\n",
            "Hello World\n",
            "Hello World\n"
          ]
        }
      ]
    },
    {
      "cell_type": "markdown",
      "source": [
        "11 - Write a code to remove all occurrences of a specific element from a list\n"
      ],
      "metadata": {
        "id": "ZHOc723Tjd9U"
      }
    },
    {
      "cell_type": "code",
      "source": [
        "lst = [1, 2, 3, 2, 4, 2, 5]\n",
        "val = 2\n",
        "lst = [x for x in lst if x != val]\n",
        "print(lst)\n",
        "\n"
      ],
      "metadata": {
        "colab": {
          "base_uri": "https://localhost:8080/"
        },
        "id": "FUE91quPjkgt",
        "outputId": "479147d5-8bc7-4763-b671-39e7b942bcda"
      },
      "execution_count": null,
      "outputs": [
        {
          "output_type": "stream",
          "name": "stdout",
          "text": [
            "[1, 3, 4, 5]\n"
          ]
        }
      ]
    },
    {
      "cell_type": "markdown",
      "source": [
        "12 - Implement a code to find the second largest number in a given list of integers"
      ],
      "metadata": {
        "id": "T4S0_MKFOMKE"
      }
    },
    {
      "cell_type": "code",
      "source": [
        "lst = [10, 20, 4, 45, 99]\n",
        "first = second = float('-inf')\n",
        "for num in lst:\n",
        "    if num > first:\n",
        "        second = first\n",
        "        first = num\n",
        "    elif first > num > second:\n",
        "        second = num\n",
        "print(second)\n",
        "\n",
        "#or\n",
        "my_list = [10, 20, 4, 45, 99]\n",
        "my_list.sort()\n",
        "print(\"Second largest number is:\", my_list[-2])\n",
        "\n",
        "#or\n",
        "my_list = [10, 20, 4, 45, 99]\n",
        "max_val = max(my_list)\n",
        "my_list.remove(max_val)\n",
        "second_largest = max(my_list)\n",
        "print(\"Second largest number is:\", second_largest)\n",
        "\n"
      ],
      "metadata": {
        "colab": {
          "base_uri": "https://localhost:8080/"
        },
        "id": "UyZGmdhtlslS",
        "outputId": "df69201e-2869-4b5b-f11b-3b7b9cf28999"
      },
      "execution_count": null,
      "outputs": [
        {
          "output_type": "stream",
          "name": "stdout",
          "text": [
            "45\n",
            "Second largest number is: 45\n",
            "Second largest number is: 45\n"
          ]
        }
      ]
    },
    {
      "cell_type": "markdown",
      "source": [
        "13 - Create a code to count the occurrences of each element in a list and return a dictionary with elements as keys and their counts as values\n"
      ],
      "metadata": {
        "id": "bxf9RrReOQMH"
      }
    },
    {
      "cell_type": "code",
      "source": [
        "lst = ['apple', 'banana', 'apple', 'orange', 'banana', 'banana']\n",
        "counts = {}\n",
        "for item in lst:\n",
        "    counts[item] = counts.get(item, 0) + 1\n",
        "print(counts)\n",
        "\n",
        "#or\n",
        "from collections import Counter\n",
        "\n",
        "my_list = ['apple', 'banana', 'apple', 'orange', 'banana', 'apple']\n",
        "counts = Counter(my_list)\n",
        "print(counts)\n",
        "\n",
        "#or\n",
        "\n",
        "my_list = ['apple', 'banana', 'apple', 'orange', 'banana', 'apple']\n",
        "counts = {}\n",
        "\n",
        "for item in my_list:\n",
        "    if item in counts:\n",
        "        counts[item] += 1\n",
        "    else:\n",
        "        counts[item] = 1\n",
        "\n",
        "print(counts)\n"
      ],
      "metadata": {
        "colab": {
          "base_uri": "https://localhost:8080/"
        },
        "id": "89WXDc5tmmAQ",
        "outputId": "56085b8e-2c5a-4581-e4d4-bdac353d3d3a"
      },
      "execution_count": null,
      "outputs": [
        {
          "output_type": "stream",
          "name": "stdout",
          "text": [
            "{'apple': 2, 'banana': 3, 'orange': 1}\n",
            "Counter({'apple': 3, 'banana': 2, 'orange': 1})\n",
            "{'apple': 3, 'banana': 2, 'orange': 1}\n"
          ]
        }
      ]
    },
    {
      "cell_type": "markdown",
      "source": [
        "14 -  Write a code to reverse a list in-place without using any built-in reverse functions\n"
      ],
      "metadata": {
        "id": "9vI5iLPVOkYD"
      }
    },
    {
      "cell_type": "code",
      "source": [
        "\n",
        "my_list = [1, 2, 3, 4, 5]\n",
        "# create a reversed copy with slicing, then overwrite entire list\n",
        "my_list[:] = my_list[::-1]\n",
        "print(my_list)\n"
      ],
      "metadata": {
        "colab": {
          "base_uri": "https://localhost:8080/"
        },
        "id": "g05ubgMgoBrG",
        "outputId": "dbbdc7bb-f877-4afc-8b46-bc25357cd43c"
      },
      "execution_count": null,
      "outputs": [
        {
          "output_type": "stream",
          "name": "stdout",
          "text": [
            "[5, 4, 3, 2, 1]\n",
            "[5, 4, 3, 2, 1]\n"
          ]
        }
      ]
    },
    {
      "cell_type": "markdown",
      "source": [
        "15 - Implement a code to find and remove duplicates from a list while preserving the original order of elements\n"
      ],
      "metadata": {
        "id": "qIaMQg3FO_Cj"
      }
    },
    {
      "cell_type": "code",
      "source": [
        "lst = [1, 2, 2, 3, 4, 3, 5]\n",
        "seen = set()\n",
        "result = []\n",
        "for item in lst:\n",
        "    if item not in seen:\n",
        "        seen.add(item)\n",
        "        result.append(item)\n",
        "print(result)\n",
        "\n",
        "my_list = [3, 5, 2, 3, 2, 4, 5, 1]\n",
        "# dict preserves insertion order as of Python 3.7\n",
        "my_list = list(dict.fromkeys(my_list))\n",
        "print(my_list)  # [3, 5, 2, 4, 1]\n"
      ],
      "metadata": {
        "colab": {
          "base_uri": "https://localhost:8080/"
        },
        "id": "bxH9nyhlo1jo",
        "outputId": "fa362f09-a325-48f9-c701-1c3b0bd01d06"
      },
      "execution_count": null,
      "outputs": [
        {
          "output_type": "stream",
          "name": "stdout",
          "text": [
            "[1, 2, 3, 4, 5]\n",
            "[3, 5, 2, 4, 1]\n"
          ]
        }
      ]
    },
    {
      "cell_type": "markdown",
      "source": [
        "16 -  Create a code to check if a given list is sorted (either in ascending or descending order) or not\n"
      ],
      "metadata": {
        "id": "1sQnpTvBPIJc"
      }
    },
    {
      "cell_type": "code",
      "source": [
        "my_list = [1, 2, 3, 3, 5]\n",
        "\n",
        "if my_list == sorted(my_list):\n",
        "    print(\"Ascending\")\n",
        "elif my_list == sorted(my_list, reverse=True):\n",
        "    print(\"Descending\")\n",
        "else:\n",
        "    print(\"Not sorted\")\n"
      ],
      "metadata": {
        "colab": {
          "base_uri": "https://localhost:8080/"
        },
        "id": "Jcy31FoMqK4Z",
        "outputId": "218bb2fc-607a-4577-8e32-3817d74cf7e0"
      },
      "execution_count": null,
      "outputs": [
        {
          "output_type": "stream",
          "name": "stdout",
          "text": [
            "Ascending\n"
          ]
        }
      ]
    },
    {
      "cell_type": "markdown",
      "source": [
        "17 - Write a code to merge two sorted lists into a single sorted list"
      ],
      "metadata": {
        "id": "cR5YJBDDPPU5"
      }
    },
    {
      "cell_type": "code",
      "source": [
        "a = [1, 3, 5, 7]\n",
        "b = [2, 4, 6, 8]\n",
        "\n",
        "merged = sorted(a + b)\n",
        "print(merged)  # [1, 2, 3, 4, 5, 6, 7, 8]\n"
      ],
      "metadata": {
        "colab": {
          "base_uri": "https://localhost:8080/"
        },
        "id": "hDE7MOHXqcR_",
        "outputId": "9f5ddcad-d87c-4e0e-ab94-5e89ec1ac262"
      },
      "execution_count": null,
      "outputs": [
        {
          "output_type": "stream",
          "name": "stdout",
          "text": [
            "[1, 2, 3, 4, 5, 6, 7, 8]\n"
          ]
        }
      ]
    },
    {
      "cell_type": "markdown",
      "source": [
        "18 - Implement a code to find the intersection of two given lists\"\n"
      ],
      "metadata": {
        "id": "OoWDAsIvPW6w"
      }
    },
    {
      "cell_type": "code",
      "source": [
        "a = [1, 2, 3, 4]\n",
        "b = [3, 4, 5, 6]\n",
        "intersection = list(set(a) & set(b))\n",
        "print(intersection)\n"
      ],
      "metadata": {
        "colab": {
          "base_uri": "https://localhost:8080/"
        },
        "id": "p1hp5tzoq2ok",
        "outputId": "0fd2a552-c9c4-4807-b92e-150d0f0b5d22"
      },
      "execution_count": null,
      "outputs": [
        {
          "output_type": "stream",
          "name": "stdout",
          "text": [
            "[3, 4]\n"
          ]
        }
      ]
    },
    {
      "cell_type": "markdown",
      "source": [
        "19 - Create a code to find the union of two lists without duplicates\n",
        "\n"
      ],
      "metadata": {
        "id": "NV1w3659PdYD"
      }
    },
    {
      "cell_type": "code",
      "source": [
        "a = [1, 2, 3]\n",
        "b = [3, 4, 5]\n",
        "union = list(set(a + b))\n",
        "print(union)\n"
      ],
      "metadata": {
        "colab": {
          "base_uri": "https://localhost:8080/"
        },
        "id": "6bbOKmunrEJx",
        "outputId": "a83c93a6-6357-47d5-a34f-1b6d9cc43206"
      },
      "execution_count": null,
      "outputs": [
        {
          "output_type": "stream",
          "name": "stdout",
          "text": [
            "[1, 2, 3, 4, 5]\n"
          ]
        }
      ]
    },
    {
      "cell_type": "markdown",
      "source": [
        "20 - Write a code to shuffle a given list randomly without using any built-in shuffle functions\n",
        "\n"
      ],
      "metadata": {
        "id": "Ax7ksvC9Pkvf"
      }
    },
    {
      "cell_type": "code",
      "source": [
        "import random\n",
        "\n",
        "my_list = [1, 2, 3, 4, 5, 6, 7, 8]\n",
        "# sample the entire list without replacement, effectively shuffling\n",
        "shuffled = random.sample(my_list, k=len(my_list))\n",
        "\n",
        "print(shuffled)\n",
        "# original my_list remains unchanged\n",
        "\n",
        "\n",
        "import random\n",
        "\n",
        "my_list = [1, 2, 3, 4, 5, 6, 7, 8]\n",
        "shuffled = sorted(my_list, key=lambda _: random.random())\n",
        "\n",
        "print(shuffled)\n",
        "\n"
      ],
      "metadata": {
        "colab": {
          "base_uri": "https://localhost:8080/"
        },
        "id": "qJsaxsf0rfJ1",
        "outputId": "bcbef880-28e0-44ce-d5b3-70c0c6ece6e8"
      },
      "execution_count": null,
      "outputs": [
        {
          "output_type": "stream",
          "name": "stdout",
          "text": [
            "[8, 2, 6, 1, 4, 3, 5, 7]\n",
            "[3, 8, 7, 1, 6, 2, 4, 5]\n"
          ]
        }
      ]
    },
    {
      "cell_type": "markdown",
      "source": [
        "21 - Write a code that takes two tuples as input and returns a new tuple containing elements that are common to both input tuples\n",
        "\n"
      ],
      "metadata": {
        "id": "zjqs5S9yPshH"
      }
    },
    {
      "cell_type": "code",
      "source": [
        "tuple1 = (1, 2, 3, 4, 5)\n",
        "tuple2 = (3, 4, 5, 6, 7)\n",
        "common_elements = tuple(set(tuple1) & set(tuple2))\n",
        "print(common_elements)\n"
      ],
      "metadata": {
        "colab": {
          "base_uri": "https://localhost:8080/"
        },
        "id": "8BnK1PsksRs-",
        "outputId": "a7ac9e3f-4475-4e64-c16a-6e994dc6fff3"
      },
      "execution_count": null,
      "outputs": [
        {
          "output_type": "stream",
          "name": "stdout",
          "text": [
            "(3, 4, 5)\n"
          ]
        }
      ]
    },
    {
      "cell_type": "markdown",
      "source": [
        "22 -  Create a code that prompts the user to enter two sets of integers separated by commas. Then, print the intersection of these two sets\n",
        "\n",
        "\n"
      ],
      "metadata": {
        "id": "jcjiNmX7PzG7"
      }
    },
    {
      "cell_type": "code",
      "source": [
        "set1 = set(map(int, input(\"Enter first set of integers separated by commas: \").split(',')))\n",
        "set2 = set(map(int, input(\"Enter second set of integers separated by commas: \").split(',')))\n",
        "intersection = set1 & set2\n",
        "print(\"Intersection:\", intersection)\n"
      ],
      "metadata": {
        "colab": {
          "base_uri": "https://localhost:8080/"
        },
        "id": "am8pkUeMsTxx",
        "outputId": "a2b49f89-7476-4fe5-a51e-300c59344540"
      },
      "execution_count": null,
      "outputs": [
        {
          "output_type": "stream",
          "name": "stdout",
          "text": [
            "Enter first set of integers separated by commas: 1,2,3,4\n",
            "Enter second set of integers separated by commas: 3,4,5,6\n",
            "Intersection: {3, 4}\n"
          ]
        }
      ]
    },
    {
      "cell_type": "markdown",
      "source": [
        "23 - Write a code to concatenate two tuples. The function should take two tuples as input and return a new tuple containing elements from both input tuples"
      ],
      "metadata": {
        "id": "bIa6htsoP8kB"
      }
    },
    {
      "cell_type": "code",
      "source": [
        "tuple1 = (1, 2, 3)\n",
        "tuple2 = (4, 5, 6)\n",
        "concatenated = tuple1 + tuple2\n",
        "print(concatenated)\n"
      ],
      "metadata": {
        "colab": {
          "base_uri": "https://localhost:8080/"
        },
        "id": "W0Vf1ChPsTvM",
        "outputId": "f74a5708-f573-462b-bd7f-f29a6eca3d1d"
      },
      "execution_count": null,
      "outputs": [
        {
          "output_type": "stream",
          "name": "stdout",
          "text": [
            "(1, 2, 3, 4, 5, 6)\n"
          ]
        }
      ]
    },
    {
      "cell_type": "markdown",
      "source": [
        "24 - & Develop a code that prompts the user to input two sets of strings. Then, print the elements that are\n",
        "present in the first set but not in the second set"
      ],
      "metadata": {
        "id": "V74KnsmAQBFb"
      }
    },
    {
      "cell_type": "code",
      "source": [
        "set1 = set(input(\"Enter first set of strings separated by commas: \").split(','))\n",
        "set2 = set(input(\"Enter second set of strings separated by commas: \").split(','))\n",
        "difference = set1 - set2\n",
        "print(\"Elements in the first set but not in the second:\", difference)\n"
      ],
      "metadata": {
        "colab": {
          "base_uri": "https://localhost:8080/"
        },
        "id": "T_c2MnibsuYy",
        "outputId": "2a9304c6-e66b-4041-af2d-a07feecec192"
      },
      "execution_count": null,
      "outputs": [
        {
          "output_type": "stream",
          "name": "stdout",
          "text": [
            "Enter first set of strings separated by commas: apple,kiwi,cherry\n",
            "Enter second set of strings separated by commas: apple,banana\n",
            "Elements in the first set but not in the second: {'cherry', 'kiwi'}\n"
          ]
        }
      ]
    },
    {
      "cell_type": "markdown",
      "source": [
        "25 -  Create a code that takes a tuple and two integers as input. The function should return a new tuple\n",
        "containing elements from the original tuple within the specified range of indices"
      ],
      "metadata": {
        "id": "xRLoXOUHQJL4"
      }
    },
    {
      "cell_type": "code",
      "source": [
        "tuple1 = (10, 20, 30, 40, 50, 60)\n",
        "start_index = 2\n",
        "end_index = 5\n",
        "sliced_tuple = tuple1[start_index:end_index]\n",
        "print(sliced_tuple)\n"
      ],
      "metadata": {
        "colab": {
          "base_uri": "https://localhost:8080/"
        },
        "id": "gUuLlqfvs1dD",
        "outputId": "3862f06f-9407-4184-d83d-f2678a8ce878"
      },
      "execution_count": null,
      "outputs": [
        {
          "output_type": "stream",
          "name": "stdout",
          "text": [
            "(30, 40, 50)\n"
          ]
        }
      ]
    },
    {
      "cell_type": "markdown",
      "source": [
        "26 - Write a code that prompts the user to input two sets of characters. Then, print the union of these two sets"
      ],
      "metadata": {
        "id": "Pxxc_3NlQbG0"
      }
    },
    {
      "cell_type": "code",
      "source": [
        "set1 = set(input(\"Enter first set of characters (no separators): \"))\n",
        "set2 = set(input(\"Enter second set of characters (no separators): \"))\n",
        "union = set1 | set2\n",
        "print(\"Union of the two sets:\", union)\n"
      ],
      "metadata": {
        "colab": {
          "base_uri": "https://localhost:8080/"
        },
        "id": "0We-yJ3NtAjJ",
        "outputId": "9e1aa86e-90a3-4c8f-d6e0-b6e1538a1ace"
      },
      "execution_count": null,
      "outputs": [
        {
          "output_type": "stream",
          "name": "stdout",
          "text": [
            "Enter first set of characters (no separators): abc\n",
            "Enter second set of characters (no separators): cde\n",
            "Union of the two sets: {'a', 'd', 'c', 'b', 'e'}\n"
          ]
        }
      ]
    },
    {
      "cell_type": "markdown",
      "source": [
        "27 - Develop a code that takes a tuple of integers as input. The function should return the maximum and\n",
        "minimum values from the tuple using tuple unpacking"
      ],
      "metadata": {
        "id": "qSEutnqtQgU6"
      }
    },
    {
      "cell_type": "code",
      "source": [
        "tuple1 = (5, 10, 3, 8, 2)\n",
        "max_value = max(tuple1)\n",
        "min_value = min(tuple1)\n",
        "print(\"Maximum:\", max_value)\n",
        "print(\"Minimum:\", min_value)\n"
      ],
      "metadata": {
        "colab": {
          "base_uri": "https://localhost:8080/"
        },
        "id": "kJXog7katKMv",
        "outputId": "465e31e9-d92d-4df9-e7b2-aaadb8df93c6"
      },
      "execution_count": null,
      "outputs": [
        {
          "output_type": "stream",
          "name": "stdout",
          "text": [
            "Maximum: 10\n",
            "Minimum: 2\n"
          ]
        }
      ]
    },
    {
      "cell_type": "markdown",
      "source": [
        "28 - Create a code that defines two sets of integers. Then, print the union, intersection, and difference of these two sets"
      ],
      "metadata": {
        "id": "JY-EvCMJQrR3"
      }
    },
    {
      "cell_type": "code",
      "source": [
        "set1 = {1, 2, 3, 4}\n",
        "set2 = {3, 4, 5, 6}\n",
        "print(\"Union:\", set1 | set2)\n",
        "print(\"Intersection:\", set1 & set2)\n",
        "print(\"Difference (set1 - set2):\", set1 - set2)\n"
      ],
      "metadata": {
        "colab": {
          "base_uri": "https://localhost:8080/"
        },
        "id": "dI6waTMJtMq4",
        "outputId": "bdee9751-3291-4290-ea6f-4c68557b185f"
      },
      "execution_count": null,
      "outputs": [
        {
          "output_type": "stream",
          "name": "stdout",
          "text": [
            "Union: {1, 2, 3, 4, 5, 6}\n",
            "Intersection: {3, 4}\n",
            "Difference (set1 - set2): {1, 2}\n"
          ]
        }
      ]
    },
    {
      "cell_type": "markdown",
      "source": [
        "29 - Write a code that takes a tuple and an element as input. The function should return the count of\n",
        "occurrences of the given element in the tuple"
      ],
      "metadata": {
        "id": "a7vzOLchQ1PC"
      }
    },
    {
      "cell_type": "code",
      "source": [
        "tuple1 = (1, 2, 3, 2, 4, 2, 5)\n",
        "element = 2\n",
        "count = tuple1.count(element)\n",
        "print(f\"The element {element} occurs {count} times.\")\n"
      ],
      "metadata": {
        "colab": {
          "base_uri": "https://localhost:8080/"
        },
        "id": "6KafTYZZtMoc",
        "outputId": "0bb6264a-cf46-42d7-e17e-3459fd05214c"
      },
      "execution_count": null,
      "outputs": [
        {
          "output_type": "stream",
          "name": "stdout",
          "text": [
            "The element 2 occurs 3 times.\n"
          ]
        }
      ]
    },
    {
      "cell_type": "markdown",
      "source": [
        "30 - Develop a code that prompts the user to input two sets of strings. Then, print the symmetric difference of these two sets"
      ],
      "metadata": {
        "id": "mVkNfNHJQ76i"
      }
    },
    {
      "cell_type": "code",
      "source": [
        "# Prompt the user to enter elements for the first set\n",
        "input1 = input(\"Enter elements for the first set (separated by commas): \")\n",
        "set1 = set(item.strip() for item in input1.split(',') if item.strip())\n",
        "\n",
        "# Prompt the user to enter elements for the second set\n",
        "input2 = input(\"Enter elements for the second set (separated by commas): \")\n",
        "set2 = set(item.strip() for item in input2.split(',') if item.strip())\n",
        "\n",
        "# Compute the symmetric difference using the '^' operator\n",
        "sym_diff = set1 ^ set2\n",
        "\n",
        "# Display the symmetric difference\n",
        "print(\"\\nSymmetric Difference:\")\n",
        "print(sym_diff)\n"
      ],
      "metadata": {
        "id": "c3UPZgBitMmA",
        "colab": {
          "base_uri": "https://localhost:8080/"
        },
        "outputId": "b625d19c-572e-49cc-b4e4-ee572335ba37"
      },
      "execution_count": 1,
      "outputs": [
        {
          "output_type": "stream",
          "name": "stdout",
          "text": [
            "Enter elements for the first set (separated by commas): 1,2,3,4,5\n",
            "Enter elements for the second set (separated by commas): 6,7,8,9,10\n",
            "\n",
            "Symmetric Difference:\n",
            "{'8', '4', '6', '5', '7', '3', '10', '2', '1', '9'}\n"
          ]
        }
      ]
    },
    {
      "cell_type": "markdown",
      "source": [
        "31-Write a code that takes a list of words as input and returns a dictionary where the keys are unique words\n",
        "and the values are the frequencies of those words in the input list"
      ],
      "metadata": {
        "id": "VJkqv8zsRRWv"
      }
    },
    {
      "cell_type": "code",
      "source": [
        "# Sample list of words\n",
        "words = [\"apple\", \"banana\", \"apple\", \"orange\", \"banana\", \"apple\", \"pine\"]\n",
        "\n",
        "# Initialize an empty dictionary to store word frequencies\n",
        "word_count = {}\n",
        "\n",
        "# Iterate over each word in the list\n",
        "for word in words:\n",
        "    # If the word is already in the dictionary, increment its count\n",
        "    if word in word_count:\n",
        "        word_count[word] += 1\n",
        "    # If the word is not in the dictionary, add it with a count of 1\n",
        "    else:\n",
        "        word_count[word] = 1\n",
        "\n",
        "# Print the resulting dictionary of word frequencies\n",
        "print(word_count)\n"
      ],
      "metadata": {
        "colab": {
          "base_uri": "https://localhost:8080/"
        },
        "id": "ec7MDTEORLwX",
        "outputId": "4a3a0a2b-fd5f-47d8-86c6-1c1d2f71529d"
      },
      "execution_count": 2,
      "outputs": [
        {
          "output_type": "stream",
          "name": "stdout",
          "text": [
            "{'apple': 3, 'banana': 2, 'orange': 1, 'pine': 1}\n"
          ]
        }
      ]
    },
    {
      "cell_type": "markdown",
      "source": [
        "32 - Write a code that takes two dictionaries as input and merges them into a single dictionary. If there are\n",
        "common keys, the values should be added together&"
      ],
      "metadata": {
        "id": "UPDOQxxpRy7b"
      }
    },
    {
      "cell_type": "code",
      "source": [
        "from collections import Counter\n",
        "\n",
        "dict1 = {'a': 1, 'b': 2, 'c': 3}\n",
        "dict2 = {'b': 3, 'c': 4, 'd': 5}\n",
        "\n",
        "merged_dict = dict(Counter(dict1) + Counter(dict2))\n",
        "print(merged_dict)\n"
      ],
      "metadata": {
        "colab": {
          "base_uri": "https://localhost:8080/"
        },
        "id": "DqEwnOTzRcFS",
        "outputId": "96fcfee1-a702-428a-82a6-074789c6078a"
      },
      "execution_count": 3,
      "outputs": [
        {
          "output_type": "stream",
          "name": "stdout",
          "text": [
            "{'a': 1, 'b': 5, 'c': 7, 'd': 5}\n"
          ]
        }
      ]
    },
    {
      "cell_type": "markdown",
      "source": [
        "33 - & Write a code to access a value in a nested dictionary. The function should take the dictionary and a list of\n",
        "keys as input, and return the corresponding value. If any of the keys do not exist in the dictionary, the\n",
        "function should return None&"
      ],
      "metadata": {
        "id": "BnDajD-WSACG"
      }
    },
    {
      "cell_type": "code",
      "source": [
        "nested_dict = {'a': {'b': {'c': 42}}}\n",
        "keys = ['a', 'b', 'c']\n",
        "\n",
        "current = nested_dict\n",
        "for key in keys:\n",
        "    if isinstance(current, dict) and key in current:\n",
        "        current = current[key]\n",
        "    else:\n",
        "        current = None\n",
        "        break\n",
        "\n",
        "print(current)"
      ],
      "metadata": {
        "colab": {
          "base_uri": "https://localhost:8080/"
        },
        "id": "q8mny6SaR7VS",
        "outputId": "8d4fa61f-6dd4-4ff9-b040-18a78dc5c8d9"
      },
      "execution_count": 5,
      "outputs": [
        {
          "output_type": "stream",
          "name": "stdout",
          "text": [
            "42\n"
          ]
        }
      ]
    },
    {
      "cell_type": "markdown",
      "source": [
        "This approach safely traverses the nested dictionary. If any key is missing, it returns None."
      ],
      "metadata": {
        "id": "I84CGpZASell"
      }
    },
    {
      "cell_type": "markdown",
      "source": [
        "34 - Write a code that takes a dictionary as input and returns a sorted version of it based on the values. You\n",
        "can choose whether to sort in ascending or descending order\n"
      ],
      "metadata": {
        "id": "YfH_X-XYSFfe"
      }
    },
    {
      "cell_type": "code",
      "source": [
        "sample_dict = {'apple': 5, 'banana': 2, 'orange': 8, 'grape': 1}\n",
        "\n",
        "# Sort in ascending order\n",
        "ascending_sorted = {k: sample_dict[k] for k in sorted(sample_dict, key=sample_dict.get)}\n",
        "print(\"Ascending:\", ascending_sorted)\n",
        "\n",
        "# Sort in descending order\n",
        "descending_sorted = {k: sample_dict[k] for k in sorted(sample_dict, key=sample_dict.get, reverse=True)}\n",
        "print(\"Descending:\", descending_sorted)\n"
      ],
      "metadata": {
        "colab": {
          "base_uri": "https://localhost:8080/"
        },
        "id": "3Zd_IoptSHwD",
        "outputId": "f809ee0c-72b6-4bd4-fde0-3c2d4d51ba4f"
      },
      "execution_count": 6,
      "outputs": [
        {
          "output_type": "stream",
          "name": "stdout",
          "text": [
            "Ascending: {'grape': 1, 'banana': 2, 'apple': 5, 'orange': 8}\n",
            "Descending: {'orange': 8, 'apple': 5, 'banana': 2, 'grape': 1}\n"
          ]
        }
      ]
    },
    {
      "cell_type": "markdown",
      "source": [
        "35 - Write a code that inverts a dictionary, swapping keys and values. Ensure that the inverted dictionary\n",
        "correctly handles cases where multiple keys have the same value by storing the keys as a list in the\n",
        "inverted dictionary"
      ],
      "metadata": {
        "id": "f44WD2eUShpj"
      }
    },
    {
      "cell_type": "code",
      "source": [
        "from collections import defaultdict\n",
        "\n",
        "# Sample dictionary with duplicate values\n",
        "original_dict = {'a': 1, 'b': 2, 'c': 1, 'd': 3, 'e': 2, 'f': 4}\n",
        "\n",
        "# Initialize defaultdict with list as the default factory\n",
        "inverted_dict = defaultdict(list)\n",
        "\n",
        "# Iterate over the original dictionary and populate the inverted dictionary\n",
        "for key, value in original_dict.items():\n",
        "    inverted_dict[value].append(key)\n",
        "\n",
        "# Convert defaultdict to a regular dictionary for display\n",
        "inverted_dict = dict(inverted_dict)\n",
        "\n",
        "# Print the inverted dictionary\n",
        "print(inverted_dict)\n"
      ],
      "metadata": {
        "colab": {
          "base_uri": "https://localhost:8080/"
        },
        "id": "NbAr-ZNnSZ-v",
        "outputId": "7198a03a-e524-4657-d1d7-7db4ebc0e790"
      },
      "execution_count": 7,
      "outputs": [
        {
          "output_type": "stream",
          "name": "stdout",
          "text": [
            "{1: ['a', 'c'], 2: ['b', 'e'], 3: ['d'], 4: ['f']}\n"
          ]
        }
      ]
    },
    {
      "cell_type": "markdown",
      "source": [
        "Explanation\n",
        "\n",
        "defaultdict(list): This creates a dictionary where each value is initialized as an empty list. It automatically handles missing keys by providing a default value (in this case, an empty list) when a new key is accessed.\n",
        "\n",
        "Iterating through original_dict.items(): This loop goes through each key-value pair in the original dictionary.\n",
        "\n",
        "inverted_dict[value].append(key): For each key-value pair, the key is appended to the list corresponding to the value in the inverted dictionary. This handles cases where multiple keys have the same value by grouping them into a list.\n",
        "\n",
        "Converting to a regular dictionary: The defaultdict is converted to a regular dictionary using dict(inverted_dict) for display purposes, as defaultdict is a subclass of the built-in dict and behaves similarly but with default factory behavior."
      ],
      "metadata": {
        "id": "jEm7O5Y6Sr4C"
      }
    },
    {
      "cell_type": "code",
      "source": [],
      "metadata": {
        "id": "gOXJtjCBSoxC"
      },
      "execution_count": null,
      "outputs": []
    }
  ]
}
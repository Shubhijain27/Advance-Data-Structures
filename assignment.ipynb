{
  "nbformat": 4,
  "nbformat_minor": 0,
  "metadata": {
    "colab": {
      "provenance": [],
      "authorship_tag": "ABX9TyMP76IJdN0MtFF5jVxw1CS/",
      "include_colab_link": true
    },
    "kernelspec": {
      "name": "python3",
      "display_name": "Python 3"
    },
    "language_info": {
      "name": "python"
    }
  },
  "cells": [
    {
      "cell_type": "markdown",
      "metadata": {
        "id": "view-in-github",
        "colab_type": "text"
      },
      "source": [
        "<a href=\"https://colab.research.google.com/github/Shubhijain27/Advance-Data-Structures/blob/main/assignment.ipynb\" target=\"_parent\"><img src=\"https://colab.research.google.com/assets/colab-badge.svg\" alt=\"Open In Colab\"/></a>"
      ]
    },
    {
      "cell_type": "markdown",
      "source": [
        "PRACTICAL QUESTIONS"
      ],
      "metadata": {
        "id": "kx7or2S2P5_f"
      }
    },
    {
      "cell_type": "markdown",
      "source": [
        "quest 1  \n",
        "\n",
        "Write a Python function that takes a list of numbers as input and returns the sum of all even numbers in\n",
        "the list.\n",
        "\n"
      ],
      "metadata": {
        "id": "r8AZ2tCD3WeV"
      }
    },
    {
      "cell_type": "code",
      "source": [
        "def sum_even_numbers(numbers):\n",
        "  even_sum = 0\n",
        "  for num in numbers :\n",
        "    if num % 2 == 0 :\n",
        "      even_sum += num\n",
        "  return even_sum"
      ],
      "metadata": {
        "id": "DA7FXqTn3l07"
      },
      "execution_count": null,
      "outputs": []
    },
    {
      "cell_type": "code",
      "source": [
        "numbers = [1, 2, 3, 4, 5, 6, 7, 8, 9,]\n",
        "result = sum_even_numbers(numbers)\n",
        "print(result)"
      ],
      "metadata": {
        "colab": {
          "base_uri": "https://localhost:8080/"
        },
        "id": "TlIho-Ec42_J",
        "outputId": "79a21f4a-9591-4d04-d7ea-b6fb375d7f05"
      },
      "execution_count": null,
      "outputs": [
        {
          "output_type": "stream",
          "name": "stdout",
          "text": [
            "20\n"
          ]
        }
      ]
    },
    {
      "cell_type": "code",
      "source": [
        "sum_even_numbers([1,2,3,4,5])"
      ],
      "metadata": {
        "colab": {
          "base_uri": "https://localhost:8080/"
        },
        "id": "6wjCvT3-5GyE",
        "outputId": "f2d6b7d5-8f3f-4c49-f93b-f34c9a2b8e53"
      },
      "execution_count": null,
      "outputs": [
        {
          "output_type": "execute_result",
          "data": {
            "text/plain": [
              "6"
            ]
          },
          "metadata": {},
          "execution_count": 20
        }
      ]
    },
    {
      "cell_type": "code",
      "source": [
        "def sum_even_numbers(numbers):\n",
        "    return sum(num for num in numbers if num % 2 == 0)"
      ],
      "metadata": {
        "id": "d9BFjgFW8j6U"
      },
      "execution_count": null,
      "outputs": []
    },
    {
      "cell_type": "code",
      "source": [
        "numbers = [1, 2, 3, 4, 5, 6]\n",
        "result = sum_even_numbers(numbers)\n",
        "print(result)"
      ],
      "metadata": {
        "colab": {
          "base_uri": "https://localhost:8080/"
        },
        "id": "lXb36MiZ8mXA",
        "outputId": "655fcf2a-f5b2-40ad-b345-9208e9e11eef"
      },
      "execution_count": null,
      "outputs": [
        {
          "output_type": "stream",
          "name": "stdout",
          "text": [
            "12\n"
          ]
        }
      ]
    },
    {
      "cell_type": "markdown",
      "source": [
        " ques 2\n",
        "\n",
        " Create a Python function that accepts a string and returns the reverse of that string.\n",
        "\n",
        "\n"
      ],
      "metadata": {
        "id": "9MPeqNYx54n1"
      }
    },
    {
      "cell_type": "code",
      "source": [
        "def reverse_string(a):\n",
        "  return a[::-1]\n"
      ],
      "metadata": {
        "id": "v6V50waP58NQ"
      },
      "execution_count": null,
      "outputs": []
    },
    {
      "cell_type": "code",
      "source": [
        "a = \"hello\"\n",
        "result = reverse_string(a)\n",
        "print(result)"
      ],
      "metadata": {
        "colab": {
          "base_uri": "https://localhost:8080/"
        },
        "id": "GTzeu65n6RnO",
        "outputId": "f70a0ebe-dc9f-4f50-e211-8418d6c657ef"
      },
      "execution_count": null,
      "outputs": [
        {
          "output_type": "stream",
          "name": "stdout",
          "text": [
            "olleh\n"
          ]
        }
      ]
    },
    {
      "cell_type": "code",
      "source": [
        "reverse_string(\"banana\")"
      ],
      "metadata": {
        "colab": {
          "base_uri": "https://localhost:8080/",
          "height": 42
        },
        "id": "7OQTk6s86e5y",
        "outputId": "7c41f47f-d3af-4bea-96a9-7f3ecfe0c1f7"
      },
      "execution_count": null,
      "outputs": [
        {
          "output_type": "execute_result",
          "data": {
            "text/plain": [
              "'ananab'"
            ],
            "application/vnd.google.colaboratory.intrinsic+json": {
              "type": "string"
            }
          },
          "metadata": {},
          "execution_count": 8
        }
      ]
    },
    {
      "cell_type": "code",
      "source": [],
      "metadata": {
        "id": "ilMVuguQ6zi5"
      },
      "execution_count": null,
      "outputs": []
    },
    {
      "cell_type": "markdown",
      "source": [
        "ques 3\n",
        "\n",
        " Implement a Python function that takes a list of integers and returns a new list containing the squares of\n",
        "each number."
      ],
      "metadata": {
        "id": "-XqyMWyn7OLq"
      }
    },
    {
      "cell_type": "code",
      "source": [
        "def square_numbers(numbers):\n",
        "  square_numbers = [num ** 2 for num in numbers]\n",
        "  return square_numbers"
      ],
      "metadata": {
        "id": "-DYPxOH07Q3U"
      },
      "execution_count": null,
      "outputs": []
    },
    {
      "cell_type": "code",
      "source": [
        "square_numbers([1,2,3,4,5])"
      ],
      "metadata": {
        "colab": {
          "base_uri": "https://localhost:8080/"
        },
        "id": "rFBtKbjV7l2P",
        "outputId": "208d0b4b-8d7d-4f9f-ded7-a190be4b8255"
      },
      "execution_count": null,
      "outputs": [
        {
          "output_type": "execute_result",
          "data": {
            "text/plain": [
              "[1, 4, 9, 16, 25]"
            ]
          },
          "metadata": {},
          "execution_count": 19
        }
      ]
    },
    {
      "cell_type": "code",
      "source": [
        "def square_numbers(numbers):\n",
        "  sqaure_numbers = []\n",
        "  for num in numbers :\n",
        "    sqaure_numbers.append(num ** 2)\n",
        "  return sqaure_numbers"
      ],
      "metadata": {
        "id": "4874ZPeo9Ddy"
      },
      "execution_count": null,
      "outputs": []
    },
    {
      "cell_type": "code",
      "source": [
        "square_numbers([1,2,7,4,8])"
      ],
      "metadata": {
        "colab": {
          "base_uri": "https://localhost:8080/"
        },
        "id": "oXt4v31Y9J85",
        "outputId": "bf37559e-9a1b-40e3-91e3-9a794e891aef"
      },
      "execution_count": null,
      "outputs": [
        {
          "output_type": "execute_result",
          "data": {
            "text/plain": [
              "[1, 4, 49, 16, 64]"
            ]
          },
          "metadata": {},
          "execution_count": 28
        }
      ]
    },
    {
      "cell_type": "code",
      "source": [],
      "metadata": {
        "id": "v_W7Uaeg9Nto"
      },
      "execution_count": null,
      "outputs": []
    },
    {
      "cell_type": "markdown",
      "source": [
        "ques 4\n",
        "\n",
        " Write a Python function that checks if a given number is prime or not from 1 to 200."
      ],
      "metadata": {
        "id": "wz8PnKTf-CJG"
      }
    },
    {
      "cell_type": "code",
      "source": [
        "def is_prime(number):\n",
        "  if number < 2:\n",
        "    return False\n",
        "  for i in range(2, int(number + 1)):\n",
        "    if number % i == 0:\n",
        "      return False\n",
        "  return True"
      ],
      "metadata": {
        "id": "16ql5ntW-F_x"
      },
      "execution_count": null,
      "outputs": []
    },
    {
      "cell_type": "code",
      "source": [
        "for num in range(1, 201):\n",
        "    if is_prime(num):\n",
        "        print(f\"{num} is a prime number\")\n",
        "    else:\n",
        "        print(f\"{num} is not a prime number\")"
      ],
      "metadata": {
        "colab": {
          "base_uri": "https://localhost:8080/"
        },
        "id": "u3CqxWoj_RvX",
        "outputId": "29c20246-dabd-4372-8f6b-b308f6efdc60"
      },
      "execution_count": null,
      "outputs": [
        {
          "output_type": "stream",
          "name": "stdout",
          "text": [
            "1 is not a prime number\n",
            "2 is not a prime number\n",
            "3 is not a prime number\n",
            "4 is not a prime number\n",
            "5 is not a prime number\n",
            "6 is not a prime number\n",
            "7 is not a prime number\n",
            "8 is not a prime number\n",
            "9 is not a prime number\n",
            "10 is not a prime number\n",
            "11 is not a prime number\n",
            "12 is not a prime number\n",
            "13 is not a prime number\n",
            "14 is not a prime number\n",
            "15 is not a prime number\n",
            "16 is not a prime number\n",
            "17 is not a prime number\n",
            "18 is not a prime number\n",
            "19 is not a prime number\n",
            "20 is not a prime number\n",
            "21 is not a prime number\n",
            "22 is not a prime number\n",
            "23 is not a prime number\n",
            "24 is not a prime number\n",
            "25 is not a prime number\n",
            "26 is not a prime number\n",
            "27 is not a prime number\n",
            "28 is not a prime number\n",
            "29 is not a prime number\n",
            "30 is not a prime number\n",
            "31 is not a prime number\n",
            "32 is not a prime number\n",
            "33 is not a prime number\n",
            "34 is not a prime number\n",
            "35 is not a prime number\n",
            "36 is not a prime number\n",
            "37 is not a prime number\n",
            "38 is not a prime number\n",
            "39 is not a prime number\n",
            "40 is not a prime number\n",
            "41 is not a prime number\n",
            "42 is not a prime number\n",
            "43 is not a prime number\n",
            "44 is not a prime number\n",
            "45 is not a prime number\n",
            "46 is not a prime number\n",
            "47 is not a prime number\n",
            "48 is not a prime number\n",
            "49 is not a prime number\n",
            "50 is not a prime number\n",
            "51 is not a prime number\n",
            "52 is not a prime number\n",
            "53 is not a prime number\n",
            "54 is not a prime number\n",
            "55 is not a prime number\n",
            "56 is not a prime number\n",
            "57 is not a prime number\n",
            "58 is not a prime number\n",
            "59 is not a prime number\n",
            "60 is not a prime number\n",
            "61 is not a prime number\n",
            "62 is not a prime number\n",
            "63 is not a prime number\n",
            "64 is not a prime number\n",
            "65 is not a prime number\n",
            "66 is not a prime number\n",
            "67 is not a prime number\n",
            "68 is not a prime number\n",
            "69 is not a prime number\n",
            "70 is not a prime number\n",
            "71 is not a prime number\n",
            "72 is not a prime number\n",
            "73 is not a prime number\n",
            "74 is not a prime number\n",
            "75 is not a prime number\n",
            "76 is not a prime number\n",
            "77 is not a prime number\n",
            "78 is not a prime number\n",
            "79 is not a prime number\n",
            "80 is not a prime number\n",
            "81 is not a prime number\n",
            "82 is not a prime number\n",
            "83 is not a prime number\n",
            "84 is not a prime number\n",
            "85 is not a prime number\n",
            "86 is not a prime number\n",
            "87 is not a prime number\n",
            "88 is not a prime number\n",
            "89 is not a prime number\n",
            "90 is not a prime number\n",
            "91 is not a prime number\n",
            "92 is not a prime number\n",
            "93 is not a prime number\n",
            "94 is not a prime number\n",
            "95 is not a prime number\n",
            "96 is not a prime number\n",
            "97 is not a prime number\n",
            "98 is not a prime number\n",
            "99 is not a prime number\n",
            "100 is not a prime number\n",
            "101 is not a prime number\n",
            "102 is not a prime number\n",
            "103 is not a prime number\n",
            "104 is not a prime number\n",
            "105 is not a prime number\n",
            "106 is not a prime number\n",
            "107 is not a prime number\n",
            "108 is not a prime number\n",
            "109 is not a prime number\n",
            "110 is not a prime number\n",
            "111 is not a prime number\n",
            "112 is not a prime number\n",
            "113 is not a prime number\n",
            "114 is not a prime number\n",
            "115 is not a prime number\n",
            "116 is not a prime number\n",
            "117 is not a prime number\n",
            "118 is not a prime number\n",
            "119 is not a prime number\n",
            "120 is not a prime number\n",
            "121 is not a prime number\n",
            "122 is not a prime number\n",
            "123 is not a prime number\n",
            "124 is not a prime number\n",
            "125 is not a prime number\n",
            "126 is not a prime number\n",
            "127 is not a prime number\n",
            "128 is not a prime number\n",
            "129 is not a prime number\n",
            "130 is not a prime number\n",
            "131 is not a prime number\n",
            "132 is not a prime number\n",
            "133 is not a prime number\n",
            "134 is not a prime number\n",
            "135 is not a prime number\n",
            "136 is not a prime number\n",
            "137 is not a prime number\n",
            "138 is not a prime number\n",
            "139 is not a prime number\n",
            "140 is not a prime number\n",
            "141 is not a prime number\n",
            "142 is not a prime number\n",
            "143 is not a prime number\n",
            "144 is not a prime number\n",
            "145 is not a prime number\n",
            "146 is not a prime number\n",
            "147 is not a prime number\n",
            "148 is not a prime number\n",
            "149 is not a prime number\n",
            "150 is not a prime number\n",
            "151 is not a prime number\n",
            "152 is not a prime number\n",
            "153 is not a prime number\n",
            "154 is not a prime number\n",
            "155 is not a prime number\n",
            "156 is not a prime number\n",
            "157 is not a prime number\n",
            "158 is not a prime number\n",
            "159 is not a prime number\n",
            "160 is not a prime number\n",
            "161 is not a prime number\n",
            "162 is not a prime number\n",
            "163 is not a prime number\n",
            "164 is not a prime number\n",
            "165 is not a prime number\n",
            "166 is not a prime number\n",
            "167 is not a prime number\n",
            "168 is not a prime number\n",
            "169 is not a prime number\n",
            "170 is not a prime number\n",
            "171 is not a prime number\n",
            "172 is not a prime number\n",
            "173 is not a prime number\n",
            "174 is not a prime number\n",
            "175 is not a prime number\n",
            "176 is not a prime number\n",
            "177 is not a prime number\n",
            "178 is not a prime number\n",
            "179 is not a prime number\n",
            "180 is not a prime number\n",
            "181 is not a prime number\n",
            "182 is not a prime number\n",
            "183 is not a prime number\n",
            "184 is not a prime number\n",
            "185 is not a prime number\n",
            "186 is not a prime number\n",
            "187 is not a prime number\n",
            "188 is not a prime number\n",
            "189 is not a prime number\n",
            "190 is not a prime number\n",
            "191 is not a prime number\n",
            "192 is not a prime number\n",
            "193 is not a prime number\n",
            "194 is not a prime number\n",
            "195 is not a prime number\n",
            "196 is not a prime number\n",
            "197 is not a prime number\n",
            "198 is not a prime number\n",
            "199 is not a prime number\n",
            "200 is not a prime number\n"
          ]
        }
      ]
    },
    {
      "cell_type": "code",
      "source": [],
      "metadata": {
        "id": "aYorq-f9_SNR"
      },
      "execution_count": null,
      "outputs": []
    },
    {
      "cell_type": "markdown",
      "source": [
        "ques 5\n",
        "\n",
        "Create an iterator class in Python that generates the Fibonacci sequence up to a specified number of\n",
        "terms."
      ],
      "metadata": {
        "id": "eT3ZeYYmAD5-"
      }
    },
    {
      "cell_type": "code",
      "source": [
        ">>> def fibonacci_of(n):\n",
        "...     if n in {0, 1}:  # Base case\n",
        "...         return n\n",
        "...     return fibonacci_of(n - 1) + fibonacci_of(n - 2)  # Recursive case\n",
        "...\n",
        "\n",
        ">>> [fibonacci_of(n) for n in range(15)]\n",
        "[0, 1, 1, 2, 3, 5, 8, 13, 21, 34, 55, 89, 144, 233, 377]"
      ],
      "metadata": {
        "colab": {
          "base_uri": "https://localhost:8080/"
        },
        "id": "sM4kIMmVAIMJ",
        "outputId": "1df53882-8a30-4190-8dc1-62c11ef31fa4"
      },
      "execution_count": null,
      "outputs": [
        {
          "output_type": "execute_result",
          "data": {
            "text/plain": [
              "[0, 1, 1, 2, 3, 5, 8, 13, 21, 34, 55, 89, 144, 233, 377]"
            ]
          },
          "metadata": {},
          "execution_count": 39
        }
      ]
    },
    {
      "cell_type": "code",
      "source": [
        "num = 10\n",
        "n1, n2 = 0, 1\n",
        "print(\"Fibonacci Series:\", n1, n2, end=\" \")\n",
        "for i in range(2, num):\n",
        "    n3 = n1 + n2\n",
        "    n1 = n2\n",
        "    n2 = n3\n",
        "    print(n3, end=\" \")\n",
        "\n",
        "print()"
      ],
      "metadata": {
        "colab": {
          "base_uri": "https://localhost:8080/"
        },
        "id": "ti1KtYASA4bq",
        "outputId": "42442f04-c3cb-40a6-f316-11dc7bc08431"
      },
      "execution_count": null,
      "outputs": [
        {
          "output_type": "stream",
          "name": "stdout",
          "text": [
            "Fibonacci Series: 0 1 1 2 3 5 8 13 21 34 \n"
          ]
        }
      ]
    },
    {
      "cell_type": "markdown",
      "source": [
        " quest 6\n",
        "\n",
        " Write a generator function in Python that yields the powers of 2 up to a given exponent"
      ],
      "metadata": {
        "id": "wc7iBPDuCjtp"
      }
    },
    {
      "cell_type": "code",
      "source": [
        "def powers_of_two(exponent):\n",
        "    base = 2\n",
        "    result = 1\n",
        "    for i in range(exponent + 1):\n",
        "        yield result\n",
        "        result *= base"
      ],
      "metadata": {
        "id": "5uQa5udXCnX7"
      },
      "execution_count": null,
      "outputs": []
    },
    {
      "cell_type": "code",
      "source": [
        "for power in powers_of_two(5):\n",
        "    print(power)"
      ],
      "metadata": {
        "colab": {
          "base_uri": "https://localhost:8080/"
        },
        "id": "CzGPTrxZC8nq",
        "outputId": "01c8c07e-8989-4cea-9687-913b298bd3cf"
      },
      "execution_count": null,
      "outputs": [
        {
          "output_type": "stream",
          "name": "stdout",
          "text": [
            "1\n",
            "2\n",
            "4\n",
            "8\n",
            "16\n",
            "32\n"
          ]
        }
      ]
    },
    {
      "cell_type": "markdown",
      "source": [
        "ques 7\n",
        "\n",
        " Implement a generator function that reads a file line by line and yields each line as a string."
      ],
      "metadata": {
        "id": "0q_YPIRuD5qk"
      }
    },
    {
      "cell_type": "code",
      "source": [
        "# Python code to\n",
        "# demonstrate readlines()\n",
        "\n",
        "L = [\"Geeks\\n\", \"for\\n\", \"Geeks\\n\"]\n",
        "\n",
        "# writing to file\n",
        "file1 = open('myfile.txt', 'w')\n",
        "file1.writelines(L)\n",
        "file1.close()\n",
        "\n",
        "# Using readlines()\n",
        "file1 = open('myfile.txt', 'r')\n",
        "Lines = file1.readlines()\n",
        "\n",
        "count = 0\n",
        "# Strips the newline character\n",
        "for line in Lines:\n",
        "    count += 1\n",
        "    print(\"Line{}: {}\".format(count, line.strip()))\n"
      ],
      "metadata": {
        "colab": {
          "base_uri": "https://localhost:8080/"
        },
        "id": "KzX_X5H2ESuu",
        "outputId": "ecaaaee2-a662-4a95-d032-381e39ac72ac"
      },
      "execution_count": null,
      "outputs": [
        {
          "output_type": "stream",
          "name": "stdout",
          "text": [
            "Line1: Geeks\n",
            "Line2: for\n",
            "Line3: Geeks\n"
          ]
        }
      ]
    },
    {
      "cell_type": "markdown",
      "source": [
        "ques 8\n",
        "\n",
        " Use a lambda function in Python to sort a list of tuples based on the second element of each tuple"
      ],
      "metadata": {
        "id": "yVa3jij_Fvjv"
      }
    },
    {
      "cell_type": "code",
      "source": [
        "# Define the list of tuples\n",
        "tuples = [('a', 3), ('b', 1), ('c', 2), ('d', 4)]\n",
        "\n",
        "# Sort the list using a lambda function\n",
        "sorted_tuples = sorted(tuples, key=lambda x: x[1])\n",
        "\n",
        "print(sorted_tuples)"
      ],
      "metadata": {
        "colab": {
          "base_uri": "https://localhost:8080/"
        },
        "id": "YhzwGzS8Fz25",
        "outputId": "1329c40f-461c-46ad-e4ee-7d5e7ce6c223"
      },
      "execution_count": null,
      "outputs": [
        {
          "output_type": "stream",
          "name": "stdout",
          "text": [
            "[('b', 1), ('c', 2), ('a', 3), ('d', 4)]\n"
          ]
        }
      ]
    },
    {
      "cell_type": "code",
      "source": [
        "tuples = [('shubhi'), ('ashu'), ('sejal'), ('nimit')]\n",
        "\n",
        "# Sort the list using a lambda function\n",
        "sorted_tuples = sorted(tuples, key=lambda x: x[1])\n",
        "\n",
        "print(sorted_tuples)"
      ],
      "metadata": {
        "colab": {
          "base_uri": "https://localhost:8080/"
        },
        "id": "EgBjdNmJGRvm",
        "outputId": "a6dd391f-24a6-44d3-b261-6f23e0ce2cb7"
      },
      "execution_count": null,
      "outputs": [
        {
          "output_type": "stream",
          "name": "stdout",
          "text": [
            "['sejal', 'shubhi', 'nimit', 'ashu']\n"
          ]
        }
      ]
    },
    {
      "cell_type": "markdown",
      "source": [
        " ques 9\n",
        "\n",
        " Write a Python program that uses `map()` to convert a list of temperatures from Celsius to Fahrenheit"
      ],
      "metadata": {
        "id": "x9Hqp6NnHTqh"
      }
    },
    {
      "cell_type": "code",
      "source": [
        "celsius_temps = [20, 30, 40, 50]\n",
        "\n",
        "def celsius_to_fahrenheit(celsius):\n",
        "    return (celsius * 9/5) + 32\n",
        "\n",
        "fahrenheit_temps = list(map(celsius_to_fahrenheit, celsius_temps))\n",
        "\n",
        "print(fahrenheit_temps)  # [68.0, 86.0, 104.0, 122.0]"
      ],
      "metadata": {
        "colab": {
          "base_uri": "https://localhost:8080/"
        },
        "id": "9Ba9hb79HW_Y",
        "outputId": "c4444e98-6f22-41e1-8fde-5582e04d6b6d"
      },
      "execution_count": null,
      "outputs": [
        {
          "output_type": "stream",
          "name": "stdout",
          "text": [
            "[68.0, 86.0, 104.0, 122.0]\n"
          ]
        }
      ]
    },
    {
      "cell_type": "markdown",
      "source": [
        "ques 10\n",
        "\n",
        " Create a Python program that uses `filter()` to remove all the vowels from a given string.\n",
        "\n",
        "\n"
      ],
      "metadata": {
        "id": "FdduVM65H62S"
      }
    },
    {
      "cell_type": "code",
      "source": [
        "def remove_vowels(s):\n",
        "    vowels = 'aeiouAEIOU'\n",
        "    return ' '.join(filter(lambda c: c not in vowels, s))\n",
        "\n",
        "\n",
        "input_string = \"Hello, World!\"\n",
        "output_string = remove_vowels(input_string)\n",
        "print(output_string)"
      ],
      "metadata": {
        "colab": {
          "base_uri": "https://localhost:8080/"
        },
        "id": "R_1F4DNMH9zg",
        "outputId": "9607a21b-486f-4f13-d494-3709bad7e242"
      },
      "execution_count": null,
      "outputs": [
        {
          "output_type": "stream",
          "name": "stdout",
          "text": [
            "H l l ,   W r l d !\n"
          ]
        }
      ]
    },
    {
      "cell_type": "markdown",
      "source": [
        "QUES 11\n",
        " Imagine an accounting routine used in a book shop. It works on a list with sublists, which look like this:\n",
        "\n",
        "\n",
        "\n",
        "\n",
        "\n",
        "\n",
        "\n",
        "Write a Python program, which returns a list with 2-tuples. Each tuple consists of the order number and the\n",
        "product of the price per item and the quantity. The product should be increased by 10,- € if the value of the\n",
        "order is smaller than 100,00 €.\n",
        "\n",
        "Write a Python program using lambda and map."
      ],
      "metadata": {
        "id": "kmoL7g0kJQFX"
      }
    },
    {
      "cell_type": "code",
      "source": [
        "orders = [\n",
        "    [34587, 'Learning Python, Mark Lutz', 4, 40.95],\n",
        "    [98762, 'Programming Python, Mark Lutz', 5, 56.80],\n",
        "    [77226, 'Head First Python, Paul Barry', 3, 32.95],\n",
        "    [88112, 'Einführung in Python3, Bernd Klein', 3, 24.99]\n",
        "]\n",
        "\n",
        "result = list(map(lambda x: (x[0], x[2] * x[3] if x[2] * x[3] >= 10000 else x[2] * x[3] + 10), orders))\n",
        "\n",
        "print(result)"
      ],
      "metadata": {
        "colab": {
          "base_uri": "https://localhost:8080/"
        },
        "id": "vKiP884kJQ0g",
        "outputId": "b1508f44-ee6d-491d-888f-18128f47c7a7"
      },
      "execution_count": null,
      "outputs": [
        {
          "output_type": "stream",
          "name": "stdout",
          "text": [
            "[(34587, 173.8), (98762, 294.0), (77226, 108.85000000000001), (88112, 84.97)]\n"
          ]
        }
      ]
    },
    {
      "cell_type": "markdown",
      "source": [
        "THEORETICAL QUESTIONS"
      ],
      "metadata": {
        "id": "BVilrRUuQR5k"
      }
    },
    {
      "cell_type": "markdown",
      "source": [
        "QUES 1\n",
        " What is the difference between a function and a method in Python?"
      ],
      "metadata": {
        "id": "dB0Pm9mNl3cn"
      }
    },
    {
      "cell_type": "markdown",
      "source": [],
      "metadata": {
        "id": "3pWuS61bQQ0Y"
      }
    },
    {
      "cell_type": "markdown",
      "source": [
        "In Python, both functions and methods are blocks of code that perform a specific task. However, there are key differences between the two:\n",
        "\n",
        "Functions\n",
        "\n",
        "Independent: Functions are standalone, independent entities that can be called without referencing an object or class.\n",
        "No implicit object: Functions do not have an implicit self or cls parameter, which means they don’t have access to an object’s or class’s attributes or methods.\n",
        "Called by name: Functions are called by their name, without referencing an object or class.\n",
        "Scope: Functions have their own scope, which means variables defined within a function are local to that function.\n",
        "\n",
        "\n",
        "\n",
        "Methods\n",
        "\n",
        "Associated with objects/classes: Methods are associated with a specific object or class, and are called on that object or class.\n",
        "Implicit self or cls: Methods have an implicit self parameter (for instance methods) or cls parameter (for class methods), which refers to the object or class on which the method is called.\n",
        "Called on an object: Methods are called on an object or class, using dot notation (e.g., obj.method()).\n",
        "Access to object/class attributes: Methods have access to the object’s or class’s attributes and methods, allowing them to manipulate or extend the object’s behavior."
      ],
      "metadata": {
        "id": "MhQ0gG4Pl3gI"
      }
    },
    {
      "cell_type": "markdown",
      "source": [
        "method example"
      ],
      "metadata": {
        "id": "1TPN22-moHrr"
      }
    },
    {
      "cell_type": "code",
      "source": [
        "# Python 3 User-Defined Method\n",
        "class ABC :\n",
        "\tdef method_abc (self):\n",
        "\t\tprint(\"I am in method_abc of ABC class. \")\n",
        "\n",
        "class_ref = ABC() # object of ABC class\n",
        "class_ref.method_abc()\n"
      ],
      "metadata": {
        "colab": {
          "base_uri": "https://localhost:8080/"
        },
        "id": "sgUPvpPcm1eb",
        "outputId": "649903b7-84f3-44af-8189-c8abd3be0213"
      },
      "execution_count": null,
      "outputs": [
        {
          "output_type": "stream",
          "name": "stdout",
          "text": [
            "I am in method_abc of ABC class. \n"
          ]
        }
      ]
    },
    {
      "cell_type": "markdown",
      "source": [],
      "metadata": {
        "id": "E2LnXomOl3of"
      }
    },
    {
      "cell_type": "code",
      "source": [
        "import math\n",
        "\n",
        "ceil_val = math.ceil(15.25)\n",
        "print( \"Ceiling value of 15.25 is : \", ceil_val)\n"
      ],
      "metadata": {
        "colab": {
          "base_uri": "https://localhost:8080/"
        },
        "id": "9GHZ1jjdm9Hm",
        "outputId": "d5d71d4e-06e5-4d74-cc7f-778f57f7de11"
      },
      "execution_count": null,
      "outputs": [
        {
          "output_type": "stream",
          "name": "stdout",
          "text": [
            "Ceiling value of 15.25 is :  16\n"
          ]
        }
      ]
    },
    {
      "cell_type": "code",
      "source": [
        "#in this example, greet is a method associated with the Greeter class. It’s called using an instance of the class (greeter), and it has access to the name attribute of the instance.\n",
        "\n",
        "class Greeter:\n",
        "    def __init__(self, name):\n",
        "        self.name = name\n",
        "\n",
        "    def greet(self):\n",
        "        return f\"Hello, {self.name}!\"\n",
        "\n",
        "greeter = Greeter(\"Bob\")\n",
        "print(greeter.greet())"
      ],
      "metadata": {
        "colab": {
          "base_uri": "https://localhost:8080/"
        },
        "id": "fTojTYwyosf1",
        "outputId": "7af22e51-3458-42fe-8a0d-87acb216d9d4"
      },
      "execution_count": null,
      "outputs": [
        {
          "output_type": "stream",
          "name": "stdout",
          "text": [
            "Hello, Bob!\n"
          ]
        }
      ]
    },
    {
      "cell_type": "markdown",
      "source": [
        "function example"
      ],
      "metadata": {
        "id": "tz_gik_nl3qy"
      }
    },
    {
      "cell_type": "code",
      "source": [
        "def Subtract (a, b):\n",
        "\treturn (a-b)\n",
        "\n",
        "print( Subtract(10, 12) ) # prints -2\n",
        "\n",
        "print( Subtract(15, 6) ) # prints 9\n"
      ],
      "metadata": {
        "colab": {
          "base_uri": "https://localhost:8080/"
        },
        "id": "zD2CEvxzoBrN",
        "outputId": "41aec992-be3d-4c58-cf64-fdd6d4c3e34b"
      },
      "execution_count": null,
      "outputs": [
        {
          "output_type": "stream",
          "name": "stdout",
          "text": [
            "-2\n",
            "9\n"
          ]
        }
      ]
    },
    {
      "cell_type": "code",
      "source": [
        "s = sum([5, 15, 2])\n",
        "print( s ) # prints 22\n",
        "\n",
        "mx = max(15, 6)\n",
        "print( mx ) # prints 15\n"
      ],
      "metadata": {
        "colab": {
          "base_uri": "https://localhost:8080/"
        },
        "id": "G39JFeXtoE6c",
        "outputId": "1eb067ff-a5e4-4655-9f7b-9a7ef0329f31"
      },
      "execution_count": null,
      "outputs": [
        {
          "output_type": "stream",
          "name": "stdout",
          "text": [
            "22\n",
            "15\n"
          ]
        }
      ]
    },
    {
      "cell_type": "code",
      "source": [
        "#In this example, greet is a standalone function that takes a name argument and returns a greeting message. It can be called directly by its name.\n",
        "def greet(name):\n",
        "    return f\"Hello, {name}!\"\n",
        "\n",
        "print(greet(\"Alice\"))\n"
      ],
      "metadata": {
        "colab": {
          "base_uri": "https://localhost:8080/"
        },
        "id": "Rx0mt8Woocrz",
        "outputId": "ef2dce8e-9c71-4965-9810-085c6f57e769"
      },
      "execution_count": null,
      "outputs": [
        {
          "output_type": "stream",
          "name": "stdout",
          "text": [
            "Hello, Alice!\n"
          ]
        }
      ]
    },
    {
      "cell_type": "markdown",
      "source": [
        "Methods can override built-in operators (e.g., __str__, __add__) to provide custom behavior when working with objects.\n",
        "Methods can also be used to implement object-oriented programming (OOP) concepts like encapsulation, inheritance, and polymorphism.\n",
        "Functions, on the other hand, are more general-purpose and don’t have direct ties to specific objects or classes.\n",
        "In summary, while both functions and methods are blocks of code, methods are closely tied to classes and objects, providing a way to manipulate and interact with their data, whereas functions are standalone and don’t have direct access to external data.\n",
        "\n"
      ],
      "metadata": {
        "id": "Mcvnrc-Wl3tN"
      }
    },
    {
      "cell_type": "markdown",
      "source": [
        "QUES 2"
      ],
      "metadata": {
        "id": "uC59iZKhl3wq"
      }
    },
    {
      "cell_type": "markdown",
      "source": [
        " Explain the concept of function arguments and parameters in Python.\n",
        "\n"
      ],
      "metadata": {
        "id": "Z8kt-alwpYRu"
      }
    },
    {
      "cell_type": "markdown",
      "source": [
        "In Python, function arguments and parameters are related but distinct concepts.\n",
        "\n",
        "Function Parameters: When defining a function, you specify parameters inside the function definition, enclosed in parentheses (). These parameters are placeholders for values that will be passed to the function when it’s called. Parameters are part of the function’s signature and are defined at the time of function creation.\n"
      ],
      "metadata": {
        "id": "EcIL04E_pYOK"
      }
    },
    {
      "cell_type": "code",
      "source": [
        "def greet(name, age):\n",
        "    print(f\"Hello, {name}! You are {age} years old.\")"
      ],
      "metadata": {
        "id": "TJEa0ronpkFq"
      },
      "execution_count": null,
      "outputs": []
    },
    {
      "cell_type": "code",
      "source": [
        "greet(\"John\", 30)  # John and 30 are function arguments"
      ],
      "metadata": {
        "colab": {
          "base_uri": "https://localhost:8080/"
        },
        "id": "NgMY2dNSprz6",
        "outputId": "695431c8-a6bd-453a-be57-4dd0e3f84f8d"
      },
      "execution_count": null,
      "outputs": [
        {
          "output_type": "stream",
          "name": "stdout",
          "text": [
            "Hello, John! You are 30 years old.\n"
          ]
        }
      ]
    },
    {
      "cell_type": "markdown",
      "source": [
        "\"John\" and 30 are function arguments, which are assigned to the name and age parameters, respectively."
      ],
      "metadata": {
        "id": "cIOI0Q_Xp4QT"
      }
    },
    {
      "cell_type": "markdown",
      "source": [
        "in this example, name and age are function parameters.\n",
        "\n",
        "Function Arguments: When calling a function, you pass arguments to the function, which are assigned to the corresponding parameters. Arguments are the actual values provided when invoking the function.\n"
      ],
      "metadata": {
        "id": "y5DIY_WvpYL0"
      }
    },
    {
      "cell_type": "markdown",
      "source": [
        "Key differences:\n",
        "\n",
        "Definition: Parameters are defined at function creation time, while arguments are provided at function call time.\n",
        "Scope: Parameters are part of the function’s signature and are accessible within the function’s body. Arguments are the actual values passed to the function and are only accessible within the function’s body.\n",
        "Type: Parameters are declared with a specific data type (e.g., int, str), while arguments can be of any type that matches the parameter’s type.\n",
        "Python supports several types of function arguments:\n",
        "\n",
        "Positional Arguments: Arguments passed in the order they are defined in the function signature.\n",
        "Keyword Arguments: Arguments passed with a keyword (name) that matches a parameter name, allowing for flexibility in the order of argument passing.\n",
        "Arbitrary Arguments (using *args): A variable number of arguments, collected as a tuple.\n",
        "Arbitrary Keyword Arguments (using **kwargs): A variable number of keyword arguments, collected as a dictionary."
      ],
      "metadata": {
        "id": "oBna-w0WpYJm"
      }
    },
    {
      "cell_type": "code",
      "source": [
        "# Here a,b are the parameters   >> A parameter is the variable defined within the parentheses during function definition. Simply they are written when we declare a function.\n",
        "def sum(a,b):\n",
        "  print(a+b)\n",
        "\n",
        "sum(1,2)"
      ],
      "metadata": {
        "colab": {
          "base_uri": "https://localhost:8080/"
        },
        "id": "3EZEPgERqBcr",
        "outputId": "8943ecbf-f15a-4c1c-eac0-c4ce2598a8c9"
      },
      "execution_count": null,
      "outputs": [
        {
          "output_type": "stream",
          "name": "stdout",
          "text": [
            "3\n"
          ]
        }
      ]
    },
    {
      "cell_type": "code",
      "source": [
        "def sum(a,b):  #An argument is a value that is passed to a function when it is called. It might be a variable, value or object passed to a function or method as input. They are written when we are calling the function.\n",
        "  print(a+b)\n",
        "\n",
        "# Here the values 1,2 are arguments\n",
        "sum(1,2)"
      ],
      "metadata": {
        "id": "cH_hGYQxqJAq"
      },
      "execution_count": null,
      "outputs": []
    },
    {
      "cell_type": "markdown",
      "source": [
        "positional argument"
      ],
      "metadata": {
        "id": "jigHwVaXqvE5"
      }
    },
    {
      "cell_type": "code",
      "source": [
        "def person_name(first_name,second_name):\n",
        "  print(first_name+second_name)\n",
        "\n",
        "# First name is Ram placed first\n",
        "# Second name is Babu place second\n",
        "person_name(\"Ram\",\"Babu\")\n"
      ],
      "metadata": {
        "colab": {
          "base_uri": "https://localhost:8080/"
        },
        "id": "MrR3CGyRqljW",
        "outputId": "700f1f6b-2638-4ebd-d72b-957204872cff"
      },
      "execution_count": null,
      "outputs": [
        {
          "output_type": "stream",
          "name": "stdout",
          "text": [
            "RamBabu\n"
          ]
        }
      ]
    },
    {
      "cell_type": "markdown",
      "source": [
        "keyword argument"
      ],
      "metadata": {
        "id": "F86r1RUJqspu"
      }
    },
    {
      "cell_type": "code",
      "source": [
        "def person_name(first_name,second_name):\n",
        "  print(first_name+second_name)\n",
        "\n",
        "# Here we are explicitly assigning the values\n",
        "person_name(second_name=\"Babu\",first_name=\"Ram\")"
      ],
      "metadata": {
        "colab": {
          "base_uri": "https://localhost:8080/"
        },
        "id": "2tdAOmaOqmGE",
        "outputId": "d41db204-5a2c-45fb-e46b-0cd8f18bc35e"
      },
      "execution_count": null,
      "outputs": [
        {
          "output_type": "stream",
          "name": "stdout",
          "text": [
            "RamBabu\n"
          ]
        }
      ]
    },
    {
      "cell_type": "markdown",
      "source": [
        "QUES 3"
      ],
      "metadata": {
        "id": "0ud5OyH4Qdk_"
      }
    },
    {
      "cell_type": "markdown",
      "source": [
        "What are the different ways to define and call a function in Python?"
      ],
      "metadata": {
        "id": "bTHJ7zkDq1ue"
      }
    },
    {
      "cell_type": "markdown",
      "source": [
        "Defining Functions\n",
        "\n",
        "1 - Basic Syntax: Use the def keyword followed by the function name and parentheses (). The function body is indented under the def statement.\n",
        "Example: def greet(name): print(f\"Hello, {name}!\")\n",
        "\n",
        "2 - Lambda Functions: Use the lambda keyword to define anonymous functions. Lambda functions can take any number of arguments, but can only have one expression.\n",
        "Example: double = lambda x: x * 2\n",
        "\n",
        "Calling Functions\n",
        "\n",
        "1 - Function Call: Simply use the function name followed by parentheses () and any required arguments.\n",
        "Example: greet(\"John\")\n",
        "\n",
        "2 - Passing Arguments: Pass values to the function by separating them with commas within the parentheses.\n",
        "Example: double(5) or double(5, 10)\n",
        "\n",
        "3 - Default Arguments: Provide default values for arguments, which can be used if no value is passed.\n",
        "Example: def greet(name = \"World\"): print(f\"Hello, {name}!\")\n",
        "\n",
        "4 - Variable Number of Arguments: Use the *args syntax to accept a variable number of arguments.\n",
        "Example: def sum_numbers(*numbers): return sum(numbers)\n",
        "\n",
        "5 - Keyword Arguments: Use the **kwargs syntax to accept keyword arguments.\n",
        "Example: def person(name, age, **extra): print(f\"{name} is {age} years old. Extra details: {extra}\")\n",
        "\n",
        "6 - Nested Functions: Define functions within other functions.\n",
        "Example: def outer(): def inner(): print(\"Inner function called\"); inner()\n",
        "\n",
        "7 - Anonymous Functions: Use lambda functions as arguments to higher-order functions (functions that take functions as arguments).\n",
        "Example: map(lambda x: x * 2, [1, 2, 3])"
      ],
      "metadata": {
        "id": "HgP5znj_q1rB"
      }
    },
    {
      "cell_type": "code",
      "source": [],
      "metadata": {
        "id": "xogy_nfkr-Ko"
      },
      "execution_count": null,
      "outputs": []
    },
    {
      "cell_type": "code",
      "source": [
        "#In Python a function is defined using the def keyword:\n",
        "\n",
        "\n",
        "def my_function():\n",
        "  print(\"Hello from a function\")"
      ],
      "metadata": {
        "id": "vI6aSvzVrvUj"
      },
      "execution_count": null,
      "outputs": []
    },
    {
      "cell_type": "code",
      "source": [
        "#To call a function, use the function name followed by parenthesis:\n",
        "\n",
        "\n",
        "def my_function():\n",
        "  print(\"Hello from a function\")\n",
        "\n",
        "my_function()"
      ],
      "metadata": {
        "colab": {
          "base_uri": "https://localhost:8080/"
        },
        "id": "K6f8XeqdrvRE",
        "outputId": "666170af-4253-4dff-8074-afb9ee4bb4de"
      },
      "execution_count": null,
      "outputs": [
        {
          "output_type": "stream",
          "name": "stdout",
          "text": [
            "Hello from a function\n"
          ]
        }
      ]
    },
    {
      "cell_type": "markdown",
      "source": [
        "Arguments\n",
        "Information can be passed into functions as arguments.\n",
        "\n",
        "Arguments are specified after the function name, inside the parentheses. You can add as many arguments as you want, just separate them with a comma.\n",
        "\n",
        "The following example has a function with one argument (fname). When the function is called, we pass along a first name, which is used inside the function to print the full name:"
      ],
      "metadata": {
        "id": "AEedI8jnsB5d"
      }
    },
    {
      "cell_type": "code",
      "source": [
        "def my_function(fname):\n",
        "  print(fname + \" Refsnes\")\n",
        "\n",
        "my_function(\"Emil\")\n",
        "my_function(\"Tobias\")\n",
        "my_function(\"Linus\")"
      ],
      "metadata": {
        "colab": {
          "base_uri": "https://localhost:8080/"
        },
        "id": "eanqVPbKrvOn",
        "outputId": "0525eea9-01a1-4794-82b8-47964b9ede2e"
      },
      "execution_count": null,
      "outputs": [
        {
          "output_type": "stream",
          "name": "stdout",
          "text": [
            "Emil Refsnes\n",
            "Tobias Refsnes\n",
            "Linus Refsnes\n"
          ]
        }
      ]
    },
    {
      "cell_type": "code",
      "source": [
        "def my_function(fname, lname):\n",
        "  print(fname + \" \" + lname)\n",
        "\n",
        "my_function(\"Emil\", \"Refsnes\")"
      ],
      "metadata": {
        "colab": {
          "base_uri": "https://localhost:8080/"
        },
        "id": "zoISXi68rvMR",
        "outputId": "353dd899-e3f9-4893-bc1e-ca3e2ced4fa1"
      },
      "execution_count": null,
      "outputs": [
        {
          "output_type": "stream",
          "name": "stdout",
          "text": [
            "Emil Refsnes\n"
          ]
        }
      ]
    },
    {
      "cell_type": "code",
      "source": [
        "#This function expects 2 arguments, but gets only 1:\n",
        "\n",
        "def my_function(fname, lname):\n",
        "  print(fname + \" \" + lname)\n",
        "\n",
        "my_function(\"Emil\")\n"
      ],
      "metadata": {
        "colab": {
          "base_uri": "https://localhost:8080/",
          "height": 176
        },
        "id": "c_9OhBd0sUrx",
        "outputId": "ec53bfd4-c817-449b-8827-badb95171e7e"
      },
      "execution_count": null,
      "outputs": [
        {
          "output_type": "error",
          "ename": "TypeError",
          "evalue": "my_function() missing 1 required positional argument: 'lname'",
          "traceback": [
            "\u001b[0;31m---------------------------------------------------------------------------\u001b[0m",
            "\u001b[0;31mTypeError\u001b[0m                                 Traceback (most recent call last)",
            "\u001b[0;32m<ipython-input-22-0588a048a625>\u001b[0m in \u001b[0;36m<cell line: 6>\u001b[0;34m()\u001b[0m\n\u001b[1;32m      4\u001b[0m   \u001b[0mprint\u001b[0m\u001b[0;34m(\u001b[0m\u001b[0mfname\u001b[0m \u001b[0;34m+\u001b[0m \u001b[0;34m\" \"\u001b[0m \u001b[0;34m+\u001b[0m \u001b[0mlname\u001b[0m\u001b[0;34m)\u001b[0m\u001b[0;34m\u001b[0m\u001b[0;34m\u001b[0m\u001b[0m\n\u001b[1;32m      5\u001b[0m \u001b[0;34m\u001b[0m\u001b[0m\n\u001b[0;32m----> 6\u001b[0;31m \u001b[0mmy_function\u001b[0m\u001b[0;34m(\u001b[0m\u001b[0;34m\"Emil\"\u001b[0m\u001b[0;34m)\u001b[0m\u001b[0;34m\u001b[0m\u001b[0;34m\u001b[0m\u001b[0m\n\u001b[0m",
            "\u001b[0;31mTypeError\u001b[0m: my_function() missing 1 required positional argument: 'lname'"
          ]
        }
      ]
    },
    {
      "cell_type": "markdown",
      "source": [
        "Arbitrary Arguments, *args\n",
        "\n",
        "\n",
        "If you do not know how many arguments that will be passed into your function, add a * before the parameter name in the function definition.\n",
        "\n",
        "This way the function will receive a tuple of arguments, and can access the items accordingly:"
      ],
      "metadata": {
        "id": "-R-ujJlesfdR"
      }
    },
    {
      "cell_type": "code",
      "source": [
        "\n",
        "\n",
        "\n",
        "def my_function(*kids):\n",
        "  print(\"The youngest child is \" + kids[2])\n",
        "\n",
        "my_function(\"Emil\", \"Tobias\", \"Linus\")\n"
      ],
      "metadata": {
        "colab": {
          "base_uri": "https://localhost:8080/"
        },
        "id": "Sw_GHhDXsbRU",
        "outputId": "d75cebd4-4bab-4cd5-a87d-2ee2ecfcbc97"
      },
      "execution_count": null,
      "outputs": [
        {
          "output_type": "stream",
          "name": "stdout",
          "text": [
            "The youngest child is Linus\n"
          ]
        }
      ]
    },
    {
      "cell_type": "markdown",
      "source": [
        "Arbitrary Keyword Arguments, **kwargs\n",
        "\n",
        "If you do not know how many keyword arguments that will be passed into your function, add two asterisk: ** before the parameter name in the function definition.\n",
        "\n",
        "This way the function will receive a dictionary of arguments, and can access the items accordingly:\n",
        "\n"
      ],
      "metadata": {
        "id": "SS5Qk2XLq1og"
      }
    },
    {
      "cell_type": "code",
      "source": [
        "\n",
        "\n",
        "def my_function(**kid):\n",
        "  print(\"His last name is \" + kid[\"lname\"])\n",
        "\n",
        "my_function(fname = \"Tobias\", lname = \"Refsnes\")\n"
      ],
      "metadata": {
        "colab": {
          "base_uri": "https://localhost:8080/"
        },
        "id": "XPzN83OgtBHc",
        "outputId": "a2a2d8cc-efc1-4c58-f7c3-0f3c6c171550"
      },
      "execution_count": null,
      "outputs": [
        {
          "output_type": "stream",
          "name": "stdout",
          "text": [
            "His last name is Refsnes\n"
          ]
        }
      ]
    },
    {
      "cell_type": "markdown",
      "source": [],
      "metadata": {
        "id": "C0Y9fT8Lq1l8"
      }
    },
    {
      "cell_type": "code",
      "source": [
        "#Default Parameter Value\n",
        "#The following example shows how to use a default parameter value.\n",
        "\n",
        "#If we call the function without argument, it uses the default value:\n",
        "\n",
        "\n",
        "def my_function(country = \"Norway\"):\n",
        "  print(\"I am from \" + country)\n",
        "\n",
        "my_function(\"Sweden\")\n",
        "my_function(\"India\")\n",
        "my_function()\n",
        "my_function(\"Brazil\")"
      ],
      "metadata": {
        "colab": {
          "base_uri": "https://localhost:8080/"
        },
        "id": "Rd2W2YARtPWv",
        "outputId": "9a6bc496-f366-4363-a9fb-edaef37d0cb0"
      },
      "execution_count": null,
      "outputs": [
        {
          "output_type": "stream",
          "name": "stdout",
          "text": [
            "I am from Sweden\n",
            "I am from India\n",
            "I am from Norway\n",
            "I am from Brazil\n"
          ]
        }
      ]
    },
    {
      "cell_type": "markdown",
      "source": [
        "Passing a List as an Argument\n",
        "\n",
        "\n",
        "You can send any data types of argument to a function (string, number, list, dictionary etc.), and it will be treated as the same data type inside the function.\n",
        "\n",
        "E.g. if you send a List as an argument, it will still be a List when it reaches the function:\n"
      ],
      "metadata": {
        "id": "1UfB6v29tcIN"
      }
    },
    {
      "cell_type": "code",
      "source": [
        "\n",
        "def my_function(food):\n",
        "  for x in food:\n",
        "    print(x)\n",
        "\n",
        "fruits = [\"apple\", \"banana\", \"cherry\"]\n",
        "\n",
        "my_function(fruits)"
      ],
      "metadata": {
        "colab": {
          "base_uri": "https://localhost:8080/"
        },
        "id": "mnDlJ8_VtS4p",
        "outputId": "6c88b32c-b17a-4ccc-e7d5-32ae83722e31"
      },
      "execution_count": null,
      "outputs": [
        {
          "output_type": "stream",
          "name": "stdout",
          "text": [
            "apple\n",
            "banana\n",
            "cherry\n"
          ]
        }
      ]
    },
    {
      "cell_type": "code",
      "source": [
        "#Return Values\n",
        "#To let a function return a value, use the return statement:\n",
        "\n",
        "def my_function(x):\n",
        "  return 5 * x\n",
        "\n",
        "print(my_function(3))\n",
        "print(my_function(5))\n",
        "print(my_function(9))"
      ],
      "metadata": {
        "colab": {
          "base_uri": "https://localhost:8080/"
        },
        "id": "Uqtmo0j8tgIZ",
        "outputId": "69479d17-c2b0-4725-a29b-aac20fbd2578"
      },
      "execution_count": null,
      "outputs": [
        {
          "output_type": "stream",
          "name": "stdout",
          "text": [
            "15\n",
            "25\n",
            "45\n"
          ]
        }
      ]
    },
    {
      "cell_type": "code",
      "source": [
        "#The pass Statement\n",
        "#function definitions cannot be empty, but if you for some reason have a function definition with no content, put in the pass statement to avoid getting an error.\n",
        "\n",
        "def myfunction():\n",
        "\n",
        "  pass\n"
      ],
      "metadata": {
        "id": "6PabyoJwuGwL"
      },
      "execution_count": null,
      "outputs": []
    },
    {
      "cell_type": "code",
      "source": [
        "# having an empty function definition like this, would raise an error without the pass statement"
      ],
      "metadata": {
        "id": "Kafv0Bo9uUr5"
      },
      "execution_count": null,
      "outputs": []
    },
    {
      "cell_type": "code",
      "source": [
        "#Positional-Only Arguments\n",
        "#You can specify that a function can have ONLY positional arguments, or ONLY keyword arguments.\n",
        "\n",
        "#To specify that a function can have only positional arguments, add , / after the arguments:\n",
        "\n",
        "def my_function(x, /):\n",
        "  print(x)\n",
        "\n",
        "my_function(3)"
      ],
      "metadata": {
        "colab": {
          "base_uri": "https://localhost:8080/"
        },
        "id": "8r4pHNTruZmP",
        "outputId": "e6ea4bc3-32fd-4396-e25b-7b1d14867a02"
      },
      "execution_count": null,
      "outputs": [
        {
          "output_type": "stream",
          "name": "stdout",
          "text": [
            "3\n"
          ]
        }
      ]
    },
    {
      "cell_type": "code",
      "source": [
        "def my_function(x):  #Without the , / you are actually allowed to use keyword arguments even if the function expects positional arguments:\n",
        "  print(x)\n",
        "\n",
        "my_function(x = 3)"
      ],
      "metadata": {
        "colab": {
          "base_uri": "https://localhost:8080/"
        },
        "id": "tYAurTt4ugGw",
        "outputId": "460f3984-4e2a-4667-ffe1-143c885bf17f"
      },
      "execution_count": null,
      "outputs": [
        {
          "output_type": "stream",
          "name": "stdout",
          "text": [
            "3\n"
          ]
        }
      ]
    },
    {
      "cell_type": "code",
      "source": [
        "#Keyword-Only Arguments\n",
        "#To specify that a function can have only keyword arguments, add *, before the arguments:\n",
        "\n",
        "\n",
        "def my_function(*, x):\n",
        "  print(x)\n",
        "\n",
        "my_function(x = 3)"
      ],
      "metadata": {
        "colab": {
          "base_uri": "https://localhost:8080/"
        },
        "id": "TLc2MHx9ul_O",
        "outputId": "e079c70a-f5c2-482e-d3e1-fd4bc04c02eb"
      },
      "execution_count": null,
      "outputs": [
        {
          "output_type": "stream",
          "name": "stdout",
          "text": [
            "3\n"
          ]
        }
      ]
    },
    {
      "cell_type": "code",
      "source": [],
      "metadata": {
        "id": "LXBn_81nuviW"
      },
      "execution_count": null,
      "outputs": []
    },
    {
      "cell_type": "markdown",
      "source": [
        "QUES 4"
      ],
      "metadata": {
        "id": "Bfhuoxm7QiOp"
      }
    },
    {
      "cell_type": "markdown",
      "source": [
        "What is the purpose of the `return` statement in a Python function?\n",
        "\n"
      ],
      "metadata": {
        "id": "KkEEeaapvD0e"
      }
    },
    {
      "cell_type": "markdown",
      "source": [
        "In Python, the return statement is used to terminate the execution of a function and send a value back to the caller. It allows a function to produce a result or value that can be used by the calling code.\n",
        "\n",
        "Here are the key purposes of the return statement:\n",
        "\n",
        "Exit the function: The return statement causes the function to stop executing and return control to the caller.\n",
        "Send a value back: The value specified after the return keyword is sent back to the caller, which can be assigned to a variable or used in an expression.\n",
        "Optional: If no value is specified after the return keyword, the function returns None by default.\n",
        "In summary, the return statement is used to:\n",
        "\n",
        "Exit a function\n",
        "Send a value back to the caller\n",
        "Optionally return None if no value is specified"
      ],
      "metadata": {
        "id": "7ZC4AFsBvDxG"
      }
    },
    {
      "cell_type": "code",
      "source": [
        "def add(x, y):\n",
        "    return x + y\n",
        "\n",
        "result = add(2, 3)\n",
        "print(result)"
      ],
      "metadata": {
        "colab": {
          "base_uri": "https://localhost:8080/"
        },
        "id": "wLTWQUmgvOkG",
        "outputId": "2cbf2a10-f67f-4507-ba08-49ea0f0764a7"
      },
      "execution_count": null,
      "outputs": [
        {
          "output_type": "stream",
          "name": "stdout",
          "text": [
            "5\n"
          ]
        }
      ]
    },
    {
      "cell_type": "markdown",
      "source": [
        "In this example, the add function takes two arguments x and y, performs the addition, and returns the result using the return statement. The caller assigns the returned value to the result variable and prints it.\n",
        "\n",
        "Note that you can have multiple return statements in a function, and the function will exit as soon as the first return statement is executed. Any code after that return statement will be skipped.\n",
        "\n",
        "Follow up"
      ],
      "metadata": {
        "id": "HTUt4tHsvDuw"
      }
    },
    {
      "cell_type": "markdown",
      "source": [],
      "metadata": {
        "id": "esxPt7fWvDni"
      }
    },
    {
      "cell_type": "code",
      "source": [
        "# Python program to\n",
        "# demonstrate return statement\n",
        "\n",
        "def add(a, b):\n",
        "\n",
        "    # returning sum of a and b\n",
        "    return a + b\n",
        "\n",
        "def is_true(a):\n",
        "\n",
        "    # returning boolean of a\n",
        "    return bool(a)\n",
        "\n",
        "# calling function\n",
        "res = add(2, 3)\n",
        "print(\"Result of add function is {}\".format(res))\n",
        "\n",
        "res = is_true(2<5)\n",
        "print(\"\\nResult of is_true function is {}\".format(res))\n"
      ],
      "metadata": {
        "colab": {
          "base_uri": "https://localhost:8080/"
        },
        "id": "MeWMEYvQvd83",
        "outputId": "5ca358c1-5278-4c00-c3c9-f0fa4019ca2e"
      },
      "execution_count": null,
      "outputs": [
        {
          "output_type": "stream",
          "name": "stdout",
          "text": [
            "Result of add function is 5\n",
            "\n",
            "Result of is_true function is True\n"
          ]
        }
      ]
    },
    {
      "cell_type": "markdown",
      "source": [
        "QUES 5"
      ],
      "metadata": {
        "id": "FEbxst3hQj-P"
      }
    },
    {
      "cell_type": "markdown",
      "source": [
        " What are iterators in Python and how do they differ from iterables?"
      ],
      "metadata": {
        "id": "7F_CwPMWvk71"
      }
    },
    {
      "cell_type": "markdown",
      "source": [
        "Iterables in Python are objects that can be iterated over, meaning they can be looped through using a for loop or similar constructs. Examples of iterables include lists, tuples, dictionaries, sets, strings, and user-defined objects that implement the iterable protocol (i.e., have an __iter__() method). Iterables can be thought of as “containers” that hold a sequence of values.\n",
        "\n",
        "Iterators, on the other hand, are objects that implement the iterator protocol, which consists of two special methods:\n",
        "\n",
        "__iter__(): returns the iterator object itself (usually self).\n",
        "__next__(): returns the next value from the iterable, or raises a StopIteration exception when there are no more values.\n",
        "In other words, an iterator is an object that knows how to traverse an iterable and yield its elements one by one. When you create an iterator from an iterable, you’re essentially creating a “cursor” that points to the current position in the iterable.\n",
        "\n",
        "Key differences between iterables and iterators:\n",
        "\n",
        "Direction of iteration: Iterables are passive containers, while iterators are active agents that control the iteration process.\n",
        "State: Iterators maintain internal state (e.g., a pointer to the current position) to keep track of where they are in the iteration. Iterables do not have state.\n",
        "Control: Iterators determine when to yield the next value and when to stop iterating (by raising StopIteration). Iterables do not have control over the iteration process."
      ],
      "metadata": {
        "id": "HhAnEDfcvk4x"
      }
    },
    {
      "cell_type": "markdown",
      "source": [],
      "metadata": {
        "id": "6j0_ZSm1vk0A"
      }
    },
    {
      "cell_type": "code",
      "source": [
        "my_list = [1, 2, 3]\n",
        "for elem in my_list:\n",
        "    print(elem)  # prints 1, 2, 3"
      ],
      "metadata": {
        "id": "GPZJJuOcveYb",
        "colab": {
          "base_uri": "https://localhost:8080/"
        },
        "outputId": "77c4cc38-0452-47a1-a1d6-5795d04387d4"
      },
      "execution_count": null,
      "outputs": [
        {
          "output_type": "stream",
          "name": "stdout",
          "text": [
            "1\n",
            "2\n",
            "3\n"
          ]
        }
      ]
    },
    {
      "cell_type": "code",
      "source": [
        "it = iter(my_list)  # creates an iterator object\n",
        "while True:\n",
        "    try:\n",
        "        elem = next(it)  # yields the next value\n",
        "        print(elem)  # prints 1, 2, 3, ...\n",
        "    except StopIteration:\n",
        "        break  # iteration complete"
      ],
      "metadata": {
        "colab": {
          "base_uri": "https://localhost:8080/"
        },
        "id": "wHDfZ47nM_MM",
        "outputId": "5936a667-3875-4cb5-d5f1-bfcc5e96ab40"
      },
      "execution_count": null,
      "outputs": [
        {
          "output_type": "stream",
          "name": "stdout",
          "text": [
            "1\n",
            "2\n",
            "3\n"
          ]
        }
      ]
    },
    {
      "cell_type": "markdown",
      "source": [
        "Iterator vs Iterable\n",
        "Lists, tuples, dictionaries, and sets are all iterable objects. They are iterable containers which you can get an iterator from.\n",
        "\n",
        "All these objects have a iter() method which is used to get an iterator:"
      ],
      "metadata": {
        "id": "uYgqd8ycNYjU"
      }
    },
    {
      "cell_type": "code",
      "source": [
        "mytuple = (\"apple\", \"banana\", \"cherry\")\n",
        "myit = iter(mytuple)\n",
        "\n",
        "print(next(myit))\n",
        "print(next(myit))\n",
        "print(next(myit))"
      ],
      "metadata": {
        "colab": {
          "base_uri": "https://localhost:8080/"
        },
        "id": "Ew3mbPHMNApJ",
        "outputId": "d6732efb-8dd5-4b27-c202-84bb8db87625"
      },
      "execution_count": null,
      "outputs": [
        {
          "output_type": "stream",
          "name": "stdout",
          "text": [
            "apple\n",
            "banana\n",
            "cherry\n"
          ]
        }
      ]
    },
    {
      "cell_type": "code",
      "source": [
        "#Even strings are iterable objects, and can return an iterator:\n",
        "mystr = \"banana\"\n",
        "myit = iter(mystr)\n",
        "\n",
        "print(next(myit))\n",
        "print(next(myit))\n",
        "print(next(myit))\n",
        "print(next(myit))\n",
        "print(next(myit))\n",
        "print(next(myit))"
      ],
      "metadata": {
        "colab": {
          "base_uri": "https://localhost:8080/"
        },
        "id": "nxViBSIBNbRF",
        "outputId": "f7c64e70-e7e3-4e8b-d549-580c4811dd81"
      },
      "execution_count": null,
      "outputs": [
        {
          "output_type": "stream",
          "name": "stdout",
          "text": [
            "b\n",
            "a\n",
            "n\n",
            "a\n",
            "n\n",
            "a\n"
          ]
        }
      ]
    },
    {
      "cell_type": "code",
      "source": [
        "mytuple = (\"apple\", \"banana\", \"cherry\")  #Looping Through an Iterator >> We can also use a for loop to iterate through an iterable object:\n",
        "\n",
        "for x in mytuple:\n",
        "  print(x)"
      ],
      "metadata": {
        "colab": {
          "base_uri": "https://localhost:8080/"
        },
        "id": "NUXVoSIDNhdW",
        "outputId": "4a37bb21-6273-4af0-f1d0-94d8d73619e4"
      },
      "execution_count": null,
      "outputs": [
        {
          "output_type": "stream",
          "name": "stdout",
          "text": [
            "apple\n",
            "banana\n",
            "cherry\n"
          ]
        }
      ]
    },
    {
      "cell_type": "code",
      "source": [
        "mystr = \"banana\"\n",
        "\n",
        "for x in mystr:\n",
        "  print(x)\n"
      ],
      "metadata": {
        "colab": {
          "base_uri": "https://localhost:8080/"
        },
        "id": "iVGPgOnMNq9x",
        "outputId": "1162691c-22a2-47c9-e2f2-24aaaf1df7b9"
      },
      "execution_count": null,
      "outputs": [
        {
          "output_type": "stream",
          "name": "stdout",
          "text": [
            "b\n",
            "a\n",
            "n\n",
            "a\n",
            "n\n",
            "a\n"
          ]
        }
      ]
    },
    {
      "cell_type": "markdown",
      "source": [
        "QUES 6"
      ],
      "metadata": {
        "id": "C9rKUVIbQl32"
      }
    },
    {
      "cell_type": "markdown",
      "source": [
        "Explain the concept of generators in Python and how they are defined.\n",
        "\n"
      ],
      "metadata": {
        "id": "pmXdXA8LN5to"
      }
    },
    {
      "cell_type": "markdown",
      "source": [
        "A generator function in Python is defined like a normal function, but whenever it needs to generate a value, it does so with the yield keyword rather than return. If the body of a def contains yield, the function automatically becomes a Python generator function.\n",
        "\n",
        "In Python, we can create a generator function by simply using the def keyword and the yield keyword. The generator has the following syntax in Python:\n",
        "\n",
        "\n",
        "def function_name():\n",
        "   \n",
        "       \n",
        "       yield statement"
      ],
      "metadata": {
        "id": "3X2rEyt1N8XB"
      }
    },
    {
      "cell_type": "markdown",
      "source": [
        "In Python, a generator is a special type of function that can be used to generate a sequence of values on-the-fly, without storing them all in memory at once. This is achieved through the use of the yield statement, which allows the function to produce a value and suspend its execution, preserving its state.\n",
        "\n",
        "A generator function is defined just like a regular function, but it contains one or more yield statements. When a generator function is called, it returns a generator object, which is an iterator. The iterator can be used to retrieve the values produced by the generator function, one at a time, using the next() function or a for loop."
      ],
      "metadata": {
        "id": "zkaCL7hIN8Tb"
      }
    },
    {
      "cell_type": "markdown",
      "source": [
        "In this example, my_generator is a generator function that takes an integer n as input. It uses a for loop to iterate from 0 to n-1, and yields the doubled value of each iteration using yield. When called, this function returns a generator object, which can be used to retrieve the values:"
      ],
      "metadata": {
        "id": "IBVGF1dPOygv"
      }
    },
    {
      "cell_type": "code",
      "source": [
        "def my_generator(n):\n",
        "    for i in range(n):\n",
        "        yield i * 2"
      ],
      "metadata": {
        "id": "nQiKDXLCN6Pe"
      },
      "execution_count": null,
      "outputs": []
    },
    {
      "cell_type": "markdown",
      "source": [
        "Note that once all values have been yielded, calling next() again will raise a StopIteration exception, indicating that the generator has exhausted its values.\n",
        "\n",
        "Generator expressions, introduced in Python 2.2, provide a concise way to define simple generators. They have the same syntax as list comprehensions, but instead of creating a list, they create a generator object"
      ],
      "metadata": {
        "id": "sGdWIZLxO2RM"
      }
    },
    {
      "cell_type": "code",
      "source": [
        "g = my_generator(5)\n",
        "print(next(g))  # 0\n",
        "print(next(g))  # 2\n",
        "print(next(g))  # 4\n",
        "print(next(g))  # 6\n",
        "print(next(g))  # 8"
      ],
      "metadata": {
        "colab": {
          "base_uri": "https://localhost:8080/"
        },
        "id": "XtxB2HdSOstA",
        "outputId": "fb310376-d44f-4977-f278-943539021d61"
      },
      "execution_count": null,
      "outputs": [
        {
          "output_type": "stream",
          "name": "stdout",
          "text": [
            "0\n",
            "2\n",
            "4\n",
            "6\n",
            "8\n"
          ]
        }
      ]
    },
    {
      "cell_type": "code",
      "source": [
        "g = (x**2 for x in range(5))\n",
        "print(next(g))  # 0\n",
        "print(next(g))  # 1\n",
        "print(next(g))  # 4\n",
        "print(next(g))  # 9\n",
        "print(next(g))  # 16"
      ],
      "metadata": {
        "colab": {
          "base_uri": "https://localhost:8080/"
        },
        "id": "ejjywvDXOuMK",
        "outputId": "446d33fb-e636-46a1-9af3-4095aa7f7fce"
      },
      "execution_count": null,
      "outputs": [
        {
          "output_type": "stream",
          "name": "stdout",
          "text": [
            "0\n",
            "1\n",
            "4\n",
            "9\n",
            "16\n"
          ]
        }
      ]
    },
    {
      "cell_type": "markdown",
      "source": [
        "In summary, generators in Python are defined as functions that use the yield statement to produce values on-the-fly, returning a generator object that can be used to iterate over those values. This allows for efficient handling of large datasets and infinite sequences, as well as improved memory usage."
      ],
      "metadata": {
        "id": "Vxw5RMhOO8Yi"
      }
    },
    {
      "cell_type": "markdown",
      "source": [
        "QUES 7"
      ],
      "metadata": {
        "id": "DFnYuEPjQn2v"
      }
    },
    {
      "cell_type": "markdown",
      "source": [
        "What are the advantages of using generators over regular functions?"
      ],
      "metadata": {
        "id": "d4h-FVsOPIRh"
      }
    },
    {
      "cell_type": "markdown",
      "source": [
        "Based on the provided search results, the advantages of using generators over regular functions are:\n",
        "\n",
        "Memory Efficiency: Generators yield values one by one, without storing all the values in memory at once. This is particularly useful when working with large data sets, as it avoids consuming excessive memory resources.\n",
        "Readability: Generators allow for a more natural and straightforward expression of the number generation logic, making the code more readable and easier to understand.\n",
        "Speed: Generators provide a performance improvement due to lazy (on-demand) generation of values, resulting in lower memory usage and faster execution.\n",
        "Flexibility: Generators can be used with various iteration methods, such as for loops, list comprehensions, or the next function, offering flexibility in how the generated values are consumed."
      ],
      "metadata": {
        "id": "kgcRobJePIN7"
      }
    },
    {
      "cell_type": "markdown",
      "source": [],
      "metadata": {
        "id": "RgEMYuIWPILt"
      }
    },
    {
      "cell_type": "code",
      "source": [
        "def first_million_numbers():\n",
        "    n = 1\n",
        "    while n <= 1000000:\n",
        "        yield n\n",
        "        n += 1\n",
        "\n",
        "numbers = first_million_numbers()\n",
        "print(sum(numbers))"
      ],
      "metadata": {
        "colab": {
          "base_uri": "https://localhost:8080/"
        },
        "id": "ogbqnsXBPTav",
        "outputId": "56f007bd-ec0d-49dd-b36f-a0f76549eba1"
      },
      "execution_count": null,
      "outputs": [
        {
          "output_type": "stream",
          "name": "stdout",
          "text": [
            "500000500000\n"
          ]
        }
      ]
    },
    {
      "cell_type": "code",
      "source": [
        "def get_odds_generator(max):\n",
        "    n = 1\n",
        "    while n <= max:\n",
        "        yield n\n",
        "        n += 2\n",
        "\n",
        "numbers = get_odds_generator(10)\n",
        "for i in numbers:\n",
        "    print(i)"
      ],
      "metadata": {
        "colab": {
          "base_uri": "https://localhost:8080/"
        },
        "id": "kSOkMlb-P_CQ",
        "outputId": "6bfd2388-c67b-4a75-a21c-a146abe4ccbb"
      },
      "execution_count": null,
      "outputs": [
        {
          "output_type": "stream",
          "name": "stdout",
          "text": [
            "1\n",
            "3\n",
            "5\n",
            "7\n",
            "9\n"
          ]
        }
      ]
    },
    {
      "cell_type": "code",
      "source": [
        "def generate_numbers():\n",
        "    n = 0\n",
        "    while True:\n",
        "        yield n\n",
        "        n += 1\n",
        "\n",
        "numbers = generate_numbers()\n",
        "# Use numbers generator here"
      ],
      "metadata": {
        "id": "uGwBL8rMQQj2"
      },
      "execution_count": null,
      "outputs": []
    },
    {
      "cell_type": "code",
      "source": [],
      "metadata": {
        "id": "CqgnLY2MQVgZ"
      },
      "execution_count": null,
      "outputs": []
    },
    {
      "cell_type": "markdown",
      "source": [
        "QUES 8"
      ],
      "metadata": {
        "id": "cVhF02tXQpOw"
      }
    },
    {
      "cell_type": "markdown",
      "source": [
        "What is a lambda function in Python and when is it typically used?"
      ],
      "metadata": {
        "id": "nNVd7z73Q0d0"
      }
    },
    {
      "cell_type": "markdown",
      "source": [
        "A lambda function is a small anonymous function.\n",
        "\n",
        "A lambda function can take any number of arguments, but can only have one expression.\n",
        "\n",
        "Syntax\n",
        "lambda arguments : expression\n",
        "\n"
      ],
      "metadata": {
        "id": "FPwWWjdMRAKc"
      }
    },
    {
      "cell_type": "markdown",
      "source": [],
      "metadata": {
        "id": "tJk4UjWnRAHD"
      }
    },
    {
      "cell_type": "code",
      "source": [
        "x = lambda a : a + 10\n",
        "print(x(5))"
      ],
      "metadata": {
        "colab": {
          "base_uri": "https://localhost:8080/"
        },
        "id": "PhhwkKmWQ05g",
        "outputId": "89fa5b62-ab67-48c0-9510-a4e009fbd273"
      },
      "execution_count": null,
      "outputs": [
        {
          "output_type": "stream",
          "name": "stdout",
          "text": [
            "15\n"
          ]
        }
      ]
    },
    {
      "cell_type": "code",
      "source": [
        "x = lambda a, b : a * b\n",
        "print(x(5, 6))"
      ],
      "metadata": {
        "colab": {
          "base_uri": "https://localhost:8080/"
        },
        "id": "mv71WcKfRM9C",
        "outputId": "ea129b8c-8f2c-412c-be73-c1e69ecffec4"
      },
      "execution_count": null,
      "outputs": [
        {
          "output_type": "stream",
          "name": "stdout",
          "text": [
            "30\n"
          ]
        }
      ]
    },
    {
      "cell_type": "code",
      "source": [
        "x = lambda a, b, c : a + b + c\n",
        "print(x(5, 6, 2))"
      ],
      "metadata": {
        "colab": {
          "base_uri": "https://localhost:8080/"
        },
        "id": "L53Ayr1mRPwi",
        "outputId": "0c7b45ef-15f7-4050-f989-caff0191f068"
      },
      "execution_count": null,
      "outputs": [
        {
          "output_type": "stream",
          "name": "stdout",
          "text": [
            "13\n"
          ]
        }
      ]
    },
    {
      "cell_type": "markdown",
      "source": [
        "The power of lambda is better shown when you use them as an anonymous function inside another function.\n",
        "It is a shorthand way to create a function without declaring a named function using the def keyword. Lambda functions are often used when a simple, one-time-use function is needed.\n",
        "\n",
        "When is it typically used?\n",
        "\n",
        "Lambda functions are typically used in the following situations:\n",
        "\n",
        "As an argument to a higher-order function: Lambda functions are often used as arguments to functions like map(), filter(), reduce(), and sorted(), which expect a function as an input. This allows you to perform a specific operation on each element of an iterable without defining a separate named function.\n",
        "For simple, one-time-use functions: When you need a function that performs a single, trivial operation, a lambda function can be a concise and efficient way to define it.\n",
        "In data processing and manipulation: Lambda functions are useful when working with data structures like lists, dictionaries, or dataframes, and you need to perform a specific transformation or filtering operation.\n",
        "In event handling and callbacks: Lambda functions can be used as event handlers or callbacks, where a small, one-time-use function is needed to respond to an event.\n",
        "\n",
        "Extracting a specific attribute from a list of objects: map(lambda x: x.name, objects)\n",
        "\n",
        "Filtering a list based on a condition: filter(lambda x: x > 5, numbers)\n",
        "\n",
        "Sorting a list based on a specific key: sorted(data, key=lambda x: x['age'])\n",
        "\n",
        "Say you have a function definition that takes one argument, and that argument will be multiplied with an unknown number:"
      ],
      "metadata": {
        "id": "odA07y3HRVvF"
      }
    },
    {
      "cell_type": "code",
      "source": [
        "def myfunc(n):\n",
        "  return lambda a : a * n"
      ],
      "metadata": {
        "id": "PcpV2vbPRSk5"
      },
      "execution_count": null,
      "outputs": []
    },
    {
      "cell_type": "code",
      "source": [
        "#Use that function definition to make a function that always doubles the number you send in:\n",
        "def myfunc(n):\n",
        "  return lambda a : a * n\n",
        "\n",
        "mydoubler = myfunc(2)\n",
        "\n",
        "print(mydoubler(11))\n"
      ],
      "metadata": {
        "colab": {
          "base_uri": "https://localhost:8080/"
        },
        "id": "0TVRY09NRYsc",
        "outputId": "7e55c810-d5de-4877-d173-e9d9a0d94644"
      },
      "execution_count": null,
      "outputs": [
        {
          "output_type": "stream",
          "name": "stdout",
          "text": [
            "22\n"
          ]
        }
      ]
    },
    {
      "cell_type": "code",
      "source": [
        "#Or, use the same function definition to make a function that always triples the number you send in:\n",
        "def myfunc(n):\n",
        "  return lambda a : a * n\n",
        "\n",
        "mytripler = myfunc(3)\n",
        "\n",
        "print(mytripler(11))\n"
      ],
      "metadata": {
        "colab": {
          "base_uri": "https://localhost:8080/"
        },
        "id": "T-OfKX7YRkO_",
        "outputId": "a8f4a155-a45a-45c7-f761-e3f4980078e5"
      },
      "execution_count": null,
      "outputs": [
        {
          "output_type": "stream",
          "name": "stdout",
          "text": [
            "33\n"
          ]
        }
      ]
    },
    {
      "cell_type": "code",
      "source": [
        "def myfunc(n):\n",
        "  return lambda a : a * n\n",
        "\n",
        "mydoubler = myfunc(2)\n",
        "mytripler = myfunc(3)\n",
        "\n",
        "print(mydoubler(11))\n",
        "print(mytripler(11))"
      ],
      "metadata": {
        "colab": {
          "base_uri": "https://localhost:8080/"
        },
        "id": "U81JF6aKR6z_",
        "outputId": "3233d3eb-4ad0-4492-d0e4-485c726c3f50"
      },
      "execution_count": null,
      "outputs": [
        {
          "output_type": "stream",
          "name": "stdout",
          "text": [
            "22\n",
            "33\n"
          ]
        }
      ]
    },
    {
      "cell_type": "markdown",
      "source": [
        "QUES 9"
      ],
      "metadata": {
        "id": "tOogcBPgQrMV"
      }
    },
    {
      "cell_type": "markdown",
      "source": [
        " Explain the purpose and usage of the `map()` function in Python."
      ],
      "metadata": {
        "id": "VTiCPB5oSlZh"
      }
    },
    {
      "cell_type": "markdown",
      "source": [
        "map() function returns a map object(which is an iterator) of the results after applying the given function to each item of a given iterable (list, tuple etc.)"
      ],
      "metadata": {
        "id": "4xqKQLlOSlV8"
      }
    },
    {
      "cell_type": "markdown",
      "source": [
        "Syntax : map(fun, iter)\n",
        "\n",
        "Parameters:\n",
        "\n",
        "fun: It is a function to which map passes each element of given iterable.\n",
        "\n",
        "iter: It is iterable which is to be mapped."
      ],
      "metadata": {
        "id": "mbuQneIFSxdc"
      }
    },
    {
      "cell_type": "code",
      "source": [
        "# Python program to demonstrate working\n",
        "# of map.\n",
        "\n",
        "# Return double of n\n",
        "def addition(n):\n",
        "    return n + n\n",
        "\n",
        "# We double all numbers using map()\n",
        "numbers = (1, 2, 3, 4)\n",
        "result = map(addition, numbers)\n",
        "print(list(result))\n"
      ],
      "metadata": {
        "colab": {
          "base_uri": "https://localhost:8080/"
        },
        "id": "_fuvflWcR99H",
        "outputId": "dbf60152-d956-4aa8-9c54-a018c003f368"
      },
      "execution_count": null,
      "outputs": [
        {
          "output_type": "stream",
          "name": "stdout",
          "text": [
            "[2, 4, 6, 8]\n"
          ]
        }
      ]
    },
    {
      "cell_type": "code",
      "source": [
        "# Double all numbers using map and lambda\n",
        "\n",
        "numbers = (1, 2, 3, 4)\n",
        "result = map(lambda x: x + x, numbers)\n",
        "print(list(result))"
      ],
      "metadata": {
        "colab": {
          "base_uri": "https://localhost:8080/"
        },
        "id": "JZcUtBAMS449",
        "outputId": "3c516a2c-eaaa-44f2-f10e-5072c937d1a7"
      },
      "execution_count": null,
      "outputs": [
        {
          "output_type": "stream",
          "name": "stdout",
          "text": [
            "[2, 4, 6, 8]\n"
          ]
        }
      ]
    },
    {
      "cell_type": "code",
      "source": [
        "# Add two lists using map and lambda\n",
        "\n",
        "numbers1 = [1, 2, 3]\n",
        "numbers2 = [4, 5, 6]\n",
        "\n",
        "result = map(lambda x, y: x + y, numbers1, numbers2)\n",
        "print(list(result))\n"
      ],
      "metadata": {
        "colab": {
          "base_uri": "https://localhost:8080/"
        },
        "id": "thImql_6S8dl",
        "outputId": "2044f271-ec25-4d4f-ff61-9e1ffacb2c3a"
      },
      "execution_count": null,
      "outputs": [
        {
          "output_type": "stream",
          "name": "stdout",
          "text": [
            "[5, 7, 9]\n"
          ]
        }
      ]
    },
    {
      "cell_type": "code",
      "source": [
        "# List of strings ,  Modify the String using map()\n",
        "l = ['sat', 'bat', 'cat', 'mat']\n",
        "\n",
        "# map() can listify the list of strings individually\n",
        "test = list(map(list, l))\n",
        "print(test)\n"
      ],
      "metadata": {
        "colab": {
          "base_uri": "https://localhost:8080/"
        },
        "id": "GPKS8b12S-Vg",
        "outputId": "7298b9b7-441f-480b-b5b1-51df4d2e3b23"
      },
      "execution_count": null,
      "outputs": [
        {
          "output_type": "stream",
          "name": "stdout",
          "text": [
            "[['s', 'a', 't'], ['b', 'a', 't'], ['c', 'a', 't'], ['m', 'a', 't']]\n"
          ]
        }
      ]
    },
    {
      "cell_type": "code",
      "source": [
        "strings = ['hello', 'world', 'python']   #Converting a list of strings to uppercase:\n",
        "upper_strings = map(str.upper, strings)\n",
        "print(list(upper_strings))"
      ],
      "metadata": {
        "colab": {
          "base_uri": "https://localhost:8080/"
        },
        "id": "StFV6lOuTATH",
        "outputId": "b9c12a2b-155d-45d3-e85a-0c38edca55e3"
      },
      "execution_count": null,
      "outputs": [
        {
          "output_type": "stream",
          "name": "stdout",
          "text": [
            "['HELLO', 'WORLD', 'PYTHON']\n"
          ]
        }
      ]
    },
    {
      "cell_type": "markdown",
      "source": [
        "Where:\n",
        "\n",
        "function is a callable (e.g., a lambda function, a built-in function, or a user-defined function) that takes an argument and returns a transformed value.\n",
        "iterable is the original iterable (e.g., a list, tuple, or string) that you want to process.\n",
        "[iterable2, ...] are optional additional iterables that can be passed as arguments to the function. The map() function will apply the function to each corresponding element from each iterable."
      ],
      "metadata": {
        "id": "TT8sHIhxTLQb"
      }
    },
    {
      "cell_type": "markdown",
      "source": [
        "In summary, map() is a versatile and efficient function for applying transformations to iterables in Python. Its lazy evaluation and handling of varying iterable lengths make it a useful tool for data processing and manipulation."
      ],
      "metadata": {
        "id": "7fS8CS4PTdA4"
      }
    },
    {
      "cell_type": "markdown",
      "source": [
        "QUES 10"
      ],
      "metadata": {
        "id": "RPBwAJxnQvU_"
      }
    },
    {
      "cell_type": "markdown",
      "source": [
        "Using pen & Paper write the internal mechanism for sum operation using  reduce function on this given\n",
        "list:[47,11,42,13];"
      ],
      "metadata": {
        "id": "kbn_vt50P14r"
      }
    },
    {
      "cell_type": "markdown",
      "source": [
        "![WhatsApp Image 2024-09-23 at 10.28.38_1e94bbbd.jpg](data:image/jpeg;base64,/9j/4AAQSkZJRgABAQAAAQABAAD/2wCEAAYGBgYHBgcICAcKCwoLCg8ODAwODxYQERAREBYiFRkVFRkVIh4kHhweJB42KiYmKjY+NDI0PkxERExfWl98fKcBBgYGBgcGBwgIBwoLCgsKDw4MDA4PFhAREBEQFiIVGRUVGRUiHiQeHB4kHjYqJiYqNj40MjQ+TERETF9aX3x8p//CABEIBj8DgwMBIgACEQEDEQH/xAAwAAEBAAMBAQAAAAAAAAAAAAAAAQIDBAUGAQEBAQEBAAAAAAAAAAAAAAAAAQIDBP/aAAwDAQACEAMQAAAC0cXZzl6PP7DYiMpMrMsNmo07uHcbebXilxUb8fTPO0+rx1zKQQoKzprsFQZJsMd27qXVuyKxyhShBlJRYAiVSUEqpZRAssEollEUlRbFgUiwlBKIACKJzdPFZyxEoEobde46pWdhK07tebySzn3CWyiKIsCjbrk9Hl07cdqZMsTPo5eyseTd5iZ7ObYI1psYZ16HXhTix58jLXv5ylRlNx25beY59HToXDLLrNPXnSrguxrzKACsRnJQAACoKlACwATKEBYABYVC2SFY2MgAShLKTz+/zbNUEhQsHXy9kuwZ0CsM5LwzPDl3CVYKgpSAMr182Gclbpyyuzr5ezWfM8/0OeOfdlmXk9LkNG7X2WenzdfmWcOWrZG/T0aCXXK3ej5Xtm7zfR8ky383SdOzVmuSCxkmF0U6kqkFQYZ40zkosFlguvIzBKAwM2GRUFQCiILYGGo6GGwwzBFWWSKCKrDzPQ81MbIllApe3k7pRJtMpFxo48Nmrl6FjNsUAAAyyOnDFlDnmWNno9XPlvHDiyxvK1DR0c9mvu4vS1OnyfZ8izjvblm68d1rz8ezVZq93yvZ1NHF1aDTnlsgyitmm2dGzTuTgmWB15acV6cubYbWvE3Y58x1XRkbZiKgi4G4ADDLEXCm2AAsGjZydg1Y4FSnTnhkXHUN8lAUUgTm8/t4kgCZEBu7OXqmplizaFSjm5+nn5dpTOwFCWUAyWdOFxvOarr37z6eOXNZrz17caylkXTs0Vj6fk+vrOzze3iNucY0FYatmiuv1PO7d8/P1ZMb2TKEqmF1yz0MtnLvOto2Zu3CQtwzq5Y7LOjl6+UxxwLtY5Fs2Jt09HOZ7OTI6MdGRnnq3nPcB03nzNrDA2a9Gsz7uTrTmxhbljTqyxHD0cXcbMpQCoNTk6zl5ezkSAAjozJuw2TSyyykXGxdfL3cXPrgsz0oioKlCDYOnCc3Tos19nm9ms93B28VXfq241ZZGHD18upn6/B3bzp0GbuW51LYa+O6NT2ejRlrHHs17ufSqIsNNx22ehw9fDrLZjljVgs1btVmvt4fQ1N/n9fClzyZ1WOmt+3h7dZ6ubr86zGSzWe/lzTq26Oizk264NevUbcAXOm3p15p51wi78tGZ2TDA0d/H3i4UyYDLVnznN6HB6Bz8XZxIuIyKbu3j7V0WyUJbHOdJScfZz46c1OfWVmuCyFlIDYOnCY54nD0bprOzk6KMozcopp4PT4tS+n5XoazzbNPXLkjOrjkPN6ePPePZ59/FZOnm68bxyxS3DPhs1+h5/q7zs5MueXrGNLiLqvJZt9Ly/V1NGjO5qzKWad2k19/D6O83z+rRGWGzXnWvPHKzs6NOO86Mcd2dczqxNWGzXZdmvbZ24Z8ycbIrZKdmGOVmPXo6zz2uLuuveYaezmTX38/UnncuWk2TUN2zR0m3t4+1dGMTVSRjz7JXaywJp24Y1xjHXZv5ujpynL6Xnc+ixnpFGeWz0enn8l6euvPdmEc7ZiYiKgjJWK5GOSiykocen0tes7eHqhdmNzrJKTm6+Wzn9Tze7pjm1zozreMaijk0bpvO7t067lu4uzGyWVx9PnWb/W8/u3nmujpxqYZ2XlueNnoaN/BrOWyZ42Bjo6NBj0cvZrPVxdXCZ5yzTVt0plnz7tTq2Y6LMctW3OsMscLOzRjlZu36pZ4mOcRnqzNvZy9xdzWvIwudZTOGvLLOzr09HAbMdczrRljnNujl69Y3+b6XmY6Vgx0zQnX6fk+t14THKaMoRLTXr6S8WHoWPLw9eR5E9fE8t6OEvE6sDQ24xjLDG0UApFhonSs5ukVMpBKebh6XLvPZx567N3Qc90Gjg9Ly959WznudPo8XbjeUxss1bcLOnxfV4t5nb5/fjWyWSzXs4zH0fO9PeZz47c3KxLdG/Wc/Tx+hqb+PfoMs0zcdHRzjdo6dTq5ujisrZc649fVrR16Nms93F1cJhN2uaZ6diba26mzzu7klwt1rcptTm7eH1Tm8zt4cdauyaybW+Wv2vF9qwKWWpZUWCgoFgtgtxpYpjhtpz49SOLD0B5mHrJfIx9jE8l6mEebPQwjjdOC6mzGMZkMM5SyCpDLRupyY9s1FszWWqmeq5WcV1Zbz1bscs6tTNeX6flanfu04azx+r53o51njWa4+vzbM/S5st519PkernXTolzXN08Je/zfU3maJszcpZLr1dHGbuvi79ZnNnJc8M8JefZryrd1c/RrOia9ubjq2863o591mr1eLos8zT3XHTzN+2G9m3z4fc8P3FCgRYqgoKgmUpRVAsqAAAtQWUSoVBUFgSZo049A5cO5Hna/VS+PPYh471sI8y+hjHBe3BeV04GqbMYwzxpYE1bacE7G86urHLNZas5XnejosmnR17zo79O/OpazZwd3BqdmM5dZvpeZ6WNVGbr8/fnubt2PnXPdswyxuyjlwxtnoTLRVyXNw1b9Bju5+izox2c1ZDN0TLE3CuP3PC93SiwLAFgoKBcaW4Z0sJUoAuNKAAAAAAACoWhAUAABYKiLjkOfPaOfDrscGv00eTPXi+O9bXHmZd+McN6cF5MtuKYZLLFE5epZ5W/oz1NfTjc6Fjz927i3ndx791bdky56mNhy9PJ0dMa5o2y9qXGrydXDWr0sNms3Hi7s2pZdWjo5a3sVnP73g+9aFzi5ubb1GGWVuNLcRkgtxqMscqWCgAmWGYAsFSgBAABQAUAAAKCAoCwUAJULRAAhQRRhhtHPj02OTDvHm4eql8jH2MI8q+lgefOzGOTPZislxirDm09+GpruzIuNZs831NGo04XWcfR5+jGpVl5c5N53NKzl97wfem7jlp1ly5Ybm7PThHoNeebo6ubdZk5sDtWFrQb7KGOQBjnrpm05mxgM2MM0FQVKCFAsFsFQVBUAAFIUFSqCAVBUKCVBUAEsosFEoAACWGOG0c+PUjjx7h5+PpJfMnp4HnO3GPPemrz3oYRxZdWMcvD7E1PNekrxPe8D35qiwEChTlx7FnBl2qyRGXm+jy1s3c+Bq9Hj7CyWNPP341589QaN5ABYFEAAAoAALC2WIsFShKLjS3GlSgAAhUFQUAAAFQtSoEAsAiFoJRAMM8DHHJGOcpljnjS3IkygB8t73ge/nWWvZLF17KES2C4ZgoFRo3qNHQCksFwzCBkxpbKNW3jOxBjjz6q9EQBZcDMALYFCQBKKKCAUpCkUQCWCwWwVBUFSgFQVKECWSyhQkChTDJGFoFEsLljkJYAfKfQfP+/nWYsAQsoK0jclKCgmUoFLBUJQUBjkXk6vNr0nArp1acjuGQFilAWAhQASwWyhKAUCwUAEoAEBRFgAURQAAlkSwtFhBUAKgAXGhlrziywoPlPf+f8AoM6z5erk1nLPbrrZdO6GrbqNe3Vu01dPLvjYIqUILZQAKS4JssLSF4+zBPM9HG6beDu5I60sLjkKBBnIAJZDJKAGGZbhTJKVKAAqyoABKEoJRFhQAJRKhUEoEoBAAQAAq4UjIBR8n9B8/wC/nWzTuaz56bttPoYZ5Cx5u/dy6m/o5umLZZXJ2clNu3ns6WGebUFnNjZ2Xi6zJC5QLx9fLZL0wyhAissciygESiy4gCykoYshjaLQWChagWChAAAAAAAEsKlEACUEsAAEsACxZLIzSlB8l7/ge/jW3Vtw3nRlNtcXocHeVLHD0arqaNuzoKjNy5erRZxbdnTpjtlzSWOfdya9zv5cNh2wzVlhwd2rU5Of19OnN31klkoospYiZJDIgQVhkUBIZpkKCyqAACUAAAAAAEoICwAAFglgWACUQAKmUhZSg+S97wPfxrdhnx7mvH0NepN3nejCxHFvw26ef6XJ2lLk07tdadee3U093P0ZoRp5ss9zbu83bHaTNtgw5+vGzz518m3oZ6N2KAULBUJcaMsbA17DXnYWyGOeGRlZDYxpQUKAAKgAEsoAAAAAlEAsFlglLFiVCgJYgFSyyzIA+R97wfdxro5umakxzWSkAY4bVS45DKC8vVy1np7uex0ef6EtEc10tTLPR2mctzQHF28Gp2auDtrqhi0CwLKLBRTDLBMssaMbC45Q1b+TqsoltxyKCoWkFlAFlTUz5q36+O16VwyyqCoWyxFlBAAAFSwEKABGtNgFgZY2Wg+R9zwvcxrpGpYAAJFGGeNrKyl1bBq2hQLBy9WlXO686oyqC4ZaTZzasdz0kuKBUoBQWAlUWGNUmGdTDNCywyoUKAAsoACcm3dprVhpm3Vv0deAQC1CLKAQAKCJYoApNG8nLz+jy6Tn9BGO2WGWGcoHyPteJ7ONdqNSyiEKAKlVBDKKALKAWKRQlADXs5628l21upkoLBUosFQVBlAEJlKAAZIMkFAAFUAAHJepZjkQAAAAAKqAAlgBLMhwd+mznarqd2UYtIs2atkUHyHs+N7GNdqtRy9fHXRo381nVZYAXVsKUlmRCFsoAsFAAA4u3ip06NNegMqCpQBZQAAACVSLAoAoFCKIqpQAqCsMioKgqCoLKAFgsCzRgnVABVlHH2c9mrTbqdtlxbCWZSmQPkPX8j1sa9Aajm6dZjq35WLLFBybte7THbzdMUAhSFKACggsF4e7ydOu6c67Lxbst4hYAKBUFgoAFlABCgoKBLCillANfNuzrVd1ipQAIAAoSFJhslef08XXth1cPVlsuOUoDj7MU8/v5OvRTIpWUsQHyPq+V6uNehU1LLCKJlBUoBr2lBDVu5LNuenYbAUGjbzK6xAF4+vmpOmnNz+jK17oyoBgbMfO6NOnLk6oqSM0FQMvMV6bzca9N5vVHRZYoDTw6erzXSdWzHKAhQcW5qYTHpNXQS1LAAAAAJUtedxejjty7NvdGjfLmgOfo0Jz9uiadAyoW2WMQfJep5fp416ZNSoAJZRZQCgWC8nXosY79ZsEWynHd802FgQuOWJkAQoKAaDPnx0bN2PeYbTCpRZSGRy9Ovn0yz17TdZcllHN08Wpp6bK6rLiygspzdE8zU6+bryNozVgoAABEpiY7eDdonLurHt5uiMhKso1bBpyzEBRFyxyNbAfLel5npc9+rLNZCgAFlAKABAAAqUAlABLDICUBVSgJeLt4q19OO2tgyKJQZY5GqTj06OrzvQLZclDSmGpjns1nSM1ULYOfG7dOTu5OoyGQoABybcObc7dPP3xsSy6puJybN2FZcPXrOgSgAQhUoEZWU4mDL5/0PP7879eVrMFCkAsoABQQAAFgVBQJQlhkgpEsCpRYKKmGwAAUDLGmnDZyabt+CN1xyhZTz3Vo3NXfz9coZFhQAAALKACGrn2NTPdydcBKspFgFACjRnyWdmOmm9ydctEZA89i53wu7h7WvZlazHPNOlz9EShWPLXY0bxYikAAALALBZQQvF24Vzbbrs6L5HadYyWVQSsddbkoAqFAso0zXWzdp3kqxKpy78vN09J5vabaZACks0Vty0bTNLAFQWBpz5Mdzp38XVGYzSUsAABYNenLdqacNm05eqWVZYyIeejlrwu3i6rfcY5azy9PNo27cNXRGdiNWWHJqdl5tp0jNASwoACwAoEsC6zZw9uqy58fYUSssaWXA59+O7U5OjR1FEAUCynNq35aat3LkdlwzyWUcfZ5+nTt4cK9Ny9WQRQaNfXo04PV0jejKgAA16Lt05ehvAyS8tN2fNXUlyAWYnJlhv3NozZULZYylxPNHLXh9XN0W+8NZ5bOjRebpFg5a6bMc+TrgJUuBz5bNlY5828yRFOSs9LLTry8/tyziw17OWsWnfqa9+5LSRlGCbSHLqt0d2nbFpAFIWyjXshpzuFbhFso5unza78vI6dO66tmVEUGvk7OTR1c+w3WXKpQBKOPDLo0w38/RFEObp461s+vUZS5osDE0atmO51QzRItlMsM9ccDFy14u/Rv1ffGs6NG7Hbj6d+aM8bm6ebbhuatmW8bscs0I87LK7mHS2RklzbKNWrPdXJtbDIReTr1Vjqw3amnulzUsi5TJGGeNc3RwTT0bzdOSykoFCykKAAWwXm6Yaebu06ZbpcgKlOeOPTb3eP2V2XXswUABpNXPOjbPowzyFhydfnanbw4ZV6bg7s22IsvPWnLo5dTrGbFkW45GejfzxwDlvxt2rZp9FDWePp1zbHp87rNzDPLn33jsz6PI6NPRcPdmjXGjby825u9LxO47UuLeLtV5ne466rz743LIvP0clbuHPp1NyXFYqXKY2bJYcK3bHr4N8dZcAKBZiaJv2acmXTBdO6FlKBLCgAWU589E065ydcTOWFlAEus14atmnWMgLxdvJpr6OXk1PbuvPFyEOfo01t1c2jU9ScHdm0RMpTPm6eWXjRy142eGWn0g1nRo67pzOoadxF8/0MCM6YZhccsDkud03NO+AigcvUBQAaC8Hpc25OjYyWWW8/RbPMy9FXmdWNrDs4u6AyAsoWCvO6dMt3H1xUooAWWFShBbKcmru87Tb2c3TFELKACGGYAAXi7cKx5+wcHdkKIc/RorHDZyanoSzNCGWORny9XHm8zFz149jT6Sy6yAlVFhQAAUHNx9PRpwZd2IzlyoCwqUSiaOjVXD1dPJqdTTvwKVQBObVnNs+nm6cghZQBZTl0tuzq07crZRYLZTFhiZbeXpLKBTm26lcXdj0VRkAAAa9gASlgAUoA1bdFcnTjdTfKxZAueGZlx9nDm6Ec9eNLNPpcsctZgAolDDQdTlV1Xn3RklMbYAJQBSFBZYXVs5znY9W5s2GLVgsoKcvT5+G56V17MghQAS6KYVph2ad2QFuOQBhq6IatwLBbBz83Ru01a89kbJUVBQLB5vdo59N/Zo3QETR0DmdStW/GxQNO7VWia+zUylmKlhdmraXh7uDN5xz148uOn0uevbrPLj0K58ttplo3xq2oVo2jm6xMoKCAALCzDMtlEsLLxV18mVrpLkWCzIA4+rzcdz0dnldcdVlyAKHN0yuLbz7NOnOZZQosoAAAlABYAFgKRQMTG82FdtwzgAai26K6ywKatO3Rp0cXdinJ2YZyxUY7tW4ed6PnYuoY14+Nxt+j3aOjeNGnbNE3cx02IvL1c9bNW+DPi7YqUJqNrDMA18u3prRj1Q5+nVqOuWReLt0VzZ9alMqCgqU5t1teb1Z7bFlzQKRKU83Znv2yplLKKCadpkwyKBLClEsCwFADg211Ii8+8LABebp5q0d/n91bLLksGHJ38Wkx7hp2WZQDbq2jzPT8vGojF8fHLG36Do5ereJ5vp8mmjZq6NToLiscsTzc23bftxywqU49+WVaMOoatujfDDPhrvY5RYFgXm6eSt/Pu0V282zZlQWwAUgsCygCyiynmYduzpOPouUbKZUphw+j59Z7MOkyEEooY63PW/d5XYdIi6tpebLU1Me3gp06L1RMnJHXfN2V16Omxp2qMpQC40QElxElLt17Fnlep5eLWDF8nDOW+518fZvDh7ufTPz+norVurK8vVDDVqz00+gsBDnyU26RvRF5erRXNNXbpt2mAF15w5N/JduvZLhZQsoShgMzAzoAJQMK4Nfp6dzV0c3TG3KXKg5N+nHTR3aOqLCVZkAaMZus09HB3ikVBSK4+wcurPrsvL1I49Xo4aa9WmnT08XbDKWALMeeuqcu0zmWMRYXbr2mvzPS8znoM3yFxt9vs4e7eXF28upMOzlrLo5umKI49mrbpz+hydcBGls8/Tt5d3QC5MM+Gs9vPnp2McsLLAYGfFht06rLkoKCUY8/UpzdIWWAAFlEqteaJbKUHLlrz0nRZlKLbjkAa+Tvho3gAAEAcnTlKWWAApRLZQUx5O3VWrZz9FY7MblAZbdO01ef3+fz0Rm+Tjljb7Hf5/obykWUCUAY5AoAaubfdObq0azvGTDPCrpx0V368eiKsgDHj69db2rbFIZAllF4pXbOPM6rKBBKOXqVqz14WM9mcSqAcmeXDp2bvMzPQY55Eq1KJRLAAAEAAAAc2HYrlvTbOfqxygCcfbprT08HfUJklhnt15xo4O7gxorF8jHKavq+j5vp6zz4dTU5OmgAYGd59hsABPO7Wmnp0ch6ZchgZcl16dmeMjZLIad2JyNu/TVuMiwtlJQXixrux5NxuuMjYlAJQKJRBRKNHL0b9NG/n6AqItIomjLMya4bSKEFAAEURQAsqTJa1aurVWejmw09PHl35ZSoiw2Z4Zxy8nTy89FS+Rhnhb6fq+R6+swWQUAUYY7QAsE5+rCtWewCw5ermrHY5a79e1lYFgRQBZQqFTkrsl4zrjmOhRcpYAAqUFJQKrRydfHqdHTydcBCygGrn7eesMc9htlZsUAAAAAa+XuwsmroGZRZTTr6eLTX28nUBkxsNueOUcPN08/PQS+Vhnhb6Hr+P7GswWJZQFAXSbXD3UEAAAXk6tFad/LlqdzjzzekQMTJKAUCUTl6lZ+bs6a58+hARlJkALKALAspRXL0cs1NfRdsUxjKygGlfN09V53oRklyBQAJZQCFAFgyTKxYOfXuw01bdPUEZSZRd2WORwadmnjqoPLwzxt7fZ8b2dZnL1Y6nLOyVr2kWUczp11xY7+rUZJi458+FdV5OsCLz78a1YdVOXDtVhlZkAAKAWBht1baIEshcaW40oFAACgqU4Nk37mjZhujMQsoIXi6+WsO3m6SjIFAASwoJUFlALljaoRwdWnTk9Dl6yDJLJd9lPN07dfLRUeVhnhq9nt+F7u848vRo1N+OjGsuvRvkojm6ObXp07eHtltIAkoAFAJZRLAACgAssMdmvZQEmWMLKSwZAUAAKABKqAAWUJRrz1po6uboq0zQCUAAASiWUFKCos05YadOqeVvO1GaksdFg8qJy1UHm4Z4W9Pu+D7usuXqx3NHRiMnNTpTSbJjuJljgbUo0bxxzsHJ02itBvcsOtLAEqFigBQlGGzDOghLDFaY5BQLKSgBUoAMaySiUSykoYaugcvTYSkCkAAAAAAspUFQTKLOPoyhJYuNmUdGOWB5SXloDzcM8Ld/veB7+stexqct6Va86AjTp7LXFt6AAxy5Dqckrsc3TF5unmN+HHhqdHZo35oQBLBQUApr2YZ1KDGiUJcc4AqUIKBYKLOW9A5nSrHPVsikVYLAMaVEWwCFAASkqApKFAAllkiCWLjlhsjfq26TzRy0UeZhnjbs+g+f+g1kNQAACoFlACUAMcqS04c5jqdl4e7NCAJZQCgoMcsM6QABBkpAUQAWCy2KHPry5tOjbz7o3kigAx1bvMru2eZ0HWM2gAAEAKlABQADG8mnU29OGcIizPXsN+jfz5cEOegPO17dduX0Xzn0eshqACFAAsoBz49crj1egrh75YWDg19eG50Z+d6OQSgSgoAUGOWNACBjKZZ6skzlhRAACy1QY8XSrLPzvREsigA0c/dzVp6rmLLmgACAACwVKLBQAmHNnhpOjl6hLJZnhsjdy9XJHHLOegPP17Ndr6T5v6TWQ1BTToTc7S5qXAysoBSAAFTQc+e1qbM9W3IFAAoAFgllAIUllKxySywoALLBZSg5eXs5dte/syjG1kKQHDhtabdvn+hFlZsqFAlgAABUFSgCwaMNnDuducuUJLN2ncbOPt4I5rJz1kiPPw2a7Z9J819JvNGosHH1MrFlHJ2cNXr5eooi69nGdcvMdFlGGes8/Y37bdmGeAAAQBQBWOWOQAKQEzwzAAALLBYLYOXXv5dtHo6YdrRvwoANWywxtAQgLKEAKAAAAsFBwcfp7ek4OpzR1scsWbtO82ef3+dloZY40Byadulcfo/nPo95yGogAWyjVtWa86ALx9nLXRo32IoGBq4t2W2/cYFgAABUFILjmsAUQDLGJnLCoKAQtxq1CYMxYAFShBY1GxxdpYQAAAlKIVBSCwUAHHqmzpN2zDPCSyVu07jZ5fp+bm6M6xcVHFq3aFx+i+d+h3nOxqUEsFsoCBQFgCFQUheONO0uUWABKWABZYTKUUAWY5EqZCWAFQWUADAzcu02gAqUAcXbxVr9Dg7SiAUAIAAAJQAAK0c+zDU3Z8PdCGbdurcZeb6Pl5suOWKYjl5+jQuv6H5/wB/edtjUAILZSoKgoQKAAY5azlt6tGUuQBAsFABZYKoABLjS2QylgABZYUADVt0m28/QIFspAXzvR46y6McoAAAABRIqUlgAWUYZq0uPPU2bufozYIdGjePL9Ty82WXFIOXn6uZcPe8H3N56IaiY6K6XLsTfZQw1m+8+s7GraAJfIr1mvbDDPSc2fPt27rw3LtSwgVKALBccsDOygAguNKCywAAssKlAOTVv5duvfr2YLKAAY+V6/PWrr5esCUCWCgEAgAAACxrrXM9lcPXlIhIy36dxPK9TzMWKzYDRy9Ohdft+L7O89I1EvNZ0XjldtI592XLWW3X0Hn+hydYwzxjDj7NGmrqu2Kc0Y3LRpunTYlSLKJQAAuGeJkxpkADGZC2C45QCJYKCigOHZNumy69mQoABhybsadGjeVEWCigQgAAAQCg17IYZhjLCLDLdo3GPmel5uLSZtBz6N+g1ez43sbnWNTDV0cep2cmONd9lyc/Tw1js0btN27n6cosjGTXWW7l6xr2c5w5ejz6dGcuAEWCygFBFEygqUAgFCywAAsCpQDhJp1bJcgKlAPO1bujbm2Z9GUpkAAASgi1AAABYAGMyxIsLt1ZmPn93BzuUJaxGnRu0mr1/H9jU7BuXh7uLU1Zd/JqddlxbjkJMNtCxMMxx6/QlcfZQMI4fP652mPberCyzFqUAoALLABQAgJnKJYFEUQCyjVsHJj1aNOmmRKLBUpyad23Rs1bcggABAWAAACUUAACY54mIMspkaeLr5OdglKNGjfpNPreT6mneN5ujes4899qlicvWry+nozqkyJpMOny+rTqsuQHm57MtzfdW7NEhYKlKlAKCJkCkWElpMschLAAACga9nn1zbN2G3dl5mzLvsuQAxMfO6btenm6cggSKgAAAAAgFlUABhniYY5wyzmRzcvTy86zxkuSDTp26l0+n5fp6noDeLz71eV14dmmQyoDm6KoiUOToyULE07+eufm9nk227pcEsipQCgLCyjVsUoEQRRljkMcoCkAQZJR53o8tYGVdKMqlKlHP0YnHnydW2/PRvwAAEioKlCCgQUBYKQWCyjDHZrNmWI5ubp5+dgloNOrZic3ped6GnojeQs07MlUQxvPWtr2anZlx9maNJucVOxzdIc2g9Bw2u1ww74ZKBQBQEoxygyCAAxzxyEAAgsC2UmvZgefdPX0dY5lgoKgxtgAEAQAAAFQAoAACKGNGGYyqnFo26eepZI2MUatW3VWnv8AP79PTHTFl0G68auy6dxNG/ya9bXz8teulwVqNs5862XGxUoFBACgAKASoUFAgEFIUhQIAFA4u3RW3l5c69C8HdCkVKEAAACWQABALC0AEAsFABLMTIGdlPP07dXLUyliA1a9mu3R3cPbqeqjeMtG7l0zz4+qru5+iLxduJZaBFwyGnX1SubpBZYAAKACC2UAUEsKCSiTIRQlhSAAChGjXXU5R1Tm2RtsoAAASqBBACAABYCwFgBUADXstREbLiPPxY8tWWRGQ1YZ428/Vy9Op6tN4vP0K58tylligxylAAEsAFlJYKCoKAACgpAxhmlLAgFBLCwABC2BLCUAIUlgqUAAEUQqWIAAlAAAAFlICkGOQzlh5azlqZSwZDnJbo38++z2B0ystjDXrrrssUEunaUAEMDNhmLAsCwUFAABUFBMc5VY5ARASwVKAEFgVKRYSwUgAIWwVBSFgJRKgAItSgAQAAAAASmeOes81by1jYjJBqxq3m3a8rPbHTCy1zzoUssZJTjyzmm+xlUpjy9emtXVzdJRAAFBUpLKALBQMMpVsoiRKFigCWAFgLAlgAIVKAAAAAJYAAqUSgQUQAAAlEAuNNunbojii89YZBUGq0c1lr3Fx65ygghQZKIABYEuNVjkVLAhQAWyhKAAUhcUrJRBBKSgjEzIAAAJYAqWFQAVKCFABFgAQUACWCwUQAAAgTHIbufo5I5YvPUEVBqLWiWV70s64HMdLnV0XVtjIEAQWXXWHH04aavQ5OuLZckollCUUAAKlApr2QykFQEhmiBCgAEKCSiUIAABYLBVgqUSwAgAFlEsFAIAAILKMcpTZx9nDLolnO3GooNQt0688LPoJZ1wjTWyaMzflKZcfZicZK3byKc5r3PO1O/dy75c7LFJFSgFSksFAsFllAWUY0JQoiEKAQAsAQBQAAAAAFgsQqAABYALAAAsIWUSwZY5mXB3+bm4SZYsSwBrJbq17dNn0CXrhMM6LC2Uy5Ovis6+bGHYJbydQ4515Vp057TMRRCygAAFABUVYC4ZkWQAAlhQIAAgCgAAAAAAJYEoAAlhQAAAABCgSjPDMvmen5ebjYxQIowlhhz79Fe9lrz6Y5t3Ps2y068zszwzi8vTx2anoc1dAzaABLCyoAWURQACoKKllJQUBIAAgLASwAssAAUAAAAAQSwAoAIBZQAAAACyyKC5Y5DzPT8rNLMVMoRRrBjzdXLXtbdO7pm6NzU1a+kXKUc/QOB3SwJVAQssLKAFiFgoAAKlAoCpRLISwWUgAEAABLBRQAAABCwEsEsFlKlIsAKAAAAIWC2C5Y5GPl+n5uLZZmwFQa6g5d2ivZ383R0zRYspbFWAlEWAAARQBSykVEAKBQFAMTK45CWCWQAIWAQWAsFgAVKoAAhYACUSWCwWwWABUoAAAKRZCylyxyNXn9vDi1Jm542AGvHKmvR1c1ep08nX0ystiqJZVlhYpFACWFlQlUAsoBBCyglUABBbjTKWCWRYEIUEAAAlApCgKAAgARYJYCFsoIUACygAFBBEoZZY5HNx9fJzsXOXUzxKgxxuI59+ivS6+Ps6ZWWy2WkoEALKABCkKABZQQAWIsqgEolhKFoEqJLBAAAEKgqChaBAAWAsAAJKJLC2USwoAKAACkAJYM8sco4+bo5+elkgsKgwBOfo5q9Dt4O/plZbLZaAiwAssLAsoAAAWUiwAAssKACS0FAEC43GBCkAAAAAWgLAAoiwAQAJKJljkJQABUoABYAEXEzzw2R52nbr5aELAojXLKx0dPPXb3+f39M2zKypaASwAKEsKAAABZSKIACgAAGJkCgghjliQAACUCLUosoAABQJYAJYRRFgBQAALBQEoAAxyxM88Mo87CzlpAlQojCFTRu0V1+j5vpdMs8crFlpAoIAoAAAAAUEsFgAsCxQAAEsFEhLCSwqUIKBLAUFEVQFgqUSwAiwAAgKUhCoKlAFlAAGNhnYjzRy0IEFQYTKGvVv0V1el5vp9M2llS1LKAJYWKAAAAALBZRCkAAKARcTKUhKqEJYSUASgAlgsFAC0AFSiAAgEoBAWwJRACFsFsFSgEmWJs17NUcFl5agFggMUpjz9Giuj1vI9fpkLAoCyxKBLFoAAAAFgqBYBEoKAFSxFlAWSyBAACUAJKAKAChQAAEAAABLBZQCEKgtlFgqULCTLA26d/LlyK56gJljQDAg0b9FbvX8f2N5lNQKALEoAUAAAAEAAAFIsKAABFUQSyEsEsKAACSlAoKAAAQsAAAABLiMsaUggLBbjSgWUAkuJt5Ovjy5qnPVKRjSiNcylNG/RWfteJ7W8rGpUtSgCUhQtgAAAALKhAAAAsoAlgqLZYQkWAgLKAAQKAsoABYAAAgKCgElhLKUEgLBQUFSgElhs4e7z8XVbMUCWUrEYgmjfpp7fh+5vJWpLLUoCJkgoAUAAAAAEAABVgoEsBCkEIEAKlAVLBKJQWUFEAAABLBYLYKCSwllLKMVgsoBUpUoBFxNnm+j5uKiYq2EBWIkomrdqrX7vhe9vIaksVQgAFigAAAAALZSQEBYoC1KIElpFkQhYAFACoABKLKAQFAIUEWCylAQAQFuORiCUFgoBQBjZGXm9/Bi2GbYBAUa6lXXswNHu+F7u85DUgqhFlEoAlQqUAFIAgoCUSwVFoAEsJQSyIQoBCgqAAFAApBFKBAWABQoIACELlKSWAAFSgAAkYcXZyYslmaXEoDIa5lBjljXP7nie1rOwbiVQIsFShKARRLBUoAlEAsKQUFSgBAAhEIUirBQAAAAACAFSghSFBQWABFgmULZkYzKEWAsACkoMbiauTbq524spZZCpkVgJMhJZXP7Hj+vqbrLvIUAAsqECwVKQACykCpQBAVBQVABAJZCWKAIZIggooUSiKIABQAAFhYK14m1opta8TfNGEdeXBgvoauJHdjxo7cOWHa4x14aMTfdEjZMEUilhZRYABIWY5Vo9PzPS1OmxvNKRZQAIsABKtgAgKIVKEolEBUFgFkCCUsAJFQVIZMYZ3Xgb2jCOpwWXux4YdezzqdufnDvcEj0sOCndjxU6sNCMrgW42RlcaSyiKJlAollIoi4mSDLGwWUiCgWUQKCAlK0d/F26nYreYsoAAAAgqCoKQWUSiKJQEKlgmJm0Yy9LhwjvcWk9LVwM3qctjp1a6ueWmmcwsGNLIMgJYWAUQpYEUCiWC40slFgsouNEqFSmUgESrKRSW0wbRpy2ZGlvponTa5Mumpxu0cQmgNPbxddnpTKdMxcQgoBCoACQyY4mxhqOhxTN79fHgejPPkd2HJivbr50ZsLAsuIAJAUAKsIQZQSwW40pBQgKBLCksoFgJqNt0Q6HJidrg3WdM6avM6qceXVU528artlYXMY5AKkRVWEqkKAAAcVjG7INHZzdVnpk6ZTTYzx45L3YcEjuvnl7MuJHRjqhnjii2QspQRMoLKQssAUCFgDErEW4iZzIGJljKMpLMohlATJWOQmNomnPzK68/P9FOhQIVBr8v0vMsCwB28XoL6dmUsWChFi1CUCwCklgtgqCygChAcUsxuxSZ4E7ebXK2SIxspUEyxpZYUhSmLLEZY0JDJIW45Fa9R0uXcZpaKSLTC0YXKVjM8TXpw0GzXrWbN/L6B0kipQQUoBLyGnnWzd6OrdBYpQjI5PP7uGwEAen5nrr2llShApAoJrMngRPoXgZnuXxKvtXxMz2L5OZ6bzIepfMyPQefsO1xDFM8akuJSFsxMmOQQVhos6XH1GRSKIylXJvNV2DDXu0JCF158Vc2Mzs392OyAUoiwEFCadvKadOzUkstX1eD0oBVgpBYBiYebnqsdvP6JnZYLFLC7de48fl36LASWC+54nvrsEoBRFCUTTu5Dx5ZcgAAAAAAAetlGd4swliFhRUWGvzPV82zX38G49NLCykli5btO02Aw1ZYECa/M6uOnbyembAUSkFAAkGHJu5jDXljYsyO7pxziWVUUSwpBwZcljKegZ7ZRZYBZWZsZYHi6c8LAQDP3vD91ckS1KWWCwVKTg7/PPLFyAAAAAAKRR6wlAEKgqC2CcfborzssSers5960glRdmrM6ILoxsRjlqODVZXV3aN5bLEqCwtY0JRGs59GzSmAq9HP6BvssKiqBIl4sOeld5d9CVEoULd+Owatuk8KFgIBv9vx/XXMsssoURYJaTzPT8hOEWJRKzMHfDhdxeF34pxO4cN7BxuwdNllQLFIsBSWUmOWNeXM8E6+zg7yolXHItg6ZMTXjQ4+vgObLHfZ3ZktAqFgAAs5d3IYassEFMvU4+0oKhax5zZw4Yoyy9CsdwUQAsGWU2rkonN08J5Uq5hQDs9bzfTW2WUUEFQsox8T2/DTnFgDp5u47yzSxEmVIoooo//8QAAv/aAAwDAQACAAMAAAAhU8ih8kP7qARFRNLefOwVR9dtHz3RtdVJNN0a+CSC2u6dGCeVRGjlff7HDUZ/I24vB0YIR1ziqXWK8YVRxZxNJVlBxFZB18MuyGmqIK6G6bqWnXnP7PD50gJR6617jVoirKm3jKyGiP50YxhsFpF9hhV5hcOqgAGW6xEWdMvbXDPwu2zYe/mCzwRYgrKdfXOrGGnDy6Hv2uVdpae/NZRwoJ/OaCYvudbjfFrBkmAoEX8S9XlsX+pqrtPTfhG4c/mrLWCDHOnOG2qz9JgSyCd1NjUi8/8A+TfQUsPBziGeRdCZgQKra5vfGTqlYdD7RJcfMyt9sqybQhikhLXfRUK8sq/4QkUay5mgZff94aYWJMKXemOhkKan5bCOMeyS3SpAHY6no/nPlED7Vc4MCzSwQ/7XHSUedvgF1ZKfYP6bdiNd5QUi/gzoPzYukygFX4zChkgR5AoCQQ3p+0IhnXjIsNNRZooMSZBnlXV20TtX3WkjvX+qCgrmACh6xI2vnNWwUftfqKbVVpprnmo4UnA37CuqnzcrMwSR5ZVEuHd2NGVmTxd5/fWFPymOpT/IVv7UczrlEKUdfDEJDDHIoAQjJ44oE5xakeafqoJeuuxyl5kQ+uQR4G38FAgUZdsriLacbQUfeccYcTNfPPNLPhjOzzBy+A+i3VTAbpGTUeXUMp73AsM2Dqptj+ZVaScbSQSdfQVQWYaAcMLBPTAghgsvPxXvkb+FQdhWcQy0xslEeQ9r89ZaVeX+xRbRSVcZYQTTffVdSNdSRPRTfebQggghqU4Ygb/Jc9QkPqwe6/TefjGCEm/dcSaRYfeaFYSWabSQQRXRcXQfTCQwulokvnK5xUMsnMiBQZki9eSbdRTaXzQAQRfcHAbTYBfWSYSVZbRTUcTSTftg/sGnmkqgjhAqnVUullqlLDUQfX1Jv/WddZfabYUfdbQQYQTcZXceQQR5sfTcGMGGtskB3altDguvqkpNZFJwHifcfSUUfUSSXSffKQQYYUZUfUZTbSSfafTeMrghOSPOu86tnfjmx9HCXnbOEERRQYYYQcbVDLAQQQQQQVVQXabVfbVfdHngsteuiIyyt/QPjUSKmZEVGNDWbbUVbUYaEPPQQQQQQQYXbcfdVdfWffJvgEgOUIGAMvMQkga5rj3bKPHPcTV17/ozfVPNOQQaQQYQQWfbVWNTLFfSujvlvc40TZLBXll88osaXgrqrgGTaZyjtSTBKMKedrTTFaRffeEBAMHcZbgnfHvj8xQW10ZuuNjvt8vnvlnnIMMYbRQHPKANU1OffDaQfbPXKEKyM6QgnTEFlrOTRRSVScUQUKvtLCLjnkhsvnnjvglABOEZffVffWHPFPMCdTRCDAdFAfffcSTQUZQYQevvMCAKogvrspslhoksPPCADDDDEPLHG3cKFa+TlAHQOsfw9f3ZVcVeRbREJMLPPprtugjhhnglhKFHHiBPjjg+8SPrHGwKULsEZVMJChoPtxwUR9eTahD1e2HDhDohOulpBIMtmU1ClvnvvyUqiHPxDQHvHRTPPKvlrpx943UZQZTdVS5kFmKKtIruqe4oqh3xrgsgpx4ZswKHOvDqAFl/fFKvggnnumjtuvskgGFZ6FNPCGhKph11phpgvugljc2I0S1POLCMgP8AZPnlSpL4K57p44Joo4d9++00H1G0BIjLmh7YKIJKoIJOP6rbzzgH14JT1bunrYRi4b76xja65CdPOrdH1GUEX/TjKzSIrqDArII6nHLpLLKbnHqpQIKOBYbNlL5ZSjSIDTZtf6q51nHUHWhAIAiBj5ZTgLTD7roIjzo76aiSqkHYtpgSktKqIw7RgBhAXTQ30eXHUVHNTADKCT5Bywoj3+5ob7UjpZNwYKsNe4g+5G0h6WkoKL5zwGp6tW7+nHEGnUUU/AvEnbKuGm+YjrVca6C3zYtU2MuwxKNkj6c/7yI7SpEJq3Fy7t8MekFH1FUGmHg6qmlPob5zmwb6MoLBT+mOXQ5Kr4J5jzDriDJF/wC55jTX/TPBHZx9VZtpPjBpBFfF/V+WWqrsy0G9LvDQkAE8AgY8ckM48B7S2/prXrPX7LVthrPR5vhR9951x5R3TS4z7fVo9fn/AACGlLCFKEOBFEDgdtvujbV97+eW0acR8ZYRUzRUZU7fT0RhrKXwSafzfz0IrgnjAMLMGABEIutOAl1y186V+fXeUTffZXdecWaxXWxU2YKxq+QzTkxqrqPniLNPGpMFEINvlChtSkh84YadfTfdUVdeXTTW7fWfQbzOA63UDQndm8phkmBMMjGCmoKEsBNhruuqvoVZWcz0TYUV9YIcVc6z+4f365/9IDcnRBkljEFLODJNprmrKkKCuuoisqPUYVbTwOAM15XRPs1wW6YfVRdwcfvAjEOBFGLvoEOjGNlpkKoIEvOKlosgDXXYR4CAMjPPNtpPvvJSeZcB6bbMTjCQUQDIBLCvrOiMislhBKJpgAitIU8fZ0+XCALPPAkogtjmS3aeZ/Zxf8kq6zS7xPAGumthEutPtKJLlsjgpsp0367UcUR4RPtigssij0fcHu4V6wFaq/bY8vLAEEkmvjjOPEIqPuiErnjmosHQRaafV8shigggny0aVDPUd/fQQu1LBhuPIgljtwspAPAOkmujmqqlrvhFXRdeaRSwgoigukpmbcEDcPBvUYu/kksm7rqFnGgNrgOgmqDHmrsslvkipdwSbR/UwgnlhpqvrMTfcVklg17Jkl995ogkhmgqktvgnliBNqrnslvgvmDHKCD3YgivvukqsgjeVrChqAQz5KumFrALGmICoipmhsloEiutuqotinvCEKIMoIkqvvoggojvjW3HmjPC10qkFulkNBPFuaqgrvgmrIEIOvmjspsfzbRLEDHhpggipuslnmRQGlKMHdwDggjqvpgjKHwqqsvggnLABMPAttqYa+xUacV/nrnpvigsgli8zDAlPBf1PhjnqvhvCpNaaCIIFALADBKVV+/7QZwVVae06luhutrihkk73QEk1MPP1ureFIPBCEDA46LDAOLMEKHGfQXVeRRSUWTb/UpklqlvjivrpX5psZAq30oqyZVdV0eSdo7dW/w8eVeQYaSVVbbRXv8AWkVEN+s+oL77K7IDWLpvjC5MJ77rlFUGPFkL3EHX001BzAw3k1HWh2tHFm1nd/fuNIY4Y6b5yla5LHG6m4KYKsF1kU1W1GEFk3XXWUBFnH03lXmcHEkGmv3zD7YIIoJLjN17Yzn3uG777447f0kHH33k23n0HEFG2UGlVUX0+l2n3FP3kHUAYq7KqCWKqrRgBYULjfHON30Hld+Ol0k20WkEWlFW1FV3VFOnX3fECCwAT7oIJIwTC7LpTAoX52HUuvffUMfLMVGHH0HEEEEVEu/9VXGHlG3tU1zgJ4IIL6IapacjUQwPn5HI6JbjBDAQouHWm0H0FkF3UH310lGOnElEBtf/AH7LGO662a2y1NvF9r7+/h+Cka7mw+I3VJBBNFL1ptJBxx9pfpBdtZDD/wB837//AMOJKqLLjAvHEcb4NZIBQY96r4vgaxgn0s9uVmkH32lUUKAH3kAEGc+MNNMP+oLJYiwf014aMvJZbyqbzqLAhck0HVO4J3YVHmk0kPI1k283P30c8s8Npa4apKaJfQDMYL31ZTczyIj4Ax+XE0OJ6L4Igjwx2mtzWX0VV38P/wDzzP8AgssiiktqCf1/AU4iDmPohKngAgokOAkjgmlvrfXfVUTpcWTeVaV+4/5ogvrggqgvvpwzID3evpuHntpKggtyT68olgqknvpefYdWZ6dfYWIOgmsknrtvjupCrjJ/1FI97Lgqurlvorgj0gvghqtntsgywRYdU4UbSYQRJCqgivvvvivhghuA83nqq2choggoghrrtngvjjuFIorqqzWSYbZVbZTRXUZYRCMMglusvikcDz9o66wemrJiltlvtkiqgrunECvsilvWbfXbSQUcfaVbQEIDAgnhimgn8KQS25Hf/sjkrlNHrlvoigvllMPitjh/cfdfFDPCBNKMMDAAFJAghqmviUS/+ywc+agmjrPEguuivsuivEHAIBnv+xYeYfffbXKCAAPPKFIAggjktqMV80m1VVvEukFL4OJikirgrkPCLPApu58WRfKFOPPDDDDEMLPHPPHqtntuf/7rVTddEfwGuBvEqgvlgviEKNusl824ZcNKEOPPPMGPAFEPKNPNpiiuLFcW7X+PqDeVMMAEiomlljsMCABogvn9fVaUPBCMOBPEMIPKMIAHNFhlsNMPb1endoKt7IBFEKBrgsvivPCFkqqszQcVYABAIBHFBKCINFAIBHrhvtyLTWxbtzwHONPPOggCMvusNNPKFFvpmzWbWcSAABHOEMBJDPCAAFOMsvvUHDK9Vv8ANRRjABRJjSgD4oQDyRBRJqcH2nH0lkgABijQQSgQTygxQDrLYPjjAu0MMFgTxAAQSAwgRyZABD2AB74v0GU33QBzyyDwBhwBQRQABSTixaKxTze2vcgTDhBxChzyjTxRQABggxw4cXmEFXxTSzDTxwDAhADQgAByiTr5AgKf0ZMhCjzBSChzwDCwAACwzhCpcP2FERigDTwBDxTCBAQAAQAiwxRYYj0McwG+hyDzAyijTyBSzxxhSCVwbvsk0FHHlhSwhQDQAABgADjSDyAhrIRzDNQHYigBRiCjDTyRDjDjgDT2xqPEmEEEXXRTwhwAwhyiQBgSwxjyR0JSjD9CnPDRW1wCAjxwQyw3UEDXFza+mGWnFUF1zzwBzhTwBCiwyiwjSSfJiXHcjsNzTUGgiAAD3332EEEGlyzJdUFX3hRQBDSRzzhTySSRywxCjCznDAHPPCe9zDkXxygAhSk33GmkFXRC9tmk0mhCjzxgRyzhgAByhyxzQjyz7SSj3vyXOiAU3HywgBRR30GiQARSwuWEkQRiCjhgBDQQSQCQjiQhRwjSRgyBTy+RFoxW11nXlX0FBEn1lwhzCKNEEGBwhiDAAAQDAgAyxyiiSwDhB5ZEm0BWzG7xWlkmXnVH03FlWTTxQDf2EX02EgTwRgBySyADiiyADywjTyqFTTXFLiPbgEFknXGVnVH2QzAiAiEuUSzDBADwDzDjQRQRwDDADDTI7qJ/nmHkHazreyjyk30n1XnxxDwRQwD1NTgQL7ThjAByABjKISn3vxCL9PEc9QRFkEaCj3rTz23Hxz3wwghDwxzcfqwY49+Uero038t0NQ4bLq5bpKJJYaBz64KKhDtSgAAAwwwShDiEUsMoe0dNixr90X47P5rLIpJyxZ6J47+kmWI5ICf+wzZYa4IY/ON23JFcwWnLqLgT2GWk2m6IaraUHG31pHDhsvFRquWWlkGE2wgAHsw9xZwf1BXEGr4IY5o44jXyHcJiMPz4Ef8AHzjUJ1l0ddlpV1lpNj/UM1cBtNpVFldtPW6PeszjnllWsYH7flAqMXWiewDCebZdN1dfTyOyOi6+ZRDHOG1dr/kw83HooXkwwEgKzBrEMEsCIUPu2K8DvgO9xxdqhFDnfz7z/swfXAg08zj2yIqv8sla+WqOOR8bMYEO9QZbSyWADDQ6BRRCqvCCDTDCayH7zPumENkEXLajbk0rnua6ijgMvkgpsEd//WC+oTDwCqGyyTrSmpA1Rnzqea2y6g/5+qFJfS92Lnd14MPS2zMoyIc/7nSq2x7Cwi6CmC/DCBcDD2cA/8QAAv/aAAwDAQACAAMAAAAQFZvZfGXKDhlFBf8AJ3Cd2izXZb/+3aaWWYWbPkl7yzy71JJlIHWN+zibYw1n8Usa5zC7dGRxQICqgA66jmofRCUcBeRRfVQPHzww4lZNtJ03LCYjtcTZwo/VsmNRG1rB5ZAFo5+TdaQDhwzpp7hn+31bebbP5zHpovGxNRbDk7T/AMaLNV4PdO2eNKwmtbVfEEBMIQAHrBAvAqoomVBYocgjWjoq0WPXx3bG8nPg7ZTWkGcAJigEp41bHxkXvF1l3Mm0ORzyBWiEE2j12dtrKcmlNfUWA0v0Cg4w1Hky0FDjtA4PpftqFPOfL5hBVrO0BqNHB8qAvcQMYU93pIP/ABorUASwSM6g9HxZQyNBiJVsHOp4vF6lFCaGEwtULEEOSD7jXTGY4U1kE6POHl9Tk45DzMKokw9PovocKKyWe5eXDy4Tz/ULJPgAU5Cp5SzIaCHTRHymhnc/7svPA5vachhDrqulvYOGv4y+8jMGLi6VTUfWkoWN3gbcrFL9TF+4jzGJ8zCodneB9pL6xSPY1ETAxZDcee0AqhlcrJmmfMbRm/WAcANmqIzcMfGlwPJqz1uEHWQEptZwEw0oM8X1WcpMnk90oXPsbqLC/wAgPTN2B2VJmppuy+Yc+MsY6lV2uNSWXccfZSTWXTOcEECKD6TWM56I9hVwP+qRLWmmj0Xdu21BsIzxPRRLmyRYcUVZWeTefQdVZVVATDPOHfMshtsq0u0I8fSphrcXwESaLQc1Zb3hfz9gKvsNBukOURcZZTUacdZWfCeTTNSQdaYYsssNLEE0vCAEL18nwF6kCbURid95x1KuYfbSTTTZEdUabSRdYRTeaYXUTDTwutskvswonA+PESHJbtEn20mPRdSaZxz8QRcfGAWecPXaSWfURaWcefQWTQpk8jDv+xsostfNvQjKgtplIGQSS2LIsd5zZXcV9y5fWZQYYQbMMFPNQZW1oRYaNPGCkjgPXsa+DIlnuvmNRBLnxz56RUc585+rqXQfKcTYQUdbQaYTWdYcRYYQMlspAWBPM2xllSlk0SOHByxCMFfYw2w/np/aDLDffcffeYTSXdUUXeXRdEFDP6ZQS1YYufGPqCFKmWbDHEETZ97+0jqaBFEUYfQ8dTXTYbTYdcfdffLOPi/MLz4IuOCPDmJkgh+DpMDGVUQDYBwDsSAEOUaaUVXfRVWbVcNSMFbXqMDQrb17sl1seMR1SmrTigpopuAx2yC8atVJOHMflbjTFaRQcZFMMDG77bvGvXBBa7Y1CFnY1cfToQvWQS38AFGxskUNIAFCaGAkcDaQRWCRLAHG2P7MHjerggFXbeZS3z36zYpZ7/1f12xzgvhhsssRGNMmwQafaeHANJFND5rPsCMZuNfb6edKKCMggl+P3y1wXwz2/wBf6p66L3G0gjBDzCDiAQXkTDBM57rCIHKctfL7QSRjnkOHdKM8d92WH3WnP/TbZbCgDSYhA77IP/ExOARr6dyAKmTbqYq5T7GfEHwEUrmGQbDm91emP7az6w7AIJvfprKqLpMkRv6SvHPSTJGw8KqBSoYX9tuNEWFmXnXBTqA6vnhhi5V0PPJ2/q7w75Pv6lAwFrhzIoAqJSluhQDQyB74La5o54hzlzsPP8cCQXB19ve9jBPv6qVVTX/kjywQ0+MF4oRq+jb7bjSRhzTDJac8vPGN3TwK8culW6XH8/8APL/+jvWq2Ic4DPY1/wAvktG7IFBgIBEjsKAMmAg8i7YbZfHBkx0ehjVXxc2XSR+QQukrkruj4K/zP/G3psR5LNEgttEhuheTrkhVQdcSNXqbzGJdQTKlW5//AAz/AGYG+qlM1XMOp0KusvZm6WAss8CasfME91SihFBlcHbn7sEFHGuBPCYWVjeLMbOsUXh+/A5qFOca8umV4Iss+W7kKbtTqhlhRbbxH2PKKeSs82GSeWadrIuOF9/43OAekIe3z84kBYoi220beONNS7WyKuplv5njXDK/bp+aqn51lPNbUAmDngM+/cLxLXtl+o+G+fLqfV611IAHfTTtrFp1dPHCEqW6jHI6QgnPr4QtXreyoxqRVB5VD3mft5RbkNr0ABN9Ljzv2PxtJvjVbmkH/wC5/wAs89wo+5GLgs85kEKnmPm8kUFn1HUc6uqRxhDH+Pfs6fFlX0OkHA7v2WuaHsLK/npu5q7ABVlpvHW980E1GGOEMAQCJoDBqMfMfztmE23FFXGHV3neW+nmdTbq06C5sOblWaypF81Ot3X1WsdxzD6CC94Kc/qV3V9XV3lXHmUl+0/2cRPz297SPLATc02A6h0tmEvmJTT7o4aJCRzKao63XXXumUnG8dn6NNucSvENFroVnZnxRNUD5KJqtvs9r6KgIABK4goIbZ6ASrUnEthjR0Vk2TxfHxYPdNw4VfE80FAmhoI5QkZxwZwoQD7yKZyLIapq6j2nX23QjwYIBTrq6oZxPNOLW/skfAEQwpr9efsU4KSobTC449OsI6DIp5WvFGRjFwBixyCoY4ZpJEnLrD2cvjLHdyaLSLs+9C5prATY7Lb7o5AbYaoJd9NNUFnHUswZoY774auFBzV3m831Yvq5rB8O8OqpxCJhrYrLRIRTz5JYrpbCcnkFnGtLICDTpJfPl5mWP3+cAeMZdMHeBpADDoX4AqLoJ5o5pJ5Y4I6rAkeW0XDpfrY6r7qY51MuuvjQrzufx1775W6igBhpALD4iw5AzaaoabZ5br3FXH3g88YyBbKa5bgMDK+JCXKTk4DVfWK455TiqixgyjBaBDar7KIp545Tywiy1naJ7ooZopoY9AWzoAcyiYliYpirQqo6IhqYQjjNvD4LYoa757rKAhCgBgb7r75La4JpY7+eAYBnEH6SSSrwow7hpY8g4KZIaqjhzR7orpZ428m8SgDS7aaJIqbK4qLWUDrG/EsIfBKI74bqJghVT5Y4qZZxBTyigYpa0FSp2UVRf7JKI7J45777x+RifX3L4MJbKo5bZghifXjSyShATzzQUmsf/keqJU0VZ3qqa64qb46KO5nRaR3E/im5XBywQSCwYC2gBRByxyxyikXWVW1FxZOnnJV6aZ5ap547a4LG6rY0O62wIO3eM0le3NlTGm/MMkX1m203WnGWVjHFnHfn/wDrP+2CSS2CpQSaLlBf9UeWulbph5VTNnB1Z5NlQ8wUp1thtEBtR5BJ/Zz/AN/+krtjmouc0mmNDP57Aorl8dXRfR5a5UfXSW38bOaTbbUQeefaWbW77eDCjikvophPMXka7gFP7Ijvjjn7RQQ9C6TfQTe09aT1WcUdUYZezSfRrcRcQeBmovtjKOs5yQcaSXAjTaYq90skPKHVacTU20ZbzQQRUaWRFoXeQosALFLMroo7qGFh9W+TUAQM3kBFkjWuAhwp0STWf4zwZzVd46waRrwbccuXXMEglvw2905zYF+tfdVRlnWRfFe/0wbMi9aXZTz7zY3QdQTeZ4lzTfYRX9y4/wDY7+v+8sWK74zzXsYRlmdl3gfEtN3ZqwTIaSYYrYzEHm127MmW1TUN8/ueMO+Id99Hu+tT0uYKOll1kXK2ff8AfFv9+2EY4iuWR1rlBuk54RzJhRXDf/vrjjC6O1r/AJZDLLHyoVZ+dbY37UCbHsHtpG1yjckuGHGcKbnOQmrcYfzyzw3iop787TaTQeaIj7H8w+2X8T6U9vlsgG/57TWyx/3Auii3US88f697w1x4sjgqukskHAkThRbYXIC6w0+7X/8A29/3dMteEG6p4bbrfSU222lXccPeZar64KKbYjHbPpy87iBxWMu1EMNdAbwgWMdN+cuF4YTYCY/3kEkxjL6oaZKabZ44gYg8bD53PIvsPcdPMMu9cyU3tc9fNMuOBSIa4OEnn3k1WQw4IJ6JbIqN4Zu2cLIQsq0q8Nfv8s+++8sNOP8AnQgDLP8A2DnnoZTadSTRSeZaRCDDv6xgil5Hag1qq6Vq25g+5Q16/wCM+v8AnzIEL+/79WGh1BVZhFd9dR5g4gMj/j7zfzg5s8zokf037Tvv5xznDzZB/TnUQrLj3kyPBJU0E8MkQEkMMAA8s7/7zLxr8i+7gt+CfDv/AF6mO07/ANM/tvGhjBzseJSduHGHX28gTzzjDiAAE9PM99eAw/8AuQpIHgMyC/Rs1PDHLvzvxw0MNDHEcuelkcgU88og8osIEsIwxbDXrcQLPqG9ocVHbJNusBvHX/fDDgcR3jPSKEKPMc8ME0ogQ284Usg8MAOiLrmBA8PyHOukde0JdVTnLb7rPFc80HL3jYeqTh0Q4wME80gAOIgMY8wJ3TLlN1wjSmQhQwxQtBlZFnvTHvL8gJHX7ZIait1w84IYEI888UwcwgU5zvnD0JwMzmWHqt4Ul9p/H9hz/TtZIEAdH/Ds/flNxw8skIESMgMYUc08o1nf3cldBTAlDjVUYxdNTRRRB/rFdwQ0QjXqii7FRJ508MMW24E804w4wt9v3fvh1BTcQ/sQA4R5FtN9lFh/hNYFswjbaiCELPwgc4s0iig0gc4sSyMct13UdhBfEYPxA0kEZxFh8ogFo8Agw4gZHgnnRjr+i2cQiI4gYow0I6+4IVVz2dpPT0BWJAMkw8dQkMsgcUgAQgEE7mozrRMOKqe8AsgC0kUYYwOSAwg1PZlo++vq6gcMI0wUAI0ccgwYYoQBYv2EZP8AZ20+srnotohrmqIDHKGBHPKTI/TeL1KyKKCGCABGMPOGDJOLFGWHmHxYfQx27gsCkvmijjhmNNpJrFMNOM9cQE7AjHNSVCDNAIIBLLSQTDVaC7Qy8Ve995/vIMOhvgnpiFDABHJJJkP+DTR6tqSNaVJCOPATfRWdQfUQNJ6J6349mgkqiBnvilunhrPLKHODIA69TPyEaaobNbQCJNBGETQRcafeZIQBC/cc0pssvlqslklqitMGJMVfTZYp0VQDBU+oNPTSYMNFDNLQQUhgkqrPCg3eGFvvlknqmsovgvvmFLaSTTZRb9eQdtc55JWbWQRaRSVEcU2YGCFFxDwUUAMjmEvljtpghjmhjiPDFMPU2dFJDYA/eyGZcRdSUeQfbaRQKAMCGh1xYTXdCkhmgmLthvpliovMMGGEJ4PYaMI7Y82PbbXTcbVUUQbOHPGDMC6xIBDJPCtJPnJFMOkChAizSW8y7zA2FADC1WKOENIfZaRfYdEBEGcQeQNUsMSzwWVSdbVDZW5ywNnUMRQOPKU4vRBPAzDD0wAFQXQEMUJLHUSfXbr3OTx0pIXSlUMFsro6GCMDErjlvsEMApvHMB3JCJEMNCHHBRKOdcBGsaSLRn22Y+PknWbMYXeTaS0+VNmrlxXHsdilMfeNt+Zk7z7vmKxR9L1av4gkN5YAWXLroU/0ipTjonikSMl95L6k7UUQRU86rr7l2xbB9wGWFYdUjsgsoorAzG7VH+LdUC88SkiVav4acGTeSDVbCMsPkCG+YgDwQb4x23JfZE0vQIjMCHftjpuBZENvEHLgAYOH3w65qe9NBMCOPKujIMboRQZvSxtRsIyR89z34H7Azx64uJag1MHqgrm1Zktnrf8Ar1nW0VwDd4UYHZ1Dv3jXcQvkIyZ64DgwE2uItYgD/wADuK6KDDPV+WqRGx9jSj2/vDTCuOfr2iMBe9QPWyJ+voM4Iztx5++Hh+MfvW22KSiDfJhHbrZzpfyDjNxzTTDLj8spH5/rY+H/ANod3wluV3wYvk0uUhy2lvm+g6+jD60rpA2fbPG0cf/EADQRAAICAQMCAwcEAgMAAwEAAAECABEDEBIhIDEyQVEEEyIwQGFxM0JQUoGRFCOhU2Kxcv/aAAgBAgEBPwC+oaV/BjobsdDMvKND1bhL0Go/hR0P21YcGN1BzN8GSKeIcqgz3insYHEBuXpegh+uHQ+hhmQUx/PVcEEHCwmAxWmI20yuVAnv2nvjBlBiGxCZum6A/XvqZnFOYepRZgURvCY2i2TMQIJmc8jVZi4WO9sZvMDmK8LUtz3yz3ogcGAwmboDB0D5o6W1M9pHIPQdcfighjdzpiEUTMPPVE4nZYe+uMWwmY0kuXAxmIm5lcg1A5i5Ij7jHdV7me8EDCA6XLg1vU6jpbSoRPaVtLlTaZXQIMvHIhya4WF1LmZhVaqO0PaZPEdEXcYiATMDqqkzGtCZDbnQGYe5mdrf8CAxWhakv7Q5WgymDLA8LUJvHrAwgMuXqOk6AQiZRamBLMxIFFT2vGFy2PMStFxlhwZ7h4cbjuplGVK0s9GPLQow5hCbN6YvFBMpG064l+ESqEfhjpiTdzFWhMnjOickTJ4K1BmPvMzUAJuiuYrmM+1bnvYMggcGXL1bgS4II0YXET4og5nto+Nf/wCZtmwzCODpUoQ40PdRDgxw+zDyYw+zN5EQ4MnpPdP/AFMKsO4PUMziM5Y864sgKgE8iMwA7xjbE6YPCdM1b9MXeVMy0QdEUswEVKmbxaCIOZmbsNAZj7zM9LXrN7DzMGV/WJkJmV6AE3xWgMduZcFRByTPaDuyn7cRVsie7HpMXb5VQop8hDhxn9oh9nx+hh9lXyYw+ynyaH2Z/tDgyj9sONx3Uyj6dKsVNiHO1doTojbTARtu5lYHT2fu2mcdtMK7m58oABMwojRQSYi1MpttBMcyNbaKYpoQvZm6K0DULhFkmIAGE3iY/PUfQ7V9BDixn9ohwY/SH2ZPUw+y+jQ+zP6ie4y+kOLIP2mFHHdTOdVYqQRPfCu3Md9x0wsA350zkEjTB56Z+GH40xYxtBPnCtCN3OioeDH4XVBHNLWglzF5/W0DPd4/6iHBiP7YfZk+8Ps3o0Psz+ohwZfSHG47qZbjjmE6I5Uw5kjsWa9MLAoB6QkCHkmDuNMo+A6Yk3GbKmTvoq3PdzF56Lh3Yy1/4hFfwZRT3UQ4cf8AWHBj9DD7Mvkxh9mbyYQ+z5PQT3eVf2mEv53quXjmO+4VphIDEHz0ykFuNMVbBpii9+YhQIRvHMIRu7iHvCOeIE4OlX00fT+AqFEPdRPc4/6z3GP0MPs6+ph9nH9p7kjzm1q7z3LT3WT0mNXXuJz6TH59If1Fw5bvjTEaJ/E2g8giZK+EX2Gi5HUUDPf5f7QksST/AAhlSpXRj8/kAkfIUWdNg90W87/galdOPz0rWj6fLxAFjyBwZ7o+TKf8wowxPf2/h0mMC4YRF7iHdfnGHAPykbaboGZGDLYUD1iEU4J7r/D4+5imiIRjoHaY5BPA40VmYALH3fuvTH3P44hptQlgEtUZSNcdXyIXFEBQL/iMfcxe4m5r7zNssbfTnT49oK3VRsv/AF7eT9zpjIDi47gHnGIToqgoNzAHyhChG+MH01xsAbqz5Rczc2qnj0mRw3ZAPx/D4+8QWwEGQ3W0EekyqFcgaBjtWjUyupC+Z8zolbhcLZFaiZk2Fjt7aJtCjebB7COgoshsaq5XsaiuzAAkEedx6DED5VfWp3itRubjLlwMarXF4v8AHEVnJA7/AJmUKGoHQbNgDNz5Ry4SuNvqNcSqxN8+gj4tgJPYjj5QmUKGoG/koMZHJIMbCQH47dvnVx04+/yAaNwmzqTag+nBhyKEKqO/e9R3i4nog8g+f0gOI91I/E23e1xykff2b5i1fImM4ydtEX95eMfsP+4dU7wfPWieTUBVUYb7BHYdI+gGUjZx2l/MxkBoUABcIbHqKGh1Tvpi8awD4X1o/KxdzxzXEZCVJK0QPrtj1e010YiA05RizNQ8h66HXH4tENOpPrN3iHrrxtSOKY/J9nFs3Ncd4x4K+9P+RGRgL7j7dA+eDSWO9wuxFE/IFWJk3+8BS+wqZlAyMFGqMyniZmLKjHj7dKeLrJJ0UAhoQNgP31ZBvIGuJq3fdZ7w+YBi5VBB2/8AsJBJ0E9ywo9x9o67WYeh6BjU1TiDA57Ff9x8RQckapi3C91cxEZX5HbvD3NapwtmqPlCEXkq3+45BNgV8hHKpyx4A4mTNlU+L8cRiWNnRC4Nrcfcy7z3HB6U7j5KEC79JuGwj7y5cGQbgft8haJ5NREYYzta+b4mViCLQHjzEJ5OonDcg0Yx+A7iCfLXF7y/gjuzKUc0RyD0IpdQB3EZx8Y+w6xGxMGICmptyjawU8jkTJvJBZa4oagkdjCzEUWJ6V8Q+mxHkj1EZ2OIC/Oj048auv3mVdu0eeqA7OPW4WRlPP4H36EbaqG+N3MykEA2Cb8ulceNlFcGu9x1CY9p8RN6B3A8R/3PeEpRJu4jKAbby8PyDkAJi9xB9NuNV0403Le0n8GOf22aHrqpsKQpJAr0Eys58SgfKVUFgizUcVXPFcdeNVJFmbU/sf8AUddrVqzfEfzF7iCBOASQIVI0Ckwgj5SFb+IWJ/0HzYR8SKgYP37CugA9SAim3ATJW41qi70qwKPc9uZkwugs0R6joCk9gYR8IP36RjdiGUcHm5lVwx3A9Y2qR3jFN5NWIzFmJOrH4j+YO8EVCyKRGBUUdEUsvpHWk5I+3yhMZAPMcMDZ59DqO8YncRdVH8Kn16VKe7G4XzCmHaDuYQ6YtpDBjQ4hwqfCxjKVYqdUegBZHPlMrBgCBVeXSu1dptgfUTJlclgHJB0RdzASkbgCj5agWY4ABBxm68XQZYg7wQVsWMKOgICjiOKOg7iGrraIRoqFuwuBWGOmXi4+Mrz3B89EDE8cV5yjQNK0Z7XbtAF9ACgDeFuZTZrih2rpBl/9dX564l3BhYH3MbA4UdibjWDR1xWBYHY8zJRBNi7/AN9AnxqotBUfxdgNMQvIsdips41h0EDNtKu1dD+E/jQd4Jj27OVJjPiNfAeBXfTGMewb4xw+amMRfHA0+EqpKEipkbGVpFI51D5FA+I8xnyFeWNaYyQe13CKB8wPTuI7bmvUXYhRCTeQA+YjgBqsH7j5KtQI9YuUjGQG5uMxYkk64kLBKYDmZ8DbrReIQQaOo5IFy8id2SOQWJ0wi2IurE2JsIGQG/XiOjJV1ootgICjA7+PSu8OuQ/A34lwd4ILKir4joeOD2lRfiAWHA5RaHMdGQjcKgFwY2Y2riZ8JJBVea5I0VqPYH8y8boO4qNtCUGvnTF4xAMmMfp8+vSownaXuyLmZMA3bWN+nQJuUdlH5MLA91H+IavjrG3YoZq9OIwqqe4dV5IEOwAqWOuK9xrxVxPcs6MWWmHY+sIOieIQYVKkhxMiFD3B/GuX9N/xOIIIuTatDg3yZ77J/cwsWNk3EYKZvb+xhJPnB3EJ+LbQqNYJGoagR66qCTQmHJkBKWe3+o2R38R0DEGxPe34kUy8RC2GEz/qHpOJwL7/AIjiqH25+RiKslFbqZNnkpB6SSdUbabi5si9nMfK+StxutMfigAZGHZiL/10Z/0m0EHyFcKgLCye095hPfF/7CRZrt0pQNmHI2RSOxAjAg0ehCoQB69RMhJa7B6VOVUB3c+kcqTY4PmOgL8N/eo4AZh99QCUUATIw2Bdpsdiekgg0etALjlim4CvIw6+0fpnQQaVKgQme7b0hUjuNLPWniHNQnKq2NpHqBCbNno90XCncBYHBhBBI6EFsBKJuhYMyXvNiugNS197jEsSdVfbjA8iTC6bSLJ9L6SEcLuamqP3qqrjQGpvaE6Jd8CZOA1Kea56PaP0/wDOgggI9BDt9Ia0II8oHYQ9NHVF3GAbUe2FV0CHEH53+Q4q4+BgAV5Fc9CNtYGMVHAfb+BCST87Z8F2O8OgBM2jZfneqAFD6niI7rYokekyFCRtFeuvtPgH50EXsInGOx68wc8aY/GJbXMi7XI0AJ7CUdAdiAjufOb39TCoIsf5GmM01wuh/Z/o9O/sfONnYqoDntz0COcd0ym679FcA/J91kq9prSzRGuMkOOamY2QQbB1QjY3HbkQZ8o84TZJOvtXhX86CL2EwtTdrjnLRAoj7aDvGbLwVr8VzGJLEnvpvNAA8TefM3DXlFXdfrXRj8UVVK8jkmrnax8r3lELt8hz5x2xlTx8WuGiQCLFxyNtXZvoVLU2QPSZMLLyBxoDRBnxltytcfGzDdto+Yh+ADjki+YqljQhxGiQQa9ICB3Fw9+sz2o+DQROwmM1Y9YGOM3t58jGJZiT3MU0wM2kENRI78TI+9t1VooXbZvvCookaY2IPir7xmZVsspv7TjQcGMAVDe8Jh6Npq64lE9CiyPzEyJuClBwaEy+5pq8V6gOUXb2mViVG5Bfr0cALdzN3FHuo6EcqbEd2WwDYI4uKxU2IuXGCDtIP2M247O1hZ5FzIGDfFqq35gQoRz3GpntXiX8ap4RMVAk/aK7Ma3f7mTZvO3toSd601cCZihb4f8AOmNVZDZqjGKhSF5vz0xpvcCMmTbtGM1cOoUorEkURXSrkAjyMVyt15iumzLJOtZAAR2oRnLUD0K5XigfzGYsST0lrUCu3XjK3TXUcKDxcNXxoZ7T4x+NU8I+RjJVbHe4yqybjSny++gu+Iq5QpI3AxgR4gb1xmjtPYxgQSD0DEfMqPyYUQDxgnoUgHkXKxerQkVSjXHtKLuaqNAx8FklGB+3zRk4oqDNyf0/9hIPYVpjPNbbmUEEHy6Paf1P8ap4RBkcecLE99dreh1xnahNXZqe73oWXiu40ERWv7H7w3opphfrGysCaa4zFiSe56BiyEWBDjdRZHyVKrjFiwTH2cbCf89AA22Ztarrj5a7K+IH8iLiUqQrizyL4jIy9+jOf+064/COncfXUNSFYXYitxrTH4u18TaW4Io+XFS+tUsMfSKtqx9JRIJ9Pk4h8HYd/PzmVQGraR0JyKKk/iXTDctLVV8hWUIwK8+Rm5dhFc331x/EKqZr3cgjjozfqNrj8I6QLIEdGQ0R04jTiPvNb3Ahxnyo/jrRgCQex7wFMdkNuNVVQuKIC1fySjELQ42x3+AIQbB6MSF0NNXMyoUr4gfmIf8Arq65mQ/CFJsgw65P1G/OuLwxaHcXNyf/ABw8ntWilPMGNlxhjwWv/U4uBVP7q/MZQp7g6IQGBnvX9b/MGZh2Cw9R+WzABVPahVRyhQAGzfRiOUcpczEl/mYSF5btM57D08+h/E351xeGIP8ArY/cQY7UMDMlbzWgxq2NSKB7ERl2gev1y7vK5k5Cse/Y/MQIVAZqj4HHhphXQe51xeGIzL2hLN3mw7bgBJh3AbSPO5ROgIvkXN2P+n/sJU9hUVSxAE2A9ms/UB2XsxEZmbuSfl3LjNuN/Yak8How9jASDYnvcn9jCSe+gyOPOHK589FC+ZqbU/v/AOQgDsbmO961Bix7v1hUy0cjV2v6ETew4Bqbye4Bhq+PpH8Dfg6iYex+WCRNqsQpB3eZEyJscrd/QiY0JVaqvOOoCniueOjGqsaLUbmTEBZ3r+PmDErAbXF+YMci+Ncv6bfjow9j8gN6i4HUdkEZixs6KV3bCl8VfnMqbHIBsfRJQQ7rIJ7TIgWqNgjjoxFKorz6zKwJPw0fmIqijzdXMvi1zfpt+OjB2OpQAZQPQfIUWwEJw38W6+xMarO08fRYiwxjaBd+fnGzueCq/wCodUI92n47TKCGs+fzMalhtHiqxGJJN65/0zqJg89Wcsb+2mLneP8A6mP4Mf8AnRFDMBKJvRfEI4Wzvwn8iNVmu30WP3RVWckVxMg9ndiQ9RgASAb1s8c9obPyxEzBAo2g8Rzhck2yk6+0H4P89GDz6QxHYyyQBpiKjIpJgYi9ALIis6Y2+MGhxRuMSSSfotx27fK76aJjLQUjsR8wBgg+FWFdo3iPFfbX2nwD86iYO5+WIg2myy1D9EVIF+XTiLA2CBMxujuB+YhApWcg/wD5MysrkN319p7LqJg7n5a1YuMQpIOMQ/RL3ongxgVJHRj4Dmr7cRqvgV8sd5sYUwYD0mTdu+LvoZ7T+3UTB3OgRm7CHGwHOgU1cGNiLEIINHTHiOS6IsQgg0YoBYfmNvFjeAPSuIcLVxz+OofMxKWADIO3Bj3uN9GF1UEGxfmJmJ3UWJr1+WO4hdgzEGO5ar8tfae66iYPEfxoqk9p7pqPI0Wiu0mqMJG0AHzmYglWHmvOmNsYuyeQRHdSoHJPqYotgIL7KzX6Ge9yD9xh+hOzam6+3cQ9+hN4WwwAmWi5IPywaN9PtPiH41EweL/GiAlCB3uJjZTvbgDTGO9CzGU0CqC/OZKDEDQKNhP3jKNqmILdfzFyMz1QEP0Q37BsoiuRCbJ6NxXaFW1oeUyMNxG1foPaPH/jUTD49MXBLegsRcju1NyPPQEw2NRmequMxarMA5ExFVO1ms+Vie0ZRudAi/mufoRFK7WKg3XSrAY1DFv8R9u74br6DP8AqHow+MaKxXkQ5DRFAXoDXkDGyA18I7aAWY+PhCCvb11L5TQXsQOYwIJB7/Q4lDNyeALMBwHGTW2xRj4UolcqnUCzMZCAbq86+0y3vN1f2+gz/qNqJh8YgikeYjlNiEJ3FalSADXB1LWoHodErdz6TFn+Flah6cRiWYk9z9DhNN+QRGDBGrGRffoQ7XU+hEye75trB5FR9t/CSR9Bm/Ubow+Ma7jQGihD3JEX3fulBbizHVQ3wtYgFmp7p/t/sQqR3EXHuHjX8T3OT0nuX86H5P0K+IVMjViYknnpv6HKbyN+ejD410As95sH9xCKmJEZHs0RVGLhY2DxxwfLQAk8CbGHdT9LiPxj78T3bqa3gAx02mrv6V/G350vTD41giC932EKikIHeNW41Feg49RLOgJEGTIP3mFixsm/pAhPbmbH9DCAO5+iBrVu5/PRi8awRWINiF2Pn/InsYejH4l/MGgXkXqQRWtH+LbhW/EPRj8S/nQTf/8Ala7l+Hnsp1UjYw+4j9kP/wBf4rL+m346U7j5R/is3GNulO4giqT2FzY/9TCCOgdxFsO/lwZkJZUP5H8V7RxjPSsEUE9hKyAeeikg8T/s9BCSTZijcagUOCqu1gefaMCFHNgfxXtPgH56VggupzpiF7vWuIEYAswrRG2me821tFCMybWC3Z/ivaey9KxewgFrj4sQoBlquCdMY7n0Fz3rOwDAH+O9p/b0rE8I/EBI7GB2Aq9FYqbEObggIoPr/He0n4h+OlYngX8fyftB/wCz/HSJi8C/yef9VukTD+mv8nlP/Y356RMP6a/yb8u356RMP6Y/kzyT0iYf0x/JMaB6lmDwf5/ksnCN+OpZg8H8lm/TbS+hZg8P+f5L2g1jP56hMHYwfyPtPgX8w9Ins/Y/Sn632r9nUJ7P+7+S9pPxD8dQns/n/Je0fqf46hPZ+5g/kczBnYjrweI/iD+Eub1/sJ73H/YT3if2EObGPOf8hPQw+0nyAn/If0EPtDz/AJDw58nrPe5P7GbmqrMPXg8cH09y5Y9YXQfuEObGP3T/AJCehh9pFcLB7Sa5E/5J/rP+S39RD7Q1cCH2h/tDlyHzln1+bUqV04fGIPoCQO5hzYx+4Q+1J6GN7So7AmN7S3kKnv8AJ/aHK57kz3j/ANjC7n9xln6OpUozafSbD6T3ZnuzPdme6nuvvrh8a63Lly5c3D1hYDm4cqDuwn/JT7w+1CuBD7Uf6w+05K8oc+UjxQs3qfl1KlSpUqVNs2zYfSe7Y/tM9y/pPcPPdGe6+892PWe7E2LNq+k2iV11ri/UX8y4cig1cOdauH2hvIT/AJDz3+T1nvHu90JJ5J+RUrSpUrUCBTNk2TZNk2RcQPeHEg8ptm2bYq6kcSvoQSDYhyOasyz8ipU2yptPpAjek2TZNk2TYJsEGJfSBF9BCB6TaJUqVKlQQ9A1PXUqVKlSjKMoyjKMoyjNpm0zYZ7tvSe7YdxNk2TZNgmwTaJtgQGUIRKldZ6h1DU/PqbJsmybJtm0QCESpUrpHyz0j5R/jgPlnqHRuE3LNy+s3CWJY+SeofLPQPmHqGp7aX0//8QALBEAAgEDAwQCAgIBBQAAAAAAAAECEBESAyAxMDJAUCFRE0EEYSIFI3Fygf/aAAgBAwEBPwC259JCQvJlxsgryQqaDtqQf9iFtsWLD2vdYsJeXPjZpL/IVIcojxuxMDAlyLTbPxv6HAcSxYsWLCRbzZ7NH91RoyvCL/rciwx/LEiw4o1EkjTgpNn4UPRPxMnGwo/BiYmI14N+jJ7NJfGz+K76UdyJOyHIXKFRmq7o0V8OrNXvIRSijBGA4lrs/EzAxGhCiWHsex7lVjqkQ4L0R/Cl/i0LdPhjI8keKajJM0fqspD+ZCrN/DNPuLFho1UsTThdXMRwJxsiMW+DEcR8iLDVbFqqrqhEapn8OVtS32hMyX3tY9P5FCuovi5ZmknRkmLlEOFSbsiUjSFRtGo72NNWiqM1eDRj/iWGi15i04j00PTHAUbsxMRqiVGOqEKjYn8mhK04v+x6llc1tRzbbP4Go56Nm+12pccrGaMl91vSyEqz07u6FpO4lak+BmkndVnL5Ze7IdqpOViUrs0+1UlwyHcKjJ8GnHllhxJRRGN5GA4EosaLFqR5VGMhyRNTUvBGp2XP9Nf+1P8A7GRmidbl2ZMzMzNGS+y63PTiRilXUg7kYO5FWSR8GryLk0+2mpwI03STSRKVzT4oyTNNculiZpxvIxX0h6UPonppGnD5bMRoaIKjbNZ209Nf1c/hLHQj/bbJStFs/NL7J9O7MpfZnI/Iz8hmjOP2ZL73SSYtJXEqSjcs72sQVqa3CppU1JWRkabpJ2RKVyC+KMnyQjZUZJfIo2RYcSScml/4Q1sYxVuEamtlCSta6MWT8S7Mn9mcj8jPyf0fkRnEyiZL72SSasxaLuRjZU1YtoS+TTVr01XxTT4pOdnYvdi4pKRH5dZEF83L0sifm3Mn9mcvs/Iz8n9H5EZoyX2WiKkoqSFpMirKmqnkRTFwPh00+VScrIyIcUlKxmjUGOVmXL+iu/syl9mcj8jFqIWoi8WK1Xp/JGNnTVTaEiCsqal8nTUGNOty+65cv6DJ/ZnL7M5H5GZmR8GSM4kmmWRP9bWWo629Onvn4V/n08/AZc/fp5j67pYt6afA9q6TovTz4HRbXsexlhennwPpsXWfnT4pbc6LcxPpM08mrtdK/hz46li1X6mXHgP0botkuKPrPz77HulxW3VfoFVoS2y48Bli3Sv4iVXulw+rbovrvproy48Z7n0rbb1sixboYsfD8x7V4Vy+xD4dLl/UMv1EvgfHmPY9y22Euq+PQPcug9tti5RYfDo9nzsXVXStsYn0H0Y9y/5o+HvVV1PkV/HZfZcTvWHct1vDRbx7FqM/eyHcupb1DFzs0+5e0Ytmn3VfPsWWFXS7qvlj8W3mW2aXLrLuY/V36Wl+6z7n6BbH0LdLT4dZ9z9ktmlxWfc91vVsWzT7az7nt+D4Pj1LL7Ydqoyfc63L+tYtkO1UZqd3sWLZHhUZqd3sWLYuEWGand7FiluZq80+D4Pj2KqzV5XtVyqs1eV6W/gR5WzV5XsWKse5VZq/rz2W8FirDuVWav6rbzfnwWhXrDnZq/r2NxV0+as1eF7Fi4rp8ulxmrwvZKsP3VmrwvY2FWGzU7a3L1XrocVZqdtGX9lDjZqdtHvtVkVS/pocVZqdtbbb+Mz5LvpW6cONmp2vqW8J+BbfHjZPtfnrxo9q2T7XW9H7CPC2T7XR+zWyfa629tLtftFytsuH7SPK2vh+0j3La6/G9eqhztftIci2Pay/rocvax8jqy3rofvc+WWLVt66G1ku5+zhxun3P2cON0+50fsY9q3T7nR+xXC2sn3UfsVu1O72S36nd7KPK36nPso8oW7U59lDkW7U5Xsoc7mT9lDczU8VebDfqfofsYcb9QfkWLeRHjfqceksWLMxZizFmBiYoxRijFFkW6E+PGsWLFizMWYv6MGYGBgYGBiiyLeBcvWfA+vYsKL+jBigKBijFGKLLw7ly5cyMkZGRmZmdZ8PZYsWLFixizBn4z8aMEYRLLrXLly5kZIyX2Zw+0flh9n5YmaMzIyZkXZcuX6Mu1lhRFBmBgjFGK6ty9LlzJGRmZmZmS1GuBakmZMyMiTLlyPKL+FZLp3LoyX2Zr7MzMyMzMzHNjk/suy5cuXLlxsWx1jyLdkZGaM0ZIyRki6Lqt0XMkZIzj9mafDMzIzMjJjkzIyLiZcvtdELa6LY6x3NjLl9+bMjIyMhyGxMyLl9r6a2tlujEW18D6Ny/UfTbFtbot7pHc+B1xZi/oxZizFmL3Povoui2N9B8bI7pDpHlb//xAA9EAABAwEFBgQFAwMEAgMBAQABAAIDEQQSICExEBMwMkFRFCIzQEJQUmFxI2CBU2KRBSRDoXKxFWPBNET/2gAIAQEAAT8CKfkVG7EE80V9ApzwnPVdrYy5OicFTjgJkZKZFRUwD5dNpwIhnhKk4swTXJrslXaNjs0fK5A5IlV2xMqU1tAnKRuNrC5GJwxNbVMhQaB80n4EWuJ+nEvJxqNjCqq8g5NTk6SicalNKdrgs7ctk8maY6qeKHbXYBVRMo1OClZ120UcdU1gGyvEr72tcFMcpz4EOJ2iPFomtV1XU0ZoKd1GovVUE5VVU3MqJtGqQ0CcalMKfmMMLau2TPuprqoihTWVTIe6DaKmwoZKuHNVVeDT2uaKCz4JKl5uBHy4joncYFXkXBMzOy1na1Fnl2wtq9N0VpdRqqmlVyVVVVCBVmGyd1XJhW7vFMZRZ4Gpxoo3Vx6ngVVfbEK7wnaJ5wUwN0GIp+vGIVVVWcIjJTCrlu1uU1hCGie3PZZW+bZbD02MTQpG0O0KzijAn8qOZWijer6vqu0aKcqEquHJDgdcbihwCaLXaXK8mk8SXRHDXY3XgS68MbTtg0T3eVP5sLlQKzNRVoF563RQY5MCnboVRXUweYKMeUKbRBtE4Zpg2VV5By1XRTaqM5oFXlVVVdjUTmMYRxHVFNOWGuwu8yCJRdtbtrwZjkjji5uBLxiihqo9E85Lqhtpkna7LNonjyp3MmtV1aI59E5gVFEzzhAZKYoIhNCyVNsacpNU0Z7KoFB6vKqGikPmCvoPCy2VV4IJ5zGIKTRR8uI6Jhq8oJ2u0JuyR1E3gzngQ68CXjOKc9Rmrk1SHLYMD9kOikPl2NwO2QDzIDJWg+ZNVFVXlVVQKiCenoDYcA1XROHm2hVO1uik5gg7ZUK+ryapyo3eVV21VU92Si12O12hBVUzqvUemNztk2vAhwVVdsnGlKDKqKMh6CtD6JqGCR1E19So9FKfKghgeg4FWdE5KQ1cUxVRVNjkNVC3yq0GiF5VKrhYjoii9DaFRdE7VVV9V2UQ0U2ZTRlsD1eCMgRkV5Q67CfNtbqgijm5R6ba7SaBF/mTVaBiY0FPhyqFFy8B2iOvFl1TMihRBWnMqLTA80Cd5imRGoTdFaHUamZ7a7JNFVoKs+icckdU3C5R8yBoFOalM20ConZK8VZ81LkFfVxAKoRVUzPYUXZqqCZRHY7mQpdR+yqi7bRQhO0ROaDlVB2aD053lOyPTZXBKSGoapitPTFCc1TJUphrtKfrxZQqqAqqkNSo9MEumyNwKGitSg5cMzyTRXCoOQKV1GlMzxPKg1R0Ts3YnLqoMgp3eVDaRsvEKzp9Axb1UWWxqZmU7IbC6idIq7RsiCl5SiqqqbsfogEzRFwBVdl5Xwp3Vom6pmitOKIIaI4Oiv5pm2XBdKpjKIqpGEFQZBF2SaC5ypgk0RqoOZAq0nNQDy4HcpXVR0omaK1HyKDMYXuDQnyklWXlTzQJueeJ6GZUeimKCrszRRUGild5V12OaqJqhUrzcTZE7NXCrqu7AUFErX5Wqu1mqbRS6BNCGiefMg5V2vTW5puitJ82yqyQOyPVdEcEhoE1R6J2yQZbQmqVnBoCrquqm0bZozXJWfVXk7zvTRQbao6KSocVAfOhorS7orMiqbZTUpsdVEKNVpfRigfUYSaJ86gN5yGikzKAwOXVR6KcpqonVRTFHopjlgcFmFmggExWk1IV1XVTJNCYVJ0UY8ye2jao5nYEKLJP500Lop3fquVdrdVRQjNHRVwSGpTEzRP12P02DZGpB5MVDxbjVRAYrRF1Cs/Mq5KQ3nKNtGquw7DHUlR89E3IK0muSgHmwy5lbolWaO6nOoEw3s8M0oChJc9DRSGr0BTY7YzmTdFMUBXadhQOabqhopDUpuyirRX1eUSldkrquKiadnxJg8yk8rSU7U7AqBNGaaFEMypMmlVKvHAzVN0TzmqhEpxzQ02QqTkOGEAlbtvZGFqNnCNmRgct07srpVOLRUVwDRUJTYgERgdmpC5mYUI85KLsk433KJuGR4CZJ90xWl9GKzGuCR1Gq7UqCO6UTQJjrzycDgouddFJKL6ZSm2uxy6qMImgXVDaV1QTNFOU0lZpxV9NkQ1UatTzu6KipsaUzVDRRNyVpNBTaAqINQHmQ0Tj5jteM0BkpMgrMMgp+Qqqqq7LPzba4LrT0W6YjZ2o2ZeGKMDlu3Dorp49FREAoR00Tw89FFCRqhhtDaOUOb0DQKZ14qBtM8E/IhIVDopn0YVCfMhteMlZxqUTQJ1SaqGSmWGTLNVzUeildkm4HaoqLNdE41KCrkjpsGq6pmimOaa0FGJqfE0LdqNhBVVGaBWh196uqiDkU0KMVen5NO0KQaJoU2oCgGStZowDBRWY+fbThUCuN7IwsXh2o2ZeGcvDvRhf2Vx3ZUOymGuGuKSMPCjiLNU9+SZGXZoCgwTMvMITR56JpoFK6uSii81cDlEnuFNUWosLU3MDYdlofU3QoojeFUNFJIC+6mjA/SqvVKjFAnuyTQqU2HTZVMWgRNShscNg0TBmtAnHzIBOy2DNNUKtTsqBAIjZWqaE/wA01FG3yq2GrgNgQVFZfU9rQK43styzsvDsXhgjZfujZnLcP7Ldu7K4VTbTgUHZDEYhW8E++OijY46pooMIyVpdoFCa5JwQ0GBxBeo0XUCqb9UzTBO/4QoWG9mgnS3n0CZknuBbtfkq1KjCldkmja4IpmijCkOSGx+mxmxmQUhq5URRogE1NjO9JQoGKWpeU5uxiorLz++oFcb2W5Z2Xh2Lww7rwpRsz1uZOy3TuyuO7KnGqqlZoiqkjkvGoULCSqVpgKu/q0+6apH9EW5pg8owONXpikfRqbk9A5YJ3kmgVnaS6qGiLr7kBTa4ZJxUOaCeauQGx2mxmqatAtSqp2aKbqqqMZqR1GoIhOCYF5VZecfKLrey3bOy3EfZeGYvCjuvCnujZnrcydkWOHTDVUVMIOF0dcxqnPuqJpfmg2rttdgbSRyrRE30Y6IaDaeUqM+ZMU8t1mSs7/Mq7ZHXQn3yoGXWqR91qGApvMmBSnom7XIa7IwpXdENhQ12Wf1B8xut7LdR/StxH2XhmLwre68L914V/deHetzJ2Vxw6KhxviY/UJrLooEMMjOoT3nRWdvlVLzvxgdyn8KJtM1eoESXlRso8YLQfMAm507IZBTS3pPsEzlGCYk1porO01qVWgQN8obXqqZmtAtXbSNtn9QfOy0HotwK6LcR9kbMxeF+68K5Gzydlun9lQ4aqqMbCa0QbRDLC8Xc095dko20aoxU1wWhhMoTMlI/LJFp1UXINgUnI5RFhCYrVNldCs5wSnoEWvrRRNoApHdEBteESg8UVn9QfsOgRjYfhRgj7LwzEbL/AHI2Zy3D+yMb/pV09lTDReHjW7CGB7ahOfdUTb2quV8qAptfmx34UTaK9QJ7S5WYZnaUx43maNCckXBrapkhc8ldNsuiMRTYhRWf1AhptLgEHA8McAH5pcb2Rhj7Lw8a8MO68L914Z/deHkHRGN3ZXUTtvIsa7UJsYCAAwyC7mm1eVIABRQtujaUI/Mm5KV17JQjzDBaZLpahLfaMtkHOENNtpb5VZ5C3VNcDwhwBr88oOy3TPpRgYV4ZvdGyfdeHejFJ2V13ZZrrtorgCphezqi8nIK6QFFHQV20U8dbpTclvVD6gQ02VUtCwqzhpBVxzc2pktctrS57jsqAqocJpzP7Eut7Iwx9l4Zi8M3uvDfdeGd3W4ejC/st2/srh7Kmaot0K1uq7nhdmFJfBomsFAoecIabHx3kbM/614V7dHLdT/UjDLWqivU8ydooDqE83RVOG+ZkUysbqVwCUX7u28O+AUCL2jUrfxV5wr7e6rtz/YxRGzJXR2W7b2W6YtyFuPumwfdGzLwqi5whoOC9jmuvNRle4UuICWIaJl976kYJGEz1CjkvZddk3lkbRDbLFfFK0XgWn4ij/prfqX/AMef6igiMYzdX9kngUwR84TeUcLLFpOnw1zbkVftAyuJkTnPvvwl7QaV/Z1FRAcCPnCboNj33UDXG5vZDC6MmQO4BY0mtNlcRdRw2vcGCpTJGvGX7APEZzBM5RsIBTW040bnlxrpwDjmzlj22x36dBqrBW66uLr+xmcwTOUexpx3eu3a+NhzorLo784h+xm8wUfIOC6Zg6oTMPX20kUpnyfRXbY34gVftY+AJ09ppnErG6t7EP2M3UKPkGyRzi661Ulb902SuCY0aooW0qRmjE09EKxuodOOcU7ZrwLCmSWlz7pfRMa4czqoqHKd4VVXEDXDXHX5w3UKPkGzSbY9gKjdXLbK281Nmpk5bxvdTOaWpnKOMQTi+JTR3hXqFE+83Zu3Ce9wxwDqqbK/NhqFHyDZKyoQtRGV1eM/tVnkL5TllgcN5IQ80QskSFnYEMD70kl0OoAt3IzNrqqOQO/PGkmcJKNZVb6b+iVAHVcS2ntSNhqqfNhqFFyDYU/9N2SbuX9E1jW6DA9rDqt7u9HVTLSxyBwHyTV77JWU84TTUVwTufk1vVCyn+o5VkiPmzCBrieC2UP/AMoEKo/Zw1UPpjZM4hiZC0ipzToGdEyYskuOwXd7IQ45BCCMfCrQIQMtVZBJTPTBaSKUpmo3Wlnw1W/lORjUYo3BODk4dEx4cE4AhQvpIYzic6WYkNyHdeFnAylRZaQ8Zmqa+1AirUNMNflVPehQ+m3Y9tQo3U8pTyaZJlmJdefgmAab9Uy1RnqhHETewzMJzGoTJ87r8igQcMr5C+42gQskozEi3drHx1UMDg8vec8TQGdVeb3R9YcTrhJwV+dQemNj3XW1VySbzaJwmjOtVFJfGCUXp2g6J0EZGika6A1DslGbzQcEzi1uSFlYeY1KfZnNzjdRWa0XvK7XBNE14QnMWTsx3TJWP0OKQuu5LwzDzEkqSzi+Gx5K7NBRxdeCY8PaCOHXPYdNrkNupQ+cwek3ZPm5rU0UClka0ZqzXt4TTLBMKUcj52ZFCyZ1e6qGWCVoc1RTjlcVK18nK6iis7I/zgmF+UMJoF4SHspLLcF6M0VmtG8yOuI6qQPDr7VI+0S+TdUUEe7ZTh02HRCuwhDYdF8KboNhQ0+bWf0m7JWmochmE6NpNSFTA4VFFG0tbQ4pfPIGdF4aKnKt1LHmx38KKcPy64LQzRw1CZM141UsczzQOo1Q2dsX5xS2trX0omPa8VCDniUtOnTjVQ2jY7RVqQMA40krYxUpsrHDyuTHXm1UMoeDnofktm9Iewf5Zg7ZNI5vK2qiheZN47A5u9mLScgjY2fCSCt5PDz5jumPa8VGI1iJBbVpW+Eb6sBoomucd47+OMB5q4BsOijZmTtKbpxiA4UKdZWU8uRUEkzARdvAFWaeIX65Vcg4HQ+7jffbXg2X0hwxrhlZfbRRX6UdiPknr32TWplCAKqxse0Enrici0EUoojcduz/ABxhtJ25nAUMhxvEPafPGU20RP8AiUWU8w/lMYzfStLR3XhGfCS1RtLRStfcPlcx3ISF4pvVrlFPFG5/3NQjbIx0d/hH/UB/TKiffYHUxWT0hw28Sdl5n3ULi5maDGD4RjlYXaGhXiZoz+o3+U+XelpYDVD2FNo9o6zxO1ajC9k4DX6hF07JwSKlC0HrGQfd2iPK+NQm0c0HuEY43atCGKyelwxhA4FOBfbWlU4BwoVH+nKWdPlM+UkLvurS3yBw1aUMwPcy1dMWukLeyEpjNJDl0KdIZvIzTqU0UAHAsfp/IJIGvz0K8PL/AFSo7O1hrWp/YNNsu6p56ImxqzzNDt3XLpgOwbbF6WC0Od5QOq+FQHm/PuvPJI4XqAKk8WdbwTHh4qP2I7Oc1+FuShia4X3DMq0sZGWPAzqhwLD6eC0/Afuuig5n/nCX0cB7V/6T7/QoWuE9VDI3fkNOR+U32/UPZSWiNn5TLXG800P34EjL2bdU2WQNuXfMmWZznXpDXg2HkOC1emo82D8KJpD34ZvUYpORROvMHs7u8mN7QJ0EB+yhgjjNR8nlfcYXJsLpM5T/AAvCw9kyG4cnH2EhuscewVmAL89aVU0DXt0zVmlveU6jGbO4em8j7IMeX0kdmhwbDynBKy+2ia26AMVoB8p+6+FWfQ/n2cwcZnU06plmgd1XhKcjyFW0x6i8FHM1/wCfktobeiP+Ux15gKHsSKghMc2CejjlRPtUTRzVVmDR5y4VK30X1hBwOhw32fUFansIFD5uiGg4Ng5XcVkd2uFkgcSOymcWtqE01AwxSF95XhWmIU8Q5PgBzbkV/uG9it+RzRlTPY4VbUOULr0YxuNASmuvCvswQeuy0A3QQdFGbzGnG7eQ1u5tQtLEbTHTVQPkdW9/HsJrPGXufK7LojDZifLKQv8A48n/AJEP9Ob1cooWxaYZLNE/OlEGCB+YyPXEMFg0PsoeeQfdWn00zlGDorP8f5UuUkeJ7Hb1rhgoMUjL7aVonutMXNmO6FpiewitDRWQ/pYzopLE74JP8rd2uNvqBCS20rdBRtFqGrAhJa38t1WcShv6hzw2iu6dRNhczzwvr3Cina8Z5EahSP3p3bNOpTRQAYppLgFNSmxkFp/yt+Lzqx5A6ptwiop7Frd7NI52gNAFZ2Mo9hGhUTt3MYemox+Ji+pSSQvYReCs770eEYLBo72TcrQ5T5xlWc1jGGPKZ4Vo1Yfuhh68OUVjd+FHFHLC2ozUcUgke1slKJ3jGt1BUReWC+M8bhVpCil+B+ThsfZ87zDQqCQuqDqMTrLGTUVb+FLYjm4OqrOWFvly+2O0eUxv6A57GBu9lHdWarJ3x9OOx9/Omxnke8H4jUKWEl1+M0d/7TIpXTCR4pQY92z6QjDH9AQaGjLCNh12WD4vZGOsgfVFMjDBTDcber1TmB2uLrwpYd5mHEFFtqYD5rwUFp3YLXN6oTRm03gciEHNdoeDJEyTVXLUzlcHD7qtrPRoUMVyudScUtqNDcH8qKetGuyd90YnNkvs/kY3BpaQdFvHRmjJKj7qFl0VrUnqhE0PLuvErseKscPsoLTGGBrsiF4qD6labS03Cw6FeNi+6Fri+6a4OFQeKNjj5tlg+L5Y3y2l7e6tMTAWup1zUULI9ODLK2IVKjmjk0Knc9j4yNK54pyRE6i3Y3Nwdk27Ky47maopakxu5hjtJ/Tp3NFOA2AgN/Cax8ADgcviCBrnwZbQWuo1l6mqinbIPv2Uzg2N9eyshrCNroo3atC8PD9AVohj3TqNChoY2n7ItB1CcBHaG3Ouo48h852f6fq75ZaPLJG9WnOEqM1Y0/bgzRl1C3UJ5/8Aqc16ZI6R7WyZU/7xSuFRH9Sjlum4/VPia/PQ90yFwfeLq47V6dexTmh7Kd1u57t0kUTG3WgcF8b79+PXqO6kbMaERUd3QL5zckN37JjQxoaMJFQQo2BjboT2XutEyC668TU8eTndssHMflpFQQo47jaV4Mk7YzQgrxkHdP3M4oHCqbkACcJcwWpznnQZKSdsnlbHeTYrWBzJl+6L2vs5Jmx6/wCE21ec1aaK7HJdf248j7r2DuqhXm98ch852WDnPzeVz28rLy8VCcjF/wBKMRkVEdP4T4g5zXV0wyti5ngZLxI+CIoWodWOHszooG3qyHUp3knB6OFFky0Bo68Z7C74iFNCfKb5yXh4/uV4eLsrOc3s7YpD53bLB6nyB9quHNpTbbCfshaYT8YQew6Ee1kha8ffuoXlwodRrtpttXID2OaYQWgjThue1up4JzCgP6Y+ykDS03tFHE0ebjPlYzVPlY5hGigfejCfOfM0NN7orPEWN83McT+coqwertme4Ua3UoQv+tB7mmjsDnXQSg+d2YGSZLXI5H2rmNdqF4eH6AjZIeykhYH3YyoIDHXzYy4N1K38X1hAg8KZ7wWtZqVu7V/VH+FFE9hcXOqTiNKJotFCYuWqE1pafMFDJvG1pjJAFSm2mF2jlaQNy6qZyNr24L3GCWoBIdmQn2xjmkXSobTFcaC7Oia9rtDxYs3SO+6IB1CjiEdadeA7mOyw+rtf6zNj23goSbue2YeQpnKFKyoqNVE+832xdelLXOuhMjYzQYyaBMj3nnf/AAFuo/pCDaE7vKnwlRvvDTg2keW9eoWptuZTzArxkH1ISMOjhhOYKhkZGy680oULRCfjCBB0x2n0/tXNPZZ3s1A+6a+pbG53krrwnyRs5ii6zSZZVUNnhezNuehTII4zVowEhoqV4mvLG4jumSNeMsbpDG94a2qjnLn0LeAUa1KKsZ/VCB2Wgtp902WcfAhLKfgTW0G2WUDLUoeIr5Qr9p+hWdjgCT14pIGMyNDqHZLC2QZoSPhN2TToUM8T82O/CgNYm7JnXXs7ocG0tLojRR0fG0lo0VqhjuXg1CyQHoU1t1oGEQ78veda5IxlusAP4R3Y0D2FWZ73M83THuIdboTmRyMoNFBe3fm6cEtHiKuFajJOhidq0KOLdl2eRw2nWMHlvZoUopW3DvG/ygajC91xtVHOwXrwOZqmSROPl4DtDtsnrDa8tjdeOpTZu7aYZDddRo8zl+s3M5pjg4YXGgqr079BQK/K3mamvDsVqFY0wui1NWoOBwvja8Zq5NHyuqPut7aP6Se6eRt3cqBjmMo44Ou17ZI849Oy8VKdI02OSR4c8U4bW3a00VpFYXKI1Y38YoMr7ezk911tUM8czyxhIU0J3RcXklNa+JtWG83smvD2gjgHROZPINQFctrdHAqMzXvO0YbQ9lLpFSUwWwaAU+6ebWfKYxmmijQMT4Pp/wAKNsV/NtHDENknKVTZZfWbtlH6jCi0EJpuPu4D64P22RH9R4GGQVYVEasGx7bhvBDPaV4oDVhUlpifG4KKWIxgEq9ujVpq1MeHCowOfI55azp1U2/DmVdXNb57fUb/ACgQdMLebYTQVV+eXl8oW6tH9ZRb2nn4kjb0bh9lA1zY2g64qTyEysICfJPcIc8fhRzzBovR5U1CilbIKjE8AtIKZOw/puP2Q3zBdAqOihYWNz4L7U695YyWjUpkjZBUFQvcS9ruh1w2qnlNfONELUW03jCPugQRUYnOutJW8mfysAH3W5kc4Oe4ZdsQ2S8hVdll9Zu2e7dzKFqAGYK8QDLfohaq6NQNRsmpSq8WAOUpk9MxGhbO7VFKJMDpLsh3Yr3XiyP+Mp1qBaclD6bcFAjEw/CELLF2Xg4lFC2PTA5pjkv9OqkbvGZH8ISnllCs+T3hp8uN7bzCFA6guO1HEKHAhG7c5n8hWhjXRuqOihs7HRtNSFFCI65nPFaK0a36inwRXKEKyyu5HfweFuHjklp9k6ySirg/P7KzlpZl01wtp4l97+E90VDeIorK6kz2NzZ0xOIDSTomNlzczIHomWjzXHihxDZNyHbZfWbtfu2mrkJIj0W6j+kINA6bbRq3uvDv+pRtZoRmhDH9KAAwTUjdeB/hNmifqt1H9IQFMLn0kaK7Jn3G1QNQDgleGtzTWWhvmbSnZRzNk8pGfZUAxuNGkoQOmF9z14OQcsigZKyt91fZ0ThVpCgY5jLrsdoJ8jRzE5KUWvRxy+ya57HA1rRNtjOoomPa8VacczHPb5XUKa+0h10vofuh4rrdKa0NGQw2upkaCbo7o2F/R6DLZHpdQmtFc4sNozuN7uT793yarwlTee8krTCNk/Jts2UzPztIraM+yLGnomm4+6cEwza7sgaqejaOQ0wxNDnPJ1qnxMcMwmyuikuE5YT4lpNMwpJSSy8ylCmysdoVMKxOURrG3BNm+P8AKle5jcm1V2eV4dSmAKu0ioW8EFWu/heNZTIFRWtlPMc0yRr9DwXWjO6wXiv92fpCu2sfE0oTkZSNu/fpx54y4AjVqZI1yoFcb2Ca1rdBwHbmXKoUT3Ndu3/wcVzfySXibrTkE5ssAqw1b2KhmbKMsU//ABu7OXRRPvtriGy0cuwqD1WfnbK08wQnZ1Kc9jpgb2QQmj+pB7TodhFU9+4/CklfKRlQBC0SDsm2qpALdsjy3QZlOZaQbwIT32v7qO811XMJQtX9hQwTRh7CorOx7B3XhnjSUqGMsbSuC03/AClorRMtzfiam2iF3xKo77CgFRV8217AbQLw6KSzMuOuqKzB8Y8xUUG6dW9wHglpomMawUA2kAjNRx3K0040lXzbu9QU/wAo2KPuVuZ28slfym1oK68CUViePsooIpImmlCvDZg7x2WKQ7lxf0Kdb4/pKsz2iWtaBB7TocMge7yjId06yvGjiVEHXcg/+E02u9plhGy0cu2L1G/nbaH3I1HZmFoLsyV4SLsvCRpsLWmo2yOBtAvDJXWnot2z6Vcb22vNGkprJJBeL6IOfGaOzHdZKgw9FZ2Ober3xvs8b/hQs7N5ccvCAaPKjaWihNcEsAkQs1pYah631pbzRf4RtbCRkWkIWqE/GrM4XntGnTibwby57C1ijL9Mx1XiZgBWMflC2M6ghAgio4LGBlaY5bviYw7SmX5RijOrQjYoulQvBHpImijQK4JC50gY11Mqq++LnzHdWZzaPAPxYm7LRoNrOdv52vYHihQFMRY06jFIKsIVnd5KdlaCBGaqzuvRDivkcx2Y8qbIx2hU9LzKc1eC+4JqOHMn2SF3Sis5uPMfBOiv2lxvtII+lMtDCM8j2Kb+rLfpkNPYOoRnomvLCdy0uYmPgl+EV7FAACg9gWgmvAf5JA/+Cn0fI1nSlVd3NqaG6HE3ZaeirsZzj8oaD2EkQ5q0Rmkd8F4BeJkH/EhbP7Ux4e2o4crzUMaMynWeQG9/6UDIqXm8G0RGRopqFvpz5d1moYblXONXHhSWeLN1bv4RsbXCoeVFL/xvFHcBxuglA1bUKJ99tcVoJuho+I0TWtY2g0CtToX0LXedQSGRlTr7iV7Wihzr0QNJRdNPyhD577jU4m7LTqFRFN1Cbyj2FqPI3uU1gaKBUW7Z2QAGnDufqXvts5JyB1UMl+v2PAlc9z92w/krwv8A9jkxkrDz1HCnke9jrjfL3TZZWgX25dwnsZKP/wBQ0xz+i/8ACi9Fp/tVl9L+Tin5oj9060QtyLlG6zO5bvCjkbIKjj//AOgn+3JWgxny/F9lZ5TI3PUYm7LTqNo1TORv49gWg6jjysvigNEbPaP6ybZZK1dIo2NYKDgRerL+eG7lKgoYQECYfK7NvQqzij5PpOnAm9J/4UH/APO3/wAVA0tiaDitXpU7miiuQ+WRuf1J0UDx0/IVnc++9jjWmh2CuMh1mlvatKEsZFbwTTftBLXGlP4wON1taLdSu5pKfYLwsfd3+VuZG8kn8FRyEm64Udhlacnt1CikjuEk5k5qz1vSHpXLENk/Nt6qP02/jgPeGCpW+edIyt9L/TXiD1YUJ2FAg+ymhL8w4gom0w65hRT39RTg2i86WkWo1VbWNaqMktBI4M55PyiHRm83MHUI2qHuopWyDL2FpNBGf7lQEZo2aLsmRsZoOCWvmc/z0aDRGyOYajzfZQua5uQp9uBTPC+UNNKEnsmvDHEPZQHRMex3KcQ2Tnz4IvSb+Nj5H3rrAqWjuFvJRqxCdvXJAg7HsvXftgLGnonwuHplNrdFdfZOAIooBR7mHppwbN8ddb2y+L9zg2hjjdcBW6dEXTSZcgTbPDTlqmsYzlHvH+RjnBNN5oOOV+7ZWlVE8PYHYZXXIy5Qm8+RyewPFCnRXNRUdwhPde1tag9cI2T85wQekz8bLudUXNHVB7D1RaD0TY3B9a5dsHiI66oPDtDxd5H9QQIOKW+6YMDqZL/cM/uUTXXi9wpwXxOkklI6FNji6uc0rzsnF2SuXVMtFXXXDPgHqooWzC+8mtV4QfC9wQ09269d8tKqXxO7dW7oo/FFjaFlKJl+759cLZml7maEKQtDTe0VlFIW4bR6D/ws2BkgGV3NNe1wqCjLGNXBXInZ3Rjl5zgs/os/GyZ9xhKZBUXn5lGFiY4h112C0k+Vo6lCJgFKJ8d3zMTHXm14UsgjbVNhkl80jv4Qs0X0rcUzY6ijlNbrxQ4bQ5ocPrTZ7QNYkLWOrCEDUV4DfJI77osa7UKWGMTRimqFmiBBpwd4YHlrReHZMtjSaFpHvoGuYyh74p4BIK/ENFAxr+ckkdChhmbeiePsopJXRhrG6ClSvCDq81RspukByiZcYG4385wWX0GbLQ29GVC+8wKoUzhVtNa4Jxyu7FBwITiA0qxuvB35wEgLfx/UhIw/FgnbV8X5wSx32/forPI91WuGmAhrHF5QIIVBwXNB12PiDntcenCs2d93UlOjjdq0Y7QSIygMlfbWl4ewltzGOoBVR2uJ/wBuFMy++Np0zT4XQneRn8hMN5oOKPyTyM/nglO5jgsnoN2yhwloDdC8NJrfUdnLX3icD+UqKMvr+pQ9kbJIf+RQxCJl3AW76R1T5W9EIowOUIwR9lckj5XV+yjlDvztY8OrwJs3sYn+VjiOyhmcaB/XTYwPEr/p9m9splk3WXdZfHLI0oFzc22gO+xUE28BqKEYXtvNITpXBm6PPWifZYt2cs6aqzOJibXG8VafwoHVjHcZFMcXSPzyGWGeu5fTsoY4rgIGqfZ4nDlp91G50Tt2/Todk0lygAq46BXLUdZQPtRCtM8D79PLT+UZZm80X+FHKJOh4w2FHXBYvQbtmfHocymPnaeXJC0NrQ5IGu0kAVKJLn3o2oWgjnbRNcHCowBtCfvgMbt6HVy239zMQeUoEHHKbkzCdFI4bt34RZ/tx3GaideY0+0j8ssg75qUhrC67Wi3MLhW4EyJkfKMVqfC4DPMFNha4eo4hBoAoMcz3NaLupNFuJwbwlzUck7L2Vc81FPfNC2hwmKWI1izH0leJkHNA5STskbQxuUFrbdo85hbyN1oabw5ds00l65G2rkI7brf/hQ2h9+5IKHj12DY7QqmCw+gNsNN5JXWqe8MbUp96dwutUMZYMzttQJj/lR0uCinkjaKEVPZWRsgOnlwutMYNEyVj9DhdZYjrqjYyOSQoQWgEHeIvu0rhkDC03tEIrP9f/ae1sjaVTGBjQ0ezc660nsj4mQiRrQKaJ807o3VomTStaL0WXcKKZsoNMM3nkZH01K3bKUuhGKSBxLNFE4vYCcc+6u0eaJk0VfVUeU0g758GeGn6jRmFuoZmA3f8Jtmex4LZDTtslheX7yM+ZeJc3njIU0sErdaOGiglD2NzzX6sxN111oKjgLDXeOPEpsbsfynBRWH0f52yR9RqhM0+V6FOmA5pz9y/v8AZNlhe774Z3XYnKKNrWDJPia78qJ5NQdRgmh3mdaFFtpYc3miii0dfJxEAihUtjGrP8KGONzeoI14L3hjalMeH7N4y9drnwJml0bgo+QK0xsMTj1UUF6Nv6jtFFC2OtCcNo8lyTshai7kiJXibpAfGRXgOH+5FRkW5Ixxu1aExlLQbmg4Uf6czo+hzGExxnVoTbOzfSNP8Iw2iH0nVHZQ2hznXHtocT3XWOd2QbO4VMtPwF/uI8y4OCjkEgqMLdknKdlNlVYfR/nbIXPl3YOXVeGjRiezNjlDNfy64IhWaUlSQMeopi1+7dgnFYymStI1T5WtaTVWS+S95GuB8jWap0rnggRFQMcxlDwKXLSKfFwXNDhQqNlyZ1NKbNyd9e6cJwvAgpjAxt0Yg2/M+vw6IwZ1Y66jDI7J0mSpQY5GXwneL0/7UMVwGup4VqDqNe3VpTcwOKQCCCt+2E3HA0GiFphPVV8tW5qKTeNBpgbsl5DhsHpH87aUtFe42SmYm60Zd1DZxHn1wQetKp2yupcKhswYbxzOB9bpoooozUPreTbMxprhtTwHNpzBC2UHmYULZGe6a4OFRhfeumhzRmtEfM2v3UIL6SOPuK4XyGOVwDal2ibOb12Rt0/JJImSCjgmC6/duzHRXAmtDchgbsm5Dh/0/wBM/nhBoBJxSvuMqtzJJm51Ffmh18zVHI14qMBjBde6p1KHJCKJ4rdQDWNy0TJmvfdFcORCH6MtPhd7R87mSG8w3e6bPE7RwV9n1BOtAOTBeKijLc3HzHDamnySD4SnGOWKtQrM8viBPupIpS8uZLT7Ktsb0a5eIeOaFy8Wz6Xf4TZZHuFGUb3OA5gq9aYxyh33UQL3bxzh+BiZsn5NlNhX+nem787LwHVVHfizsvRlRPDmhSzOrca2pVngkY+8T/GB7i0VpVeKj6gqCdjL4NdckLTEcQez6gp232KF15gPAM1oqQ2Jf7w/SFuJ3c0yigDDWpPBdZ4XatQskHZNY1ugxWhxETiF4JrmhzHrcOZ8Lv4KEsjPqP5CY680H5C6ZjTTMn7J0gY+8A4V1GJuy0cuzPb/AKdyv2GBpOa8MOhK3Lx8ZQ04bjQEob5xvxtoEycVo8XTioEWtZOMsnK4zsMNo9J1EyzQuYCvCkaSFQx7ttK+8meGtz6pk5iFHRuu9Ey0RP0PBE39vlrSvtSNkjywVukplrhd1p+VWoyVnpu/v1xs2Wjph/07R/Be8N1XiI+6EjHaHDaPScovTb+FNunCjiFZZXXrmowPv08uq3s7dY6/hSSOkblGaoHyiqD2k0BwPF5pCjje2lXacI2iUE/pFeM/+py8X/8AU5Ry36+UhErNDjWgH9Nw+ErJwRssJ6U4E/p/lNbRoClfcb9+ijlv1BFHDUe2dBE74AjZrst1jyMqo+IhNaoTy080dfuEx4eKjCzZaemH/TtX8GiuN7IRMBrTC8XmkKzOqynZOgjcakJsbW6DBM995rGalXJ25h9fso5A/wDPUbGxMa4uAzPsMtpCvBa8ad9xiDbTFmKOHZR2gON0ih4ErL7C1NtQaKSAhwTA+R4keKAcoU/lljeP548ri2MkKzSuLnhzqqRxa2v3VldI4OvGueGZhdRzeZui38ZFH5dwU17W2i6w+U4mbLTqMBX+ncz/AMexDQK0GJ3lnBPULfxfUFN5J43jrrx2moqoQXSveToctkDiHvjKNaKCV7y8O6H2M7mBnmzr0Q8UwZM8vZRWhkho4UdwXzxNdQ6rxcX3H8ItZJQ+wDAHF3dEAihTGhgoMJNBVSS1z3Qp3KjnhrSl04m6bJ+fD/p3O78e3tAvujZ3RsmVAckIm1b9hxio+VV3Mxryu2SBz7T+mcwF4h+m6NVAwtvF2pOwcfmtP/i3ZbWMoDo7ooHl8TSdcc7iyJxCijaxv/6iAenuLVXcmigbG4Xj5j91a2M3VaZ9FF6bfxhGyfnwFf6f6jvxw5h+m5Q2rJocP5VeFODk8fCt/JNkygW4n/rK5am/GCt/TJ4ohtcKhNrTgM6p7GvFCvCv/qmijibGMsI40jhFNeOhC8STnunUTJI5NOBMQIn/AITGvPx3vsCrs40D/wCShoPb2j0ijCD5muuoNEmTpr32xDZN6hwFf6f6p/G10kwPIt/J/TK3839NROe7mbTBvyNWFG0RFpzUEkW6o49VvLrv0zX7Jpq0FaIPaeuO0V3dO68PHdAotzI3lkVLT3anxTSCjrqYKNA4jeZ3tpW76a70aP8AtRzfC/IhTMy3jOYKGTeRtdTGQCn2KM8uSszSCfMctR7mW+yjNW1U1x13dsIcPtibsl5zgKsHrfxtJGzLEYmH4VDZmtvVb1QY0aDYQCKI2aM/ZbmVvLJ/lRMmD8zlhe28KexbzHgV4zbzJ3C7k7qnMa7ULwrOhcmNDGgDG911pNKoW2LrkofO98nQ6e4lfdblroEbMHNzJvd1GJmODTUjENjz5ygqbbB638bCaAqzecF57pz2tIqpG3mqySlwcD0wPmuShp0Ox8gZqga+7A8x+QmKM/AE39GW78LtPcT6Nd2KEjHaOCvCtMTdjuY4CrB6+yQVY78Ky+krXdLNcxomST3B5FDGW3idTgtjAWA9k0yxj6mp9+cXbtEBQAe7HOeCPb1ot9F9YVpLTHUHTNNzAPt5heuM7nNPsTPhyTd9HI+7nTVNtnRzCMA1QRROAqxeuNps5r5XUTbOK1ca4pW3o3BRijGg9sUsxYaXCV4k/wBNy8WPocvFD6CmmoB9mObgUQ9u9geKHReGg+heEhHw+4I02RXt9NUdVTA3XY7Q4SrH67dpcG6lX291fb3Ukzbpoc1Z95c8+yR0jTUCoTJ2O6rJVT5WN6oGorhoqbZ3O8rW6uK8MPrcqyRHM3moHjfFwRpxrze4+VN2ScjvxsG0qyeuza+Nr6VXhY/uvCxpsbG6DA+CN/ReGI5ZCvDO6yFMs7G564L7e6qMM+Vx/wBJTXBwqFKWhjq9lYnl0OfG+PgjTiljpSauIb2XhYfpXhgOR7mqs8evnH/aY5r2gj5O3XZLyO2Z7SrL67Pz7F1kjJrmvCN+py8KekjkyKQf8ldtpe5rBTqhZZKZSo2Wc6mqgYWRhp43xcA8amBkdy9TqeACDp7qorTC3ZNyHCVZ/WZ+fbuaHChTibPocuyZaona5cf4uBSvGlLrzWN6p8RjF9jjUf8AaeXyRB8ZoVE++wHGTQVTpBui8dlC27Ewfb3BewGl4bNbUadG4WbJ+Q4Dsg9Zn59gCDpgvDvghAe57na1VqMd27d8x0VkEzR5tON8XtrReZSQDRSPtTqAsoOtE2drWhoY/wDwoWkBxIpU1pjIqCFLZXsY66806hNinuihP+VDHM0+Z2Xt5rLfcXAo7+OjXP8AL3TGNaMsLNlo5MB2Q+qz8+wMJBqw0W9lbzRo2k/0nJzrU/lbRQWZ7HXnOwSF4lO6H5XiSHfqMTXBwqON1x0qhxiA4UKE4hdcJq3/ANJr2vFWmvAnkewAtbXum2mR49Kv8psskeW6dRMka8VHt3PawVJT7RC7yGuaivtNzVvQ4W7LTyrLaUVF6jfz7forN6detVPJFyltT2VjbM0moo3jdcTiAqnsvOmk9eLO4ticQmRtawCiLfDztLeVx04GSkgHMzJ32UT94wH3EnrR9k6niMxk5qjIZKYxphZstPTA7VFM52/nFG++2qsxq+XPr7HfshkIrUH/AKXioCU1zXafJLWXXAB1OZRssx/5arwUv1f9oQ2kf8ybeoL2uK03RNGX8lEHR/8AHOR+VCy43mrU19xaKXNc+ia6OdmeoTYmswt2WnptonbG8wxWT4x/coMppm/fBeFacS0uLYXEKGKMMbQdE6zRH4VHE2PTjDgjizvFLl28T0QdPAPMzyf+k1wc0EcC0gPkiZXuVfu+WVn8pjrs7RG6rD07e4bnK8nop3XLTVmtM01wc0HC3Zaj5hgfsGoXTDDlNMPurorXAw/7mQK1H0//ACwveGkV64pLtw3tFFM9gN1hc1C3d2KORsgqOMNTwBxiQy0Oc7tqpLbCKgeZWa07skHlTLRC/R2N8TXPY7q3Zdb29xOJDL+maGmapK1xq+jj3UUzY20IP51TZGP5TgbstHPsrsfrsGqGg4Rytg+7VP6sP5w2nnh/8tjJKzSMOCZt6Nw+yjtjAA17aFB9nf1CYxjeUcYdeA3jWoAwuqm2ONzGHQ0TbM9nK8f4TrPI7Us/woI3sBDnV7fIKUnr3CoDqjDEfhT7IPhcQm1DRXXa3ZP6m2qkRXVN5W/jhGJpkD+oUkYfT7HDbcmMP92wMO/c77YZrMyT8qOAPLmO1Cij3baVrxh7aVl+NzVG24xra1pw6j3EgMz3NvUur/dR/wBwUche3MUOFuyb1XLPa9HYzkb+PYWmF0gFENMMt4sN3VAWwdlZ+d1/n47NOCfcMmjfo5PZupxKNDkfcPdKJHuZTLUJlpdTzNy7hMkbIKt0wjZKf1HYHlHZH6bPx7i0eR7JB+Dx2465091PZQ43wM+yiiif1dlq0n3Eked8ZOX6bj523XKOMRjLAENj+c4H7YvTZ+PbHRf7tnZyuSy0vig440xgcZ+8+AhbydnMyo7hRysk04TXTTVLXhoqnQz1vB4JTa0FdfbgGbN3L0Clsop5MirLMT5HYBtcfMcDtNsHos/HtnODWklby0vzawU+6E07T54/8JpqK8U6Iae3O7a68TThAyX3uhZlXNMncTdfGQfbyZxu/CiP6bfwpY94KVKZBGzMDPANp1OB2m2z+jH+PbTMvxuaoZ8rj8nBVB68Y6IcEV40sQkYQrO+8zPUZHgwubHWNzhUFbxn1D3D3SMc65y1zKbviKsmDvymz+a48UdgGw6FHZXY7bZ/RZ+MJ9jI64wlCzb3zyHNNsoY8Oa48Z2iHBrxZo5gb8bv4TJ7QcrjaqCNzbxdqTwHmjCVC6A5Stz7ptnsp5f/AGgKCntiaAlQZx17p1nbq03T9kYJC9pc4GmAIJ+hw9Edll9Bm17ro0W/d/SKM8nSIqJ7nczabXuuNqo96czop5TGBkjaJGc8eSilbK283CHzRPcxuYao5A9tRttArC5Ne92T5bn2QjceW0Ff7pnxtcm2sZX2kVQ4b9OBTjvnIeWtjLqaqWQuz3TmuHVROLowSM+ASAM0+GKQdPyrO1h812jgae3m9J/4UPpt/GJqCk5Tg/hE7bJ6DeDaq7qo6Jjg5oIVpumOhTW1jAPZWf8ATnkj6bXSMbqVvovrC3kYtdbwoWqXcjzMko5QSGRlabXyWVxo4hCzwnMf+14aP7rwkX3QFBThuxlXx1VeNO4Qyh4OZ1amWuF/Wn54L2Ne265OsbaeV7grMRdLKULdfbygujcAmCjQMQQUvIcRRVk9BuB8+dGipR8S7oEyWRjw2QZHQ4DZaHyPLUyAA1JqdksZ38bx/O0gHULcxfQE6yRXgaIQxD4BttRIhNFGyExigFE8eHIe3krmEDUV4vVXln7V/ltDXnSlE+KKQZgKOPdtug8C0SmNraUzNM1dtP8AVb/hRRFrnOc+pPvgmqf0yq4Xaoqx+gNsppG4/ZWdtGD77LTdut/OD9SSt11FvZoTR+fZXbQc79PsoXlwz1GuB5utJTHB7Q5SSXHsH1bZSBGaqOz2ihuuoD0RheyMiQ+VMADG07e2HGkBnkcy9Rrf+0LPKzkmP4Kjv3fPrwJCZ5t18CdZrRFUseaKPxRaHCRp/KvWsf8AG0/ymmoFR70KfkxP1RVh9H+dpFQQmS7nyP6dU62xVoM1FG6R952mCOURX2O6HJPfIHCVzKjovFsI8oNVAxwBLtTtJAUlDG/8Ky+gxWn/AIj/AH7bSCY0xwc0EK05mJv93yWaGQP3sR83ZR2waSNoeCHtitUl7ronzxAcwKszS2PPqa+/CtHJgz2P5kVYfR/nBK4yP3bQPuhYRreREsRFHVQ2lrTqFRBjR0wOaHCh0RskfSoUNmdc53BGyudrKTgkihvG7Ld+yffvCjic8io/FvBo4qz78V3nErwc+LI8sbUNqvGRdaj+FH+pM513ykdUMuBamNoH5ZJktjGYbT+EyRj+U198Nk/LifqirD6R/OCHyzSg9TslfV7WDvhbIHPc3tw5K7t1OyZG2W627pzKaLc0LXZA6Ky5tc76j8kcxrhmFAaOfH9PBmzniB5f/wBT2RfEAmQsYSWj3w2WjQYeifqirB6R/OCWG/Qg0d3X+50yUUN3zHXaa0yVbV2av9wLRWgqQm+KrndwueRaWt6FuLw+8fJR5bmmWFg5iXICg49MQCpxXvDRrn0Xi7UScv4UE1Zy95AyQc12h4ErA5utKdVWaSS6aOA6V1VnjfGDe7+9zQqqK0dNoGW1+uywcjvzhqNMV3zh2F++r5SFKZxNGSBVA2rs0YR+lM6uj0+c1IY29RQyiRteN14HXizDeWhrPtVWiygkvbk5NhErA6//AJRsUlfKR/6UYtbHi95m4pHXGF3ZSuviEdHHNSWZpzj8rgoJJDea8Zj3w2WjpieirByuwOtDWkihTrQROC1uqjlkc7NlOHax+mHfSU01AOCaQto1vMVJZ5SwkyVPZQbw+UPp9lDHu2043mvrPFVDiztk8SCzUNXivqjcCrMHfqGlATlwLX6DlC0Ps4zzGibaA3yyZFNex3KQfeHYNlo1CGeF+eywcr8NrFN2/s5DDNPuntrynqgaiowkAihVMDhScGmVNnh6SBzTl7Wmxp14s3keyTpoUbW3O4xzlHaWvddoQfvwHtD2lp6rdOZNu77g06UXg4etSo7OyN1W+9OzNT6jE9FWDR+GeISsomigAwX2fUFbQC1n/krz7PkRVndNcHCoPuyga4mdeLK29G8fZXWCIXbwdpSqs4pNR/PTguY0kEjT3ZwHNN02T82DLY/TZYPj4LmhwoV4OHsrTZg2OrSU2CQtH6x0UNmdG6t/Lttl32W7or9rH/GCt/P1gKbO46xkbJopHGrJKL/es7OXiZRrCV4s/wBFy8W7+k5byd5yYRwzohpwQOK97WCripnit9rXtVnYz1A+8T8loVTaNk/OgdmezonbLB8fBJoCVBaGy17o0pmmSscSGnT3J9vMaTMc7lp/3s8MGvvsN3v8rm5zieirBq/BJFeNQ4grcz/1lctP9QKPefHTYdCoYCWlzHUe0rxNMpWEJ5BnDosEkzIz5ihaofqQljdo4e0pwhxLQKwvyTJ5MhH5vt2TvFu5hl2CjjeJAQC0dan5KMssMvO7E7RFWDmd+MF4mS6Oi31Jbie5wGQqopN4yu2DKaVv8qiujtgcxrtWgrcRfQEbJB9KZZmMNRX3maHsKitPkjmuLhnlhk5zicNlg9R34wRn9eUdVa/LJG/7p8rQytVZ2XIwNtBWvzF7ZGkuZ/LV4qnPG4LxcXcrxNeWNxX+5f2YP8lRxBn3Pc/I6bDt7p3MdmSoqbDoirD6h/GCWIl19ho5MhNbzzUoQRA1u/N6Dt8oKAogijrsGA6bLF638fJ6rzID5+7lKOLoirH638YnPa0ivX5FX9gP5DwDqrL67cJk/Vu06KfN8P8A5Yd5+rc+yriY9r60Qe28W9R7ZoA+ejZN6ZxlOVl9duEN/wBw539qLXGZp6DC7K1M/Cm9WH84SrH6X8rMWqnQt9rUofOqquwbJuTBXZ02O1Vn9Zn54b46ysfXROiLpWurpihZcbT7qSviIjT2pyCGnzyiGyfkw1G1ys/rM/Pygivz4VrstGgwBXQqKqdqovVZ+fZVCvtBArn7QoHhD5o3XZaunAdqovVb+fYONASoOSp6owjxJa7Q5gp7XRzRVNRXL2oJvU+fN2WnUYa7XapnO384PFRjWoXiYfrXiofqUcgeKjgygmN4HZQSs3YFQCFXeWkFujQrZk1h7OQ90BT5w3ZaedUxv1Tedv5wEBbuP6Qt2z6RgdZyXE7xy8M/+u5Czy/1ymQlpBLycErbKTVwzUe7u+TRTR7xoH3/AGmNk/PwHpvMNpIGqNoi+peKb9Lv8Jk988p2DY5waKlGd59OIlNtEm8aDGR3wTE5MHVNhYBonEwT0Ya1X+4bnUO+yY8PbUftIbJecqmCu166hDQbbo7YvVlp8Ldk5zjH92CY3JWPPLoU6cyeWL/Kks9IfLzA1qo5WvZWv5VlNd4el79pDZJznbTC5dU3lH42PfdCGKu6mdXRydbIhpmVCHSO3jv4GA0KAA0Gx1lica0TWNYKD2rvno2O14D9NkfI38bH52hjftVSuuMLuyikvsBUloMbxeb5T12DZNJ8DW1chZZtb7R/Cc+eEguN4IZj9tHRHXgO02Rem38bLQC1zJR8Ov4T5ojGc9QrIbo3bsj0VrAMY/KboNsR/XlB12Wk+Sn3/bbuUrrwHIqD0mfjaIIga3ApImSDMIWcAg3iaIbZYbxvNNHLeWoVqxRQyOdfkP8AH7bfyHguRVn9Fn4/c0vIdpwZ7DoirN6DP3NNyYq7C5VKKsvoj5OT8/tPJtCqqq6s1dRbkiFZPR/n9yDZadBgG0/bYSirF6Z/Pygmir87Gy09NoCNNlNlUUVY/TP5/cg2WnmGCmCmwqxcjvz+5BstHPtOIoqxcrvk+nz0bJvUPCKsWj/3I3ZJznGdhRVi+P8AcjdknOVXDTA5WLV3yfr89bsOuzoqYyrHzn8fuRqdoV1VcdUUVZOc/jYP3EFJyHhO2WT1P4/cgU3pnhO02WT1P4/cgU/Ji0wO0RVk9X+Pk5QPzwK0cowjXC5FWT1v3IFafhx02nTZZfWHymnzsK06jZXDXAVZvWb+0x7Kfn2jYcRUHrN/aY9gNk3OeGdVD6rfz+4ihsk5iqcJ2qj9Rv5/cY2HM7K8F6Zzj5SPnQXRdcNMT03mH5+U0+du5TxHrqENB+45fTPApgeuqZyj5RX53N6eyvCfsZyN/G0/uCblG2vBdpsi9Nv4/cc+jeI7TZF6bfx+4iQpH1OGta4zsg9Jv7VvBb1ldUZGrfNW8ahO29Rb5tU6ZvRb8UW/W+dWqM5KEhRecQAGMoqz+k39k1CqFvG91vWoztqt81bxvdCVq31CnTnot89b5+eaqcNM+BTHVDDROVl9L54SAEJGlVCc8AqoW8b3RkaBqg9pFQUZWgp0zQjOFv0Z3K+7orx7o8GnD6YK4BgpsKvfbY9WT0vmRNFVX291vGd0ZmozNW/yW9ct84q+7uia7K7KnYRUJuWCqGCiHH68AY64Xqx8h/PyiqvCmqMzV4jNb9b41RldkjI5b1yMrkXudqqnvwjspwKbSeIMRQ2V4dCrru2F6sXK75DULeM7oztTp+yMzkJXVrVPmror7u6qUFTOuLrsrgHHCK19tQq47srjuyuOW6KEX3W7C3bVcCujsroVBjerD8XuC9oQcFvGd1vmVTph0XiBTROnd0W8dXVFzjqVXj19tThhZqjuyDHK45bo1W6+63a3YVwK6FQe0crFzO49VeCDgeq3gBoi8ALfhCZ1U6VxW9dsvH23TDTi1xErfx914hiNpZRG1D6V4o9l4l6s8rnvoVQKg9keMVYuc4qgKoW9bVPmA0W9bRNnzzW/CfN2TZXAJzydmaqq8Gipspg04GdUMFOCDsz2uma0o2r+1Ryl50xy8hx2PnPyItVkFH7KhTPujJCUXE2UhxT5LyqdtVXDXg14pwUQG2tFXDTZRUxPfdCc4k12QMo3HaOTHYuvCr7ljrpXictFvDWqLicAR4FFTgU4AxUVCqKhRkojaCjO/ut47ur7u6s+bq8QqaS8abIWVdjorTy47Hy8W+B1V8d1e+6rtqq/KBsdI1qNoZ3XiGpuY4jjknFHBZxRleJNL0GwCpUbboxgK16gY7IKMHEeaNKcTeKvHuhI4dVv5PqXipvqXipe68VIhbX0Qtruy8d/avHf2rx32XjvsvHNXjGLxka8XH32U49VXZXZmgCVuz3W7+63S3bUQMD3XRVOcXGuyBlTU7aqvBkKKO0JooAOG94ARNdkEfXgDRWo1kxwNoxvEmyYUfaVxnY54ajaW9l4n7IUIVFTC3ASjtKtDumxralMbdHFec0cEDav/HDc6ikfeOyNl4oCgxtCyVo9Q4hqoxQDiWp36fsq7M1TZRUxPaKI7LO/KnAG1xwSOoE412QM6ocRxyTkcFmb5a8OaWpoNjGlxomNDRwGhGqmNZHYmcwTdBxLbS6PfFSCjjshNHcBm120qd/TY0VKYKAcWQpyO0CpQFAB2HBKln1A2AVUMd3gNCCfon85xQ+o1DiW3Qe+KmblXY3VMNRjbtO0qU1dss7c68UpxTsEDav/ABwppq5DYBVRRXfzwAgNknKUdcVn9VqHEth6e/lFW7YOTG1BOwSmjTtgFG8WQoo4IG0ZXvwHENUsxJy2AVUMV3gsG2bkOOy+p/CbxLYfPijbedReFHcrwh7rwh7oWQ9SvCfdeEPdeE+68Ie68I7uvCO7rwju/Gdona7LOdcYQTjgtDstjRUpooBxXlHA0VICAyGN8ganyl2xrS4qKIN/PBAOC0nyHHZK3igOJafVOKzDz4SmVpn7MqTmOyA54wgnKm20HzbIB5uK4oo4LO2priqnzURcTsjjLymMDRwQMNr5MdiHMhwyrR6hxWTrw6L/xAArEAEAAgEDBAICAwADAQEBAAABABEhEDFBIDBRYUBxgaFQkbHB0fBg4fH/2gAIAQEAAT8hzgdMOkSlC7BrQM6OYbzZjRFkHU6LlQm0Gb6Jo4boElYhjRa31VE1YdIaVoRZcuGlSoRNanGpq9COUd9XoROh0NkuPQSum5YXKGX6FzMynEGctTo3ubJcu5RwAKjCE5IFa1pzNgnGREhegSosVZZUY1cQl9JUqVWla10XonVWlQCpUcS5bqmty+myNSsRMTdG7ly9Ma3i9LgTaDOczmJ0VK1qOgKzEJeXl+l0TKmemPSuYYEptHBKak5OuWkMNLlQ5BOBLlEIV+pt8qtF61K0DS5h0Ys6Blx6LldfGh0Gt1CFZ0on30qUSpiOCXy6baJpeZsZzMStLmSgz0XpxK0qZjo56F4rQGjTrNKZ5y0rMWUEsZesoZi6WQrXQolTEoozERFtCq4LQxMsGovosQUYCVoaV70AdAS9L1TSowmdQl9G0Y2QUTLaGhK1rTBMlpWl9BrTnXeHKDLE6hl9FRIRATyJWAYm2a5yxaVKiChLmOksw0dImhjuO0SmVMwm4Otc4glS5QmPEuDrZFgMzM6XKmZjAS+q4aXA6qhLmNLDQFaOrK1dKWLoRL6Bpq1tgE+0FLsmhVQiaCr3ltCjRVZabxDFT0stAxNvRulvQNrNEOlLO+4ZRIQRVhHaCKQJXKTEu5mXo3Md5TxC9MMuXHMExorLJvKIoN6mgMqDA20wQ4q9Bel6EZcJcqVFTm+VptL1CxAoDTMNaxB1CVodB3myM5mA0StQIbSpgJVdAzJMCNDwwjtocBKRl0vcqlukuaBL0tBTDmCIjiHc4xKdAZhAsUqbJV92tkdOIcxUzcnply5UynA6MOYkIuWM0iEeLneGYsSptM2XONMdGY+M3S9KzpUN5sRg9OYM9NweiiVpU2adiYjTuVBAjCBjmDCANuVVAdIMOlMeBKEuhQJxxZmcgEYRKrQZmyHXLXFIHMRwTOHQRoVrmX7lZgm2VfbDQmJeZksVTsSptpcxNzMSLZFr3QYlMxiOE26KlRqpwR30rVYQy9YjXTXTUuEqJlZWzaawajRBmVmYmZUq1grR0RUol4gu6bGZS1QZoy4jIzBcdEIpCjKQ3luhYJutpvzEm0eaDDeDQPNLJVERjbKQJjQvoOhEyqYbcNpua7iCjE9o6eptQ3lQ0qcTLUtSJhxL0rSoYmx6w3gsjWvGt9NTMcKjOEJtlAJZINbhxQk25mazKhmGi4pUGb1UKXMoiAmCLM2paCNhG4GbaVYQYzNCYQ92WxQuZlXeVKhomjBEzgXpNRikoEvxPJDkhXeOzIhjiXKH3ElqTZMBZmPuHCcy2UdLhIxX85tlFMZiXULhvpgSUOg6m8BBh0Om+ocLkSLEuMGEGb6ZCJiFpiNMxaNwguUM5nDecszJkoK0rXfBY1kdkJjxoM5MRu3nNLOyzeJbeEQGIdtDuRMTe6QhRKbgnEFqHegKuGsWWzd1GDmVoEVwFQ/wQ3gjnRiMpjmG52RYh0xoYlkZQDRnQjWXcqDENPoJc30NHEq47zkloiTZCiKiibapQykI4eAi0YlEcStHE2WCvo1gFE3mImmSC7RVDsgYnGuZvlECjQFWExLI2O8tbzLLLhvMCqJKbwfONcMScx1wNtQysob6GbN4M2RCYoqkOYQOPMNoIzwRUGAYtMpPZAEbMELJE1KiSp0N3QtWjaRZEzKgzpUqFUUakxONVCtSGqFLMNDOhtzJHc4IiTQLUYLGwaYbozAxbVHHbqwQNVl7Mzosg6qYsFGccLAat+g0ZU5W+YqBGkOnGzykvetMXiEJUciuocBLUeZaDcNDBKfmmxBU52jbzrmzEgjby5WXGSEzitW9FiLYMJuly7UQlWVFnRmXpUuo7ggDaMANpxHQzDCW2QJLQgYAQaDN0FogAi0I60DG4L6DLmWJUEuJiOkzbAdtMwhaMk4lzfDIhozCEFxtAKisi1uViASiZcRgqhtgXMQjAlniDHSSUMpX2lwjePFY9GrxmSmQgVF/2RTrtQczZhDZjcx5gxPogh0dkFw4ZumXTco7y9LYCs9EpiSoGq6YjMwHmG4EZMlMJUqmE/5qHfMY2mVXmZQa0ZN5iEa3eYo2oYpK1uNoJwyK24Cy0wa8RijeGpjGKlCXDZGWpMYyhpAdBHaYSqTcYQSvuKUSlTNDKWaubri43C7Mo0lDBE3jvlwn4JHbe5cRBIVJhmc9x6KYXi5boIMhfQPWV1M8zH6o762QDMEJ4iYnDA8RGE+IuGly5jSsQx0vtEJSRdYqVauL3zE4YaCWREIVY50oJFjKc6XDJKjHuHthPOWFRAnQ71uy8xt0UfZaMwwCZfSDUXRLBWlxhbIKYVormOYMblu0OWXGVQVFtEu7zHmMZh6Qdoi7N9y1tHNjNTimYhjeyh8pcJaRxl0xZhNv2RdGIxJgaEqlhE6Qiw0YwOmPEeIi3ERB4YntA8RiHgiJqy6lkJZHbQWCRqcQkjGMtwFRGRihHQ0S/wAwUaRhZTYvSqmMAZsOkGKzHeY0FhLTzL36l4+WKhbQzUqbEKuGmUC4O8NCUVmSSybxlyFNiXUXMCFkpFW5HSNkFReCbsETxEMXMcjLhAVUqoy+tSpqOyYpdfcd71N1lRwHQE+pKzPeDL0BuGEt6ANKh1WcS2EcRmPDGiVQEVQlKZulStOZTU1G8dAzFJR2LrCmMOt5mMlSpToQ6V5hQu0iVhuCwlqam2Go0uZKqVCeZdD41VFCAW2TGMjbTBA0uVhSNZKnFai9xqL5hVhtJcbthojM0RjjEixstF3gVmXFQiAhpWBIVaDZCrS/FMqE9IRiJWyGMtSHxFOIvuYvLB8sTjQ0IYKeIo03liWy3XEuOZ6kGl40IzGmYgq0sETDRGVONMqS1hvTttByQ0EYbR2Yo+5tMy5ZvXmbLKnnR4Z/jMCCvFGMamJSpUyNwABKAlFZZUrTBNkV0mCV1m/MorSqc4EMK0galDDBnmHe8LLn5ZvHiWeuYniFjtM2GBFjD5lEX4IvxisMmR4HQ1SjzlHKW5IjW2l5jCMuXMzE2dG6lpihfMoe4RobAqo2wCcxub6L2gqJwmYDKNBmZbebhoJfVvG3TAlxZcbjdby8DaKotK2i7IRNIhM0xJ9ITllwWtF5Q2kWZlZtlBMHQwllpYy7mBW0J4JU5hhojbsnRm/k0eJdwi3GKQweCHhEDEN53BTPjpZSmoXcqiZmXLsm8TMv1RX9zLZTnBKohod5nHmBEstcRKM/WhMzc+ploym8uOTK6+dBmcQZhBpzKiDArTpzHZm+bUrJhIEqMGY2sqUEsYxIs3Tb1pt/H0eI+LFOEXh9sfNj4T6EfXEOceVjzkqoNyptD3OZ/oUDiIAIsHMuVH2vuOkzLeNGtoHibVpmPtLyt5SxjnxxFH7gJhYtaZ54jpRuGQeoYO20ubZi6OEdEC9lo6mYMwmxBjuOlWSphuS9Ibd+/wCKxDothjlGykfCadkYNinnEtxlcRhKxCKS/MvMEYZs1LzcQUlVKj3BiMAcTKM9b0vOi1wkoCOMi1hL1zjRgngiEtuYRAcm8xpCZnEsTflTlqB4tAuZIZzKCOZt3bzoOewfxam5NwEVHjWeCDNiMRjlKI8tHGjoh32h4oHjiAMEub8Sp91xGxrMTLlKIgaGmxDUinneIlmohAJc2yyfKIHCKlxGRzBwiwmJ8x5dyhvQ7Gu+s2h7JoOtlz/JUSjxFdzETZ5I8b0UuDogd3LjmBtASXGD9yD4Y5iPMxKnmZfCVy7XEI3mc5dGbGNe/MqI5RtMdqMSj9xtrgY0exqzclxwgNj2CLNnYpb+cX3EV4Tgo8KjcGJnDAc4jFRtFk3iNtycAlRuHMYGZhlTXTNA8zMd9L2mUBQrDljSbGlSbggm1FtmPEB2wwi0RyvBDaO4YBMOh7IPTX/PUeIvuYuftniUXLXgSvgYGcW+UuVHwS7xG+KMrkkJmG8uCwjoRDzMqn7c2tOI0xBSoRYE78zPtpuwPdctY45hM7DDac6Kb3hpnql9FhZs6TZZfuehM9pmZ6Ny/wD4IwfECmB4S3hGJ8U90YKmYs3bn3j/AL5+t1mn9qyVirZiVhlVUCGqRchK1tm5NyHPbs2GtNblHeSRtNWyisTtnsX/AC5jCEdtCEBU50/dn6HWa7tK0uFz9pLt0dyt7lOdtjRYGhpC34R0V27/AIF7THoDiVAgdH7M/W08CGBOg1VbWZYM6ZmZcIXHUaC3kRalpcvQ0L3NVO0S5Pqv5d/Fe2qV0nS/7p+loJTGbnHUdbtAvpDU3DQNDQoDzDSt7yfnHUuB3Dv1K0DrvtvaSVXUdP7U/X75oA27ppn6jW4eVQAB1Mv5B+Aw6f3J+j2V6ctOCO050JXZXEOi86rnMMQ2kPMaAUFNym9ul7o15/kWEHp36OrY5UDg4YaEV6gTYXmFbI+YId06zKniNb32aUAJVTx+YdRag6jfUPTegf4JO+mh0ftT9HRxLzoBfMrK3NCIgQq4menMJZn9XRdS+wxQz0Gi4QaHqZuG5vBiADDvA6SbypcdDAjYwehaDiNC4fwV/DcP19MlyS8SanuopmgRi0AvEIbrHYKOi1R4EckejPQ8jqs6jTNNJizDBBXboYQ1NGG+jCJA6LILFwJkQ/gq7zoa/vT9PQCZhGaU7kZGFwrEaGhv+424DMfdMJMaGm4bQIyzym8M9RLj6eUpZulQL3wBZMweg0bOIQWMSQvqPhWQ+RfQ/EdDXZi/p0RJDmcxxwY4SzzBs1yZNgg2yNDDxIS/1aXWm7ytqhO8e5dtBKgqGvtRAqMqCbx+CbdBHBALPKm5f1Cq7hLwEiaXpepbW5fQy+upXyaXfyahrgk/W0szT1nvZbb8QKA1NCjAaafcWgFYYNSUvpJsUhsSdBLvDW7EMNng4vzPpclTBUg2wn6PWFaMDQvRc30pYOrSFwYfyVaGhvP09DZQRlXiWqwh+3Q1C6dWB7Vtp7WOjzg4gFtKxT6R/G9GQNJsyhc8CF2T1EfOYi0mfC5bi4YJzBaXL1vouVw03IbGgbm3XdztrHQ7R/FG5rG8WuYAhP8AHIlci6GQcS2zKby4pkAAOjKGvcuULOYIFbmZIL8uhmn/AFmH/vLBqI3h9HotSUpvGSWGA8xhetdVQGUucTcl0OgOrRQSc6oVkjwh/KVmPQrY2joZkwYA2Oi/i/E56b3/AJMcaFtpPKZhg7kNbLUMWy0aTPGfKXEvoBFPllpbmclaDuPDo0trQ25UvaoS4zZDukraWpZgdGVOlQf4I056idLDfQ0CCz2cQZXlhl8afGpGazim+8wlnCYytnVmalwRvvDLglpgcd1mVG2jDV/em4Ri67wuE2R33jwBGZ6xbJMnLDW5GSrolwuwT5TOAXzXSw0N+496XoaWHKUUNueklbHGXi4l+9toeNGw6DQXUfoZiv1ph0uh6QsfE2YaZlQ0HeXgR5JtAvw4nrLUKbBoR3frmC0/Z+Iw1pHjEnhH4hCrWyQqxINf4JloWbOpodtMGWVDW+vZtmSY1yYYpZA6gzGbQorzwg0yMtRcOo6jpMFRhjTFnwNvb8mI1M2FgK2KxzB0eOfKohAPLf4mMzAystV6gAo0YS5zNvtPQGcSjqNKdizAuLQsnuDaXpfwM30V8K4g4p/cdBxEmYrj5IECG3mGyqjin/12gmbBWrDeGr6tj2GD1naa3eQhsYpYK8j8M+Mg/I3Xr6t7mWI/m5VZeXo2Q1PTEv7obPqX1+CYdRo0h+JH8g/MO6B22HxTS5cvu38ClfZYJQO/oIVI4IrB1YQ13Pvox9EDf46UdAq8yw3h8M328hP/AMLMj3+3YOo+UobtS3b+yY+CzS34E3rgvroXGFfcr7A4ZlPeOmuj97oH7RRrOMPTu5uVLh2TtU+vSeLXqKFtewdLDuHdGovxMpc8eJ/4sylfw/AcfkYnoNKfbE2w7MQvs+pLEmf/AEqXCnDG8FAdJpfVgl9W6HRgBtCX+M2XjsjtWITwQDev3OVacR8xvNrx4PUfCOq+tqHCf0nuI+EJzZKiOmqXL6BcBD0z2xDf+2bGPTvcHuZKy7JfNvWek0dP2us6ahYnd6GC43TlhLl66OI1Y2cT7DqIJ5IpZ9UHjGcYzHAbNVHS71nrw5tKmlXow6bO3sAdH7k3PaJ1hKbm68Tk2TZMoCxjl8B7IvKYEXshUapxOd/iHJf89KlkvJDVDteM37C/huhI/wBiO/p0NOUeyVaHmHS78jDX0QK6XrNcJAqwXZMiBsZiZvLqb9AtEfub7QX2I/MpYWz78QC/6I/yW6WP/SobLHfsiL5lMTODqcHoS8OalDiIjNSmNHCdR2xzCIUf2v8AU3OsdS4NExJMHrHWd5Xw5QHkg2fGqzX9/mHhdRe3tXDPFBOFXzHTPZ7l5X0947Uc+v2wSh/7hEGHZ3r2goa3ow1SyWBT2hBNe+YTRhv1lYf9tBEsmFuFyrm62envKBbDCFXD50EwhSowRZVAddd83qJ/6ZUBR1llH4d4kG0FiRkHnQ1oVco+PCHTW/rNXoFeJhR7JeRjcQxsCy8pa30Osyjk2eSP4Ot02MtG3JPStEBftfiQKlo/KGV3ZHVxAswQPw+EuVe2wWTLoG+wBLNFI5ZEQ2LcZd07PiYNv6xe9PslMSd9maPPyT189B1EqE4g3Kxw4JcN86B0jplr9ENv8TvHlyoIdPMaoPU3/eDZ39x7nEhz762oeOB5Ox+UsOVP+0gAGz2Xz4LuY5KIXkI9/hSGj9ufMI+FZDgiHBsgVAkBVjrj1Gt7fPBpz2WGjx2zTDj8Zh+oaHWX6HfMNzUchieZlCt0NDVnIhtnGz5jgWnYRneVW3W0ANlljcIvaPKehTsmtGGTaEaKdjEuM/tDpwQ6Cc2SC7KJVKaNkh2fz900v+aM/V/gOe4g7w3NkhEbV0nQf+1CHkn4n0DGDOLW/nQ1oFyhqn58Q9RDxcIunn1pKrWuxRZK7DeWmWvjaWwy7E7/AI3cS3SerBvoNP7GM/R/gOYfFIYPsS7bvxRmeb+DLXC+hrTvvJIEZZ6I7/Jhn4SpPiHub49Ed9yn2QSnBb8X3kMfUg7FFDn/ALI1f94hYu+Og0Le5jNz66LNX5N2Vh3m+r9olDdF+YJ8OptSuHtGO71oqFNQ4Vgo9Td5GJR46L6qCotl9g2Hkhoew/iHwhsCqmL7zoJt4MsfdpOSWW87MI/UzDHyryuo3rX8ujc+tWJkJl3P2Rg6kpxBKpwl2nuDB1rpwRMUgnxhNC+CNpbfHWdYEHagJY32qUvf6hLGV8QrqyL25iMLdRMmH0k4UeTrZJQbxGv+GJXwxL+RS+ywEVDiIcbJh0FMxbG902u7U+iH0DFr2uHjpNFhv7Yx/rrimhKRFOGrMmP0Twg2lG889o7jt4bHmDY/vpNLF8Ev79/QRor9cS/Vu2Jk1Dydk65pYzkh6gxuPsg9q/PSKHkiorbeYYmNaH66xnhaMPENV4wYtpDHz9do3GXA2134nAQv4JvkffQ5SggsvSUuX5HjrytLf1cw/XsnUabWXfdoq+qM76GGfWb8kiNXPfRWx1OCUZIeJgyICtW26jr3BqFPUGal0o27hhDNKgWdBoUR5QPoaCo3Mp2RHcZ/qboDZBVIiXUBsD8wyVo89Ir6w+GJgi/MAlnGBZVu89XqomxYBeCcSsG5J/Uvoz0EwDM8VDf0piF+Dpy3ZAAVtOO84+SUCc9IqxQ8TmQbVxKQi/66jT9bR09aPQvYgO5AiX0b+IWeAcwWnSLriGYXsnlB5ITZ0k/CM3sXZ8Qmx6aMY7f8EU72+og5PMCXHovU+5lvDjZpSmnHLDtX7MuPE/AZY/Tq3vdILPiIA+esDs8fmbBV+oetBd/+JtBPYVJ8EPL45GhTjHoMVudJC3ahAz6BQXBcieuiurFtP0n4A19Qzp+nL+Y9GyTaUJI1tw7aMIad9JxD446WGQ/Q0oPPkioJoRULLFFlwEUgv9qRlqD4b2gdb6KcTkoATtgcQSFJ4bQUVZrc4llPHGgOuCbt+FmP/pAFYfEN+1cQHdU2CxqaLQsLcjH9T7jCKYx20RR24aR6tpiEo7/YhUDmRCcm4dgCkj//ADqmTT+4dOyM4JayofXsQ8ljs9RI7BA1uNlT6GQQ636Mct4z9/VcA8TfsJmSxgIlLYgNaV3NJtN5si3yHdg7LLShK14jXDLCLqQgcy3M5ros4m9f0QwjePAJLG7mJcNKhctkAnMZUzqPub1N5rUIGnuMmAqgpCHWdstZwsVoVMGBZScMwROV9Vh/CvqJrQDfknIHe7k7TfuHltPuAGEOhrYPertpQu5C/qILy1suvyLx1bSAzKdHMHmZ9L/fVu19vjT9vXnN4mDf1guSGxDXaGU0Rqts/UU40D4TZAOitprv5TGkH3LcwA0dN+0HSi43me4DQ0s4vioihZKzTO6gDAGtw19MEJOL2CKLhTAHHaYdhDuT30VD6Cj11g/pKix/Bo5TxDiKwy/uZ+OuqsU9R5TeU/tSuUeenYEeMVk2GVcegleJ7xDowcZ39EOFB7SvnSgADx07tN6VGLUDDebIBVItlh21J96QgR+SGOw+ukib2JXhjaxwg2X0be2RwZZoXhhfUl89dAAO0Wi7MTa8w20WKUg6Ag8kEqa3hscPeok2n0gVk9k8n+mG/fr3m4/rRUWvygRLO8i9NZAcOeTmL7hFf+qYQj667otlHOeKckRbn93UgmAAluJ78Etu/k0OgU/ZSzKPi1lqMvo36f6y9GOstG4SriGG8xVsJtowgCmMvK4m98XBskPEDbQgLNiKrR4myf0ivd9x7BgrB6AtM1ErJsahwh7lj2z0VmRLYppibAfziD7DS9aAJQBcxFqZHRxl4sNbEQPxTCk8dZCt0pDNDWgCyG7mzg8d55WV8bwnIb5uVdtHDfLsOVuuMB8qPiGea2L6sMZ8/cppfBfLXfibWvS/YKZ3QhQa2WftSsSt3e+OvtfcqMx+tONGVN3EvCyIrB4WZ8a7Bna5W2T1oDx1Bngl2ltggOIynqOl3fUop9espsX5gLD6ScTzJS86GidqiGEmQ+uLijeIZ3YNwLIl7rDcUdZ0JWFWYfMNTuCAyyvCWxwmxwx0w2lj2RhfLfW6DagLr+lGwZiw/EdiyG/RyFMxpXjYGQVdoGfrIbGlEcQAB1O2DAorp9lEvt3wjX+ERLL6DsXazzOILYsbseCG3YpQNKL8wjF3qXeHpOwRUn1DOOZ5ERbLeDQNDr26DuBILpmCgByf9R+kOYZhoKPHwACCzZ7DstkhdWc33G6POavSU0jP0U/S+BZTfFayE2+E8kEO3HBPm2CWoCcmEpAz73Oy4b6yUqL24ljkA9pjaXKqllt4WVuAbeHsCrsEEuYsn5enVzOgABQTZuO5KwUMPyKY+hlZkHYqjtPxE+COj0lGujD7p+ifAZraM0ChglfEU3MJoV2zL9Gh4gb/ADKBd6oaHThy/RPPP5hwft79g02cG65lQ9wqZnzwIKB1iNjM2f8Axnqwfsf7jCL63iHN9QA27C0L4J7ybPQbdsMrgQeq6ZEXUwF5I6PSykbabE/QfAfEGtu+mUvMt2bPbFbxotOupbu9oTaXxA58Ukx08B/zHQLZfYft4GrmAypN+p/YQhRGeixliqTDa/raNGetFTy5U1X3LzRonQdBZ8Tlw/8AOZ91HLf7Ykqn76QvsB5IYBYRPdMHR126f5y4w2T9F1mnQ42lHOHC5jrr7gljfwqEK8TLqYVtXEIdeGPM8Tkb+i4vIeyIl2TF4/8AkVDeT4qMUVTk7F9Vy5hDAY0QEiXDPpl7zdF9JRaqBzUwiHKxOA/HYUy56TRb4RPaLsQbB9dWzTJ+tTefqozeY8ukeXfUZsV7myMISTylaVN3EKzDCLWzPcNedUa5n2QdQ04iC63LljzOKbq+wTMUs9pkwc6uYPY9peUl/AQ666XRM1cAPkuV1Oh+qCrFm3SwXEsTdqvqU1lvPwbxP+EEdOyOizE0ykZQfJm6gmyibkIq+tBooFs20FbncUI3V+6bA31eWKueoP8ATM3R2OyjPq8wmPfmJQ7dyuVpTyHHWRUehH6S8tomc55goHg6D4R0539yWGK+EFHKIQLDzrbU0VmRs8xCphNsVdvVW8qgJ/soASXVP8zEK8j0cwjH/dM+IznWPMHEIkUzKGCp/Rh0NGfeoSBnhD4hl2jF/gmSAPGBId9PxxP+li9KSCjaoJnfcsVOMhs9g03nYwqjYVsNxDht99BqRI2NmacQflPSfIdknhmq+urjncT7NuwQUQ6EB5gvJkN49Qrcl4wQwSnyR3m66DeEZ+7o6P8Ao0cRvvA8g3iXMQOUOIaNIKIxwXiOvjobg1EXbNvEvVMbBnDUqTA3TFW8+jlOIaSKYSABRDpYQOhDaWYXth1k4hApm3ELc/WpoaVE1kzCDW1RHcPF/A2h+7KLK/cvs5ubzDKENzxBD5Lh0uh2cNHpN9NkV/fonR2ZGDmWu5AnQStZbU3Y5YxbhCg/L0LahK9pTCC/H6m8YeUwOw3NEJgXDXRXR6ctsVa2hUAUy86bxW8+et6qlQ0NLE0PLeUWvZZjHRTNRSdIv8kFYKPx8zxO+y5ydMP460GbsZJ/0EzWuoezpZTfBibS1d4iKLwxOXh01iiDr9Ajnc9C2KYoMp5zgTQVvZDqQu6zq9G7TbFb+5cdFrbS9BMAb4zHKvcAWOrpMEvjvz5laN7SyFnRfzoJEA8at0csMsR6ic7hVy7WVHoQpPbp8I0ovuqRzelALcEssFw6FAtZg6h28QM+juEgoOg1xIqC/ctDX3KwxKlV9nMe2fo6EER2YsSJ/wAEZjA/w1swJr4L8ygWMT7g6XGMWviFLC/afQZe+B036frTJn4jp+w61EfF9TilNuAcsXlsNMB8LjfCqZhgxCRsLh6UNl+p5Y8dLa3t7myCZWK9zBjfnXnTAGLwljxD3a9TbYIfBIS+wuL+0oJAz7+GX34kGC5TSMOiyzTv2VPHVeJYlf8AP9kEanrVG7WebiKZPvEWbxg7FTaK208zGIs3wlfldzoQogyeYYnviY3uFiPyeDFPw5ZuyyvVe06UIzdp+rHdldREu0Jt5cNdmhoAUzHGDAxwe8OhkG+39wMMqzM4YGydMdGgYmEhbedyJaz0PHSiCxmZJVCwwvQ62PFDrP67IRALukrXWxUrGUN4Lt3ZctSF8w6GKwt1XkZsJ+dou69V7nYzV1D0YZnfiPz3SX2UsqXa6FZur/ErU0Aoii2nKff2nVjjZcPAtxBMRe+Ka6i26E/X1M2R2tRGhS4XNpnxjhh3WB0DnVNEAyU+Y/a6cPQtTfeF8BrMyUVwQKI4dB4v6IvOPmchf87D4ANDQ6U5YYYeJoDk+vvrNR2UkPbJoaGgONlAfcrtm71s/iby/AKhQPHWFN0mz4hLVEeFRmK0z2qyXcisVudNF32NthKl5zInhf2RIy2WHmCKjyeI9N/06sejLpx0FsIxdtdFgK5uCCjzLA9CEe6sRcA5SqlgV0ZXOYIA1mccIfTGhqUFXBhuMQoC+A47JK7JrelLq8w6MDYolJZtvD/CZmJfmUW2NNZD0wemjV6MWpbGJ0Mh1hAy79Rt/WJj6onC+yW96AvBBabQvXmUIUI4DZd1jpRQkL+LffZNGWeesgJ4EQm/8US3/sil79MKbm56h0Ao25vqKgmLPTB8zt0HxnAX/CG4JDbb6zPSxZ1zdAUA01vFywnlLTDVHB0ureic6NtC0TuhL+EvuMY33mQshTCP/GSmM8jooR+hHMf04ejl+k51/qAcGjCMt0WfcNa3Mk8+bPYRiAzPF3F9Ey/vfZ21/GIJ3/3MEZ9aHRuOVLAGy88zxv3Knujx/wA0E3n5dHVjPwhcI3xkINnX/wBYt7TDmLEn7Ro2UseNS1iVwXv2wc2CYKeDzotRHpW4I4Ipr8wLb+rpSPuqUGbTe54P8M5Wz2K0db6s6nVRSuwDdlczkqcIvvsXHUV2o+KRhDQLzXEUrN+EqqxxiCh5L+US+JcdL02OmyMEz4nMZ/l7I5B5h9k2hen9OEBPCFtpB3OTENefPtH93QSolsjWYNZiUqm50e9ycZeB2ja4HeX50J4peZRKdN12x0W/afpl8RGbZ+KBiutIq5B/cIrglMhaQHlfhQKHSE3k8Yh2JZBmxe7kgy0vLcym/PTs1TmZlRjw+jsoeIruYMBHp9rEynd0x3mMLxnR7FC+CP8AeNDtqEEuefwPeuYgvJTENNiZq5hccanaW0DLWdszIrf/AGofX43sV808PsnLIRW8/wDKhKxO8NvY7+/jG2VSmoaPGX1ELxvSJvC/b1DcjBUMjsbD0OmzSyfqVSRXUn8D4L+BbnqRtKi4m1J/Xft2jQ0WoNaOicQ4JVk4nGyXKnMIzi0+oXLvU7SoHAeUeJI2W4TFT+ezdi/QuGy5trgHfOGHfCRml/iO9hINPB0gicEo5nm1cbQVl3qvRPD6lTEcR+Q3jVWwP8FLQttHUp57GyYU8LCg8kfcsjl5HKsv8cG5WdFoFanaSy/R+dPzajmFC8Hr3wNj8w2GXnym7BlUY7N33mH8iA08vh+JbUgdmIrWqw6duu06L3Ws1bhZBUQsATD2qW9/xL33qwwZwTgPhmct/PEV6hRMC+tn+srLKWiCofk+ehJbnVh1HRb/AP55AFH8qhvkcO5q8QhHRiS6gwra4KTC2rwJGqJTWT44X0I/1Crzrc2ilADsxAox0G+li0LPPUJnVi9Os2ctvoariL8f3AXHHMqzWKO4xDIFKbRQWzYjMSx6do5BFsBRuQ3jXhlXNLpUmWLo7jaO4dZq7X/5yAerZ2YdqA7xz9xlaLudBHQBEseJcLX+oNtyy/7ofCOhBEeZVbLw3rxBlsekLrPTsjP3dLlaN776jaWYjTeHRRLqxEKXhNhDR0jDNqLeo7wrxFmP16RvQMHdNGW/F0OiS2UhnU7WUyt+kPo2eNermyEdQRj1Q2lHfFqRAD2r5DX7r+Rme72cwm/J30ejbHaf3uhhuM/1aXLwS293D6ggqvaX36gb0uuhTOLDBuUHDzAAmz8upL6Hooh2Tv2V/wBMCN39R+Ka4e5srrX5lrtk3j0G82Rmf2St5erZ+nRhnlHgeFhA4NFUcvM5ttvQrOULUXGPMQLzeVhmbB8c6Hg9dhajs1PiICrRMlftiUNsEXtAfjt4n9AiM/iirDZQ3lj9gg2R1Ns2MsWV7hHR+u6ga1uIMMfuV0oDyRd4HUBjA4nll/8Axpif8YzhVm2t/AH69WZT5lZs1PiUfj1IKv8A09q+9erw6CzRYiPGjHSI/wCqLnXHSddgl/GJ7mVxnhUb8t6HvLSeHPhl+UpAcxU+WtSpSU0IAZVC4ciPm4lPueSAgmr2yv69h2m12Tpqx+6CPxjvIdDN8NAXiLRm6L+7U0Haf+DDlFmyPRuGXkjtjL2JbcvfRw1nulnQX8ggFLl5TdvAzwUO9eyuOi+h2mxqdqm4NA5mPd/bP+YE3hPKYhQ7H+BuMdFjpE/SikdD8MSfcXzHjL8ykworlaq0mVK7EL5/jaEYfygABXjvf8exWoGDvHUsjkrxrXSbavPXXcrrdwL8asSb9FU+ZbKjox7WO6vOxm0T595hFf3CnbqTXnpEw9dhoqG3dctTmvgIpoS0W4wWS68+p5Z5++smXEt7i7PzIft+RaAPi40zfbKnV03QjlZzF8amL+n33Ey6HoFUpfQcF46eIFKwYBHAU431MOsDP18Z0UuH9w5ld2bGpE4j+rEzrYRpTeODaQSuwwzd7/Bz8cqwUyM2vPFOJ7t586vQ/wBIs4lsxYz9DHsnVmXeOJtrPZOPDhz7mev10IV7X1gfX91Aq2PVXYz1VgsnzLD3nAWMa07ZM/RlUA7FHH+kRURzUELy8epmTvz8fEETh1ySpk16m9FY/cTCNS5vZSYfT+DUo6XdN5blcLeN7CWArsPeN3UbmeGPwmxH51O1vAbH5ldW2fcTgGewUbpKe3ZPKeddk9kr44zvB/uE4TQL8kQ5dx69avQ2TjaVpuaP1HUdQmYK5Og7fEcnFeOUL3nzUEt2dbDqN3qo1Ow9IlAKE4le3w3uDouyPNvucEwzXVQW0j6ZZ/A5H7l+eUffyPQBv7Q19jhGXCZXl31dZo1mXmfab4z9mG3Tt8Uf2hDW1lycSw7e4JEoGxmP3QfUIS+e9ueiui4lvHdIIGfofRths7HsPvzP+I05RtUsY370Z8gcsoH1EP0HzDTsnRzrwPqErapT5gpjF/dDZ9dBDjvKAquXdhoSj8sjlc54Q6B3ko6rPC5g8JcMK8xLC6vbfYDZfewQiQXEzwVcbQLLbP0zYO/DjrVPolEAbBfyEo+TFj5BWA6zwwhFi9V2SuI4YLapTLwjNifrGrpRehoSsRirt09766PwrJ0jF4EU4nLv3LCgHx3i3bzjrY7K8Pep9sYmclW6m2Kd+X9WF0F/KX1IJ+MjYoP3OE/iJy7CQ75OuycTfzKxG5aUs0cIr+pq6kNWLsVMn8h0o5AEMgw1PCDpyO1cMSqvHGsvw718/fQdBV33vZBHQsFX2xFBMdi/gBGum3mHmf7pcV5B6CbJeI1guOlM46Dcn6/rOzYnIy1L8dILdcZ/2SHOvY9dD21a+3sBBz2Lly+7UWQLMU4ZfTPT989+uz44rk+5kRfJv9S619A1/wBhAlxG5YbTZOZ+p6z4I9ugavaZSsdTDjMuV2H4Cf2nlMCmv5AC2aOfMqr7I2Y9Ett9G7RxM/tmZUubIzmfpel0O+FQNNby7Cg4YqqEinedoaHUyiV1XL0egoKDysdl/wDpxDG+25z2qNWiqtx5lcQ81TFhKpn4ygKxa5L+C/uXbicXhl9vG3RuhOJf9kN5b4lscs5n6PrO/tpE2ycfKcEfMCQ57u5NrQ6LqXZ2nqugLntAvb3HdPEKpX9fHKE8oDRACi+or+U6LWQjsz9iYxFvbQaEz0qRdDvqZumIQH2H3UNsHvbkyDqMsrTevvMMymGIJ/0TslkEJbuM/wD65D45oq4i6g+pQS71N4ejfCfrRZfubSmnJjGK+jDqO0wRLHoFPgmM5WwcEPjrjvC0QUB66jmXLgHZ6jrur9vaPrQfiWdMqjY7DlCobECat9/M4k/UEA2CvjeiC5vHJYhteeLPx356pf1R3ZllS4mU3Ri/r1z9n1Ko1Yj21kNDSHlwWxG0vbUAtfYzLKY6EsSZ7BdeoeT7PGtB9YjV5HAqHrLyAfeIJPlXEVxl9n211sIqUdR1vGODiVnFEVrludiwICMmrPCD40kmL+Oq+/P03Vu0fpx8++gVTLeKjP8AXq5lRxDUWckZt/JLnyFEoJwhdoWQ1qayCbf2yw8h34iSl6tmCFR50arMtAs3Zp8R/wCjFKs/tCIbEe0LofPWblXhAPeQw7JyESrP4wm5Z2EQWMtL77xAkssf+es+BvnJiO9wHY1X0xuY0/MeZudH+7opv5VNsnE8dShKZkAPBLZvdo831q2cYp/0RR6BueZs0ADbR9/L6i6tEsjlT/rggNk7PPQmERmswNz1VK6qldeey+Z4gi94YVgS8X2KI2zthLuL6jlwbFfJeosRVEtKjifiVNyKfuuq+OUF/ItjGvIFIaraojRMY1dxK9wvSLw5q6HpcuGbklpGFWr7Sq2lyhyi2xQNtwgDQKvuXKgB1DLjaz3l/hLOUzh5+COuh9ew1RhdvhIFQnA/8RGJeBU5n0IRVDW3j5D0GnfmxL1qbsE/1ak5slQBlLY8ibowo51hA1axVH2GeIQvE3sLibzDbqBa0RUyb5T8ExfCNcJNkZ4cIUhqz30gV018Bz7KKVksLxBEE27BK6DajvgbGbmGaUp4v5T0BoX76XjaBgZflMbzcYp/r6HC1bniFbK/UtOC7MVhq6IqRCVNgB0PztTOv+WD3W3EKA69oGjtFpefKUFxI8+orCA05hbg4vuYSyMOnMU7Fw27l178EPL/AAqYk8RpvAAAx2LhFzHkipafbEHdlv8AKekR4ajUbg79Y3yFYaDv6iw6Nsb25Y7rVC8Z3uYWf2bu02rWXu1KIoQz8RgA3LZbtj6eyPDTiFF/f2lWC/m3NkJ+1GUhC/MzHwg5Td0mCpDaPJf3CbkfOuRy4jdIEfp2YNqdt4BIYGYjtqQAAwfAHTg3n27PPRnwF+0AAMOabQWpxraZw09djKrMjwisw2yh7QzW9gu6+WxXxBvtLDeEbJxG5ntmlZ0nD1datizch0pfAK6RxXwzgvx4iHJoXWehfaQ+5lSbvEocrNJ2DqdnYsw7t+7V/aKm7n3DQnhANJC2F9XHJAzk6hS4RmsRxDxRIjR058/LYzmbITfPJLojM6POj9/oSFh6i4cMlZZWHHbxHcWCZsl9Cwb2I/mi/CEqi8uZvvm3sHTccCGKgrc6bmTUNd3Auq15gAQJxVwyrsw9hV9xBcyG3hiV9fPDLX8J8t0czZooC0SZ0YgR3n7h0UeIVTgmQPTQz/igElj0ogsgAo6ERVq370uIUbp47+OlJlAqAtOHPdfh39LLOA8hibf/ALDsDRgSreZ2Q4Ce2JLyyq4+S9AphkgAy3B/RPE5lytDBP8AB02j+JnzY1UC2Df9kY/WFD0NxD5kflVHRZCAnPSwU+73WF3XLm0bG5l8bTBuyuyGhdj4+XthtosCMwAIx4/WlZhoXDosX+ey7LDLf/3FmLTF4jlhdiXKGvy1MYH5uXs/WZR/yIzGNpaq6240qtV/1pNjj+qU1SPML57TpQ0NGGDqAV8913UIkNru0wxOYDd/hfAz7Sq6DnLtN5VpUajbGbvw7PqQuA8BxPqJl2PJ3KJXcW33pfZO4W1eHqMJ5Ii214cP8Ktb6kNM9IvWoMaP1joT6Ho8D/qB8n4m7+jQWXklsIfzB5t81hizuUsIahCm4jiT/nFLPPeOhzChVyupXiDeiy9xyFmoEuKssuAp+Wgzjv1Zf8IllT+rLhDT9qZ0NF3j85sj6M8GC2IsnGGWO94m0abp1u8bsIdyA7A6Ej8wRXf+uI//AFLCn1fyGOlPEPIm57djtpQbGuJbPj+DuLmA/c4hDU+GNS9KN5cRiwdErXh/Uwr0fqUWGzEx5vnXiMy/gHwa79PaO5/xOH8Hib/+ED/m5cAZK1N/4MNCr60IOYyT3Mty4LbaMQ59RxVHxfknEK/BK2y+Q7fArv8AqfxAsqYBoxt9TcmZ7zOmLZ64z/T/AA6uJlzUq5Xpv+ZJ+pN0zMaUTzE0dv7dJAFbqPjnYvRJhv8A3Bs6Uhd+pZ23+LN4R19MHOdKqeNMxYodfk6VOFlcNb7dO/XyuUELz1ekWogj5PipcFQ89g/lHQRRK15040boulXwKEfR43Q1/NMm09unYzc+8Wsdw/EWKbTbnVZer/J1N4BjrWUsOI5mTEMDQvdL4qbkx6dWb1Nf6YYgcdp0uSfQ1CDYUl/EqIRmYTqH+UqVPLSEdflpUda2FuZvdAes/gKFMCiuo1HPxz5jMfxpWrVm7QI5VN+Kvq9g7WbciigWx2jtNDERBqus0Ycr8c+YxsEU01pvArTPmA1vpfo+wdj0ISyN7OUcXdG0tN57c1NToO2JsxVj1Xq57aw/iHVmHRzozLjyjLvTRnEWIfuJ609GIgavmHY3GF1GuIUi+JVJaLfuP0axWX8Ss6LMzMb4jbn+XdVqfWhlwrmYhtvKzofqNHRG4Mu3/qlbj+iAGxDSvze1O0aMQ5P9cQEkNaCPKo+L9JniqDD4mNGZmZm5Wr/LlnLiTbS2VG5umH2w2NBbWIPy+sx45qAD+zoJEoil+ycEUD1q21+tDRa+nn6lCy9s8M7TxGu/mUr+oU5vhVmVK/8AgDkUdGYlY7xuDmBm9z9bRBJRsJWpo5V/2soNp7Ch/ro8finicgvPEnkH3JJghth4mPbsOyaX2r/njFf2w50Uw2086V0P+tpm+eCJovoNPy2v3L8T4AlN6roAFJZB6A+tGNgu9QidHwXQbNBt9/wb8k0O03/uM2g3pcxH6gCWL+vorrYUKMbJ595g3S1SbansI3DsfcsUT6gtatYKYgHyfIdzSq0r+dJuTfYu+ty54iub0nefp9D3u1fZMAU2JbeUtyQ19YMHqGnuBh9aGHkkPkvGtfzpCYJ6ltpvKzUqY0GZYcdBuJRdkpG1s8kfnCC9BhrH7jQfSk4Ctv8A4MRfikI6+mLnR0MaE2mx0q+rH/wz8ghHUuYcxGmJmBSXtN/sQf8AzxCOnpbAlaUnECmYmK4/26Gh0X89OJf8OfFNFie5eJeY0u360ENneZRToAm19tDfQ/gr0TENvhV/FnF2hE9QUTnENoXFtEDSmnoH8FzLnhMDX8S9s6jUtsWMKluLym0UxrRt6kH8EaoOIfzJoIv6JW021by6lRVR26SH8M9LH+BPjaP4S6gzdpe8ohLm3Sv7/wCG5ii05/iD4L0bwdCONKg6Jh0vB9anS/OJXYf4I7p0PQd/f0LN5YYgvmBXMtWGBn/FqfKz2TBL1Ol+O9D1nwnVlGwTEItS7lGepTGW3jw+tCH8JnsH5b1ncOpmyOzMm+4xLixOI6XG550PRHwj4tfzTNkVfVFGNkZa4jxKxKWG2jb/ABTF9h/ib7TNs/RhvE0IrxL87T60vQzcgh/Gvz60dDR7zptiqPuGzLzB4lwqqmNElYZvQH8Ns6nU9h+Udg7Dpsm79w19wraVor+LEFzFXQ9D2H5DofB50P8Aul1DmW5mWDKEomYFwY0PA9fxAZuWav8ALM5myLZMSpUqEvQ3Mw5RNZXUfIOzT+KO+s50ZH6hjRmE86fTVwOhV2A+S9V9L89+OYbwj2eo6ZSpa7uGlM2ilTcz93/5F6D3WboaS5WJjiDTPMqV70uVMVF/S6A/+NdD4IRX98ola40LJZKzKiwRj9bqvQ+fcuDf8Q6Gj3XQTNZ5jBF0uY8TOjU3Rf29Vd1+Ny1fiPbOwd90bL6mBEdtMRqEIVKfOizFTfMV9IGDV/hHaFDeF/GfhnfYR0/qb1NtKnNQNLmzo6B/sn63yDrOw/wZ23uMIq03Ojc5jvplKzOKmGCVhP0zV+YaHTcFuVl9x+caPeVflKHeUCpxDaOxCOm0uZgxHefqOgd06zsnTUqV3Xsvw3Q0e8/7pU20eoYxFqipeJRLWc67P0XZI6ncv4L/ABJondY4XLxpsyg2jCWaEdB7XHW/Lfh38JvU0dXs2PMFPxU50JeZUUdtCo3cdoabYz9H472X+TNGncmBATeCHM9szgx5lR8QBlmNLzCrVRqiEVtA8xOFlY9zMdoMrabYbtysS70qXpshzHekdBfyTePcvs1pXwdoeaIYuJ3B54Q1mZJeXDrLlfTELJDYXlnMEg+5boDQSpWczaYll6OYpKueZeobz8wzKjvFQUza+9D+avCxzeUcwV7g3OitiIGBBYzYm5wSYcRh6Ybiirbui3g+dWGl1NyeUB5h0ZrQbnEo6Axi5ermIQV0kScSzAzdF+2h2r1v+DDcym9z0JU5gRZmUsbzexHAjMouFSXi72XUuhlxLeWezEG9oTXtAGiXN9FF6NpzrtpzF1qbSxJiVMwjtpT9JfGhrxGcoEZWlQlDUK03aZX8OgiNqQ22WeiGe0dhtLquszdXDyxdZm9I7dqjPTCO2NMSqhibQOJXN6NoUcTFSrnMN4ZiYtTeAVCZ0uM2nEZklyzbQzmc9DKMOE3lYnEu59TfVWCz0MfM0Oj+9/AYIhzMCwFCDwjeZkz+oxqFnML8y0r7KrQZ4jCJA/qUshmeZnUstvTZ0qZNNowKjKxERVHDTiVtpggy5jozcoIowiwhvKrQE4YNwzwaB9UPJoquYQ9MNUQeJ+Jc5mXTJjwfqPxb031i+YhxhcP3De8+wi9lS2+6K5GL8sZzLxUJUwVKlTMxBF3jtFqXoHaYnMxuTxPMdp5lSuNeGXzobxGtLY6UqPEMaeNcsrzoFwMfSePVbdXoV8yqHjh4YeIlepUNpUemsyq0a4ma0CVCM3R/0dDLl9d6U2WJu8CshtUvlxr2grfqCUwprxFtzATfTxobz1CpdtzmeIjFl5nEZcNcXtCembQM2lLKT8wpFlzFE4nEWO8wE8RDEo6GCXMsJUSiPbOEZwFPCY+IljeIeOF+CUEK020zM9BC7mdEn4njQaVNoOtMol6NRcRx/wBXQxI7hmK7m2gfKbu8zKpiPDEThK3H7WN+YI5i3dlp+ZzAlkvS5epUpfQ1TTh05jVy4NxVUi4hPcKmTM7y8zFwjUOdPuXTmJAedKk5Z4Yp9AlSp+Ji540VJ6j1fqQm3Rem+mK0txoS5fSaZm5DHEd5iXosI3E0LV9aZt4oWzEBXNRBVSbaYt5cWGFaB0WI6OIkxANcSqjTXiV70NOZzK0eJaW1tM1CUJXmGm5Kyy99C5mWxKmEpKhtCcS4CsZqE3LdzLlvRdTd6+WswZiY6L0yENFQd9KqcHQ2z71pxUGyG+dadWVot5MvJKXabixXzLl6M5WlS4MXUrQrS89DZGHQVnoLLjnRIKMLR8k284hoyu7nsQq+BoTGvGmJxqo3hGjE1glYIaVpWitfvrv/AGgQ0zGXo6Z8QzFqKtsPClHFI+0sggxgwlrzLmdcaXpcOrN6YhK15lwhLJUNobTeOlwiwStFmXN0YFh4sy1nmVUqViUeNDaXeZfQQ5bHHX7gziEaueI6mIwlkMitxgCGBpWmNOZkj6wkWNB1J50NTR6jkvmB8psTnvwh9Se8gaUQ+5l4JXmjWyPgYEm8vZ/7jqqpx03N5tB02m7LgNTFupB4vAPMoh2YmJipYxeTphD6mCoS0IvS4xuZnjTijj0ILQJ6cJxpXQaJtCOvMd26UFzMAhKlaG8DMPKHg4OolGfBA6AzMSzS9CP8PE3PfuXDfRZujpZLhNtF4hts8hHZUVDKyk4nGlxZIapFpiYTLn96MQQxJUdA5mLiTiYZREJiNEvUcdaNrGU8Rlxly9Nphl+4BuXvjTfNiFUQhONbliTZPD6sx9wPoacxrXErXiLiEezHf4S4sClY0b4nQly4uYrpZdudGZc5hHjQvSXQ3gvFaumO8GJm5UTTnWtMHMxDtFH0ULy0zpUrQ1aJdbWgkSqVtpWZxONLhmUEYHEZT56q5/Mp+DQjL40ZdSzTFS9yKl7+FRq6Z6zeshG4MYdBHjVZjvMRgQq9tFIgmhoMXEvQ0xOIxZkqKLQiAE+rjrxMRASzh+dEVBDNu+lz7l6OmSCJvHf29QEna4Spz0Y0qVpc5j4PgVK7HMegNRvo0VBgm9JCOGYpHqype6XLwnGtdGb6cZmYo65isanU3l6KEsLYjEVBBAsVrnS9BbMOjD6I7T1G8E2aAQDV0xpnxKZtw9+5fRicdhjKRhFcGmIw03aNkb1FEXOlL7jxCMYRnEthOZzOZSURx9PhDzCV0CWsyJjRFQTcu7pWJiY1xAbnLobSn449RfrFtDTEHRhvDOjMc9dVMmpjg8U+bSDZp9u10odDq3iDLRaEHGqwlTeRwgiy5cKho4EqUeqtCcyr5iktY46uZyygPEYTiMxUucjPr9KAEFuCGmKhtCGoMVLZmBnY9R9LmBRG5xpt0Vq9duvXGmZiYhvaWfZKqG+htKI63L6LvS5em2oK0q6wZcuzQdN02TOI3jUvEsr4NEbnEDGhDoJvNtahjj6L3x1JnSkO4bxlXTANocom0uBK0DE2gyxmBCG2mWOvz67RTZCZrTjTNzxHSpyj6kZmoajpvNtDR//EACcQAQACAwACAwEAAwEBAQEBAAEAERAhMUFRIGFxgTCRobHB8NFA/9oACAEBAAE/EOpKiwdESkdwAYclblBAZYOljrsGJe4mliDFWsvSBYGuBOyMwKqVU8YIQGEBdQQsFxYKILUoSK5EOUQLTc4kfBLqWrEFi3BmhLuWQI2dmmCvIagWBGbgxqu4SPiO0SK4h4uMtiViR0j3uWlhcqDqKWDUVcqneFSpaXZLjUJXym80w7heoDd4pqWkTcNMKXs4KgosbrOpVQY8gj5ROSqnm5c6mtyqhmyjGBgqI6gaIUfaKunxLlVja1zSriNqIshQgqmDsdq5qVfJfsLGX1DKE3bLW+yh5HfZohCQBbBRESlIATvJ6GBu7gLMeZTLeVNG5vGFjdynSXBULYecROxmyK9TsS9QlpCM2T6SqNxXcIC9VLQOoXFmpe4FSyBKSIgCNMoubipBggrAWg3lwEJsS97lGWOo4GoXeoQpKMGNw7BQREEMCyVXiammUTsaVuPIcLl/cOtMVCNJMqAypioINXBZljDXKspeaRQjLQzeTAWzhClC08nnseAi6JFCAFNwc0WkdqpWU/sB5JY2R2DGqttiOhKbQ8agGED3GvGFJtJcNyvUsTRUCmhiVSQ8hGt0yipVECPFs+jC/gYUuCESF+ZaRtpqFRuoGNCE1DkpcrcV5HvBGoOnqNVNPY+kCxtNEpKozcnmIr5EtlWgbubIaYLwlRIwHtPqykIojQJ4lUrF5Ny0IlwIl6qOQbxdU1XCTWlLLJirbAXDclqpioJUPthfhhv+oF11lVKuOkFuHJIoouCT4hiHgij5Mux2XiIMqBDp6gNBRADKhijbS4RRCoduJfLlJPCZ5U01CSW8M/YieeRvSVqUy41UpcQYbSi7lLqahgKqOvYGqIPDKL9RYblCzrca6S4Fy2F0Rt7IV0TZxA0RN0kW6jG4BXIUdtTZCGxCTw4aRdlwwYdLh3V2HJQlrLQ7BINkJdhMb1LqKrURuA7Gm4Mq5eyApKgWUy2OOItCUQli+YrBbIAEVQeIiKYN+mGT6hmvs2XFYLEdj7gdWRTqTZ25bGpCnwJoYyoW0Fn2IqFzeM9FhtBNBT4RAxSXZORGcnkconMtu2XUAxuS/CCoJuM+pRiELuauFx0yidwWUgNwXkpgVNs67iiKo08RUQLqmNRBa3yMKYJ0jVhUo7ct4ijzEWbuGuXOvMEqIgK5a7jPMLcIflGKltahwSFNwrohNqLqDc7g+5XmohORTUKgWQBgBZLKlPvl5bFdqG1ssexXZKUHICh5U0QlfUEKSiN9mFxHh3lMFuNEeWfzUtv1DuzcFiBqP5lwFsLA0yhNOpVaUi9YXT4lnJxbHhNZfyS6eobaKjHSqKPtJXkqFICJWKkiA1KfcBKDlQ9KiaxKwvMSNuJupYd2SxCO7hWRK8xQtgTTH6NXKhcsym4XIrURUfmCeRMbM7u5a7ifnjVYVbBtUN54Fdj2V4g/TRjZgojFfJF7QRVBn5A8TdymWY2iTS8GoUSzFr/k0WHGobtQLlHJ1PmeWXpRONwbMcCjzAAioipcG1c5a3BqBTxE6T6QJTPqK7gXLiWtCEMWoFL0M0MqBwFjSiLBbzGRIgm4lcgige4G4aj7oFdS/uLcWJlFAQZuo6VG0IMEOy6ySxnWMrVT7JVY9i6m2eTQm+NMRoUI0GLsMA1EPGK+UDBMu1Dm4KvUqauPexAWMLZxiVFSwpBuKgBG4vvqbTsFTpb8YBEuES24qAVFUoMrcDc0MI6YFslMAl0MKdlVzqOy+4P45UpuPuJUrCbEFipEsoQyVWV1Gu+8E765G9EepJBllY+BGT9yrfUASARyoUjLqBSjN3YMvvNJvUUMVAq4hCFiziIzyyX0GUQ4Xpim4rs3UhBTWBNXcbgdh6lC9wyuxbg3vcu25U0ZspaxXCtyilMp7GUWyUF8C4oeFgqblahDT24ttSgaYKZVsdR7rSy0Gbk3SDqBSSw7Asp5YvJOAjZoW4jozdkFjXUG7IKlMGoLqpaQoNwRjTASKDs87msFSURNynWCGrHqCjKNkYsNflCFuG7mggzbAhZaOmBleq/Ebb7igl0RiyqLjOI2NkBURtCibloVBEPJqP0k2ueyCELqNejghuYihBUxHiWx1QgnZsexRbahofkb60UNJFOETTqXeq9zZqKxcogL9DKNKCWiTcthHhE3UtvP2yEAsEFJFaLItSj4h6bdQgw54YioNZscFLllw2UYVQRqBLxoTb8pyCbFQVpI68TmXWkrJdzmMQL9RWlFjXgxQ8MbS0AkKO5TXIKEILNJNVgtbhEdeJftljzKgzYuGH9hN40lAMTVERmpmyOxjZSS0IMUSlF3A9szX8ZRAbtZSpacXct4Too1LslMkFuFYPMAFTdLEbuiG7U3YbD2xTEuoal3cFu1myQJjlLuCmapStpA4SUMGcV4uK2bhSL2kNRu4lErq3N13APmXAlZCieIpkmlKbni/wBoXaIyCEEHXsimJYo6v9QKLW4W6oyqqioMaRT05cT7CP8AXSooIdwjL32KsIhg0Sz32BcOij1ybRWlall0wrSLFlsAugXUHFuIM3ZUs0Qa0G4XUVC4rsRk70owCtyuiLeHTL1DaJCOos3EErmokoENS8l12BWN3LgTfmM41c1X1K7fYEmBU0SwpIICFQtDZm595X+cS/7laOibkHxAUuAFK/XGVP5HCCnK+SA/CIbqAhqW2knVcsxQoPU1WA7RKSLWioUjCdyqdml6LlrNoxnpcCwBU3SUFqY6x55DsXuLEGKtrAeDBDdTdHf+ot57jNXdxKu41CXGcQxjuOP2ykRah2LIewQEdKQMfMQX7h1lEnVVPF3Tc00wqmpqWWJCweyXAe5vowV2Feom2A4Q1Sora5zEtgX5ypeQ1Fhg4QJSLSZS3cuSwpCsmkY1alQsfEAFhV4s1Jfa8wXfpCmfaFERduL9QwBYaXHQOvxGYzVIAgdl0QzMy/10pBKqC6lgbhZ1qGoaA48ii4VLrcoFQ9AgW1A6lLTao1kKxvTkU52KLaaNkiLQvqmbQh7EUJVU2EHZSUqDB2XBowBp5COkoHu53T+Wi7wEUeoLvC0qIO72xE/spOUG+RiXYUUSZDG0HuajNTCqNsvhDTUsAlKwVBIQrkKrkEuEiaqWX7KuUx+pTGrirg1qLtU7BL3LuKiMJcC+ILbuE6jKhqKgYKe6jRGrhQVLqADbEpi1iKy2giiHCUdwQMQNkCuorLnFCJ9S4VlmhfEqT6gCh6/MpVQU8yyruWXSxhbuM6jOkw1r4h3HmWepogmopUvd3FdzVfc/hIyUl0Yhp7GiDtqNXLXFQ4iKBeiVPFIiDcrHbAm2Gd9BKItvC8j07BJcAnpqLavHWHy3H6ybKlojMlBNBEyhNAVuL3WVn5FTlGrYMixbAfUCJGurzKz+S0epFxpq5y2XC0uDYxogQpCFfdxWmDqPt7KjfYl+AYTZuIqyuktupsWECVPJh6lS/ESDTCqilUC0MboVLHbBaEtBFaXFU94uljwrURqVAjVQ1PGcRpbYV14lOIXe1PShjYqXcZAMsdYV2CDTBpqUVd7gdFTcIoqiau7m0dJ0G41ChiqxUxUuAs8fyOdqHiVHIK3BOiKORAmaz2z+En7Fm81HFE6qfqBPCsNWjaz/ALoepYVNK0IRqaFhCGKLrogVIcWVEU9wLBIXTDp+YMrwibTTUb2jNk6JdSlzRZIKITQVKv8AIjB5UjnZdym4FuIiL+bN/wDJQvkiDfiXwi4LZcEi+kAZSPyUoyw0xVCFSG9yKlEvQQfrygiCZu+RJoCVgImG8baqD5mhqITssIDU8jBEUTwIqySLQYSTjBGF/JCTyYq7Grv6RRo5EwVxXUL3BuDSMHTsVpRGlT0my9tsP3NIgB+QCtGHgwpFhfmEPG5CQQjtjM+CUI9Yqu4sbYDa51+IYJNWVF+QrTsu9Knh5rND7hohso7Gtwztm/ESrhVjApg2XKiVmZHlIwRRORBWS66GaWtxolLkb3k6qVEpYrc0SV2/2EPBhH9ZU65LqFAmK55TBRTS461BDQ1G+w4Ln1Erii7g1WbidxFYhX3KhOjGBPYSy5StxraANsufszZx0YQdT7IbJClpLLmcZqDk9q8uC0F2530wN0k2Q3gIaQaWoCBTkLWbgsp8SwjbRNvqNQpHrbgqcp6M1L0srwm1B6+kcT53Ge/E0Pl0S2Q7q408REEhZUYntG0Un2S4WbiBW0qPDxKbi0kUNxH4KJtHdsp1uyAivCOx4wllagbL9xASKI8gPdBBLfeNRLIg0wrG8QAK3LgSKiFYwvpEtZ7WVFJCEoggqVavMpSG9DtSriIHjuaAdVBYWKKPbNsqz7QZo5IJN6CLYmJR4mgXSUpSv+JvAblwNKior69g3XGGvYUDUHIP4ksV9jw3OlQQ+5pvqW8K2Jcwb0TZueFAssBmihyKIMdxT6J2IeszjanFFpY81hnUB1zwzBqtQ7cCwKjBRarjGLejWHQJ0ammlYAGDIWMZnn1FjKhrXb4lKg3HD3Ke4HYxo1tEL4gxQC6uLxrgFq5UUOxJP3OLHcve6lzRHaURTfrLVItNzQqsVPmp5gMEm+R7GDOvDkTsuXUCIJcItdQngfNilPfULc7BYbqA0kK8sGizU3XChsrvguXrFPSaty6hQFh7l0CVUNnxLZVr1HR18QydItaMtHlSoHZevWOikCmNI13kCPZLH+ITHiAuR6hXSRCgdltRnr/APqU+vBDsNxUw24Ws6ggQ4RCIYBKjATJCpR6j3GPYcHfyKJmoJHxbnmMpbU2iMLgliB+eQUNNssBcYLcuKLUEEAWw0kqtcFFetrTBc34YyCw/YXbcL8MN7qKa3Bns8GIWTxpbT+Bm2I2voIwE46QgdMG+8MSXe3KO+AsNTG+J5hBtQukIgpTBZcFNO3tg7X1cdErKAh1KCmDT9VHQhKpyUgPWgwCrHUqI6bgWwjRRRCWCJwQBv3CYRKPgI6nFgTpU0H6hPyUFJa0NPojuPMZsx6jTyJWP5SdnQw6DrGjRcJ7alTcSFe4FL0YVEVo4BGZXiKL4WyxKlQKomrqKHgj8LheSDLhLhi4M1NVyCbMFpE8UI80VHclWwgbpGd9MHe8dxc0CMRCUjk9CCPJTdw3KAGbGyaHY6bJrhTRyXUYO3TRUSNXNjfIdiH2UJC4218yo8ojcELbcKdJfSoPWXKdebYROJ1Kikb1AR+iLyKiSCytN9y++wGp9fEpb7bx3e6RgsNIcuVzu9jyTUMv+o+mnUedoMEXcbSlVUtWajkbWb8S/HnUBrpFPnXqLpIQEWN8pY3lYZdh2xXoNQYWxfzPLVwlXYqhcqGHaaIOwRuW0x9CT6zTomhe2FitmkV5paoHa4OhDTDlo5wY8/C8EMGTBDuCXBly4S3P0E6Eu1DX1I3lkdxwjYsJdUkdW7Atwer/AESnVMDpAUS7SpfsFlQQYWk2qVAvSRoKi3LdNJyPNKYlrEouQABhkqLpNkSKhssVB4ixtOjWoJxOVIu7gv8AUMj0Td/ZLaXmao7qCtWwoNRa6IA7tOPY7N7bFEOWbW4Re9I8UwdV2C6sYONWEQKqC3Qwuw1AT6bIlCMr6iX86lgMCnkhDiamFAryzio4I2ahKISY1fREs+4UFyzP9QKCwlLiuGMUIY7UJujuXqiA1V/INXtEQVF5Zy+ZDC8XLpIfAcnxsy4uXL+Gov0R6W/k6UvQY3lkd4YPol1QMOpJpBfyAbtQCIWXLoagmpRQ4StVOSnaI1AMQsJUg0ZpFEPSFQAG/uKolQ687mlqW2VCo6dyg8lVVyOrxdS0rQE89iohle1mxJukaAEN3UdI8Nh0BVtvzAFoFxCrxEXz5ulh4lPKNHd7jhXxqIghagje9YmV26JWvnc3VTZDsIqd9qI0dWVE0h/ZReuxPnlQLxlC1u4UHlw1N7lYwh9IzlUvHUdqpf8ApDkrqa3FpkzduDN4NsMmTJ/lvJm4MuXhXoie/wCmb1j6zHcREcCUEaHSw7dL8Z3JW2n+S1UPr5DpyyCu4dVO4aEDBr2emmXzY0bW4lO4lLuMA8xV7gaEXTYcYqr1HN1WwE9o1cwVu6hbjoT2hS+Sgjk7tU+ajaPIGaxA1d3CENFqlQ0BVy1LBW80fbFL8k35hbpuUFSVFnqVZHtn1cQIAEER1OU9RoID1Gwqjc64TP1LW/LHlR0RxSpoCiNrK7OHwc3CXDBDuDIjLgxg/wCVhCDLhCEv4XLwwZcuXLiLxN8Fy+XRZwaS2hBy39IqaaXDY+mK90/ktolCMS4K09gqXOLlWmUd2MWC2hAUDCLweZuqawAvz1LJ/I8h5teJS2vCTqFxH5BRE8xGiQ6S4DV3+QGHiOltghZUd56iX3UvSsb7RjqDxO3CEaiJ7/5y27HbZB2uNK+iLuj3A0grKE9CAAHbKhcqrYFhu44G4qDDdpyUXHWXpLl5uXLIMIcxcOEZdBm4YXWI/E+d/Ef8Jg+Bm5cJcJeOEv6T/wCMZ6+/THwBgXbn0kURl3V4JqI/Y/pOC4BI7Alw0XDZDKAo2Maro34nRfYgoAE0GFK1TUJvfDcXzUIqrFGF07YCBQaj6llEpVpUTcQ7yKrN+WCVNVKdBGlFwU2LF1A+7J5iM0C5z/Wj1i2TUIFzwWzRL5uviAGl1uL/AHT/AIIy5TVEHamXgZZgZeKrF1NywxebiouAhi/8LLly4f5LxfxJeT53gxUU8Rc2Gd9/yBcn4pHgE+mL4JoIf7kvqiaDd/G4zr/yOmM2KMbJq2yw0TTON+iW4bXbHSKlpLidP3GtPFRCO/8AzDfweJ0NFEVVAu4G6lqoW8lO5QRDdexP0TmiIgfcoq4Dd7gmbTrBpNX+4v8AQZZM2R0pU9gyxLhAZdeZbBcazRFUDLIQhhjoBm/heLi/4DA/C/iS/mfC/wDIwKcXnU7o/kbttm+ufk8IRO/7ipUg/BnZ1ygVhHYssCyNJUKsjGithuCwqLuVCLfbNTiO2iVKJoYzD+xTZfGXgNjhH8y4StQuiAhMeLGAvAEIRRI6/ef8pGKqWIhHJfm3NyflFYfaMQhLh9QKVeqhoQiwCW4GWTcYQNYMHJcuLqDQ7JcuXLwWX8b+LBl5vD/gP/8ADfwcHwJfzX6GCon+TwI/I++WhBTeozVKjXsn0zpqoOmAO63SNtYHhEVWZSR5EOwvrWtRoGp0MKaQpLJ8wK0djUm6msn/ABkZXtfYRGiRrYQmqMSAaeSAEGksj9SonErSXRKe33qPc1i5yjsEZpAHIpdQX+YuEYuoNHLhQ33LZqbzhSDaGfVz9kHHY8XBaJctLS5csly5d4MXi5cuXi94uDLxeDNwYZuXLwDcfh4/y3i4/JYwHxE9gd4VKHEemCzZjuIlt0yAcvFzTTH0GLesqg/5HwfgSypRC74R7Ulbl68k+oVVFoEKuPJRSuQ+LqSJoiPbyy6z6jHcHWC1k7OjFr/qHDI4VfeEgxxUoiQlQYLuEFly5cpBl5MXByS4fEjDF5v5MIR/x3FJuHwYzrARUYjAalnYAojWDqR/6ESGEzxnTwuUJwlDgR5LBVTRuKD6i2nHn3AtB+BC9BjuiKtRZUC05EGbhDsbhgbcsOy4wh8FEqIlYrUbm5bBvDBhtLgy4QjDN/C4MGOWH+Al5VYH5se8C0HFKlR3K5QYTeLkG/5MDVVUZjTHDFgYWoQQitxtAgllQFuVglSoow7TyYIhZyEAuXgwvXqoS9x7a6R5dDvw8wjSGLx4h3DGMuWsqEqVAjDDC8bgy8FwMJeBzf8Ai8zrAYY/C5osLMASoQueZ3llQv1jdfphmNwa/D4GFnVwYMaZppABKOmEHDFLxoai0SlSEfA4NJaahix2+gILVq+HzCNQO4uVcemDKYveZ8PMr4VKIhKwYpwEc3LgJeLly5fx6wOb+IMB8Sx4Z5x/yov9SMMMIwcEIMuXBiJVy9pUId+XYQhd40lyhXzsH7w5cOls4ODxeDsuibLwfAwMXCQg4JfyPlUrL8GBKlSm44uDLly8Fhz/AALhxc8TSODePM3NE+ks2euLPcsSMIwIoFyh36RECj9w21ZCGybQOLmqywWo+MDiWCQwXrTBwxZWJlgBR1vxJWjXvZDLs2AyMUNGDFxhLhHF5XAd7wPxP8d4ccg/LWKlRLJUMrLYYWXLly4MucxYrly553sn/DjB60+WUjT2jVf0sV5KfTonYJF2iYqfZBTLyYxbx5gwdxrBLwJHceRRlkHku5QQlzX6PwRwQ8rLha2GOVYSIrqJYRkaFlQbxW4MHaACS4u4lUdRZyWxbwwlCLK15gOLMH+N+LCVgYfExc8RLhmomUwmKlQlhDU6wGP+Bj3kLzUDcRAobsjINtZHRs2QsKWrYOWU/suAqJVRqXtMGKdMq8ZdODBLxbxEvQG2VAjlQNyn9bIKb6QiIy04VL1PIxnOQdE8TiJaPpqC8xLChvsemBRGD1Ld4YRKjyUauNokO9FYM8/E/wA9f4QqXjkRcPgYYiw+L2DTcGyEqF/aH/TxqLWwYYxurJS0GRCQyOHDUGCfA7NQ+1ctoqemEAcMHIEBFTfkzXlOwEp0dJcHBFCfcSzUIfEQYO2Voku+sh4owps5HwLdE8QWQJqWvZRBjuHI+w7JdpucaMdJnAZvBD4V/hqV8DDLqXWHLO7+aYvNY6w9EJcoI5MgOEjhtoLSfkTtA9RyeoD/AEqXlZeDbEhfXZakJ8CpWjq4CI3KAaS6eSG56Qm4pvN+/UhLs9xogvqte5DKWJZLtqXtMXUMOHqgCAiRKm3hcuGEg1FuWQgx1CGFSNzcGDkYpLMXE85Pgw+N/wCIF1hxbxC63m4ErDgxeKj8Tjkhh15aZY+HRWXkDtuO01cSOtBogDTyQjyK4kS9hYs/dysweRsq2Osg2EoVzmFm94dECGjTVrGvAXdMU1cAIYtWF16gCuRFeBU852/zPEou5dkEQi+oEJ6fJHxG+xEsWXtcCL3vUYgpQsixjbKQm5DGzKQcoJWCYuGEuEJhoh2H+My5vJgBD5OCU/JcVh+KWRg0QwxV+Zv0wJ/yRHbScWGrlOiLw2t0hEcCGKwt09wJb/xPOU67hAAom5aNMVBA101xXSI7embZX5AhlfSdvPN752o8n1khVRVR4xUIQirzExkC14lOL/pK2a28ETBGVGEUQZWowhdYaCs6GMAo7LhCESlFXFcJ5h8+YI4uWZcXXyYkBnjNZf8ACyo4IiEtg6n3FaxcWXQQytnjsrkGH3g6ZXKtWDkuwvslgt6sd0rZUIlw5Kbq9GEmU2rDVoLs2TYipV+4cwSxdMPSeKlCW/2GlnryQYMWXqE5JaA+oI6aN0RQdW14I4EKRWIQIPgjLbhdqoSpYSs0vOeJWhIqg2ynrk4YXUouL6QaW41BGrg6nX+HxLefkSsnyZUI9lkPg/A+DDJPEJvDf7S/8MXN0GBWoCo3GWmvJgSR8SMMGNt7lr4K9JZIDdMHgAUBBhORqAjZ6MGr4otphnV7OpK1XkeSUoRaEAC0vtU60VVwzVT33CKiHCEQezihV7hQbKK1ZDSWsrcW0vFENoEqVUJ2Kgrl1q3C4Iw326pg0SwiNgxgsuBOyQuNLjaQ2tkq0WxGztbyPiMv4HwH4XL/AMDD4vwfg/Ax5hLhQyz8sKvy9z7wIHGHLhYABGoY090laDvUvWXLbKhLFq4EbKafMRRT7Ox91thbncpYpZAKiIQ2wwAXpLicVNfbCNqdUItk4QZepRLXVwg4YlNYrRl4hDDDkAzUYd7bnMIw3PJ3hiELQMAAXDaoLhDAZvFy9w+BKrW6C46oZdDuIJKu6JuwCCk/wXLxfwEzcucly4suXeH4XBuPZxgSsdyYgwAjgy5cMFdZVkEp9wBueNBAJA2fI8E3+3jDCh8H5ezhK5aBhv6r0ljUgQqMImoFioELS4qkOyoGH0vSQwYMGB1DIxRV1UlRLQZaPubu2Kv0IqEWhNEGBRa9whgw/wCAy7bGNVJNqLa2hSpegjWmCPYA3B/z3HDAi7hgw6F9ErU7kCsGBqchDWHMolqTSDio5CM3Fl2ZRqBgQeB4M3cvU9olwqXFwRAoouIPQE2jjR0iynWuDCjAQfcWQBXJz66pcGOCHwD4BUEGBYXAIzQoqqMawL79hi+CoQwfA+PjUsBlreVCqN+pGWOwD9gylAnIRU1eeU4c9rD/ACmWGAYBhg6gp3cCf9vPNZw/PipSSfSg1BfZqeeDYF1OY3FsiH4hgydSlo3bi8YuiBYzwQyR0df9qQaKJs81EBi9QiMDLgy49u20cfpiN48CpvE3dRe0rfwEuPPiuOyCMRiFtgURwBAMFpd8ibHYQ+Z8SJZVS4oL7UVuu7vPDKbd/AZZMHR3f5B/wHxqABWWccMNYqNEs8DAGhv1DCVcD2RxPcWIICgKDFFJwRB5gR/2/ByORZDV4rAlw9rbjCIwwo7gHIEqVKnMMuQ5dl7g4kIwhtbgUGGAy4sGXuXLxcGOKwW+uawA1Lh8PGTI/EtVe69SvFortXuIfooaelyvjb8iEfg4uMGGBcab6JPfFD/9jqm/fleoBOhD+QgRVFKswsZJ6YsvDRLIXKYd+B2VCCJhgy4RgjD43DB+34Zg2mLUeqBABmsGAlSpThhzFsvGk3Lly4YHBi5eDBKwYudA/wAxhy/E8qEZVY+l6/koA7NQVdTH/wAZeBwBuLVYbcQ6e8VAjtA7WFAek2bmyDDCHfhVM3UqFStwlVCcTj5mFxvVdLKsVOHgipWPfpwoQZeHkH48TgvNXGGKJogSpUCBKYXG43DFwoUty4ZV4ExepcvN5V8nDhyVhhqoVnLessQ9QSyygCBAx01cD2wYI+YqpcWVTwMC/pZXPuNccZJzfMSWohLxU4RgQhLgxh8jFW70hqVs8qamFZXDAx5hCLFr4EYv8CZZcIfDmSOah9h+moLBD6BBVUxM7m825GXLly8KnebekIWVwFXC0WXkikdhrbeBBVygnKuWnWWXsJQFQxUKMBayr+jAhC38gSXn2I9sPYwhDGvhXLr9BcVHvMGQhD4A+KwjOtOteRZD9wIufzFMGRhHA/wj811gQ+RkhGZYUD2sDG3YWgMUAv8AorgvYTtYQzUM1ioEalEqVOjQn8IACGxaxeQAs9Nkv/4TTcplMCEtDiUx5+2dx5VfUf6MS8WgLxuFy2C5yMauKv3wYUpq/MMRsNXkZoWSEt7Oyv2kCGEhcWDeTD4sHAkHq0nE8tcUT4aLsjz17pg2rF3UkMEI/IwwZIfFwIfCg7TBDBgZ7I/qUz4LiV3i8mQj82CHal+MB5sX0cjVMNi7jP5WqcY7Qv5hFk+xuHwGQXKkpplQoNHbcvQ0wj04CB8PTC+xXZkRibwPggmyNhPqJ2Hcwg40LjqjUxGI28xETocFxi030TWEVRqpgcmPaAh4YGf74cpK88ZwewoshQntEG/XUn2fBhqsNvVLqXNYOZKXg7GGvZLM3BMEMOjc/wCNDeKSm6e5bnjYYuBirESyKJWrtv01GbX6EM7tdFM7JJoqyGDmD4kvF48QvNCSKDaO64T5BQdhUV74Jf2vqvijQW1auXaTSG39woCcrJz4E3EVP++VljjzLhg+JEsnuzaWLniVuvpyeR3+ErUdijU5dGOXvBGO+Fa/MGpu5QyzpYA0Vg7hYwv64nKVqdqIubicd1ASvQsLLWhBh2Ax5Kht0drmKSx8V/8ARKmKl83Cf6qqjOzZTYuDF9YulDBgi+kaBTousLDSWvmJSNRlVO7kKuB6JyaIPwyQxuIWosTuqLd2TdvSYX2SX1TYCUGbrsP8Yhw1zuWdWKSbsTduMs1VgfB2vheFYzwpHyI6lIlWt+Zc/W3/ADJgSotpwXFXzjsMH+AU6q2OGzH3MKf5FyKqOi4wCw0NxaIdwTxKU8qhHBBwYYE1cQ3l1HSsdOrE33ZDwQXUHkkBMY0hgqEYeJsurC4Wu0i+H2QJEEZ5o37JYyNGJqcS4QEEEY+RfLBBafadQIjmfhhioQwY60H0POGkESxIYBdjjciovAMJeK1gfgZIySgLWE6FpI8Q60Fz7s2QYHZfB6Za/RF38zXbSthtYO3/AABDhy8BCBCM4wQEc5/JHFwxU8x8YMED4XFGpofaC7xKjEkbby8Q5KJqG2DKt7C9Q0GGEWW/hC8MIfEoQNDFIU6J1U1b0fRcAWWh1uPBvwN1kpCDkgvyAdQVoJzTAQV7raw3si8ZKhZARWgjee6a7pcNw0KPuQ1wVPxHyfEYJ0UtuVLwlqtqTHaTcY+rbb+whgUg8d4PgkUBXQQEojxITsMV+pUTvrQgvH/TN9NkPRLhT68S6Cv9pAyF5HB8GLgMGOMADBuaCP8AkvO4y5eKhLhzC8vIYIMOCQg8wziUTcVQViQvMEoq7ngO7WMCpU2ELueIyokIYsXwLYB2/OoS4P6d3Oowx4jV0Bf61FAA/wCgu408OPo4IlgrWeH2QhkwFGm6/YrmASHVVxuL2HhewfmwsfgAfFvV3NVCVn7IjVUJP1Kj14J+DFhe0dpTBlf7i4ZrZCAwrK7qDpPq8iDF/Gg+EH4uRkzrAfX/AJE4l6/oi/LzgyfJlZO4OYqecN1hZCSecEWDCXOJzLiAKv4TFQN0MN3mHiKDCBgNkIhwNZ49hiPo5VmeOSSh+IBHnSSfleYI1yn4IxH7zht3VtHBhhhva/jVE/E0fJ5GUK1D3Qm6r0XCbykMsznSYcNdIqYHUeEppBUB0VheSDtQ/jF1V1X3ccaVaI/QfLhD4scEGeMFxfUtQIqmcnz8fJ+JHFy4S9y5bmZIpDAxhyErqDO/aGI8NqWMOQlxXPGCKBWXsEZV/qcYqLs+karMFtKJbkchHmQHzfknNlClCh1487pDFANjnwYYBKSAABRlt8iMri4QtQQHCrup9woSi3YMnxPit02CAWL9Y3V/1IFEdQyyseHlfUejNgZXeKcHzCefn4hjxCBLrBcv4keQh8GGpd4ANy5cUP4L18h9S+2OrIuGiXcTJ9PuA4y4owgXVnkMrH4sJdHM7aI2OZ8YMD8L+Ys8CsUPZbeNoCHpd88eKUzlicAvB8K+B8BTQnIqPTauy/UcD/Q4ygj8UfjC2W9Qg44wM7dy0Vn94mWA3gNwyYMObj2DueYEaqESD8POB02APM6F/SUA/tqA2J9BjuOTJDFYYYKwyrYGsHTUdlpIdje+6vMBn2xPMLm3w4eYr32KRTonINRcLgxYaiwFAgCtbYCDBgkuXLwPtwgI6helS3kC/sryS3Phdg/Aly5cfkwxzKD/ALOrimFtgP6Eoygnb0Ny44BYYK1QItEfD5zaW6S47i1X6IRVybLTokmmeYTh2LjN1bD1INtHwwxeFwHwJxgcbQCMJcJovpIaXC6v+DGE/wAl1CbJK9YMHcHJyURvtald2fsADD5G8MMnklVCEITfp4CEipPosQDwl+hAnmGCFVxo7cqKsIzpf8uCKY7/APSQLqJpPcoxRKgSoP4Vp8EKkt5Yx4OLr7l6/wD1lSpUqBKiNwMORQB17iGanxC00lROSiL1wfgQxcuXTHaS4MArbbvEW5j7Iz2qx8hplkGG5QYTVLk1twVK6/eON94iXBIxO1qbWW6vJMfUouqBCcK2olwcayIxwYTCtQrJhgbiQML0Cj1/vLQRTfa/2B8hN8RhFd3V0Rd1XqkuCD3H5GoCaTwkYfInp8Dv+SuBk2ixl+/AsruvYYIhTDBL18hBdUV0i3E3+g1Ko58oTJklzIFPrfcT6IsoSbDzUarxL4hkz5MXDSjwdX+EJrg1ZaFbL4t6pfaUq1PwOeO1Yi+hEXHdNJ1en4kAigiDrj6GVykWy/45DAQbgTRoUPaiuIr7QtpgcVTZNtwoki7K6YGob9sXcIe1pyuJS/8AKLMgTArPicCXjzGENEw8ti2DcMLCJqUBVZfGCMrag49JfxyH/wCwYgiWODcpj3GdxEiVS8o/yaqN5QR/IBsOxgsLwYIQObcJ7g3wBdBBg7QmKshkynSGjBoVbHkIal0RoNny09yBI19bKYb0g1cYFiBUj4GEG1YSMEDdxeD4o7TfJCr5FQwK0S9wwtoZq5DG2PwlAsexTN7kiLo5uEF0oX+vBggApoIobAK+SLlgJ/fgSsfNgtlpGkbRUoUVuqtK+BFTCKk+0etrA+ZUjQjG71A1br1KSqeLDwRM+JTD858BKJfGBsn9AiBXw4KC2bTzj0yrYeaIVf5CXCOGxuqVZXNTvTaETI8TJj+Yr5J5bWphf95R0ADtfIfgOV4MGCoJ4gCVCdFX6YYVaUrbuCsCVBprBgIFYITpH7iv7vqJX8Wge9lZZFhCVHfqU/Gc9YCnAJArNwhLGAo/SqHEITugWXRKZ6Mqd+VGBsP6PqBuFQ5Apd4cKUWo1BlfSFT9YCLIb6npub4DCcZeE3Cfavj2eYDJ8BWEXKVChRN28/8AQl7hgjSUwVL2XbqMNiOlX6TWonwBDCKm+8s3WKf9s8SmEHCGtxJoM3CbJOQawPgVEKKI9zYfAnZBIR+RTEsjaQcXKhqtJeE3yIYXRyLCEfUEOgRIPSlwhdhOwFgcoYtQjyVVcTm0IKtPWntsFVQsSEWFItWgd+EVqcxEWK6rrcWsuHCeoIHOIhdllQJcuW1FhCLRC85SoQ2apMTc64EJzgKwZSkA7TSORmuI1OBnEvUpqWAUjgPhWZY6+JsYyFdSFE/PsPTKgrWnq4rlQIQI45LUDov/AJBorrZ5islVg8nOQg4IytNYkAbHotsgozWGxhDBgN1tIFsFCC7fX4ROk7FH/sFYcveFUFS2lokgrRLmjEtwbEaLCcVxEiF2xjIU5BlcfZUahPvWoU0vdkGgLBvbA4Il7QISNE1Dij7iBbSNUlbVgxsWWDt64D5dW2J/4TP9tJhimDFkV4SPNd+ghTk600wjk/8AFhKjaFSUSoxzS5FEB6PsmpSTcgjDkCnCXUcDkVDBYMMLcCEGOxuXSW7OI9CK8M0bKm8LVm63VawsIZaigJvHTN+Ng6o83NhwH014lXAhCoYYci9GLpurRYuH364tx7H/AL2HQZTsFwirUIbmnCWlgQBASd/jYXPEMLKCG3qDvq3qT/5cFpWO8gbBMOeOHX5mC3Ur7c7ipNB3/olYUH3FB+hUAAn4R1CJBSmXYfcdW1cQE0u/i9MRsR+9wmjPr4ULK9kV3O6MvAa4cGg4RYTxCOYj4+WEehUEB9wzOAn9njJlsGnssNb2bzwE+ZUDPoqE4St0QaIRmou7/qOl9y8IsT9WpDvtXtIYPg1AhBcAS4zzCHYGEhBRs+oxr3/2I7kFVynBm8VCNlrVvKMyt2tGvdQlR5KsIR71pDFR59j6YQy4t9CxFL+moF8fBJ+GpbqgtIaQlG3nTy+184IQlLS6btwj+nJowfBINbLBCJyLPGCHdaQ+9iRT1uCNBAZR3TRBIUCiPw5Y2P2kXfmHtzXvSeMFwoFHkdqG7mciYcZcFIbElDtBJ9vhhEuEdDA/Ay3giSwrppIwI022gwg9i8E8TXtsg9qG6Yp5UMX9cuGhSlj+Q/rY/pK1DuPcIQm9GqPEUN741CgHtQlRCdwuq4bHk4DoP9jpl7QvUvq6VcLhsx7aqJBo01gIXmoSwNwrC2kND9YLad5SxBR+IonFsKbP7DyCJYmCEPgfG44q14VpOV4Z0VvyXOg38SzCraCsGXCGQA2rH9twLPZGLvtPHAVkgY1uKtOrO6K7CJZ6hV/Rmn4CN4kH8JUH26q7i9gJA9HzHxEVtrXA6isnazYYoXPSCujDVem+zT2/2JUp9RRGFjALtuvMm5tAGUBIHCMCLasisMIltlCHYdTOiH5CK4ym+owSGa76DPMvUDcESh0y/JrReSWR4KrMBWtm4QJ4l++wECN/ZuUlV9QFtH4wYeJc0hBF1F8JZxlrjK0p4eAllkFQZtmmBcrEaXUELnxwjDAwytaIDAJaFvlcXHRU6JZDRVpGz8QITlQYy4Sz4GLCDKqkfEpwVuRXKCIJuNsRTQ5cq9w+HceKEIL9CUTaq55VcVdTkMEIpwbxvZC9mlI0QUC70FeIQNtvSMIZ8KpYT9EES1TRhQmbepv5CWqwGppC9XLzbc8Stb5m+DVSvR+sLPSUYmIFm5tCsK2f7IHG37AhqWaAp4FlYrleoHyLgmn6wQMLuZVPXeYI4NrRSAI0N8hZcqMEubC+UQukFP3gYIYobJVbZoFNxleu3Sp+HDay8pVwBCab+IlUe5EqZY298NlK6Lu+jC4FTY3KAb2OUy5LIwz4jydfAytW+JepxPMdGCwc1m8EJuqEHY3xkLQQpuD+w94rE+B8HjDwA9VvbkhgC7irjoEssx2mVXEXtf0uJIANnDGlEC+sMEXLWnLXdBB0btUKr9JYYMHplEewwzyw/wDay/qbM/8AwPcR/LB2wG6mnoCiVCMIQu0OLDAGjnwIp3VCcBHaQHr1p9whqaqO0PgYFQxUJcBNbvSa679lVbRp2oGlwwOCPJWpT3GgEpEaXiYsDoWLaHuEcjh5ghRaJqOQt0VR6YvOr4iRKKyPWwwW5GXsvFU5GDORAeVLtOEND5vFRDocLBxnwcIfO/l5wll4TZgwEMELz7Vc9MVMEx6bUEKgg/2zxjSDFnGKAT7Zcn/6nub/AIPg4Yf4GAoQWviDz5oHYGCieKZqL7l6FMcBPEOwTDyHY9IFl19B5Yk6220CxeVd4CVDWAjsniOEA4iQBKXqH/gDD6MOawwJUZI24i9Jl87EOpa8BIOob+JL+dpj4WRDClbB+NfJCNHt9eYTiRrn0zSBVo4UL7IYM+YwKyzz8HIM3ZrJC61oFAL3muL86lWljwqHEupwQxxgQGWeCUYv4k3b3JM1DAYI+PgYaV2M9Qr4FEVNiWlv+SkkHgl7wSsAwMVuVAH+aohVSvmXHqE6wNggagywJScwv1paj7W0Cl9ShDAbjcMMtFAtlGt+14PgjgvsEP0jnZXfcRWlaAt6w0wzfISz90+lhf2od9dSDAYOQ+YcX1pL8viIMg9Igf5cAoBgw4IzVyiNH1HApSHoYubqXBfZc3LgkGGSEv8AG36X2PpVsCfi0jgqSl4cNYHccRmprxEgIk1/citPcE+RKgQ+JEkDtJzDjxDBHPMHZdy4k2wRwRfFw33LqWsElryvVgblahFhGEGkha+zDDBKtgYcBekVh+pBY0J0IRm6V0ehEtSg+54wQ3AlQam3+ujKTZFSkEmnq28EIQljJf7Sy6JNLY/co76KBP8AUoCrPkYbBqXAg/Uv4tOotmqqF0Qg6i7pPMy4bfWHDiC4PKxQqr6a/YLlXXm0N5/8Ed0W08D2QyQb7F/65D3nF2BiburxtwOwFwhOUeRqALrDVuofJ5jtIMckcED6i9p8V1HqmBpj8i1k/pUBDHscVGPxIO2Vgz5gRAodPDHg91b3DLi8uP5BFuoS8GKqIDKrDRCq/WViNYZsdOPEMkSBOLbJ7tj2VWfT7gQ24J2Iu50LVkLjc3BYLLblxCJUKKAqXBly54Y3C1RqXQg4ly3I/eTfoelVWXCotN3CLly4XL3MnXbpYUUzZtoMayVSqSDBlztwZcuklgroVfxKYNg217Y+sTE1fSUxdHGqijHUUnmFTlHkYL6wuLqpwZushGoIlpwgJaz6n/vEa30QQEScCYstqADRKlXpCKd/Je7Xy9QIJBt9/wCAqFXF1jrPY5LIIogqAEu9jDkDc8StfAu0WqHuTxhNcNenwZMGHAOmFwLFNqgcHAry21ggDW6gTzVRIEJU0EKlE7KlRommpUQcgEqBKlSsKgEqEIPrZ9vLjhaP/aBLqBKJWoEqIEYgFqCl5Vrp8kCBKlQ9RSIPO1G63A9EjYieHyfka+4+P+5L5vwOG2txtqIxshbULSWqX/kQKGpqsh0jt+zhTp7MRClPYNsTWSTRkqSgmwU09BqXQhi8GGWEX4bBQgLLfVINZj6Yd7mtwY6Byz2i6325BfO2JCGOQiTxKsRRVpUQPf8AQX+wIeYECHhYi0tUG3yTmFn9iRbHrqpTxDQlR3Yi3S0FvXB2NVgRjBl/CjBmodylLi4N4LDwa3r/AJAjTVt7onA9WlahX5cNRWEsqql19MaKeyJcAluLe2P9rC4YJSO1wop4rUBVgvsCoh2wVLnMAhiowIOiLUFeFtAlaR3+aJFNL4/TCFmUXRcV1ziSxV/9ouVnkrKepVzh6j7yfRxIYO8T0/GpRKxUHm3gdVlRt8LVEo4f1Y7Rz9KUfoT/AOEG8PcFijU2wUebpY1KW1vUjU2FjDA4I8hB5P799Sph+yVpXaWK2tWWquVUML3PEXZgHk7GPsv0vLQbS1sIN0kcjCkXBlYsIRm45YGTBKKOIjHB15++9ZrUJUJh7x1deGWFrUwAABRgTzjpg9QHOF2LFNCKTy5r/rj157KWD1pqyJhhKTgnLGXnvLY5e5YksA2xQ/ktHRUJ1iR7bBzoSsgkC6lhoWyHZococ7awSoIpg8sqjbKS79XAJqMGEqm5kEjKja8oy8pVejjzKimgAKnK9RE7EmtD+kEBQGglXzglwlp4TcjTr2Q0CNJZujROIwjCDHpPKPX5BoUTe0cIIBmxRcAKDAyCMzWNGkF3AVaClbgRWeUXLhAjHcIcigK8giayQw6LYjV4polCueEgSxxcYfAhmr9FrYRmmVsMCwgQEp3AHIORIYB1a/eSxwwtIcmil1+0OYk8RX9IxhsSE1/xrlNpvFYeBcEuBRW6H3F7hqB4hw1fbuIbfn2LgwNAABq0UVX5OWX70jrI7Y2bHucIpq6im3swBGqgDgQdTVyion/+Qed0GQ+wj3yw+R4jUnYf/DG8EYQXNkBuVqVDk3wFEcCEa1alLPqAwx05ioEecLlBFOGz9IYCE4BMRKO19tqkCBZyXdBGdKVz5gcLAwRR6QH7UUttgPRhdEFVKNi5IQ1rEVmOGFP3L3LsGwwyq7l/5DcHtZX/ANmAtztEhKwAjyRQrBAjed2Qr+R9brvrEvkBVB6gwPhb1W6+cXZgxxyhoi3/ACWGzaZUwauWfQuGItvgC2ULwRdCKHrOD4klSoTgC1Z9+9yQuv8AnwhIaeSUwGVA8iC4SVDvDsG3FWQAM0n0yjMeIy4WymbJ5gqDobX6MDuxU32DYmzfIm4inRuELm8W1KuEtm5ctqbYLLZbB1PM8sVqon3EPmBd6ifrJ0Vpjj97u8AxVR0ADqx1H4nW26YP2areQuXEECiLNfBWxeGQwi53HWDzeN0+3JoVl3TaXCEBoQRHyMNmra3PycAE96Sz9m+Ro2sQtCbik38TAeQhKuBPLxe91pYqjTxVcHk1UauGD4OVpi1uW9PIpOOFSfaIsasl+lLMXaRTmM7/ABqfMMuKCD6Zg2bYp16E/EQCFOokFogtY3EisCEojouBlI7rccr9DTmpWpbxVbXc5Q+lh0FnFx0m0pHBhsGVAwoLSbXxH0jRHcixqircaVTouCVgwwymAgSiJK1POHTMr+QaQFgXnQNQpiqQbodV2iBdq5phSzBL5LnQgO+Am1v6JSJ076oSQvIpvwWR5ghnSgQooB5Kgagyg/8A7huCKGiqAeCLsITkuLhHqAC2lWw+SU/vRsD61HitpFJ+Q8TVDheElq4DYalgfeHHXi5oBdNl2S80fnZDvuz2MIQwZYzqJqHAVhROHX7Yqr9Sx5jdzeaA9KOBTm9cvjBfPGFFaPr4FICMImduvSOsoVrTK0VzAYUCkUfTBjLBXlWaT7tCefdS+8DBmgDTpzyVtdEAZasF1HsDKhi4Q4VI8SW1UVudKY/ZIcMD4EIKyg4dWDdLVq6YGdGnMXDG7ibzXS6KldH6jJKyDTcp/hWDUSCEtcTBgYG4LS71hNxymwIRJoXBhUXU8whggg+53gNxkfZRrCAVbSbrJgjCMBFxJVivy8EIBKS42jCeRHhaUIgx3zrQFgVLDVlNfTyECGegLaQdubLoDDFkWNWN5atNlbIxjHk4YOm+8Os23ZLEEUqNY8OOHcFcJTVr7uC6byrJTvyyF3ghOCC7wS/CPDpjPjTM5DAOLFA/JfZAotIwZiu7LZc6PWSd2HAtYMQKvWEHNlDtHxDBNy49la7FYAZf6R+AfC0l2IYCGq4whW1W/RT1DFS45VBotQ/2XubqttjcPwFeK5sHZYCpqwL/AGU2gboYIHgA/kYQhDAxpVn1RFXIqsE2qEeTLCXgjOigXZEVQg09LhhhPEb94ou6wQyaVuUoh6absjlLf3kKzRg1CFFsXqPGTOrhKngLbqJGRbjvH1NWOheKmS1DtJqXBHkSalmAfm28WqbdsOYY+NNQTQvTVwUy+l1AFBRiodlXVKJZTHTjtGoBuSwMuRZxGdYLquFc9NRfg281sF4IZ8TiUta3gl7MEcPZxeLw7PHvpBCE8zrJ0VaFMKm6t3/bDkhPGLjKwYZdS54y7lRQ7DBL3gIQgQzomeHiMbQqNbXqPZ+ghO9JccPUbbCKi90QBXmKdhHBf88SKRTcqUQJ5xaQ0Itr4BhFlpoe1goWlg8ioKrx6QFZ9nkgZonRVfshSYBahyMPideQ0TT3btII1cuJDCI6Rl73Zu+IIECDtz5Z4yQEHdCBBly4O446/SV7/rP41FsQOxh9IkcdFcfazpLr8fQwMEW2qD3A2BdjsJWuNr+RJXZzAd4IkCEqV8HJmryQQQDcuxGdS9NMXCg6yK9o9MVJXhpfwhLhFKsgHhh5zLt/QldZrjR+7wscwbwqb7JwRBJcSEMsD6RnIH6w5E/sA+Y9hHuKlSsGeSyh+kq/SD5EjF6+vFymYVfgDu276VKAHVIzSULClpS5D8lWwtIlwl61Bqcdimn6Alnx2p7Jb3B/QhLIdz5hDe6VrLqFH8ZZaP4wUKmrUMpDBEERLJaol67v+S5X17cJpf0qV8TY6UuroZdwF6LTgH/fL/IeWbtJ/kXbgbp6Rg1gYRtlUfF+Ny3Bghm4aNEuGDDgm91n7BUtD4J7IYPsixcMGoEepfTKieEEArPBCj0ySKmlvvIVX01MDGseGAh3TfxMGdTpSFmxgdJmgd9vGEWIjioHJROs38m4yKzVIwIvwQqHItsInlabhKMKijcHatvYRmVqm4SsHwB2pqUg7gwgjzFYvAw3AYDhGNzutWj6lS6X0h8MfDaABqJ0SGjmAm4DuWxoWtB2Dx+W7eWngm0m5ubJeNwjd44YdTcLlsJcNwuUFNbl6iiQ15R7ie4vAg3Gqw2XCUNk3raF0GPhUUVqELFC5uf2spA99i2aUVjmPR95PwrCpbfKLjXaPsI4CEMECWrPM8eSQjALLSyXvNRS0rBQq2/FRSv2FwjDSp5JVGwUfDOaix2QwEFx8UC2waKh/Y3qVCrnvBCVPEZVSg8kR45doFhfwo1BNsvABEmnHnBDBUPhrBAr2/8AZCx0/wCiRG0X3qVDbWTFYN3TY+rVN3QZOoNrUG76Kd5fE+sLkhGGNfMVghgTJ0otCldLbumqsj4q9t3NaZvWMDgB1QpGLPGFnSJFaPph1Z/IAOR8o6Yn6COHDjdkqdIM7J/kAkG9fH7Xye/NJ4723Bx+Obhgi6sJXyBdSnQiMbek6MEUkpDyPErcI63BiQh3HnFwuJKFlUb8EJ0k9AlEuV6bgXehyNnVECgZ6+QfC/cnfl7MFVhf9QjX5uQhlbwAfVsIhONBYR5I+C7b3cujNqPKy451hZWbl4GENZo5dX5l2gniDKqaDf21PCfHXDBCXKZT8geqJKKaHGFhruiCvGVL3BLCEdEec6wa7iprABe8DGGfOT5XHwFdTy5MEaMKtcEj53XU9+ZRwY8S8LFhUe4G7jBCGLh5dK/8iK5XMGyexGO7S/4sIFXgw0o0MUroXKIEaZe41eDghKhCGKu7U9cFpRt3JUS6gHfxxeCBNVCEPUvxfIxFRVaIpqLZYJjxDGo9MEayYr5mH7ghrcJ9MrucoQhgvQFq+CfkiAvwQajaCgv8SBFiVCMscaDGslFi+JT9zQM7Ytd+Mc+MX8KigbazeLxeCDi6VGKeiCRBe7MImKF815wQxqFqwSomzBgwLUItYi09PQIKuwh4BXhTxOr/AKGzCoqlevrAWk8MK1Ye4VkMDDFQFGzQ+8KMtXRbp7qFCA2nU84EOwyT0V09Kq4Iw5fZT1hlEdpBgAABBw4XfwCmvDThwwl0y8kME7+Cp7L5DpuGq7+hcggndiIViIBLIfmWG2GjHkV8XQQ+WpYS3xNp/uQxzWPOSP7RqfZCeBR4MLIJlymCEHRbn9hucQ3/APyFLWfRLj6M1BP7NHSYAE4x7CKkQDzcXqHcErU4YaReod3Tw+RggX4nmLztdr2EJW5UsGux8r+wnqdE2lNRwR+AjlQsurqCzqoeiWJD3OocwW4XIIoSoORqArnc3buqZtzItKq8QKSBsumDhl4vHZVYIxx0gTzCEIy4ihdmfSgBZs0K15J4qVBaCBoBGXEwPQTiPz1L0rqFHEsi7HpljK1D0TtRA6YCsOrWTCQticM9C45bVlCukow0I97EJfO6KR/ZCrxGDAHWdu/jL6uHI3gwRJtS6/TKNURyYlq+A3L+i/lSrhcVOxG0iL91NXOk8TU8xh2MMPISo1pjyBhqJFqBqecFTz8HiE8Q+DURaYLJ2vQBxGETQB4PqK3X/BJfMEU4glwCwKUWJLLH4NwUrW2BPAuVB8qlR+JGEMqNZ5pCmBPTvzytQyiKdXyrccXA3AQtRK9XHVhUqyWqAI6OC4Hlt8QEWEY2giEsnnK3SE2t/USH21u9TVfjENS4kFJOp+51Otv0RcouiXBxcuomxE9koBxUMMFjKqM8Y8TrJU61TDyGTKI7gXSaNtRAsh8RyawcwQi4Qn5QlDTEVoXouS2HwX2Vk7cWybLm4oVepEBDPirjqZzejyjOfCoww5CNkueIYqEvNPbEMG4yLutfQm7CN9D+xw8YHZOc7S0ftAq1AHkaIGOie5sJl0j/AKjJVWX8CBvTqBBfC8DO5hKgVwn7wQJxNR1Gn3wIhVhY/T8WGbqBGDLhh78ENSqJ5wTVTxDszYawfBWLukNXqDuPYROfC5xOQwkSNyvhUO48TapfbMA1H3/pJq7nmX8CVKj8KlbwYIECLbLhB6ovqOXK80+AXEDtUj1eTFjuaBnLNlersF01+RXuXFEm3smd2mqAWyxMpIsINbKAKKVdcOEYMIDXGIzCPquH6tvjhOQSD+ZJUSBKxRDARIFOFbjfiAwJeyXhCahlBD01Ehhxe5qAOyyfuHZ5+Iwch35VkgzyTkCsBtYJRf6rNY3Ci3Frqaz1Zcd4HHIQv/Awh2GDKHkz9zuozb++yHB5UEyhtjVCwlcnknDcWG4sQ6b6i1TzFWaRUagA5AXEB+4MaRIC9dsFwPPCUK1kgwkN6Jz6AyofC082uKub+Sppshvi0GhpcUywbdLncU9xYcjhNzyw5hJUDBCUwBN7YYYeRm0uKhAL3Te/gL5DCXllfA5g24eqUigpyKFf92FSmmwWJQFEIwIETBGFiz/AQgwcXKPaboKQTKzPSbjOiBUvTFBcEAlT+lLG2tsERYc5EB3B1+jhhSK3Fhxf75z3/ZaMyvtilCcr7ULqBUq+whQU8+hgwIJvSyWkr9HZrpKDTmkRC3hH1kDDSlh6E0H3lLYkaZUasSx+A3HUvAZO4ZV9ovBKx5x0+ADDk0TiXlqKLWeqQGxE9nwD4EuMeQlEGeI8wMvNq3UfiMIfC4y5dbiRjDDrBojr9EUWnJZG71BcSfSUJLi5AKyN2kfkBb/SYBofyJU8SrNzeV/gZxl9XBpbA6A+XcMXNjtnSyWeMG4kEwRgiy0fTBghIv0eC+p/4Wog4YSoSoY8SsENC6VOQ3FVgw9rZoN3rD2L4EYY8GGxUp008rKxaPtujfVvAXIjAA2NH3XmCDFNYszqoaZcvI4sly4tVLly8suXCDBzcYwopZgUVCLUbQdnQ93FtQSj7mw1CsYfgj8HkI4GGCVnxEOiw1gw6L9xuaF3pIaAwCK11YvljVcpdQqBN+VE1XhBhiEZu56wdwZKRoswJc7KlYYu8hBHKw1cNQVm4XNzdwgONwor7bn6hddiLG7FP6klUREYG51K3EYjhoEiLPZplSsBPEcKlSpRAxUSVAIBAXKMVhIhLYVQW2y4lxIICytSBqXD6ijSvubjTUs7iYJt/rGMMjFhHBIfEjiiVKhGRUjBQ8LTT8lClfBqMbVjxIYXkrCKQNE1cMg1PEtfLaJqXqMuoYuGi5B/Bh7DkGNfAgQIRat0fYrTTMADokeWdPj7qF6ZR9DuFxeGchBbFDUAYVRTT7NixZueIVA+TPXx5CBC/gyHeojAZeyL3QX+1wuKykrUq+5CJpFjdKhVQLdRh2FAcBDBEhgiwygW8CGUT2OHAFodLz4g3CQ8ElwyehcrmDXq4MqJipeDU1DuCG8cXsrcvThyssu7gzxUqeYESBlhDBNpTseVNRBumIfeaE7YdhIPS+JUYPw1AQKXU3Pzdq5W1oQVVG1htWtcJ5hL+D8GHxIwyOWiBZLjdMHb9LZp/W7e1e1lxwezqHCMK+xAWaAz6oFS40dxbfX/AKynwYRYRwcEIgiMSK8z2p1mvlgzcfsl4XZV9TfrW0W2whDkrYa/SPAE1WiQporEgYXD9TachDsqEMDbrVR+JAxXaVYBiqOzPmB8C8eIQwZIFJEmg1rQH/dBlgay3NjWeuIW8mdlMZmFrloekd8FEFIzxDmD4tx/wGb3LlRV1ETqPoI9O5dhSsOV6cueZ3DRAAhCh5HZNMEHSC7oi0xW/wD83GGLlTkshzBGGDKGPqlfBNh2mEdgm/N3GUk0sO4R3A9A5e4YSpUDcPgS76jCOFhht00S4OftnembZu+RyJuLtycEYQMETmmCfaqBN+Wgq8rH2UVzi5WEMmFS9bajUG++gvSQKGtvS6Sg6A+F1Lw/A/yWk2DB5aU4j1LPRKRMr6SSXFrHUOR+byykMJKo/YhfSG6uXDNG9f8ApE0fB0L6I6qFpFak0R4beYefiMGGGKlRoVwChRmykLsTm81O/RDDLjArIdnmHcPJ3XHKymNxZAmid3GebhcvWfU4hdQwQGnwrDKMI6BhAJ3wqam2B9LMINIi/F/Ie4w9dbhamvC/0xpInZKL9Aj3DCPw8xhjuTJ8CaK79+aQksNoNN5I9b6mtRy8w0TiPZ/ZY2ZS5c0jR1F7lyr1nH8wQjxip/kjHupPwAU1Ww0LQhCHxvF1HoSlWeLjl5jW1UiZeYdJp9K224QjgwkHUveL3jxBviQlYcnYcYm6lYaBx/wPMmKez0fT2wzJNBUZTgdjNR1glZC8Wg86KhCDXSqvs8M2pff1r1fw8/BY3H/BfyEgIW/CLg+lihwRCbtRYsXU8JwQ5EPCtAJV7Z1Rvyy7sNOqT+UJ0/TNpHE0sQGHYn7DkLlwG6G+pQok9dTghldWz/aLkMEuu3ePOg1uiLp+S3Bt48+yEMBPhcO44xlxNpodR8QwStStxumACIYYTV4MM9Qy2ZzyU7BH2BpvDzKoAuToem2J1nMecPZdmItPN+4obLJSr9gMEvccdMsecwaxeLxcv4m6JrauBegpVrfpSbz4t5Y/koBfrpFjK2TQJ4mgWjDQksIUKPMtGvEATT9yK/hwlTQpesMlUa30YOCEITS/wp4g0OovisGGEFVIHlIQiVGlkpW19AYWmm3wcEYQgRwO4QN4o7LrxB4wwRlzhhqL2G4YYczcGM8YMKIO/wCjLWJV0bUlquJVoWAf1P8A0E26ipdl97gyu8MTBjcd4fg/4l5q/Nl9niHAR8C4Q2N/iVhi2eSHHIoOLg7OUYIpawCoAbHVqNvCbKWIKfoS4f8A6rBgRgyHUtW0ENDShjtkDCwnlA5H+JGWA4/mDFQtZVQZ7fHAWQ6UHZ8EDDi6Jd8yYMM1Nb8IkJepaJqVKhDADBMLPEGMKZ5jyHIYGchuovlx7QK9q+N4KxeF4noHZHuNR7m8lnmDyal6ly4sAGDLiwYpHrXw9L8zT/oBf/7Ch80BNnq4scbMdCbQZhyv/JqBoO6ng5yfZBpxoM3krT3/AOOWEYfIY7CGAgWnmoQfVLlSoE0QcaGzAgFged3EWASvB+IZscxU4StYvcWGHksF4gwRwzRKaF2Rl7YMJeLjBBFstlxZcHG4XimUy0sXpXiPpg0R+p8RSzcpxUd4TFRJU8yoYVAMASiajBsF7hdDiIsHBvS/vRAt8Uuq2YTB3OSHGBpmgXULmwlhXJWVTcQ0gFI3d3/54Iwl7nT47+LHFy8vIvjBD2M2CVPOV4HHlj2GVHqtlwuVCVTFUtPgXfidgTrC1coqBuJgIIHMFGCMKMsMeYXeDBP5CaMhHiJgi/FlQw4PjcMOKGxV6j0we2Gr6X2JBHibe2XhlYOoQT7ag2BjW0YabJsmoFucEdv/APusXGE6hO8r8WMqX8L/AEIPRj17elhsBQbWoaDLAjgcVB3DuO0IFVgxW8BY1ldrKWJOYZXIYUv5Cu7aKx3Wu23X2omb+kofC4YvJR4Un7FofgDqb6a7EoSCpwfNS9xJ6i1gz5zXws+JyMxQFrHerBrQeYa0ku6af2O3N+3ddI4Zxh0Raf5OTepb+oFdqN/J2XGvGOhFa4gxuyMuLeLwS4ZqMqVKw+dHbBt9NpbEBb35bguIeCUmWEcBi98wZgoV4fB5wnqABGBv4XqLCod+S7jHWT72F+LZY0mNRvxC63khBKOGkO2xoeYPVBz5j8D/AAcwS5WL5Laqnq0B/SDARvfsa/pe5uBVe5wR1+UN1+0u1nk5ouOI7REqWRbdppGEYiVVCdYOYMHyGXCIhWw+yFuP3oEXB+AjACXhZeKcEO4MMLOTZHKIwnDIUs0QJyWniWNfnWNxqsmGGajC8FWnZOjg/tF4IfCtRU+YBYuWoDrwGm2/8a6+K4NQwRi3g1N5lbn1L/8ANk3ufjv4uHGwhsmn0KW+6Otk2Ea9Q3RsrkuxGpc5YR5A1Bs1CaYs+B8FUNAT2ZJ5QivthdHKqEhDxbbYnrJGBKt+HnBjdnSp9TCMPhpFCV74iWiLFu4clSmBx6+LW/a7v4hwK5a4BtO5Q+BF35TYwL1pbembV27pWaHRD8MHxIY8/FxeLl4JXjr+SwHdxfm2NLkvxf0h1ewrSm6I43SWAlH741PlR0UyjdM08wW4qyGlAXLE+3/sVgTqStA6sWVFN7Natj+qefOFMc5dcPbE+pBNwexvW0Er/wDv6Q4pvSJSOBnISHERgJqKe7UDTafYvTmqbvf9RsUwOQfcVKpRtuIiAFpsi1jQO5E2Tolroly8mSFUFzRcNAfUfi6JUbbYCBNgaz4xcThfgQnel1RaJM+KiyLgJsK5N4IMMvirqtENYFeu1g8CzaI80fC5eskqOTLg+FywXUCBhWJiRnmUhaj/AGvC2Xq9oPi5R0hb5Ti9rktGvadxrf8A/l4IAbJT1GUZRh2ErlaqfREzKT+QVKr7hYPgaR/JUay4wBGRf8tn/wA0J4+U0VcUvXg7X7IpY2h4fsgwt61Kv41bDOC81Snzz7yiIDheDLQUERYQ1hLKlUQhgrBe8GFMeMoNdJTKrutkoqe8ji7XF4Kww+B3JolvmQg92YQEEeJDBD49lCokaN4GQiA3a/b3ghKxeVxcLDDjWCXCdnjz8dFhf6I8jhx2RCS5QtirgXE7UqrqUwRKGyBqg9T/AFXJ0QHM+1wi2HPCtymenoDDsRimAiUjAV07uIP9nO5ZEiUJRhnpkrZc7/8ApQfSX1xxD/IaAAhLzOhTtocNraDGUEViwvzDa2BH2MuDHualGD4LneEtCyPBGPH0fEFWU8lwBVGWsOBtCPSefgQ6N8RREtSx0/xJWz0+kfEDBLnmMI+VJxX+WAxbBfUidCgijXy8w+V4qPy3GEGsOo4TeBbPolxQ1Nga3HQYXXUBS3KgnuFqK92MhL6oh0LuP2ziXFSSfjHol3UWhYBdolXdS5KmuhYGNRepCC6HkcslZb2nDGiG6h78t/T4gQgbryCxhyzFGvGIJKLJ6ENIIHQQJUeYOS8ncHYq6CWTcb5gympRpj1EpFb5gjPGTsqVs+KDdOh7D8JX600dwgSBRVY/c2R5CXgxsklLvk3FDmsSNHuPbzghOjRKo+61f+xIDhbXb1hw1BlxzXzucgzxGcjBuOTuOqjo/aEu6oXLJSqMFAIgolKpb2cT1iIZdqX9iSgo8cBEnfJFid68FShGMC6kSbwLXo+2a8e1XzCqqqeseJWl7HRDJ18W/Eap9v8A3CKYYN14fRGKKRr19Svw3Pz4OSASoawQIEslCrg5KiLhqErDDDLw4MrDEU2xIpImmXeOiKLE+AQyX07xd7RiNcdFFbwVEP8AH64MahLwwjkjKw4GXmsecnr8Zzi+kvleWUPAxVMSWWyD1gOkard4CPI05GvZD/y0RQMbaPvNYyEpTZgnGpCl1EqBK5P+HxUqVK1A09gxRux4iiVhUddgRqG3slAEqUtfILnuGtwVxqIdwc64CLH+wzsulIscPwIStwIO54lNFrEl5CHx6nEI2CmOwwZc+Y1EkLqagj928GIK5UoH9DBqAKAlzz8SOfjrl9cZh7VmHArapYn8YfC9S8MuFYZcvN5HD8TGEENM1ftlNNTrYfsQIWgwJUihpqb2iuU/sjCPJRR5l5I1N7f5gMiialahZZe0ckZUYYGE7syh/wC9eaf2G1OmwohVnZJ9ZchgKxUrCGBchgrRGcPwuodYG/gfF7Aw4BuDyR19At7VCsXC4YNwlFLui4+FyvkaLV14uIQRB2uiHzvN/B+a/BLIxhtBpK3FQniHejVk0F1Kg69yn5IlRTbFbLxKQ9PqGGELcpEOwPWV2d8eSJCtDTrlwtD622DMd7tggTk8whybqXhT3a/LGXgKhHjEDDfYmywedEPMBQGWEYMKgyt4Mt32UqncFcMVGIxTZWy1lLFx+F7w3X1lIeDFC+fAlzOwF2kUHhddoV9jK8kI4Gdsz7eXdtIvUtNRzY3++ePjeHB8PMfiYZWeERFLUN3IQk4jrasqFcVXrkvOfjDXaGEaCob1l9kVyvYZC5vMbJX4VPORc1l7gUv8BbJtQa47XCZcNorDRbdbhCMETpB/A9GewWRoQC1i9BIfBnieItE8whLlzbdzxKhK+NxjxhwRgZMMFWhYnSrQEx2BorExFWN8Bli+cXApsoLNR7vuD4C9ewOW+CEUjIHwF1cYD6XH6YyHxmi3wuX/AIyOTD8Kgg7CNRgv9DGrT+wNDwlrEWBSNDTKjO7n8dYw7GXo5XUqJ6np+EfXYbfTByZIysOGwK/2If34eyafD7YZGpI8PBHd6XX/AEjOOKqgothkmohilQ7g7him2lDDLphwzcRAoIyRbYw+DLl7wYYrRGLhtEmulzaF+mUBtXSS8iVBjhUVfX8uIWEvKLCIdJcr0KdVdYJeH53nxhi1g5hPiINYaCc8wD85aL05CuycVeGWQB7IXSCgk7cEubRFDAkX6ZUDyXA3knF2R8lDkiETdnwqGBQ2PGFgAOBKlQNxBwABdWjSV4lPnRW7dp+D8AlagbwSoEu13LKhlHzU3bVgiD63Vk5axU8wlmEpFFq8cmKILuZZ+9aF4M3vNhqozfCKUCp5lH7wvB63K9//AOB4jAydly5cVQdRYlyqXkKNR1bHbOWmhRq40bMqpRBeUgFbggPuFZTL/wBYcVhA1Ni/SRFkpl+6y+QA6srKf8ERXAGvTFGvB0/c442TFZrBjsZUqcw5IkJ5lahirIEiMHPE5NCzDniAnza5YfHzDIAWKH3UH1Y13tsYLbvtufWDBgl7lxG523VHJHC48fC8X8bqObza9R6MWaWts/8ANIAQXHS9CNsW9R1pg03B1e5sGoKhaSw+ASoSy0dJHauPsRLbPcti2cJSDZLmEvRQwx7Jk90R6gN4PqGVMHmKw10g8Go9qUBsCA1N68sSN/jUQNX0wPgwnFn3NB5VuOAwwnnHGIgFlEfUuVYQAKj8GCry38CMWXUvBzP/ALcBfRDMsr+mPTL6l57n1XwMecX8DHjDD5Xg+F/C4wuVqIeDfmKW1SgogTgxt/hEaaQLU9WFvbVwSXBQHuMCY/8ALDCEUvsvUEzq67qfkKin7v49ktQB8h2S7hQoqHxZRgcUM+iU9QCeYwJUDBPODsY0NUvCvECvhevgrv4LH4GFhf2o0sTyyqyCHHjG0/cCXZUEeJLheB+bNxl/Fly4fG8nwMALVEsSyPZ1Div0I6GoemAm5bE3S6ljfAzQi1yYdwG5Va1/pg9/2TR1+6awNvhkhsliDGaAt8B4YaEJzaTidwyFxNC4CBOZslrdKd47riXcDLhD4GTARPgOsAEY/gIAIwwwZcYE/Z3DJviqjzsfE8fIw7nUNw86jeI2ez9iLX5f7AYdXXqfwk84fgOH5uCHwckqHwBlxjsrwsfqFp0ZWfJcugJFrVbWbm4pbKaQlHUUaPxSLm+VWGBXlh+1jKvO7VKygGA2CQniaaAC/rA6BPTN3+IVjzBjYgGkGo2th+hPSfxT/ZWBAwZIQiQi1i4MO5MPwdRNalMT3UtivQV7ltnuM8nxDBCBLQ01gtUGKiNDfnwX8LxfwvLLniGCXGD8L+DkBfWHf1AAVFswHsTZ9s4fVc56l3kFrZGhSQUSFtuUUtf/ANkWDCGe0uEKz7KJ5G7iEjzt2svailn7CErqJWrMCV8GODBmsmGLpwZITxhykAS5qFTUZfw3UMGEJVvQF9rwylE3l3gW3Du80yX1UimqX51RLR98rcEvHnD8Aw4MM3Biw/xX8KG3uEY/1B2Tmaj1Ok64shYHYi08x2lKxh2QeYv7KOmDBhWAcLPQwbCqDWhlAxaz0M8QzW4c+TK+ZCMJtG9RLgTzg+Fwl4cgoq4RnmOGbxcIxYhAWyz3UAlR+N5WX8WDhjkcGTF5GeIwyLLySoXDk4muvquJ9u2Ogh4lg8GKKrkLA5FFLE2eq7G3uafqLCDGGHkOfAh8HFy/jcIRhybyZMMuILZTbAiXVj7yx7Dwy8nki4fhcuMv4OD4j/ifif5KcMuBaTmafunVPdTVa5LCb7NviDA3LLt2WiFtGOj9nGGspJSCT+xcGPHxvD/jcjF4IYUrd4G+uYAEbHDHGyPW1CTtl2WfDzi55hvK8kY5WGTmWPxWL8D4eJfxus3GcnKGM/7wddn3EWB0u0hbF15jq6iIVqblw/tB/wCRwYFm+2HZuoGw4FfUHUIQJqymphcALhBwYWoYko6s8ktWAIrw/McEIw7gnnBAwwxTyGrQ2rFsuXFlRCPph+PmXUuMc3HLgxeD5EvDHR8j5vIMH4OpzKPwhSsQCo98eoXYSpcS28IaCmWvcA/d/wDI4DCEcE/rDgljZ2zChBm6uYz2loMHOnj0xX9kzICne01Lh/gH5EIS4BCNfPYEIrfeaIpaCCHcKBOV8XJGLCBhYfKo1PGX4vfgfO4fBLlpN7iAWMpKw5H+ma9QurfyKun3Ohi0Hcp1BGz3Nl4xahGVr5cjPGBDTH1QDdO3BmbmjdwYQYwWEa/5J9i2RgFnQQM3LwYOZuOTDbKRgNAWxDyxBH6cu2BUW4ipWiBGpd/4mBhi/EywywYw5/lr5JEShwjs2YW+xK7KsXtJTu/EC8YL32tQC3Uo1ZGortwso8QXLS+yjBKhGDcajzELwzcYMCOAiXCDCM85MGNZ84M3AQLEpgECgKJeKJW4k6cMDSLl18WOCMYf4FlyRwYc1H4Efi48x0ROgq24S5z5uFBE3d1TKDY2pBYisMemiI1FQYMjLhzPljzE58TKkopu9XDrjbea9S4O4ZPgtTxDBi4djBiVFpwjMdvDC44ZcXN6Yl3F4cXm/g4Pk4W5eNfBxeH4ODN/C4xGF4IRWpwRqAwbVueogNESKhRQTUtLgvUVf/g3EjDxF1Luo9yORjCMHAe+GX6VlSm2UTFdSHqmj3R1SwhgxwcMtH4EIdjhIxW//wDDwsvLZqEWBgo+XnDGIMThcHwMOCDUXD8ahkwwJX+BwmFYcn8PAo0zxub0kFKLdQNGiJSyLvbFfNAf/lXHC6tEq4+eFd/z4x8LP1ApBSxV4EajVTU0vYGDhsge2prUgcj+oU+ePlx7PhAQ4gwhhhgu8FEWXLgx7CGLixCH1K83KJfpLnXsXLLerBiXHRgy6i5XDTDDKh8rwRg5cMvLgjglwyRyZEFEOROt0EgifuW4M88I3kNUYQasoO5ow6/+06DgQT/aFx2U/dZwl/ENoA+s6il3x/SosSjE/hi4rdLoihOG45Uttf8A7UZ4Jqo9v21fJoBBg4YPxqE7CVDFxZ0ph4ECDG1Au3rAqMWbw5v5MvBk+O7wMfiYflXwvCwhHJqHIj+BL0RVL9yzwgGAFzQlS14rf1n/ADEYxqDqy9qw8Bi1uHu1QiOuloqEtgyQG1j6i+hJ5gTqFxXwO56R0EuwN7sZUSaLfd5cLy5sbK+0R/Q49H0w1BgxqD8DBvBDsIO8W2vU6lSEcmBjNzz8H4PwI4GHyfhyKVi4/K8V8b+Jhh2CbCXvNwPYBdrbOvNVCh3ZH0RC6OTXfC4SkAegIrT64QCDAVg/hAepRcMzd+FnhIEAAHglhP8AwkVqEGUMafYES3JqjTFayFcW7kNm4+wvNwammuJBjCVjxOIzTBg+KwOi+/FZcXHkhm8DvN5MODD8H4KS4SvkZHDB+fMhvDiCrTcBWniVVsuAagq/8iN8lUweBYPCXqutyxff/hGHr2kPYsbUprcIwnnCCbbm9Yr03EQovcN4vBCKTIbEsZWA+hRPEZOyW0MISHjBCMPgfAh3KjYXBsMWFO0+PnFR5B38FlwlxyYIyssMsMqMMObhi4Q/xDLhBg9/yA7+Utqo2O3cQ2QQolPUqhq2bJpVTjibpLG//NY9bge0l1ptqG6AuCOIpF+P5NwzjHqSUsPcAvC3QtQtnWTBHwExdS7yytzxKwwcODFNyoYMPVPEA1PMsqAUXx8HKxzePMYdy4Jea/xOGDL+VwnJfwMsMhCBOYq/FgLHtmwDNdXZOcYgHfJtLLpLn/hCeasdC47wiE0gnmDpdQF23CIt7yXTzJa6lHqAwYYfvZPTwRgkbNPu4cIZuXGXv4MPneL3kqoOMPvFIYvDDLPUrDLlw7/isyZc3GMGD8EyPwcHwMmLTiP6JxRHl8gA5K1t2Up3K2+4c4wL0UhCl93Db1wmjFf5cIKHj0lJSS15WjX4Mul67oGGiGAne3ynuIiK+wEC7y18/WNEJfx84Z4lsPgMIfA+Rh/wXl7gfkf5XDZhRNUS8MMmH5mSBku/3mzKekoP2QWyWtLYDbNobamzlR7XUNUeYRhKuGDThiEsxyGGMHBgxcOZJ4g/C4fIjhxqXLj3NxwZ5/hv4Pw85HcjH/IYvBB+AN2mpahVRKMqy7halieBKTct1U3H2QhHf4P/ALF3BjAlPwPYyokMX8yagHxuEHF4Pgw+D8HDm8XLlxxcv/BfwvB2MZcGEuMYYIH+ByMJTA7HlI9WX6uHVLNCbpKgWpbQqoQE2S5Oag2it/hBFwfgHcYu44fnbDLA+Vl1gnnA7wOLACFKv4Llji/iS8MWDLg/A+NfAj8RLzevkZDLBgzuED7E+iIY78L/AIJuUkZorzLBhoC5vbi2+iVNzkvgRgC0YMeJxjLz4+dRJcIw+PiBuXDPnFxgIiwanDL8Flt/4CMYCVD5EqPyY5MLDubyfAgZcE6hEq+5QE4uoCQtjcLfBqUALuBFsvzEaWM7Okq8Ypvh1GGTyE8xhFzXwYGaLl1LhhwYBZWL3jzi5fUJrG78lV4/cuBjFxVnx9/KsGL+FxMETLHHmDkYMHzEcuQm6BcIF2QKdAiGgUxf9mILHpcRdPJu/VQbKlPvHHAQR5DkOxhGskI/KsVN38CXBy9hhjKQlDDLE0Al/BjHCy82XWLzfzv4V8X4GHBAjDNxYY1XwX4DSeoqu3YCKZYVTHyvZFsa/sKKuN4S+4r2OE85anElrhgnGMMXgxeSJDBGefgZCBK3CeclDLhbFVZuayPJ5w5IYvIsv4EuXLl/FniOGOBGEMnxMrvC4J1hIt4CJ4IKCyvLuVcOFy7ywJhRSRCtS76jghCeITd4YyokHGsPYRhGGLwxhHkAqGmEXeDDB2g22r1BgrxitxYRYxdQ+Fy4MXJi4OHNSoEfk4cW38B8DKgmRjKyGPeGtetRbgPGpX0XE6QRBTvYGtMba8mnxCfygpn9AsGFTxAyvAzSTzkvBHJjXwMXB3Bj3HnDDEtWQPgyoxRZfwcEcGTBk+Cf4HFYODJBpjbxhKPge5EWsGPYdEBHZ+Qu0mxlbCQNxqCAERA9VL5DO2Df4h+UiQwESVKnGGbyRhhlQwJVN4e4MVDojRw3UWsLLzZcMXHBhxcPgZMEEHfwVlMVg4v4eZ4+JUcrhzPEQw6rGgq6igtq2Jba2sTfsHRqdFzwekegxNLfI0+kA9oMudZeIY8R7gwMuJfzqMMsI8wQnnHn4Iipog12LeiVLji8GGL+B8Q+B8OYX5rw9i/AB8D4Mp8Ly5R1+UrfbtLdrUACP4aiHRG2BqAV2CbuC3mNgr8RrcoH3j2Q1DBGMSMGGDBHDBgYwPhe8UYI4O5I4CNy8MMMcHxIsXI/Ag/A+LkwmCVOYvF/BwfAjH2cJYvSilCAaVBKMWEBdy7t4gSx1K+UspUWzFuo8QQ5k+CYJRKl4YclbhgwfBxuAwPksswHC7jhjgfAhCOSGL+JPPyfhdsYy4YWcZvA4Xk+LFDGjfaA1fO5ySaRXxBQM2RRQ2UpUWnbXia1ZUp7h11geyp+qbMFEMkfhfyewwYJdS8MfhcuPT4sOQBJzcESzDCODK3hwQhGMIfE+O8Jl+BtfwcZVDFy8Xgl484tjhHUept63RKFnfEsUgPD27iHcSagesbnGBXqX/k2/dDGGSGPEuVqOoYI4YYDLgyZLhHBjUqLRfGBEmlmFgxjgd+Bg+Ahi8HyZfwcGXO2MeY3hixrJAye4mVPkQUJcto9RvybOTYCZbcHT6nfMs8Nz9lFwvidvtQMXgnnFwwwjDBGFRgxYYJcvBhGXCPYfEBLkhsiwsyIuXnDL+CyYLwfK82YchisrDBjhzUDBH4McDqUB7lHhsjbQaqKCqCtOpZA3YwCUUtjGVOmWlXsPFyqwfJwwwRwwrAfGstxhF+SyuTCo/E/Az4i7wQ+BCX8XsP8KYvcHmXBN2QwZDF4G8RqLyqzZoOzfU0UlzjG2B2WGbbg1rpNwuOwvvcNfmx5Da8VjUWbGCMI9yRyYI8h8l3gdj0yZQiS5tngjGMcPJe8mGVZEjD4HwvDhzWGesJCOo45wxyQ+JLxohK1G3FA5ZbbmjG5qbjrcSn2Ifs/SL5OS78soJblvU/dKRl6hhhlVwwTrKjKjCLUIwcchnzihgGFSQ58LjC8hGMWGJGVv5eI9lSoZM3i6ly8+ZeRkYsWXFLY3gxWCVKgOKlEMOsOiX7OCDVeZVHbiY0pI69XsxBrZNW2DdEiuMDX7M7l3VOPM8Ql5Pim8kYXi818DD0+SEohhjPMcMvcvB8H4kI/C5cuXLxctxUqBEx1K+A/EwQfgdQazgm6QFP5Nwu6KlADTUSHm1U8l5STtLNrNIwdQgpUshhGVEJ5jB1gcGBiwjnUYYM38CMYZuXEXkCiCjhjHKzzD5MWXDBCMLlZqV8FyQcMTJGFjk+BOQhLwO4tTu6tz7RcBDbLv/cqh77cUQIKLZ9jEQALojF1HLMVj1AlYuDGjLyMHxYRww+CXC8MYRjD4lNStQRrDGecrDsIYGMchggfC5cDNy4scEM1kfATB8TBnmdRxH2azivFSguVCDVQd0TyLgMhY5VywTzDQJWv1hAx5hGAhGD8DBgwMDkz5l/Bh8alARLxW8MUMWXUYfCo5YSoYMKXKl18mXgYDKSsPESVg+BDJCczqLb9KeZd1BaD3EdXy4qCiohLDb1hiQp0oLV1OsKBTcdmWgFz/RnqGQiEJ5l4IkqpdQbiMI4GXDPmeZe3BFoIYMs8VxBBQDrGMGLEjyEPg4IuKnmEJcTi/gZeQhAlQl3PMcCXEsiZr4Dkl0Tmdz9MxLW93ODyS7SyFmuRCg8E37fEs2dZrqFbmJdoRUlwCj5lbfWO0+kcMHBA3E3Aiw7GHwIwwkTCY5qsODDAy83QD2TxhjlniHxYYfmwy/BIwMCLl5EnmHIQgwQiYMGbwdMVAdolhtiQ0zhLNwoUaadj4p2srtF6MGodIFDA3j5itffwhcYQlbwwjCXBwdjD4LDFy91ElSmCmLg5WIqdHhER3cLFxYy8MeQxfwHwMHMLGEIOGXi4wYdhvDhg91HsuCePiZb8DBGEtPsQt/1LSlwqLGzBVHq5RLYTWoxYbJABbRO0lgzfMDU4wchlNzxGESDLwuF3PGXsUuDPMtly8MXwaZSUgJ4ilWxnnLDubyM1CMIZEPiYqBgix+atZXB+Fy5cYMZe5qvcbLuVtqUWqrdR3YlLButR6mj1m9PFwUu4gIa3I7q5UVM7I7bAVEgYId+Be4wRlYI8hBnnGsIhqXueIxqEeQywji8AdRji838HD8T43L+Zi4sYMZuOLypolSpVecVAlEqVCVKg3KC+2G1eYWvC5dDxYPPbsLQPJ4SjU1y+Qbi3UFuHYR230lwjLclzcUu4FMYOCcQwYFw1hrHmai71O4WDlw3Lxce/EwcXLJZF+Vy4pHAYMvUuXLl4IXKlSpWoBGpo1PE841BisBhvHmchCuR1PAEJVeS6LK0JSW8VUu1P9SlMdwkBBNqa8Q93BZhulFPuFIbLm7qPcd3S1cDUYEYEDcYRwwyuodjm4YEewGeZep5hDAj2GL3GMuWRYyo4YdyS4svUHC4I3mpUCVipWTsDKYvccHJW53EouHSlKidVipL1OeCNJEy5E0SejXq5dLLcl8psclIrKaIXQl7I9BZ8kfo2Ze9MAjcaAWJFVkl4UdgtHzLOs2JraCXI3cJoCVLgtShw6XgTJTI2Ze5fwYYuOHASpcYOLI9niOFaIqhi8rlD4Llxl4YwHCsAlGKji5cPgY5CKC3REVQYtYj6uAaLJp3ILpex85r3Guip5sXL0S69nKhPPTkbEezlxQKpYaPEXUBVWrl+3fZXLcRHbyDZ6laYmqjke4Nz3EdCGl+YWCUN9IOyy6p6gFVeEtDRKArG3t3EFhKlfMo6cgQpljD5vOPfgWEYwjCMKj87wwjjzipUCJCX8blxcMqVKxUuXk5kg2xal0XPTJK1rGg1r3cHVsgy6RsqkTVQRzIT3NyQvTxEWiApY2Q2d3yMxo9EIiRvUuKXhiJvu6GVO3GpW9eIEVpvniWK10uPCbOdhw4w316y4iPqbPOM1f8AYFXEu2240odltK3cAQtDBRl3b7li+J4GI2vlga5YwCy/IVV07g1+suOi4tRogKgainTAFClWm7jLwqHpxi3hcEXBgSNJcWWusjmiEZyXDkXebl/DcrcqVhw4uXBti0xeQg1gEayiku4n2TRBLu2vZDXK0uoNBI1Lck4hZ2HcpcGVXVQ2a8RFVAl1bCbkEwAXwahgrg06HauWavsbBcp8chFPUF1fKiXA01C2y3UUWXtVlAEaH9l/7sWlPdQuuStgkoXfqWn6CIDNdEeDibjAPNYBAiHVUmrSKJZqpxdxA3UHy8hQrl13yUrTxLBWWoCeLfIhqMdV9TigiEaZaj5ahjY/UEVN/Bjmo/C4uLly4MuVbEZuVmofJZ2LTGC0I4dB2Dn+tHnTnICR1hk+OqYgDppUWim2WeRkNW/E0OgitqESbHk6gTuvFxUOmO2+WVEWiD6YRFN3C1XlZYQ+dzz4OpZdMQ0PEpFeEsUrrcHyxotUvb1UOxfIxLujbB0pgiv12A0NMZW/PIlH9g9thSxJ4JFUeSFhllLGvMAOrb5iELI3FuxA15ubBzbqU2PDNGnYokEa15lrPTABo2MEIH7TYjekGptonWXopLf9oQK63BarT5jPD2KpUlL/AOcOalSduzWGaoisfrH4+Y8ly/gy/lrBgysuOBtqL0Qm5RKKnTTNvEfJBW3nuJ+GuEqtF/EvIhDymiOJavMRBlrkVUqG/EQYW6qJ8kBWthLBhoYlhoLjbYbeQCNzoGNavxBorsGS1UstpglnmUrd6qbUWyqK5cUUfcpDARN/FQmr5AGj1hlfbLzXIhK9QC6iX+JuehE4F6l0XBS0ha74xVZNKFyiLzcppEqbCl1FA5qIKPU5K+IoCPBfiIrUVUgSbP5EEUgY/SfUIgbO4Ib8ID24D2wMGOsEaOFQPdBKHSz3GvSASgip1LkLuyJh/VqCV8alfBzcuDCOCIOsEq7j4b1nHMI2n5FoUDkCU7gIK2BLAQIuIqCkTVtGu7i0CKpCUbIgjwMW8ew9ZQJYiDSC6EEcl6uAqnsRVXmKBTzAB8Ql9EGnSDaHzEBoiux6gyrex5E4l+5Sv6w1Yk5bBCl7wlv4jBBqDWX2GwslpVQ3DxAeXCbP5N3aVBq1ag1qA1Z7lrdnouVNUNQdAHIifqFdlwJAcbUWeYVNFNQsI06/JvTH20htW/kC7naadlHVnGUaac3GjYfcpbcqLuBQr8nuytai1/HUqyB70xsP9wBvfYg9gBcWTUH24Hpx5ityo/FI8lSo0xpD5IndjqItEYuE6lXEOJ3zNE410xi2xUIqKfUY70CiLc244By4lnhFpsYoKSFW72NRFQwQQxn+4F2+CXDUN0jrxHbviPVSma1cLNKUReYAwa0b3KS/ETSNAWJa8Qmx5jXXogNfXZQ2R1+oNr2Oolw9fUUFvJ5pyrZcgoS+wK2V2W3KOJLorVQLECubuNGqahO1ZEFJuI9vA0FblXYf2JlAinRwyZL1KZW9RVgjyVAHks8nIgDUfBUtHOxA/U5z9gykWvyCruDfeoFlt3uVNneS0Dq9Qb0ank3zcrqVDYjKpsi2aIFxoLhRuaS+QUwVVmkzYIVzcEQLVr3Bm3+wAscatdjktD6yQfCx+Qq2k+4D2ot91qDeEom5qi42fUAu4a4ZZdvIgUEbXubuKDUL3c2TkbFz88iVoFUVC0dxOb3GlpV1Bf6VGqN+IVAB9PYnwQRVkM8jrOsANB5glW7U0bgqYmtvMA6+ogV+oqauB0iSlQNTlvAQKtajtBFeZ5RC4esB4S5eH7OZhiVqiARotalw0bufVyjVWblsGLCEdRZYYCohVhQy9k4S9VXips6TwfcsEKsq5poaIFQ0LKdRfUQwVtH3GgWwdQa1UbFQiEY9a8Tbu40t8QUSvqETtG/iCdMK+I07gJon3m6MjuK8j+4i6lqA2eJrytCj22jq06LjEpRKajq+RY9l5SwKQjDYu4loS1dwQBGm72Fr6lViBlAjUPdzZloIFl3Ck/CbNVLfCKsqBQqpsMdkEDEsT2lp2eDxGUAu4CodWoGF2usoMCvHYdslUF0yxoexrAbhaEAeRHfuouWhpUdA3CouIpiDgJ5W+JU0OvY2IitqwKyiScDNCA1UbfPmIXLBqIsxpWkZfxoG7Ypl26m1Efpyb9RuoCk+0E2j+Q1FuUaYFiv5BVcsIrwEEGUPgrU1B20bi1ypQKPqVQA7/wCk48+ybfGogWQ09zSn6miDZVT0sqmpfqKDC2FLDXYIDbBFtmPXczcDSG8tTc7bmnUPaAeIwAKjI2QLJVlwtcDW9Q5KNvJqvE2pKN7ho1L8sP00FXudh6jNKekstTFKt7K3s7NTye5XbIyGuEt1UUhCuXR4mxS4WwQqKKKfhO+/7LClP7FJaSW9VERbdlnIEoaLA338hayURajRKKp8wdURpws7K4vsgAAqXbuU9ihf+S0Ocjdu5XTd1ALXZC/EhS1obNVwFtzhQStJZ+pYuvMV8Eobi0TVEHqJtbQwdLuDbF7Vynr3d8MHUROyzVNwTQbjjdwInNHiVC4vr6i62lQ9sKeal2qXwYCll34jbcRcEVjVRCFXuKkp/WWFRatsJK6qGpUdVgr+orJUbqPKU2ywqYgO9y6MsJKahQYtsIGoi5LYmjdRA6lMCM0i34RaF0+iMDUIvHBqdoeSEsX/AFDULQqDlRpFKKeS4olbuJsZLL2KEJfeUtdQHZoVGmArAo9+ocIDaruUjGO5gr2esZLDytYZWJfIVCOz8i+11Ks0QXSX3vUA8wj8KhLvqm0/GF+ME3EdfyJL2XKJqaqFsa8TQ59Muzv1KAVZtJYkjpVqgFAH7F7L/YDfVgSrdgdJ2vk3lpRUsi/3L2zKzZu/DK3dz9my5tbgQKl0Uad6YGWoPmp6yQOVLXGgqF7MqDLUpihA9moUFR7nUggnSI8M8KBmktYlFFwohC1CRvYl9DG6LlTf/sRUEo8CKyp6ZeSaIw2pcC10EDSqKII1PJ59TptltdhtK2QW7zsK7UqLYPUUFlJRx2McFMbUCGGVQSrjVVUFA5KVnqJBlWm4l+koDRoi+tUsPbGPS4QitLn5PQm1whHJRVVOgmoH/iCaK9xScAR+PUJBbIIKVqbSpS6n/BPAH7jtp1cqtlJCqw9V2Cxs0whV5ML/AAAy4uBZctgpeKoFauFUFpKVLpFjR2KjbmhcXGUIpLDOkliKC9yh27BgtRvsCJQK52AwP1+R2lLRlFRVbnmVOMRX9mgqXoBFQjIGnRjzNQZnDs1CKm/EQq9QS1AW7AI0BgFbCjbE8eSq98RXqSwXO8duAl5W2IVVoiPBA32BA1NJqMWAvSIuFlio7jVtGEf7CeWHC0BUoXvhBQ6l1rL5cVC68xpSwXPI2YjHfNsw/AIfYID3wz6H6nrHYoh7rT/7DtsK21NPB2Nl0eYgVc0wAmNS6QqO05vJnx8jBse5zGLQzVWCpcS9m21wb+oAcj6uVYXBGmILfUFb0y4btAYsuyoIOdii6YW9TVlxqEsW5SJjvTqX2eR4qwItW3BFJHxLA3FdP9RShFqyAh2eEptbhNJpilX+kaXCe7xO+JhCWad/+SmmVX7lM47uWJvsXbfuXxeRrsRL6J4C/OAQ/YZP6J2a8ENFrApQQ6hRFMOhKpqUELqd1NPiQIBZW4hUcBBAjepvkRcOYd7ISg/saRvU4bmr7C32lao+5QjTWPwf8J8GyVAKwJYYMW2Cepe42owEiWGViqLhExUS4MPBl/8AIhbuBu7wFpK5B3HvfiULLLsW4ZUBb6wZTs6lonpKLGbYloakWypRQZRcsNP9jQpa4RYVDaMdmRBWqBCDbogu25x7wnSDd/UrUSwYCsqUaI+XhuNyOIW2HlL6JRTeIHCHhXmCGxAVNUE8P2HqXGJVTQWlIyVtXmsnraNyh1wl3SvqGl32IalWTjTuNR4qOoMuoQr4ahVnD2P+I+BhaGty7Y+ItEHSuE3PaIqDLhxnI68lailVj6ebhjdTrcq/M1VR1csWxa7KGMV3DCxLZV0ssuBd8hV0o1gn/wAEqhUAvcourjth0FEL6QsperjTAXWq8yiuxUal6LhWCVbsFwZu6nhqXRcB8QUrbqI5BLdcm3WMl+zEsPuVh4X5MB4l1XJuVrfIUQjceuUnf7AXzGN7Zn3MrglGRt2Ln/lU5Fed+oAmvco1WASlqUVyOxUaFluvzd5PwCVKlSs1gwUQiR07B2m2LRUNvY9nJcFcKFQIoxUw/wAICncAPMuCQ3w8QKWUoLAAISnhBZtjPslhN1Lkwhve7MtQjKiLGIBjlpvyiEvubQXGyFi9Se+WsYQlC9KuBogb28cg8saK3K5AUWHauU8VEZV4xVYcQsMm7s/UobqGyJSBS4PuVCmC4q78yxKiT9Rh1Dfs7c3nYXQVzXS65OfkJVnklbtiUEJR4hU0ag233E1fYu/UsBwl+BAXA9QuClLqitgH3Aro/Qlx1/hHdTv7Ju5qGuv1qNGj31LDm43aFfkb9iOusE/sWj7hWKDKmzd0Tkou4au4Ma7cAyUH9sIDwblkC1TDRLCFeM+01gFEcbhC2xHiUrRCl6uAYXbDAdBO4VBVqA+4Bc1y4W8zRAGomzEQrpLisbvATq0BCN4AP5E6Bm5BoSj2L5oEGG3Ra5GUWtNRbh28y1i0bYa1U0cWF7m1pSdLC/RHfkfI6S5R0xKG+wxeCdfEIpqNaUIBEYW9VF7/ALJoTktIbdykSIWQ6SABHj8aj9QIOBFpqVDCA4gTSm0ouSzAdgPCVQN+2cIs4o8wBol7jL3AD6lepT1KRRlFUlPqt4BVxgKTSEKalBqF1b6uBoQ0L8kOhHIvE1UGqmlJVUwepDcUtKuUC8Q8y6ZR3DauvMsjs5v0T91N7LViwhBQ5z+sFt1VTfmJGV/FygYgMphcMTtxWEA6w0CzzDa/ELoxFl+34lURCL21NxqIHqKtIAES01LLVEdbemsV8WT5YTixX/Y0h/PuW+E7pg6A+o+0uljDZ3dSgwf6S4vTSx+JP5kFZUpHzLsnuIIOoRTsQR2wI91Ku7n/2Q==)"
      ],
      "metadata": {
        "id": "LTRGI-mRRYVp"
      }
    },
    {
      "cell_type": "code",
      "source": [],
      "metadata": {
        "id": "yJfome_jRp9c"
      },
      "execution_count": null,
      "outputs": []
    }
  ]
}
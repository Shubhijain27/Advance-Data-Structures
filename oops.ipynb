{
  "nbformat": 4,
  "nbformat_minor": 0,
  "metadata": {
    "colab": {
      "provenance": [],
      "authorship_tag": "ABX9TyNFoWxyp2x42OxQ9/ZXJB1h",
      "include_colab_link": true
    },
    "kernelspec": {
      "name": "python3",
      "display_name": "Python 3"
    },
    "language_info": {
      "name": "python"
    }
  },
  "cells": [
    {
      "cell_type": "markdown",
      "metadata": {
        "id": "view-in-github",
        "colab_type": "text"
      },
      "source": [
        "<a href=\"https://colab.research.google.com/github/Shubhijain27/Advance-Data-Structures/blob/main/oops.ipynb\" target=\"_parent\"><img src=\"https://colab.research.google.com/assets/colab-badge.svg\" alt=\"Open In Colab\"/></a>"
      ]
    },
    {
      "cell_type": "markdown",
      "source": [
        "**OOPS**"
      ],
      "metadata": {
        "id": "11dByDti623S"
      }
    },
    {
      "cell_type": "markdown",
      "source": [
        "1. What are the five key concepts of Object-Oriented Programming (OOP)?"
      ],
      "metadata": {
        "id": "y31jsNSM7BOX"
      }
    },
    {
      "cell_type": "markdown",
      "source": [
        "Object-Oriented Programming or OOPs refers to languages that use objects in programming. Object-oriented programming aims to implement real-world entities like inheritance, hiding, polymorphism, etc in programming. The main aim of OOP is to bind together the data and the functions that operate on them so that no other part of the code can access this data except that function."
      ],
      "metadata": {
        "id": "XnxHhDYp77xE"
      }
    },
    {
      "cell_type": "markdown",
      "source": [
        "The five key concepts of Object-Oriented Programming (OOP) are:\n",
        "\n",
        "Encapsulation: The concept of bundling data and methods that operate on that data within a single unit, called a class or object, to hide the implementation details and protect the data from external interference.\n",
        "\n",
        "Abstraction: The idea of representing complex real-world objects or systems in a simplified way, focusing only on essential features and hiding irrelevant details, to improve modularity and reusability.\n",
        "\n",
        "Inheritance: The mechanism by which one class can inherit the properties and behavior of another class, allowing for code reuse and a hierarchical organization of classes.\n",
        "\n",
        "Polymorphism: The ability of an object to take on multiple forms, depending on the context, such as method overriding or method overloading, enabling objects of different classes to be treated as if they were of the same class.\n",
        "\n",
        "Composition (not explicitly mentioned in the search results, but implied): The concept of combining objects or classes to form more complex objects or systems, allowing for hierarchical and modular organization of code."
      ],
      "metadata": {
        "id": "E6-EeuZu7BQ0"
      }
    },
    {
      "cell_type": "markdown",
      "source": [
        "2. Write a Python class for a `Car` with attributes for `make`, `model`, and `year`. Include a method to display\n",
        "the car's information."
      ],
      "metadata": {
        "id": "DoeV8fkL7BUW"
      }
    },
    {
      "cell_type": "code",
      "source": [
        "class Car:\n",
        "    def __init__(self , make , model , year) :\n",
        "        self.make= make\n",
        "        self.model= model\n",
        "        self.year= year\n",
        "\n",
        "    def welcome (self):\n",
        "        print(\"hi\" , self.make)"
      ],
      "metadata": {
        "id": "axdlZvHG8iXA"
      },
      "execution_count": null,
      "outputs": []
    },
    {
      "cell_type": "code",
      "source": [
        "car1 = Car(\"toyota\",\"xyz\",2021)"
      ],
      "metadata": {
        "id": "WOistgXV9ELw"
      },
      "execution_count": null,
      "outputs": []
    },
    {
      "cell_type": "code",
      "source": [
        "car1.make"
      ],
      "metadata": {
        "colab": {
          "base_uri": "https://localhost:8080/",
          "height": 42
        },
        "id": "YQjPZOFu9EIX",
        "outputId": "8dbb4826-d8da-41cb-d1fb-d57f3bf4e0c7"
      },
      "execution_count": null,
      "outputs": [
        {
          "output_type": "execute_result",
          "data": {
            "text/plain": [
              "'toyota'"
            ],
            "application/vnd.google.colaboratory.intrinsic+json": {
              "type": "string"
            }
          },
          "metadata": {},
          "execution_count": 4
        }
      ]
    },
    {
      "cell_type": "code",
      "source": [
        "car2 = Car(\"honda\",\"abc\",2024)"
      ],
      "metadata": {
        "id": "6UwV8ku79Xdd"
      },
      "execution_count": null,
      "outputs": []
    },
    {
      "cell_type": "code",
      "source": [
        "car2.year"
      ],
      "metadata": {
        "colab": {
          "base_uri": "https://localhost:8080/"
        },
        "id": "s_JUPqqe9XZ-",
        "outputId": "08b3af89-4d0b-43ca-9af1-ea5f124498c4"
      },
      "execution_count": null,
      "outputs": [
        {
          "output_type": "execute_result",
          "data": {
            "text/plain": [
              "2024"
            ]
          },
          "metadata": {},
          "execution_count": 6
        }
      ]
    },
    {
      "cell_type": "code",
      "source": [
        "car2.welcome()"
      ],
      "metadata": {
        "colab": {
          "base_uri": "https://localhost:8080/"
        },
        "id": "OJQUehkE9XXd",
        "outputId": "aa35b704-5b10-468a-a7bc-0960b5361210"
      },
      "execution_count": null,
      "outputs": [
        {
          "output_type": "stream",
          "name": "stdout",
          "text": [
            "hi honda\n"
          ]
        }
      ]
    },
    {
      "cell_type": "code",
      "source": [
        "class Car:\n",
        "    def __init__(self, make, model, year):\n",
        "        self.make = make\n",
        "        self.model = model\n",
        "        self.year = year\n",
        "\n",
        "    def display_info(self):\n",
        "        print(f\"Make: {self.make}\")\n",
        "        print(f\"Model: {self.model}\")\n",
        "        print(f\"Year: {self.year}\")"
      ],
      "metadata": {
        "id": "Ix8-7fA9-02d"
      },
      "execution_count": null,
      "outputs": []
    },
    {
      "cell_type": "code",
      "source": [
        "my_car = Car(\"Toyota\", \"Camry\", 2020)\n",
        "my_car.display_info()\n"
      ],
      "metadata": {
        "colab": {
          "base_uri": "https://localhost:8080/"
        },
        "id": "xFogiHQc-0zF",
        "outputId": "85cb4635-cf10-4a4b-c4c9-db5e562d9e02"
      },
      "execution_count": null,
      "outputs": [
        {
          "output_type": "stream",
          "name": "stdout",
          "text": [
            "Make: Toyota\n",
            "Model: Camry\n",
            "Year: 2020\n"
          ]
        }
      ]
    },
    {
      "cell_type": "markdown",
      "source": [
        "3. Explain the difference between instance methods and  class methods. Provide an example of each ."
      ],
      "metadata": {
        "id": "UUIfYlbI-zzp"
      }
    },
    {
      "cell_type": "markdown",
      "source": [
        "Instance methods are bound to a specific instance of a class and operate on that instance’s state. They have access to the instance’s attributes and can modify them. Instance methods are typically used to perform actions on a particular object, such as updating its properties or performing calculations based on its data."
      ],
      "metadata": {
        "id": "u5wPpj6v9XEr"
      }
    },
    {
      "cell_type": "code",
      "source": [
        "class Person:\n",
        "    def __init__(self, name):\n",
        "        self.name = name\n",
        "\n",
        "    def greet(self):\n",
        "        print(f\"Hello, my name is {self.name}!\")\n",
        "\n",
        "p1 = Person(\"John\")\n",
        "p1.greet()\n",
        "\n",
        "p2 = Person(\"Jane\")\n",
        "p2.greet()"
      ],
      "metadata": {
        "colab": {
          "base_uri": "https://localhost:8080/"
        },
        "id": "byUPnuCu_leJ",
        "outputId": "48d6f4a8-6e20-46df-caf2-77727ab0c334"
      },
      "execution_count": null,
      "outputs": [
        {
          "output_type": "stream",
          "name": "stdout",
          "text": [
            "Hello, my name is John!\n",
            "Hello, my name is Jane!\n"
          ]
        }
      ]
    },
    {
      "cell_type": "markdown",
      "source": [
        "In this example, greet is an instance method because it operates on the specific instance of the Person class (p1 and p2). Each instance has its own name attribute, and the greet method uses this attribute to generate a personalized greeting."
      ],
      "metadata": {
        "id": "rnlMGomr_pN3"
      }
    },
    {
      "cell_type": "markdown",
      "source": [
        "Class Methods\n",
        "\n",
        "Class methods, on the other hand, are bound to the class itself and operate independently of any instance. They do not have access to instance attributes and cannot modify them. Class methods are typically used to perform actions that are relevant to the class as a whole, such as creating new instances or providing utility functions."
      ],
      "metadata": {
        "id": "r_TE9m4J_ry2"
      }
    },
    {
      "cell_type": "code",
      "source": [
        "class MyClass:\n",
        "    class_variable = 0\n",
        "\n",
        "    def __init__(self, value):\n",
        "        self.instance_variable = value\n",
        "\n",
        "    @classmethod\n",
        "    def class_method(cls, x):\n",
        "        cls.class_variable += x\n",
        "        return cls.class_variable"
      ],
      "metadata": {
        "id": "HDZj1CmRASti"
      },
      "execution_count": null,
      "outputs": []
    },
    {
      "cell_type": "code",
      "source": [
        "obj1 = MyClass(5)\n",
        "obj2 = MyClass(10)\n",
        "print(MyClass.class_method(3))\n",
        "print(MyClass.class_method(7))"
      ],
      "metadata": {
        "colab": {
          "base_uri": "https://localhost:8080/"
        },
        "id": "qaF5s5pDATz0",
        "outputId": "06a1fec7-d04d-4047-8c30-5d5cff7b04ad"
      },
      "execution_count": null,
      "outputs": [
        {
          "output_type": "stream",
          "name": "stdout",
          "text": [
            "3\n",
            "10\n"
          ]
        }
      ]
    },
    {
      "cell_type": "markdown",
      "source": [
        "Key differences:\n",
        "\n",
        "Instance methods operate on specific instances, while class methods operate on the class itself.\n",
        "Instance methods have access to instance attributes, while class methods do not.\n",
        "Instance methods are typically used for object-specific actions, while class methods are used for class-wide actions or utility functions."
      ],
      "metadata": {
        "id": "7ISmQuIRA76J"
      }
    },
    {
      "cell_type": "code",
      "source": [
        "class Dog:\n",
        "    def __init__(self, name):\n",
        "        self.name = name\n",
        "\n",
        "    def bark(self):\n",
        "        print(f\"{self.name} says Woof!\")\n",
        "\n",
        "my_dog = Dog(\"Fido\")\n",
        "my_dog.bark()  # instance"
      ],
      "metadata": {
        "colab": {
          "base_uri": "https://localhost:8080/"
        },
        "id": "TVpPo4t2BZaA",
        "outputId": "b2a80401-587f-4c19-eb9c-1e9c2dd1ac75"
      },
      "execution_count": null,
      "outputs": [
        {
          "output_type": "stream",
          "name": "stdout",
          "text": [
            "Fido says Woof!\n"
          ]
        }
      ]
    },
    {
      "cell_type": "markdown",
      "source": [
        "In this example, bark is an instance method of the Dog class. It has access to the instance’s name attribute and prints a message specific to that instance."
      ],
      "metadata": {
        "id": "RL_LvOD9B6c-"
      }
    },
    {
      "cell_type": "code",
      "source": [
        "class Dog:\n",
        "    @classmethod\n",
        "    def get_species(cls):\n",
        "        return \"Canine\"\n",
        "\n",
        "print(Dog.get_species())  # class"
      ],
      "metadata": {
        "colab": {
          "base_uri": "https://localhost:8080/"
        },
        "id": "y5H-qEi5BahU",
        "outputId": "83013160-8adf-4e2d-a5f6-e1f26ae3e414"
      },
      "execution_count": null,
      "outputs": [
        {
          "output_type": "stream",
          "name": "stdout",
          "text": [
            "Canine\n"
          ]
        }
      ]
    },
    {
      "cell_type": "markdown",
      "source": [
        "In this example, get_species is a class method of the Dog class. It returns a string that describes the species of dogs, without referencing any instance-specific attributes.\n"
      ],
      "metadata": {
        "id": "S13RL_18B3R_"
      }
    },
    {
      "cell_type": "markdown",
      "source": [
        "4. How does Python implement method overloading? Give an example.\n"
      ],
      "metadata": {
        "id": "ObbPWAc77_mT"
      }
    },
    {
      "cell_type": "markdown",
      "source": [
        "Python does not support traditional method overloading, where multiple methods with the same name but different parameters can be defined in a class. This is because Python’s dynamic typing and duck typing nature make it difficult to determine which method to call based solely on the number and types of arguments."
      ],
      "metadata": {
        "id": "TSdjZLjF7_iy"
      }
    },
    {
      "cell_type": "markdown",
      "source": [
        "Two or more methods have the same name but different numbers of parameters or different types of parameters, or both. These methods are called overloaded methods and this is called method overloading.\n",
        "\n",
        "Like other languages (for example, method overloading in C++) do, python does not support method overloading by default. But there are different ways to achieve method overloading in Python.\n",
        "\n",
        "The problem with method overloading in Python is that we may overload the methods but can only use the latest defined method."
      ],
      "metadata": {
        "id": "Cgdbp2t67_gA"
      }
    },
    {
      "cell_type": "markdown",
      "source": [
        "If you define a method multiple times as shown in the below code, the last definition will override the previous ones. Therefore, this way of achieving method overloading in Python generates error.\n",
        "\n",
        "The first call to add() method with three arguments is successful. However, calling add() method with two arguments as defined in the class fails."
      ],
      "metadata": {
        "id": "nif2dvnZCwmL"
      }
    },
    {
      "cell_type": "code",
      "source": [
        "class example:\n",
        "   def add(self, a, b):\n",
        "      x = a+b\n",
        "      return x\n",
        "   def add(self, a, b, c):\n",
        "      x = a+b+c\n",
        "      return x\n",
        "\n",
        "obj = example()\n",
        "\n",
        "print (obj.add(10,20,30))\n",
        "print (obj.add(10,20))"
      ],
      "metadata": {
        "colab": {
          "base_uri": "https://localhost:8080/",
          "height": 193
        },
        "id": "OFoCEteJCouN",
        "outputId": "dd9eb6b0-c391-433d-e2f7-16a3af9792c2"
      },
      "execution_count": null,
      "outputs": [
        {
          "output_type": "stream",
          "name": "stdout",
          "text": [
            "60\n"
          ]
        },
        {
          "output_type": "error",
          "ename": "TypeError",
          "evalue": "example.add() missing 1 required positional argument: 'c'",
          "traceback": [
            "\u001b[0;31m---------------------------------------------------------------------------\u001b[0m",
            "\u001b[0;31mTypeError\u001b[0m                                 Traceback (most recent call last)",
            "\u001b[0;32m<ipython-input-26-7b72c544c980>\u001b[0m in \u001b[0;36m<cell line: 12>\u001b[0;34m()\u001b[0m\n\u001b[1;32m     10\u001b[0m \u001b[0;34m\u001b[0m\u001b[0m\n\u001b[1;32m     11\u001b[0m \u001b[0mprint\u001b[0m \u001b[0;34m(\u001b[0m\u001b[0mobj\u001b[0m\u001b[0;34m.\u001b[0m\u001b[0madd\u001b[0m\u001b[0;34m(\u001b[0m\u001b[0;36m10\u001b[0m\u001b[0;34m,\u001b[0m\u001b[0;36m20\u001b[0m\u001b[0;34m,\u001b[0m\u001b[0;36m30\u001b[0m\u001b[0;34m)\u001b[0m\u001b[0;34m)\u001b[0m\u001b[0;34m\u001b[0m\u001b[0;34m\u001b[0m\u001b[0m\n\u001b[0;32m---> 12\u001b[0;31m \u001b[0mprint\u001b[0m \u001b[0;34m(\u001b[0m\u001b[0mobj\u001b[0m\u001b[0;34m.\u001b[0m\u001b[0madd\u001b[0m\u001b[0;34m(\u001b[0m\u001b[0;36m10\u001b[0m\u001b[0;34m,\u001b[0m\u001b[0;36m20\u001b[0m\u001b[0;34m)\u001b[0m\u001b[0;34m)\u001b[0m\u001b[0;34m\u001b[0m\u001b[0;34m\u001b[0m\u001b[0m\n\u001b[0m",
            "\u001b[0;31mTypeError\u001b[0m: example.add() missing 1 required positional argument: 'c'"
          ]
        }
      ]
    },
    {
      "cell_type": "code",
      "source": [
        "class Calculator:   #In this example, the add method can be called with either 2 or 3 arguments. The c argument has a default value of 0, so if it’s not provided, it defaults to 0.\n",
        "    def add(self, a, b, c=0):\n",
        "        return a + b + c\n",
        "\n",
        "calc = Calculator()\n",
        "print(calc.add(2, 3))  # calls add with 2 and 3 arguments\n",
        "print(calc.add(2, 3, 4))  # calls add with 3 arguments"
      ],
      "metadata": {
        "colab": {
          "base_uri": "https://localhost:8080/"
        },
        "id": "Bxcjt3siC7i0",
        "outputId": "c95a3f2e-bf55-40f5-c0f6-1e3ca23650b1"
      },
      "execution_count": null,
      "outputs": [
        {
          "output_type": "stream",
          "name": "stdout",
          "text": [
            "5\n",
            "9\n"
          ]
        }
      ]
    },
    {
      "cell_type": "code",
      "source": [
        "# Function to take multiple arguments\n",
        "def add(datatype, *args):\n",
        "\n",
        "    # if datatype is int\n",
        "    # initialize answer as 0\n",
        "    if datatype =='int':\n",
        "        answer = 0\n",
        "\n",
        "    # if datatype is str\n",
        "    # initialize answer as ''\n",
        "    if datatype =='str':\n",
        "        answer =''\n",
        "\n",
        "    # Traverse through the arguments\n",
        "    for x in args:\n",
        "\n",
        "        # This will do addition if the\n",
        "        # arguments are int. Or concatenation\n",
        "        # if the arguments are str\n",
        "        answer = answer + x\n",
        "\n",
        "    print(answer)\n",
        "\n",
        "# Integer\n",
        "add('int', 5, 6)\n",
        "\n",
        "# String\n",
        "add('str', 'Hi ', 'Geeks')"
      ],
      "metadata": {
        "colab": {
          "base_uri": "https://localhost:8080/"
        },
        "id": "Fuzu197cEDeT",
        "outputId": "d61ea3d8-0ff6-4ec9-96ab-05733974ccf3"
      },
      "execution_count": null,
      "outputs": [
        {
          "output_type": "stream",
          "name": "stdout",
          "text": [
            "11\n",
            "Hi Geeks\n"
          ]
        }
      ]
    },
    {
      "cell_type": "markdown",
      "source": [
        "5. What are the three types of access modifiers in Python? How are they denoted?"
      ],
      "metadata": {
        "id": "uybf5AB0FEBx"
      }
    },
    {
      "cell_type": "markdown",
      "source": [
        "In Python, there are no explicit access modifiers like public, private, and protected as in some other languages. However, Python provides a convention and a mechanism to achieve similar access control.\n",
        "\n",
        "The three types of “access modifiers” in Python are:\n",
        "\n",
        "Public: Any attribute or method without a special prefix is considered public and can be accessed from anywhere.\n",
        "\n",
        "Protected: Attributes and methods with a single underscore prefix (_) are considered protected. They can be accessed within the class and by subclasses, but not directly from outside the class.\n",
        "\n",
        "Private: Attributes and methods with a double underscore prefix (__) are considered private. They are mangled by the interpreter, which adds the class name as a prefix, making them harder to access directly from outside the class. However, it’s still possible to access them using the mangled name or through inheritance."
      ],
      "metadata": {
        "id": "7IKtv0LtFD3S"
      }
    },
    {
      "cell_type": "markdown",
      "source": [
        "Public: No special prefix\n",
        "\n",
        "Protected: Single underscore prefix (_)\n",
        "\n",
        "Private: Double underscore prefix (__)"
      ],
      "metadata": {
        "id": "mtE_cl99FViL"
      }
    },
    {
      "cell_type": "code",
      "source": [
        "class Person:\n",
        "    def __init__(self, name, age):\n",
        "        self.name = name  # Public attribute\n",
        "        self._age = age  # Protected attribute\n",
        "        self.__secret = \"Top Secret\"  # Private attribute\n",
        "\n",
        "    def display(self):\n",
        "        print(f\"Name: {self.name}\")\n",
        "        print(f\"Age: {self._age}\")  # Accessing protected attribute\n",
        "\n",
        "    def get_secret(self):\n",
        "        return self.__secret  # Attempting to access private attribute\n",
        "\n",
        "\n",
        "p = Person(\"John\", 30)\n",
        "\n",
        "print(p.name)  # Accessing public attribute\n",
        "print(p._age)  # Accessing protected attribute (not recommended)\n",
        "print(p.get_secret())  # Attempting to access private attribute\n",
        "\n",
        "try:\n",
        "    print(p.__secret)  # Attempting to access private attribute directly\n",
        "except AttributeError:\n",
        "    print(\"Error: Private attribute not accessible\")\n",
        "\n",
        "p.display()  # Calling method to demonstrate access to public and protected attributes"
      ],
      "metadata": {
        "id": "5zQuzdQkEl7t",
        "colab": {
          "base_uri": "https://localhost:8080/"
        },
        "outputId": "0b768e93-ff7f-4c58-c2ed-fc397071a6a7"
      },
      "execution_count": 28,
      "outputs": [
        {
          "output_type": "stream",
          "name": "stdout",
          "text": [
            "John\n",
            "30\n",
            "Top Secret\n",
            "Error: Private attribute not accessible\n",
            "Name: John\n",
            "Age: 30\n"
          ]
        }
      ]
    },
    {
      "cell_type": "markdown",
      "source": [
        "6. Describe the five types of inheritance in Python. Provide a simple example of multiple inheritance."
      ],
      "metadata": {
        "id": "CtErvUISFqVP"
      }
    },
    {
      "cell_type": "markdown",
      "source": [
        "Single Inheritance:\n",
        "\n",
        "Single inheritance enables a derived class to inherit properties from a single parent class, thus enabling code reusability and the addition of new features to existing code.\n",
        "\n"
      ],
      "metadata": {
        "id": "iKfuWmOyF6MS"
      }
    },
    {
      "cell_type": "code",
      "source": [
        "class Parent:\n",
        "    def method1(self):\n",
        "        print(\"Parent's method1\")\n",
        "\n",
        "class Child(Parent):\n",
        "    pass\n",
        "\n",
        "child = Child()\n",
        "child.method1()  # Output: Parent's method1"
      ],
      "metadata": {
        "colab": {
          "base_uri": "https://localhost:8080/"
        },
        "id": "SVul0RkxGE3m",
        "outputId": "d2fd6964-21ec-4a14-86b1-ab9752114a31"
      },
      "execution_count": null,
      "outputs": [
        {
          "output_type": "stream",
          "name": "stdout",
          "text": [
            "Parent's method1\n"
          ]
        }
      ]
    },
    {
      "cell_type": "markdown",
      "source": [
        "Multiple Inheritance:\n",
        "\n",
        "When a class can be derived from more than one base class this type of inheritance is called multiple inheritances. In multiple inheritances, all the features of the base classes are inherited into the derived class."
      ],
      "metadata": {
        "id": "-YEbCBnZGEmw"
      }
    },
    {
      "cell_type": "code",
      "source": [
        "class Animal:\n",
        "    def sound(self):\n",
        "        print(\"Animal makes a sound\")\n",
        "\n",
        "class Mammal:\n",
        "    def feed(self):\n",
        "        print(\"Mammal eats\")\n",
        "\n",
        "class Dog(Animal, Mammal):\n",
        "    pass\n",
        "\n",
        "dog = Dog()\n",
        "dog.sound()  # Output: Animal makes a sound\n",
        "dog.feed()  # Output: Mammal eats"
      ],
      "metadata": {
        "colab": {
          "base_uri": "https://localhost:8080/"
        },
        "id": "1P6E4xwpGgtC",
        "outputId": "1431da94-d130-4d8e-fdd3-25936180f230"
      },
      "execution_count": null,
      "outputs": [
        {
          "output_type": "stream",
          "name": "stdout",
          "text": [
            "Animal makes a sound\n",
            "Mammal eats\n"
          ]
        }
      ]
    },
    {
      "cell_type": "markdown",
      "source": [
        "Multilevel Inheritance :\n",
        "\n",
        "In multilevel inheritance, features of the base class and the derived class are further inherited into the new derived class. This is similar to a relationship representing a child and a grandfather.\n",
        "\n"
      ],
      "metadata": {
        "id": "oW9ZSkhmF6Ja"
      }
    },
    {
      "cell_type": "code",
      "source": [
        "class Grandparent:\n",
        "    def method1(self):\n",
        "        print(\"Grandparent's method1\")\n",
        "\n",
        "class Parent(Grandparent):\n",
        "    def method2(self):\n",
        "        print(\"Parent's method2\")\n",
        "\n",
        "class Child(Parent):\n",
        "    pass\n",
        "\n",
        "child = Child()\n",
        "child.method1()  # Output: Grandparent's method1\n",
        "child.method2()  # Output: Parent's method2"
      ],
      "metadata": {
        "colab": {
          "base_uri": "https://localhost:8080/"
        },
        "id": "80uALO1WGeTJ",
        "outputId": "8c34f653-692b-4d16-fb49-c6c9032b990d"
      },
      "execution_count": null,
      "outputs": [
        {
          "output_type": "stream",
          "name": "stdout",
          "text": [
            "Grandparent's method1\n",
            "Parent's method2\n"
          ]
        }
      ]
    },
    {
      "cell_type": "markdown",
      "source": [
        "Hierarchical Inheritance:\n",
        "When more than one derived class are created from a single base this type of inheritance is called hierarchical inheritance. In this program, we have a parent (base) class and two child (derived) classes."
      ],
      "metadata": {
        "id": "8X8RzzNuF6HL"
      }
    },
    {
      "cell_type": "code",
      "source": [
        "class Vehicle:\n",
        "    def move(self):\n",
        "        print(\"Vehicle moves\")\n",
        "\n",
        "class Car(Vehicle):\n",
        "    pass\n",
        "\n",
        "class Truck(Vehicle):\n",
        "    pass\n",
        "\n",
        "car = Car()\n",
        "car.move()  # Output: Vehicle moves\n",
        "\n",
        "truck = Truck()\n",
        "truck.move()  # Output: Vehicle moves"
      ],
      "metadata": {
        "colab": {
          "base_uri": "https://localhost:8080/"
        },
        "id": "m_bDqb_EGdAD",
        "outputId": "aad5f0de-f7e2-4dca-80a3-9a55740923a9"
      },
      "execution_count": null,
      "outputs": [
        {
          "output_type": "stream",
          "name": "stdout",
          "text": [
            "Vehicle moves\n",
            "Vehicle moves\n"
          ]
        }
      ]
    },
    {
      "cell_type": "markdown",
      "source": [
        "Hybrid Inheritance:\n",
        "Inheritance consisting of multiple types of inheritance is called hybrid inheritance."
      ],
      "metadata": {
        "id": "F1DZuZnRF6Ep"
      }
    },
    {
      "cell_type": "code",
      "source": [
        "class Animal:\n",
        "    def sound(self):\n",
        "        print(\"Animal makes a sound\")\n",
        "\n",
        "class Mammal(Animal):\n",
        "    def feed(self):\n",
        "        print(\"Mammal eats\")\n",
        "\n",
        "class Dog(Mammal, Animal):\n",
        "    pass\n",
        "\n",
        "dog = Dog()\n",
        "dog.sound()  # Output: Animal makes a sound\n",
        "dog.feed()  # Output: Mammal eats"
      ],
      "metadata": {
        "colab": {
          "base_uri": "https://localhost:8080/"
        },
        "id": "P2tCI9mfFuz_",
        "outputId": "fcf1a148-3ef7-4474-a82d-d6e67bb5a1c8"
      },
      "execution_count": null,
      "outputs": [
        {
          "output_type": "stream",
          "name": "stdout",
          "text": [
            "Animal makes a sound\n",
            "Mammal eats\n"
          ]
        }
      ]
    },
    {
      "cell_type": "markdown",
      "source": [
        "7. What is the Method Resolution Order (MRO) in Python? How can you retrieve it programmatically?"
      ],
      "metadata": {
        "id": "XG6wP7mgG6dq"
      }
    },
    {
      "cell_type": "markdown",
      "source": [
        "Method Resolution Order :\n",
        "Method Resolution Order(MRO) it denotes the way a programming language resolves a method or attribute. Python supports classes inheriting from other classes. The class being inherited is called the Parent or Superclass, while the class that inherits is called the Child or Subclass. In python, method resolution order defines the order in which the base classes are searched when executing a method. First, the method or attribute is searched within a class and then it follows the order we specified while inheriting. This order is also called Linearization of a class and set of rules are called MRO(Method Resolution Order). While inheriting from another class, the interpreter needs a way to resolve the methods that are being called via an instance. Thus we need the method resolution order. For Example"
      ],
      "metadata": {
        "id": "v5BbcVFgG6aH"
      }
    },
    {
      "cell_type": "code",
      "source": [
        "class Students():\n",
        "  pass"
      ],
      "metadata": {
        "id": "BvgfBcwIHcSz"
      },
      "execution_count": null,
      "outputs": []
    },
    {
      "cell_type": "code",
      "source": [
        "print(Students.__mro__)"
      ],
      "metadata": {
        "colab": {
          "base_uri": "https://localhost:8080/"
        },
        "id": "i87iFAKWIOOu",
        "outputId": "e9f2bd52-ff2c-4453-a48f-e79b9ddde620"
      },
      "execution_count": null,
      "outputs": [
        {
          "output_type": "stream",
          "name": "stdout",
          "text": [
            "(<class '__main__.Students'>, <class 'object'>)\n"
          ]
        }
      ]
    },
    {
      "cell_type": "code",
      "source": [
        "print(Students.mro())"
      ],
      "metadata": {
        "colab": {
          "base_uri": "https://localhost:8080/"
        },
        "id": "dkLQzP0zJuB1",
        "outputId": "716b9d8c-58b8-4a5f-8d5c-07bbb0f30548"
      },
      "execution_count": null,
      "outputs": [
        {
          "output_type": "stream",
          "name": "stdout",
          "text": [
            "[<class '__main__.Students'>, <class 'object'>]\n"
          ]
        }
      ]
    },
    {
      "cell_type": "code",
      "source": [
        "\n",
        "\n",
        "\n",
        "class A:\n",
        "    pass\n",
        "\n",
        "class B(A):\n",
        "    pass\n",
        "\n",
        "print(B.__mro__)"
      ],
      "metadata": {
        "colab": {
          "base_uri": "https://localhost:8080/"
        },
        "id": "aJZPL-9fIo0o",
        "outputId": "faaa98e2-4c79-4a35-cd1c-8a1a3986855f"
      },
      "execution_count": null,
      "outputs": [
        {
          "output_type": "stream",
          "name": "stdout",
          "text": [
            "(<class '__main__.B'>, <class '__main__.A'>, <class 'object'>)\n"
          ]
        }
      ]
    },
    {
      "cell_type": "markdown",
      "source": [
        "8. Create an abstract base class `Shape` with an abstract method `area()`. Then create two subclasses\n",
        "`Circle` and `Rectangle` that implement the `area()` method.\n",
        "\n",
        "\n"
      ],
      "metadata": {
        "id": "wvbsaaQuKFVZ"
      }
    },
    {
      "cell_type": "code",
      "source": [
        "from abc import ABC, abstractmethod\n",
        "\n",
        "# Abstract Base Class: Shape\n",
        "class Shape(ABC):\n",
        "    @abstractmethod\n",
        "    def area(self):\n",
        "        pass\n",
        "\n",
        "# Subclass: Circle\n",
        "class Circle(Shape):\n",
        "    def __init__(self, radius):\n",
        "        self.radius = radius\n",
        "\n",
        "    def area(self):\n",
        "        return 3.14 * self.radius ** 2\n",
        "\n",
        "# Subclass: Rectangle\n",
        "class Rectangle(Shape):\n",
        "    def __init__(self, width, height):\n",
        "        self.width = width\n",
        "        self.height = height\n",
        "\n",
        "    def area(self):\n",
        "        return self.width * self.height"
      ],
      "metadata": {
        "id": "EKdEz5RjKD3b"
      },
      "execution_count": null,
      "outputs": []
    },
    {
      "cell_type": "code",
      "source": [
        "circle = Circle(5)\n",
        "print(circle.area())\n",
        "\n",
        "rect = Rectangle(4, 6)\n",
        "print(rect.area())"
      ],
      "metadata": {
        "colab": {
          "base_uri": "https://localhost:8080/"
        },
        "id": "nUfdmUdVKg6C",
        "outputId": "a9ff07c7-42db-4501-d883-fe983dcfc2aa"
      },
      "execution_count": null,
      "outputs": [
        {
          "output_type": "stream",
          "name": "stdout",
          "text": [
            "78.5\n",
            "24\n"
          ]
        }
      ]
    },
    {
      "cell_type": "markdown",
      "source": [
        "9. Demonstrate polymorphism by creating a function that can work with different shape objects to calculate\n",
        "and print their areas."
      ],
      "metadata": {
        "id": "gOsUuTK-KxKK"
      }
    },
    {
      "cell_type": "markdown",
      "source": [
        "Here’s an example of polymorphism in Python, where we create a function calculate_area that can work with different shape objects (Circle and Square) to calculate and print their areas:"
      ],
      "metadata": {
        "id": "IfzIxvUrLAeW"
      }
    },
    {
      "cell_type": "code",
      "source": [
        "from abc import ABC, abstractmethod\n",
        "\n",
        "# Abstract base class Shape\n",
        "class Shape(ABC):\n",
        "    @abstractmethod\n",
        "    def area(self):\n",
        "        pass\n",
        "\n",
        "# Concrete class Circle\n",
        "class Circle(Shape):\n",
        "    def __init__(self, radius):\n",
        "        self.radius = radius\n",
        "\n",
        "    def area(self):\n",
        "        return 3.14 * (self.radius ** 2)\n",
        "\n",
        "# Concrete class Square\n",
        "class Square(Shape):\n",
        "    def __init__(self, side):\n",
        "        self.side = side\n",
        "\n",
        "    def area(self):\n",
        "        return self.side ** 2\n",
        "\n",
        "# Function to calculate and print areas\n",
        "def calculate_area(shape):\n",
        "    print(f\"Area of {shape.__class__.__name__}: {shape.area()}\")\n",
        "\n",
        "# Create shape objects\n",
        "circle = Circle(5)\n",
        "square = Square(4)\n",
        "\n",
        "# Calculate and print areas\n",
        "calculate_area(circle)\n",
        "calculate_area(square)"
      ],
      "metadata": {
        "colab": {
          "base_uri": "https://localhost:8080/"
        },
        "id": "Z2ttS122Kj2v",
        "outputId": "2745874c-1208-4e4d-d3c3-a7a68f7c3632"
      },
      "execution_count": null,
      "outputs": [
        {
          "output_type": "stream",
          "name": "stdout",
          "text": [
            "Area of Circle: 78.5\n",
            "Area of Square: 16\n"
          ]
        }
      ]
    },
    {
      "cell_type": "markdown",
      "source": [
        "In this example:\n",
        "\n",
        "We define an abstract base class Shape with an abstract method area().\n",
        "We create concrete classes Circle and Square that inherit from Shape and implement the area() method.\n",
        "The calculate_area() function takes a Shape object as an argument and calls its area() method to calculate the area.\n",
        "We create instances of Circle and Square and pass them to the calculate_area() function to calculate and print their areas.\n",
        "This demonstrates polymorphism, as the same function (calculate_area()) can work with different shape objects (Circle and Square) without knowing their specific class. The function behaves differently based on the object’s type, which is determined at runtime."
      ],
      "metadata": {
        "id": "j271mmYQK7iI"
      }
    },
    {
      "cell_type": "markdown",
      "source": [
        "\n",
        "\n",
        "10. Implement encapsulation in a `BankAccount` class with private attributes for `balance` and\n",
        "`account_number`. Include methods for deposit, withdrawal, and balance inquiry.\n"
      ],
      "metadata": {
        "id": "wwJBfTDfzmMA"
      }
    },
    {
      "cell_type": "code",
      "source": [
        "class BankAccount:\n",
        "    def __init__(self, account_number, initial_balance):\n",
        "        self.__account_number = account_number\n",
        "        self.__balance = initial_balance\n",
        "\n",
        "    def deposit(self, amount):\n",
        "        if amount > 0:\n",
        "            self.__balance += amount\n",
        "        else:\n",
        "            raise ValueError(\"Deposit amount must be positive\")\n",
        "\n",
        "    def withdraw(self, amount):\n",
        "        if amount > 0 and amount <= self.__balance:\n",
        "            self.__balance -= amount\n",
        "        elif amount > self.__balance:\n",
        "            raise ValueError(\"Insufficient balance\")\n",
        "        else:\n",
        "            raise ValueError(\"Withdrawal amount must be positive\")\n",
        "\n",
        "    def get_balance(self):\n",
        "        return self.__balance\n",
        "\n",
        "    def get_account_number(self):\n",
        "        return self.__account_number"
      ],
      "metadata": {
        "id": "pgABGg3hK4HT"
      },
      "execution_count": 1,
      "outputs": []
    },
    {
      "cell_type": "code",
      "source": [
        "account = BankAccount(123456789, 1000.0)\n",
        "account.deposit(500.0)\n",
        "print(account.get_balance())\n",
        "account.withdraw(200.0)\n",
        "print(account.get_balance())\n",
        "print(account.get_account_number())"
      ],
      "metadata": {
        "colab": {
          "base_uri": "https://localhost:8080/"
        },
        "id": "D1JWDeVN0If4",
        "outputId": "e84ade7d-42b3-481b-c2e2-997bf807948d"
      },
      "execution_count": 3,
      "outputs": [
        {
          "output_type": "stream",
          "name": "stdout",
          "text": [
            "1500.0\n",
            "1300.0\n",
            "123456789\n"
          ]
        }
      ]
    },
    {
      "cell_type": "markdown",
      "source": [
        "The __account_number and __balance attributes are private, denoted by the double underscore prefix. This means they are inaccessible directly from outside the class and can only be modified through the provided methods.\n",
        "The deposit method adds the specified amount to the balance, ensuring it’s a positive value.\n",
        "The withdraw method subtracts the specified amount from the balance, checking for sufficient balance and positive withdrawal amounts. It raises a ValueError if the conditions aren’t met.\n",
        "The get_balance and get_account_number methods provide a way to access the private attributes, allowing for controlled and encapsulated access to the account’s state."
      ],
      "metadata": {
        "id": "y5-wp0Ai0Tbf"
      }
    },
    {
      "cell_type": "markdown",
      "source": [
        "11. Write a class that overrides the `__str__` and `__add__` magic methods. What will these methods allow\n",
        "you to do?"
      ],
      "metadata": {
        "id": "y6JcxhRq0Z9E"
      }
    },
    {
      "cell_type": "markdown",
      "source": [
        " we’ll create a class ComplexNumber that overrides the __str__ and __add__ magic methods.\n",
        "\n",
        "__str__ method: The __str__ method returns a string representation of the object. In our case, it will format the complex number as “a + bi”, where a is the real part and b is the imaginary part.\n",
        "\n",
        "__add__ method: The __add__ method allows us to overload the addition operator (+) for our custom ComplexNumber class. It will perform element-wise addition of the real and imaginary parts of two complex numbers."
      ],
      "metadata": {
        "id": "trcBAOwF0lRX"
      }
    },
    {
      "cell_type": "code",
      "source": [
        "class ComplexNumber:\n",
        "    def __init__(self, real, imag):\n",
        "        self.real = real\n",
        "        self.imag = imag\n",
        "\n",
        "    def __str__(self):\n",
        "        return f\"{self.real} + {self.imag}i\"\n",
        "\n",
        "    def __add__(self, other):\n",
        "        if isinstance(other, ComplexNumber):\n",
        "            return ComplexNumber(self.real + other.real, self.imag + other.imag)\n",
        "        else:\n",
        "            raise TypeError(\"Unsupported operand type for +: '{}' and '{}'\".format(type(self).__name__, type(other).__name__))"
      ],
      "metadata": {
        "id": "xA-HrIIt0Jbu"
      },
      "execution_count": 4,
      "outputs": []
    },
    {
      "cell_type": "code",
      "source": [
        "c1 = ComplexNumber(3, 4)  # 3 + 4i\n",
        "c2 = ComplexNumber(2, 1)  # 2 + 1i\n",
        "\n",
        "print(c1 + c2)  # Output: 5 + 5i\n",
        "print(str(c1))  # Output: 3 + 4i"
      ],
      "metadata": {
        "colab": {
          "base_uri": "https://localhost:8080/"
        },
        "id": "FaLMZTVK0zxO",
        "outputId": "f3b22449-bef3-4755-fc4b-5ebf0bc8d273"
      },
      "execution_count": 5,
      "outputs": [
        {
          "output_type": "stream",
          "name": "stdout",
          "text": [
            "5 + 5i\n",
            "3 + 4i\n"
          ]
        }
      ]
    },
    {
      "cell_type": "markdown",
      "source": [
        "The __str__ method correctly formats the complex number as a string. The __add__ method allows us to add two complex numbers using the + operator, and it returns a new ComplexNumber object with the result.\n",
        "\n",
        "By overriding these magic methods, we’ve customized the behavior of our ComplexNumber class to work seamlessly with built-in Python operations and string representations."
      ],
      "metadata": {
        "id": "TN5y1VoA07u9"
      }
    },
    {
      "cell_type": "code",
      "source": [
        "class ComplexNumber:\n",
        "    def __init__(self, real, imag):\n",
        "        self.real = real\n",
        "        self.imag = imag\n",
        "\n",
        "    def __add__(self, other):\n",
        "        real_sum = self.real + other.real\n",
        "        imag_sum = self.imag + other.imag\n",
        "        return ComplexNumber(real_sum, imag_sum)\n",
        "\n",
        "c1 = ComplexNumber(2, 3)\n",
        "c2 = ComplexNumber(4, 5)\n",
        "result = c1 + c2\n",
        "print(f\"Result: {result.real} + {result.imag}i\")"
      ],
      "metadata": {
        "colab": {
          "base_uri": "https://localhost:8080/"
        },
        "id": "-jqRlxRl0wpO",
        "outputId": "b2096037-565a-453c-8574-fba3081a6fcd"
      },
      "execution_count": 6,
      "outputs": [
        {
          "output_type": "stream",
          "name": "stdout",
          "text": [
            "Result: 6 + 8i\n"
          ]
        }
      ]
    },
    {
      "cell_type": "code",
      "source": [
        "class GFG:\n",
        "\n",
        "    def __init__(self, val):\n",
        "        self.val = val\n",
        "\n",
        "    def __add__(self, val2):\n",
        "        return GFG(self.val + val2.val)\n",
        "\n",
        "obj1 = GFG(\"Geeks\")\n",
        "obj2 = GFG(\"ForGeeks\")\n",
        "obj3 = obj1 + obj2\n",
        "print(obj3.val)"
      ],
      "metadata": {
        "colab": {
          "base_uri": "https://localhost:8080/"
        },
        "id": "EBNgB-V01lGU",
        "outputId": "024c23f7-5b45-4d77-f4ea-745f2715484d"
      },
      "execution_count": 7,
      "outputs": [
        {
          "output_type": "stream",
          "name": "stdout",
          "text": [
            "GeeksForGeeks\n"
          ]
        }
      ]
    },
    {
      "cell_type": "code",
      "source": [
        "class GFG:    #Note: If we had not defined the __add__() method, Python would have raised a TypeError\n",
        "\n",
        "    def __init__(self, val):\n",
        "        self.val = val\n",
        "\n",
        "obj1 = GFG(\"Geeks\")\n",
        "obj2 = GFG(\"ForGeeks\")\n",
        "obj3 = obj1 + obj2\n",
        "print(obj3.val)"
      ],
      "metadata": {
        "colab": {
          "base_uri": "https://localhost:8080/",
          "height": 193
        },
        "id": "vfEbOSmp1zpN",
        "outputId": "e045c5c5-7a86-4d9a-c96e-095fc878ab8d"
      },
      "execution_count": 9,
      "outputs": [
        {
          "output_type": "error",
          "ename": "TypeError",
          "evalue": "unsupported operand type(s) for +: 'GFG' and 'GFG'",
          "traceback": [
            "\u001b[0;31m---------------------------------------------------------------------------\u001b[0m",
            "\u001b[0;31mTypeError\u001b[0m                                 Traceback (most recent call last)",
            "\u001b[0;32m<ipython-input-9-bf114fd34e67>\u001b[0m in \u001b[0;36m<cell line: 8>\u001b[0;34m()\u001b[0m\n\u001b[1;32m      6\u001b[0m \u001b[0mobj1\u001b[0m \u001b[0;34m=\u001b[0m \u001b[0mGFG\u001b[0m\u001b[0;34m(\u001b[0m\u001b[0;34m\"Geeks\"\u001b[0m\u001b[0;34m)\u001b[0m\u001b[0;34m\u001b[0m\u001b[0;34m\u001b[0m\u001b[0m\n\u001b[1;32m      7\u001b[0m \u001b[0mobj2\u001b[0m \u001b[0;34m=\u001b[0m \u001b[0mGFG\u001b[0m\u001b[0;34m(\u001b[0m\u001b[0;34m\"ForGeeks\"\u001b[0m\u001b[0;34m)\u001b[0m\u001b[0;34m\u001b[0m\u001b[0;34m\u001b[0m\u001b[0m\n\u001b[0;32m----> 8\u001b[0;31m \u001b[0mobj3\u001b[0m \u001b[0;34m=\u001b[0m \u001b[0mobj1\u001b[0m \u001b[0;34m+\u001b[0m \u001b[0mobj2\u001b[0m\u001b[0;34m\u001b[0m\u001b[0;34m\u001b[0m\u001b[0m\n\u001b[0m\u001b[1;32m      9\u001b[0m \u001b[0mprint\u001b[0m\u001b[0;34m(\u001b[0m\u001b[0mobj3\u001b[0m\u001b[0;34m.\u001b[0m\u001b[0mval\u001b[0m\u001b[0;34m)\u001b[0m\u001b[0;34m\u001b[0m\u001b[0;34m\u001b[0m\u001b[0m\n",
            "\u001b[0;31mTypeError\u001b[0m: unsupported operand type(s) for +: 'GFG' and 'GFG'"
          ]
        }
      ]
    },
    {
      "cell_type": "markdown",
      "source": [
        "12. Create a decorator that measures and prints the execution time of a function."
      ],
      "metadata": {
        "id": "gqwIVgHE2F97"
      }
    },
    {
      "cell_type": "markdown",
      "source": [
        "We import time and wraps from functools.\n",
        "The execution_time decorator takes a function func as an argument.\n",
        "The decorator returns a new function wrapper that wraps the original function func.\n",
        "The wrapper function records the start time before calling the original function, and the end time after the function returns.\n",
        "It calculates the execution time by subtracting the start time from the end time.\n",
        "It prints a message indicating the function name and execution time, using the f string notation for formatting.\n",
        "Finally, it returns the result of the original function."
      ],
      "metadata": {
        "id": "zPgMQhmL2LIM"
      }
    },
    {
      "cell_type": "code",
      "source": [
        "import time\n",
        "from functools import wraps\n",
        "\n",
        "def execution_time(func):\n",
        "    @wraps(func)\n",
        "    def wrapper(*args, **kwargs):\n",
        "        start_time = time.time()\n",
        "        result = func(*args, **kwargs)\n",
        "        end_time = time.time()\n",
        "        execution_time = end_time - start_time\n",
        "        print(f\"{func.__name__} took {execution_time:.4f} seconds to execute\")\n",
        "        return result\n",
        "    return wrapper"
      ],
      "metadata": {
        "id": "g6PQy9nw174O"
      },
      "execution_count": null,
      "outputs": []
    },
    {
      "cell_type": "code",
      "source": [
        "@execution_time\n",
        "def calculate_multiply(numbers):\n",
        "    tot = 1\n",
        "    for x in numbers:\n",
        "        tot *= x\n",
        "    return tot"
      ],
      "metadata": {
        "id": "-ztvlBFD2Q0d"
      },
      "execution_count": 11,
      "outputs": []
    },
    {
      "cell_type": "code",
      "source": [
        "result = calculate_multiply([1, 2, 3, 4, 5])\n",
        "print(result)  # Output: 120"
      ],
      "metadata": {
        "colab": {
          "base_uri": "https://localhost:8080/"
        },
        "id": "a6jXpM692aO6",
        "outputId": "cd8b0a50-b85d-4fd0-c2c3-994895c3468a"
      },
      "execution_count": 12,
      "outputs": [
        {
          "output_type": "stream",
          "name": "stdout",
          "text": [
            "calculate_multiply took 0.0000 seconds to execute\n",
            "120\n"
          ]
        }
      ]
    },
    {
      "cell_type": "markdown",
      "source": [
        "Note that the execution time is printed to the console, and the original function result is returned. You can customize the print statement or add additional logging as needed."
      ],
      "metadata": {
        "id": "1r858aHS2e09"
      }
    },
    {
      "cell_type": "code",
      "source": [
        "import time\n",
        "\n",
        "def measure_execution_time(func):\n",
        "    def wrapper(*args, **kwargs):\n",
        "        start_time = time.time()\n",
        "        result = func(*args, **kwargs)\n",
        "        end_time = time.time()\n",
        "        execution_time = end_time - start_time\n",
        "        print(f\"Function {func.__name__} took {execution_time:.4f} seconds to execute\")\n",
        "        return result\n",
        "    return wrapper\n",
        "\n",
        "# Example usage\n",
        "@measure_execution_time\n",
        "def calculate_multiply(numbers):\n",
        "    tot = 1\n",
        "    for x in numbers:\n",
        "        tot *= x\n",
        "    return tot\n",
        "\n",
        "# Call the decorated function\n",
        "result = calculate_multiply([1, 2, 3, 4, 5])\n",
        "print(\"Result:\", result)\n"
      ],
      "metadata": {
        "colab": {
          "base_uri": "https://localhost:8080/"
        },
        "id": "tdmTDwPZ2b8e",
        "outputId": "441ad3c2-2a75-4c02-d5ea-4188f8c8ecf3"
      },
      "execution_count": 13,
      "outputs": [
        {
          "output_type": "stream",
          "name": "stdout",
          "text": [
            "Function calculate_multiply took 0.0000 seconds to execute\n",
            "Result: 120\n"
          ]
        }
      ]
    },
    {
      "cell_type": "markdown",
      "source": [
        "13. Explain the concept of the Diamond Problem in multiple inheritance. How does Python resolve it?\n",
        "\n",
        "\n"
      ],
      "metadata": {
        "id": "eVdp1vk12s67"
      }
    },
    {
      "cell_type": "markdown",
      "source": [
        "The Diamond Problem occurs in multiple inheritance when a class (D) inherits from two parent classes (B and C), which themselves inherit from a common ancestor class (A). This creates a diamond-shaped inheritance graph, where A is the base class, B and C are intermediate classes, and D is the derived class.\n",
        "\n",
        "The problem arises when D tries to access a method or attribute from A, and there are multiple paths to reach A through B and C. This ambiguity can lead to:\n",
        "\n",
        "Method overriding conflicts: D may inherit conflicting implementations of a method from B and C, both of which override the same method in A.\n",
        "\n",
        "Attribute naming conflicts: D may inherit attributes with the same name from B and C, both of which inherit from A.\n",
        "Python’s Resolution\n",
        "\n",
        "Python resolves the Diamond Problem using its Method Resolution Order (MRO), which is based on the C3 linearization algorithm. The MRO is a linear ordering of a class’s base classes, which determines the search order for methods and attributes.\n",
        "\n",
        "In Python, when a class inherits from multiple parents, the MRO is constructed as follows:\n",
        "\n",
        "Start with the class itself.\n",
        "\n",
        "Add its immediate parents in left-to-right order.\n",
        "\n",
        "Recursively add the parents of each immediate parent, again in left-to-right order.\n",
        "\n",
        "Continue until all ancestors are included.\n",
        "\n",
        "For the diamond-shaped inheritance graph:\n",
        "\n",
        "D inherits from B and C.\n",
        "\n",
        "B and C inherit from A.\n",
        "\n",
        "The MRO for D is: D, B, C, A.\n",
        "\n",
        "When Python searches for a method or attribute in D, it follows the MRO:\n",
        "\n",
        "Check D first.\n",
        "If not found, check B (its immediate parent).\n",
        "\n",
        "If not found, check C (its immediate parent).\n",
        "\n",
        "If not found, check A (the common ancestor).\n",
        "\n",
        "This ensures that:\n",
        "\n",
        "Method overriding conflicts are resolved by preferring the implementation from the closest ancestor (B or C) over the one from the more distant ancestor (A).\n",
        "\n",
        "Attribute naming conflicts are resolved by preferring the attribute from the closest ancestor (B or C) over the one from the more distant ancestor (A).\n",
        "By using the MRO, Python provides a deterministic and predictable way to resolve the Diamond Problem in multiple inheritance, ensuring that classes can inherit behavior and attributes from multiple parents without ambiguity."
      ],
      "metadata": {
        "id": "J9tAR9pF23xr"
      }
    },
    {
      "cell_type": "code",
      "source": [
        "# Python Program to depict multiple inheritance\n",
        "# when method is overridden in both classes\n",
        "\n",
        "class Class1:\n",
        "    def m(self):\n",
        "        print(\"In Class1\")\n",
        "\n",
        "class Class2(Class1):\n",
        "    def m(self):\n",
        "        print(\"In Class2\")\n",
        "\n",
        "class Class3(Class1):\n",
        "    def m(self):\n",
        "        print(\"In Class3\")\n",
        "\n",
        "class Class4(Class2, Class3):\n",
        "    pass\n",
        "\n",
        "obj = Class4()\n",
        "obj.m()"
      ],
      "metadata": {
        "colab": {
          "base_uri": "https://localhost:8080/"
        },
        "id": "B4IYhniZ2mKT",
        "outputId": "ecd1f851-d134-4abf-e400-86ffc6c5548f"
      },
      "execution_count": 14,
      "outputs": [
        {
          "output_type": "stream",
          "name": "stdout",
          "text": [
            "In Class2\n"
          ]
        }
      ]
    },
    {
      "cell_type": "markdown",
      "source": [
        "Note: When you call obj.m() (m on the instance of Class4) the output is In Class2. If Class4 is declared as Class4(Class3, Class2) then the output of obj.m() will be In Class3.\n",
        ""
      ],
      "metadata": {
        "id": "ActK5dLh3z-k"
      }
    },
    {
      "cell_type": "code",
      "source": [
        "# Python Program to depict multiple inheritance\n",
        "# when method is overridden in one of the classes\n",
        "\n",
        "class Class1:\n",
        "    def m(self):\n",
        "        print(\"In Class1\")\n",
        "\n",
        "class Class2(Class1):\n",
        "    pass\n",
        "\n",
        "class Class3(Class1):\n",
        "    def m(self):\n",
        "        print(\"In Class3\")\n",
        "\n",
        "class Class4(Class2, Class3):\n",
        "    pass\n",
        "\n",
        "obj = Class4()\n",
        "obj.m()"
      ],
      "metadata": {
        "colab": {
          "base_uri": "https://localhost:8080/"
        },
        "id": "GJusoBLF3w0m",
        "outputId": "06074550-b5b8-4f43-f5a0-8d7987475675"
      },
      "execution_count": 15,
      "outputs": [
        {
          "output_type": "stream",
          "name": "stdout",
          "text": [
            "In Class3\n"
          ]
        }
      ]
    },
    {
      "cell_type": "code",
      "source": [
        "# Python Program to depict multiple inheritance\n",
        "# when every class defines the same method\n",
        "\n",
        "class Class1:\n",
        "    def m(self):\n",
        "        print(\"In Class1\")\n",
        "\n",
        "class Class2(Class1):\n",
        "    def m(self):\n",
        "        print(\"In Class2\")\n",
        "\n",
        "class Class3(Class1):\n",
        "    def m(self):\n",
        "         print(\"In Class3\")\n",
        "\n",
        "class Class4(Class2, Class3):\n",
        "    def m(self):\n",
        "        print(\"In Class4\")\n",
        "\n",
        "obj = Class4()\n",
        "obj.m()\n",
        "\n",
        "Class2.m(obj)\n",
        "Class3.m(obj)\n",
        "Class1.m(obj)"
      ],
      "metadata": {
        "colab": {
          "base_uri": "https://localhost:8080/"
        },
        "id": "76HJKXti32aZ",
        "outputId": "39ee0956-acb3-4ab5-8ef5-20d0bd96ec97"
      },
      "execution_count": 16,
      "outputs": [
        {
          "output_type": "stream",
          "name": "stdout",
          "text": [
            "In Class4\n",
            "In Class2\n",
            "In Class3\n",
            "In Class1\n"
          ]
        }
      ]
    },
    {
      "cell_type": "code",
      "source": [
        "# Python Program to depict multiple inheritance\n",
        "# when we try to call the method m for Class1,\n",
        "# Class2, Class3 from the method m of Class4\n",
        "\n",
        "class Class1:\n",
        "    def m(self):\n",
        "        print(\"In Class1\")\n",
        "\n",
        "class Class2(Class1):\n",
        "    def m(self):\n",
        "        print(\"In Class2\")\n",
        "\n",
        "class Class3(Class1):\n",
        "    def m(self):\n",
        "        print(\"In Class3\")\n",
        "\n",
        "class Class4(Class2, Class3):\n",
        "    def m(self):\n",
        "        print(\"In Class4\")\n",
        "        Class2.m(self)\n",
        "        Class3.m(self)\n",
        "        Class1.m(self)\n",
        "\n",
        "obj = Class4()\n",
        "obj.m()"
      ],
      "metadata": {
        "colab": {
          "base_uri": "https://localhost:8080/"
        },
        "id": "TP2qGdcv3-FS",
        "outputId": "8299b26e-3b39-4881-eeb1-dd7905a94986"
      },
      "execution_count": 17,
      "outputs": [
        {
          "output_type": "stream",
          "name": "stdout",
          "text": [
            "In Class4\n",
            "In Class2\n",
            "In Class3\n",
            "In Class1\n"
          ]
        }
      ]
    },
    {
      "cell_type": "code",
      "source": [
        "# Python Program to depict multiple inheritance\n",
        "# when we try to call m of Class1 from both m of\n",
        "# Class2 and m of Class3\n",
        "\n",
        "class Class1:\n",
        "    def m(self):\n",
        "        print(\"In Class1\")\n",
        "\n",
        "class Class2(Class1):\n",
        "    def m(self):\n",
        "        print(\"In Class2\")\n",
        "        Class1.m(self)\n",
        "\n",
        "class Class3(Class1):\n",
        "    def m(self):\n",
        "        print(\"In Class3\")\n",
        "        Class1.m(self)\n",
        "\n",
        "class Class4(Class2, Class3):\n",
        "    def m(self):\n",
        "        print(\"In Class4\")\n",
        "        Class2.m(self)\n",
        "        Class3.m(self)\n",
        "\n",
        "obj = Class4()\n",
        "obj.m()"
      ],
      "metadata": {
        "colab": {
          "base_uri": "https://localhost:8080/"
        },
        "id": "6BQ8O8jO4Cvi",
        "outputId": "2bdde71f-72b8-48eb-dd5e-31717e9298a3"
      },
      "execution_count": 18,
      "outputs": [
        {
          "output_type": "stream",
          "name": "stdout",
          "text": [
            "In Class4\n",
            "In Class2\n",
            "In Class1\n",
            "In Class3\n",
            "In Class1\n"
          ]
        }
      ]
    },
    {
      "cell_type": "code",
      "source": [
        "# Python program to demonstrate\n",
        "# super()\n",
        "\n",
        "class Class1:\n",
        "    def m(self):\n",
        "        print(\"In Class1\")\n",
        "\n",
        "class Class2(Class1):\n",
        "    def m(self):\n",
        "        print(\"In Class2\")\n",
        "        super().m()\n",
        "\n",
        "class Class3(Class1):\n",
        "    def m(self):\n",
        "        print(\"In Class3\")\n",
        "        super().m()\n",
        "\n",
        "class Class4(Class2, Class3):\n",
        "    def m(self):\n",
        "        print(\"In Class4\")\n",
        "        super().m()\n",
        "\n",
        "obj = Class4()\n",
        "obj.m()"
      ],
      "metadata": {
        "colab": {
          "base_uri": "https://localhost:8080/"
        },
        "id": "ZCUGoIUx4GIV",
        "outputId": "29e0ac66-6d70-4b37-ce37-2a7fb1199f0a"
      },
      "execution_count": 19,
      "outputs": [
        {
          "output_type": "stream",
          "name": "stdout",
          "text": [
            "In Class4\n",
            "In Class2\n",
            "In Class3\n",
            "In Class1\n"
          ]
        }
      ]
    },
    {
      "cell_type": "markdown",
      "source": [
        "Method resolution order:\n",
        "\n",
        "In Python, every class whether built-in or user-defined is derived from the object class and all the objects are instances of the class object. Hence, the object class is the base class for all the other classes.\n",
        "In the case of multiple inheritance, a given attribute is first searched in the current class if it’s not found then it’s searched in the parent classes. The parent classes are searched in a left-right fashion and each class is searched once.\n",
        "If we see the above example then the order of search for the attributes will be Derived, Base1, Base2, object. The order that is followed is known as a linearization of the class Derived and this order is found out using a set of rules called Method Resolution Order (MRO).\n",
        "To view the MRO of a class:"
      ],
      "metadata": {
        "id": "ITVeRoW34UbC"
      }
    },
    {
      "cell_type": "markdown",
      "source": [
        "Use the mro() method, it returns a list\n",
        "Eg. Class4.mro()\n",
        "Use the _mro_ attribute, it returns a tuple\n",
        "Eg. Class4.__mro__"
      ],
      "metadata": {
        "id": "P_g6MBee4Z5F"
      }
    },
    {
      "cell_type": "code",
      "source": [
        "# Python program to demonstrate\n",
        "# super()\n",
        "\n",
        "class Class1:\n",
        "    def m(self):\n",
        "        print(\"In Class1\")\n",
        "\n",
        "class Class2(Class1):\n",
        "    def m(self):\n",
        "        print(\"In Class2\")\n",
        "        super().m()\n",
        "\n",
        "class Class3(Class1):\n",
        "    def m(self):\n",
        "        print(\"In Class3\")\n",
        "        super().m()\n",
        "\n",
        "class Class4(Class2, Class3):\n",
        "    def m(self):\n",
        "        print(\"In Class4\")\n",
        "        super().m()\n",
        "\n",
        "print(Class4.mro())         #This will print list\n",
        "print(Class4.__mro__)        #This will print tuple"
      ],
      "metadata": {
        "colab": {
          "base_uri": "https://localhost:8080/"
        },
        "id": "h71rojK54Lvu",
        "outputId": "616b2410-7277-4f72-d33b-28998e60bacc"
      },
      "execution_count": 20,
      "outputs": [
        {
          "output_type": "stream",
          "name": "stdout",
          "text": [
            "[<class '__main__.Class4'>, <class '__main__.Class2'>, <class '__main__.Class3'>, <class '__main__.Class1'>, <class 'object'>]\n",
            "(<class '__main__.Class4'>, <class '__main__.Class2'>, <class '__main__.Class3'>, <class '__main__.Class1'>, <class 'object'>)\n"
          ]
        }
      ]
    },
    {
      "cell_type": "markdown",
      "source": [
        "14. Write a class method that keeps track of the number of instances created from a class"
      ],
      "metadata": {
        "id": "Xa0bRh2E4ivK"
      }
    },
    {
      "cell_type": "code",
      "source": [
        "class MyClass:\n",
        "    _instance_count = 0  # Class variable to store instance count\n",
        "\n",
        "    def __init__(self):\n",
        "        MyClass._instance_count += 1  # Increment instance count on each instance creation\n",
        "\n",
        "    @classmethod\n",
        "    def get_instance_count(cls):\n",
        "        return cls._instance_count  # Return the current instance count\n",
        "\n",
        "# Create instances\n",
        "obj1 = MyClass()\n",
        "obj2 = MyClass()\n",
        "obj3 = MyClass()\n",
        "\n",
        "print(MyClass.get_instance_count())  # Output: 3"
      ],
      "metadata": {
        "colab": {
          "base_uri": "https://localhost:8080/"
        },
        "id": "lNi_-Qq54d9n",
        "outputId": "c91e446d-8abd-46f1-c419-94788aa35e52"
      },
      "execution_count": 21,
      "outputs": [
        {
          "output_type": "stream",
          "name": "stdout",
          "text": [
            "3\n"
          ]
        }
      ]
    },
    {
      "cell_type": "markdown",
      "source": [
        "In this example:\n",
        "\n",
        "We define a class MyClass with a class variable _instance_count initialized to 0.\n",
        "In the __init__ method, we increment the _instance_count variable each time a new instance is created.\n",
        "We define a class method get_instance_count that returns the current value of _instance_count.\n",
        "We create three instances of MyClass (obj1, obj2, and obj3).\n",
        "Finally, we call the get_instance_count method to retrieve the total number of instances created, which is 3."
      ],
      "metadata": {
        "id": "3PeIOkWR4tn5"
      }
    },
    {
      "cell_type": "markdown",
      "source": [
        "this approach uses a class variable to store the instance count, making it accessible through the class itself. Note that this implementation is thread-safe, as the instance count is updated atomically within the __init__ method.\n",
        "\n",
        "Alternatively, you can use a metaclass to achieve this, as shown in the following example:"
      ],
      "metadata": {
        "id": "6lJ48BjR4wiA"
      }
    },
    {
      "cell_type": "code",
      "source": [
        "class InstanceCounter(type):\n",
        "    _instance_count = 0\n",
        "\n",
        "    def __call__(cls, *args, **kwargs):\n",
        "        instance = super().__call__(*args, **kwargs)\n",
        "        cls._instance_count += 1\n",
        "        return instance\n",
        "\n",
        "class MyClass(metaclass=InstanceCounter):\n",
        "    pass\n",
        "\n",
        "# Create instances\n",
        "obj1 = MyClass()\n",
        "obj2 = MyClass()\n",
        "obj3 = MyClass()\n",
        "\n",
        "print(MyClass._instance_count)  # Output: 3"
      ],
      "metadata": {
        "colab": {
          "base_uri": "https://localhost:8080/"
        },
        "id": "cuT0YBcX4quW",
        "outputId": "18d80eba-109e-4bbc-e70f-063a39d5b9db"
      },
      "execution_count": 22,
      "outputs": [
        {
          "output_type": "stream",
          "name": "stdout",
          "text": [
            "3\n"
          ]
        }
      ]
    },
    {
      "cell_type": "markdown",
      "source": [
        "In this example, we define a metaclass InstanceCounter that overrides the __call__ method to increment the _instance_count variable each time an instance is created. We then apply this metaclass to the MyClass definition using the metaclass parameter. The rest of the code remains the same."
      ],
      "metadata": {
        "id": "yrgBCneo42fr"
      }
    },
    {
      "cell_type": "markdown",
      "source": [
        "15. Implement a static method in a class that checks if a given year is a leap year."
      ],
      "metadata": {
        "id": "xPReaOr246KN"
      }
    },
    {
      "cell_type": "code",
      "source": [
        "class LeapYearChecker:\n",
        "    @staticmethod\n",
        "    def is_leap_year(year: int) -> bool:\n",
        "        \"\"\"\n",
        "        Checks if a given year is a leap year.\n",
        "\n",
        "        A year is a leap year if it is divisible by 4, except for end-of-century years which must be divisible by 400.\n",
        "        This means that the year 2000 was a leap year, although 1900 was not.\n",
        "\n",
        "        Args:\n",
        "            year (int): The year to check.\n",
        "\n",
        "        Returns:\n",
        "            bool: True if the year is a leap year, False otherwise.\n",
        "        \"\"\"\n",
        "        return year % 4 == 0 and (year % 100 != 0 or year % 400 == 0)"
      ],
      "metadata": {
        "id": "TcdLsZXy4zzf"
      },
      "execution_count": 23,
      "outputs": []
    },
    {
      "cell_type": "code",
      "source": [
        "print(LeapYearChecker.is_leap_year(2020))\n",
        "print(LeapYearChecker.is_leap_year(1900))\n",
        "print(LeapYearChecker.is_leap_year(2000))\n",
        "print(LeapYearChecker.is_leap_year(2100))"
      ],
      "metadata": {
        "colab": {
          "base_uri": "https://localhost:8080/"
        },
        "id": "5KIAGu525CSQ",
        "outputId": "0e67910f-6632-4ba9-fa1c-9582ef7b1123"
      },
      "execution_count": 24,
      "outputs": [
        {
          "output_type": "stream",
          "name": "stdout",
          "text": [
            "True\n",
            "False\n",
            "True\n",
            "False\n"
          ]
        }
      ]
    },
    {
      "cell_type": "markdown",
      "source": [
        "#additional information\n"
      ],
      "metadata": {
        "id": "IPdz5nnI5coB"
      }
    },
    {
      "cell_type": "code",
      "source": [
        "# Python3 implementation to check\n",
        "# if the year is a leap year\n",
        "# using macros\n",
        "\n",
        "# Macro to check if a year\n",
        "# is a leap year\n",
        "def ISLP(y):\n",
        "  if((y % 400 == 0) or\n",
        "     (y % 100 != 0) and\n",
        "     (y % 4 == 0)):\n",
        "    return 1;\n",
        "  else:\n",
        "    return 0;\n",
        "\n",
        "# Driver code\n",
        "if __name__=='__main__':\n",
        "\n",
        "  year = 2020;\n",
        "  print(ISLP(year));\n",
        "\n",
        "  # This code is contributed by  Pratham76.\n"
      ],
      "metadata": {
        "colab": {
          "base_uri": "https://localhost:8080/"
        },
        "id": "39CnHu8V5Fr8",
        "outputId": "8b586280-1abd-43d5-c614-1172c8ac0023"
      },
      "execution_count": 25,
      "outputs": [
        {
          "output_type": "stream",
          "name": "stdout",
          "text": [
            "1\n"
          ]
        }
      ]
    },
    {
      "cell_type": "code",
      "source": [
        "def checkYear(year):\n",
        "\n",
        "    # Return true if year is a multiple\n",
        "    # of 4 and not multiple of 100.\n",
        "    # OR year is multiple of 400.\n",
        "    import calendar\n",
        "    return(calendar.isleap(year))\n",
        "\n",
        "# Driver Code\n",
        "year = 2000\n",
        "if (checkYear(year)):\n",
        "    print(\"Leap Year\")\n",
        "else:\n",
        "    print(\"Not a Leap Year\")\n",
        "\n",
        "# This code is contributed by Chin\n"
      ],
      "metadata": {
        "colab": {
          "base_uri": "https://localhost:8080/"
        },
        "id": "uYz8BGPV5Oy4",
        "outputId": "c326712f-3493-4656-c794-e74199707236"
      },
      "execution_count": 26,
      "outputs": [
        {
          "output_type": "stream",
          "name": "stdout",
          "text": [
            "Leap Year\n"
          ]
        }
      ]
    },
    {
      "cell_type": "code",
      "source": [
        "def check_year(year):\n",
        "    # Leap year condition:\n",
        "    # 1. If the year is divisible by 4 and not divisible by 100, or\n",
        "    # 2. If the year is divisible by 400.\n",
        "    if (year % 4 == 0 and year % 100 != 0) or (year % 400 == 0):\n",
        "        return True  # It's a leap year\n",
        "    else:\n",
        "        return False  # It's not a leap year\n",
        "\n",
        "year = 2000  # Sample input to test\n",
        "\n",
        "if check_year(year):\n",
        "    print(\"Leap Year\")\n",
        "else:\n",
        "    print(\"Not a Leap Year\")\n"
      ],
      "metadata": {
        "colab": {
          "base_uri": "https://localhost:8080/"
        },
        "id": "fofD7Etv5T4k",
        "outputId": "51075225-d254-4eb4-8fe4-e7ff98f6378d"
      },
      "execution_count": 27,
      "outputs": [
        {
          "output_type": "stream",
          "name": "stdout",
          "text": [
            "Leap Year\n"
          ]
        }
      ]
    },
    {
      "cell_type": "code",
      "source": [],
      "metadata": {
        "id": "Ov4lkpOi5X37"
      },
      "execution_count": null,
      "outputs": []
    }
  ]
}